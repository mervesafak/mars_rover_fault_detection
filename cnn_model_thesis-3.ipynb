{
  "nbformat": 4,
  "nbformat_minor": 0,
  "metadata": {
    "colab": {
      "provenance": [],
      "gpuType": "T4"
    },
    "kernelspec": {
      "name": "python3",
      "display_name": "Python 3"
    },
    "language_info": {
      "name": "python"
    },
    "accelerator": "GPU"
  },
  "cells": [
    {
      "cell_type": "markdown",
      "source": [
        "# CNN-Based Anomaly Detection for Curisoity Rover\n",
        "\n",
        "This notebook contains my implementation of a 1D Convolutional Neural Network (CNN) model for anomaly detection in spacecraft telemetry. I used the **MSL (Mars Science Laboratory)** portion of the **SMAP/MSL dataset released by Hundman et al. (2018)**. All credit for the dataset goes to the authors of that work.\n",
        "\n",
        "The idea behind this model is to slide fixed-size windows over each telemetry signal and classify each window as either \"normal\" or \"anomalous\" based on labeled intervals. CNNs are a good choice here because they can automatically learn local temporal patterns (e.g., spikes or shifts) without needing manual feature engineering.\n",
        "\n",
        "To train and evaluate the model, I applied per-channel training with stratified data splits, focal loss to address class imbalance, and multiple evaluation plots (ROC, PRC, confusion matrix, etc.) to assess performance.\n"
      ],
      "metadata": {
        "id": "dEo1fU1ShWGs"
      }
    },
    {
      "cell_type": "code",
      "source": [
        "# Mount Google Drive and set working paths\n",
        "# I keep my dataset zipped in Google Drive to make it easier to manage and version.\n",
        "# I manually extract the telemetry .npy files and anomaly labels each time the notebook runs.\n",
        "from google.colab import drive\n",
        "import os, zipfile, shutil\n",
        "\n",
        "\n",
        "drive.mount('/content/drive', force_remount=True)\n",
        "drive_path = '/content/drive/MyDrive/Colab Notebooks'\n",
        "\n",
        "# I create a clean folder under /content/data to store the extracted .npy files\n",
        "os.makedirs('/content/data', exist_ok=True)\n",
        "# Extract telemetry .npy files from data.zip\n",
        "data_zip = os.path.join(drive_path, 'data.zip')\n",
        "if os.path.exists(data_zip):\n",
        "    with zipfile.ZipFile(data_zip, 'r') as z:\n",
        "        z.extractall('/content/data')\n",
        "\n",
        "labels_zip = os.path.join(drive_path, 'labeled_anomalies.csv.zip')\n",
        "if os.path.exists(labels_zip):\n",
        "    with zipfile.ZipFile(labels_zip, 'r') as z:\n",
        "        z.extractall('/content')\n",
        "\n",
        "\n",
        "# When I unzip the data, it ends up under /content/data/data because the folder inside the ZIP is also named 'data'\n",
        "# This creates an extra level I don’t need. So I move all .npy files one level up to /content/data\n",
        "# That way, my later code can just load files from /content/data without checking subfolders\n",
        "src = '/content/data/data'\n",
        "dst = '/content/data'\n",
        "if os.path.isdir(src):\n",
        "    for fname in os.listdir(src):\n",
        "        src_file = os.path.join(src, fname)\n",
        "        dst_file = os.path.join(dst, fname)\n",
        "        if not os.path.exists(dst_file):\n",
        "            shutil.move(src_file, dst_file)\n",
        "    shutil.rmtree(src, ignore_errors=True)\n",
        "\n",
        "print(\"Data extracted:\")\n",
        "print(\"   • Telemetry .npy files → /content/data\")\n",
        "print(\"   • labeled_anomalies.csv → /content/labeled_anomalies.csv\")\n",
        "\n",
        "\n",
        "# Import all the libraries I need:\n",
        "# NumPy, pandas for data handling\n",
        "# matplotlib for visualizations\n",
        "# scikit-learn for model evaluation\n",
        "# TensorFlow/Keras for deep learning model\n",
        "import os, ast, json, random\n",
        "import numpy as np\n",
        "import pandas as pd\n",
        "import matplotlib.pyplot as plt\n",
        "\n",
        "from sklearn.model_selection import train_test_split\n",
        "from sklearn.metrics import classification_report, precision_score, recall_score, f1_score, roc_curve, auc, confusion_matrix, ConfusionMatrixDisplay, precision_recall_curve\n",
        "from sklearn.utils.class_weight import compute_class_weight\n",
        "\n",
        "#Also importing specific layers and callbacks that I use in my CNN model\n",
        "import tensorflow as tf\n",
        "from tensorflow.keras.models import Sequential\n",
        "from tensorflow.keras.layers import Conv1D, MaxPooling1D, Flatten, Dense, LSTM, Dropout, BatchNormalization\n",
        "from tensorflow.keras.callbacks import EarlyStopping, ModelCheckpoint\n",
        "from tensorflow.keras import backend as K\n",
        "\n",
        "\n",
        "# I'm setting fixed random seeds so that things like train/test splits and model training\n",
        "# produce the same results every time I run the code. This is important for debugging and for\n",
        "# comparing models fairly without randomness affecting the outcome.\n",
        "SEED = 42\n",
        "random.seed(SEED)\n",
        "np.random.seed(SEED)\n",
        "tf.random.set_seed(SEED)\n",
        "\n",
        "# I wrote this focal loss function because my anomaly detection problem is very imbalanced.\n",
        "# Using regular binary cross-entropy would cause the model to mostly learn the majority (normal) class.\n",
        "# Focal loss penalizes well-classified examples and shifts the focus toward harder, rarer ones — like anomalies.\n",
        "# I used the version described in the RetinaNet paper (Lin et al., 2017) but adapted it for binary classification.\n",
        "#https://stackoverflow.com/questions/70698416/focal-loss-for-imbalanced-data-using-pytorch/70698447\n",
        "\n",
        "def focal_loss(gamma=2.0, alpha=0.25):\n",
        "    def focal_loss_fn(y_true, y_pred):\n",
        "        y_true = tf.cast(y_true, tf.float32)# make sure labels are float\n",
        "        epsilon = K.epsilon()\n",
        "        y_pred = K.clip(y_pred, epsilon, 1. - epsilon)\n",
        "        cross_entropy = -y_true * K.log(y_pred) - (1 - y_true) * K.log(1 - y_pred) # binary cross-entropy component\n",
        "        p_t = y_true * y_pred + (1 - y_true) * (1 - y_pred)\n",
        "        modulating_factor = K.pow(1. - p_t, gamma) # modulating factor to down-weight well-classified samples\n",
        "        alpha_weight = y_true * alpha + (1 - y_true) * (1 - alpha)# weighting factor for rare class emphasis\n",
        "        loss = modulating_factor * alpha_weight * cross_entropy # final focal loss\n",
        "        return K.mean(loss, axis=-1)\n",
        "    return focal_loss_fn\n",
        "\n",
        "# This function loads labeled anomaly data and filters for only MSL channels.\n",
        "# I also make sure that the .npy file exists and that there's at least one valid anomaly interval.\n",
        "# This avoids wasting time on incomplete or irrelevant entries.\n",
        "def load_msl_channels_with_anomalies(csv_path, data_dir):\n",
        "    df = pd.read_csv(csv_path)\n",
        "    df = df[df.spacecraft == 'MSL'].reset_index(drop=True)\n",
        "    channels = []\n",
        "    for _, row in df.iterrows():\n",
        "        chan = row.chan_id\n",
        "        intervals = ast.literal_eval(row.anomaly_sequences)\n",
        "        fpath = os.path.join(data_dir, f\"{chan}.npy\")\n",
        "        if not os.path.exists(fpath):\n",
        "            continue# skip if no telemetry file found\n",
        "        ts = np.load(fpath)\n",
        "        if any(start < ts.shape[0] for (start, _) in intervals): # keep only if at least one anomaly starts within the length of the time series\n",
        "            channels.append({'chan_id': chan, 'intervals': intervals, 'path': fpath})\n",
        "    return channels\n",
        "\n",
        "\n",
        "# This function breaks the raw time series into fixed-size sliding windows. https://stackoverflow.com/questions/44790072/sliding-window-on-time-series-data\n",
        "# I label each window as 1 if it overlaps with any anomaly, otherwise 0.\n",
        "# I also made sure this works whether the data is 1D (like MSL) or multivariate just in case.\n",
        "# This prepares the data for supervised classification.\n",
        "def create_windows(ts, intervals, window_size):\n",
        "    n = ts.shape[0]# total number of timesteps\n",
        "    n_feats = ts.shape[1] if ts.ndim > 1 else 1\n",
        "    X, y = [], []\n",
        "    for start in range(n - window_size + 1):\n",
        "        window = ts[start:start + window_size]\n",
        "        if window.shape[0] != window_size:\n",
        "            continue# skip incomplete windows at the end\n",
        "        if ts.ndim == 1:\n",
        "            window = window.reshape(window_size, 1)# convert 1D to 2D\n",
        "        label = int(any(start < e and start + window_size > s for (s, e) in intervals))\n",
        "        X.append(window)\n",
        "        y.append(label)\n",
        "    if not X:\n",
        "        return np.empty((0, window_size, n_feats)), np.empty((0,), int)\n",
        "    return np.stack(X), np.array(y, dtype=int)\n",
        "\n",
        "\n",
        "# This is the CNN model I used for anomaly detection. https://stackoverflow.com/questions/57558538/proper-and-definitive-explanation-about-how-to-build-a-cnn-1d-in-keras\n",
        "# I built this architecture using multiple Conv1D layers to extract patterns from each window.\n",
        "# These layers are followed by batch normalization, pooling, and dropout to reduce overfitting.\n",
        "# At the end, I flatten everything and pass it through dense layers for binary classification.\n",
        "def build_enhanced_cnn(input_shape):\n",
        "    model = Sequential([\n",
        "        # First convolutional block\n",
        "        # This layer learns local patterns across the time dimension (like peaks or flat spots)\n",
        "        Conv1D(64, 5, activation='relu', input_shape=input_shape, padding='same'),\n",
        "        BatchNormalization(),\n",
        "        MaxPooling1D(2),\n",
        "        Dropout(0.3),\n",
        "\n",
        "        # Second convolutional block with more filters\n",
        "        Conv1D(128, 5, activation='relu', padding='same'),\n",
        "        BatchNormalization(),\n",
        "        MaxPooling1D(2),\n",
        "        Dropout(0.3),\n",
        "\n",
        "        # Third block goes even deeper, using smaller filters\n",
        "        Conv1D(256, 3, activation='relu', padding='same'),\n",
        "        BatchNormalization(),\n",
        "        MaxPooling1D(2),\n",
        "        Dropout(0.3),\n",
        "\n",
        "        # Fully connected layers https://stackoverflow.com/questions/59579121/how-to-flatten-a-2d-slice-into-1d-slice\n",
        "        Flatten(), # flatten the feature map to 1D\n",
        "        Dense(128, activation='relu'),# learn complex combinations of features\n",
        "        Dropout(0.5), # stronger dropout here to regularize the model\n",
        "        # Output layer: sigmoid → returns a probability between 0 and 1\n",
        "        Dense(1, activation='sigmoid')\n",
        "    ])\n",
        "\n",
        " # Metrics I track during training:\n",
        "    # - Accuracy is just for reference\n",
        "    # - Precision and recall matter more here because the dataset is imbalanced\n",
        "    # - AUC and PRC give a good view of how well the model separates anomalies from normal(didn't use it in the thesis since I already had recall precision and f1)\n",
        "    metrics = [\n",
        "        'accuracy',\n",
        "        tf.keras.metrics.Precision(name='precision'),\n",
        "        tf.keras.metrics.Recall(name='recall'),\n",
        "        tf.keras.metrics.AUC(name='auc'),\n",
        "        tf.keras.metrics.AUC(name='prc', curve='PR')  # Precision-Recall curve\n",
        "    ]\n",
        " # Compile the model with Adam optimizer and my custom focal loss https://stackoverflow.com/questions/71185171/understand-adam-optimizer-intuitively\n",
        "    model.compile(\n",
        "        optimizer=tf.keras.optimizers.Adam(learning_rate=0.001),\n",
        "        loss=focal_loss(),\n",
        "        metrics=metrics\n",
        "    )\n",
        "    return model\n",
        "\n",
        "# I use this function to plot how the training and validation loss changed over epochs.\n",
        "def plot_loss_curve(history, channel, tag):\n",
        "    plt.figure()\n",
        "    plt.plot(history.history['loss'], label='train_loss')\n",
        "    plt.plot(history.history['val_loss'], label='val_loss')\n",
        "    plt.title(f\"{channel} – {tag} Loss\")\n",
        "    plt.xlabel('Epoch')\n",
        "    plt.ylabel('Loss')\n",
        "    plt.legend()\n",
        "    plt.grid(True)\n",
        "    os.makedirs(f\"plots/{channel}\", exist_ok=True)\n",
        "    plt.savefig(f\"plots/{channel}/loss_{tag}.png\", dpi=300)\n",
        "    plt.close()\n",
        "\n",
        "# This function plots the ROC curve for a specific channel. https://stackoverflow.com/questions/56687292/plotting-roc-curves-in-python\n",
        "# The ROC curve shows how well the model separates normal and anomalous classes\n",
        "# across all possible thresholds\n",
        "def plot_roc_curve(y_true, y_prob, channel, tag):\n",
        "    fpr, tpr, _ = roc_curve(y_true, y_prob)\n",
        "    roc_auc = auc(fpr, tpr)\n",
        "    plt.figure()\n",
        "    plt.plot(fpr, tpr, label=f\"AUC={roc_auc:.2f}\")\n",
        "    plt.plot([0,1], [0,1], '--')\n",
        "    plt.title(f\"{channel} – {tag} ROC\")\n",
        "    plt.xlabel('False Positive Rate')\n",
        "    plt.ylabel('True Positive Rate')\n",
        "    plt.legend()\n",
        "    plt.grid(True)\n",
        "    os.makedirs(f\"plots/{channel}\", exist_ok=True)\n",
        "    plt.savefig(f\"plots/{channel}/roc_{tag}.png\", dpi=300)\n",
        "    plt.close()\n",
        "\n",
        "# This function creates a confusion matrix for a specific channel.\n",
        "# It helps visualize how many windows were correctly or incorrectly classified\n",
        "# as normal or anomalous.\n",
        "\n",
        "def plot_conf_matrix(y_true, y_pred, channel, tag):\n",
        "    cm = confusion_matrix(y_true, y_pred)\n",
        "    disp = ConfusionMatrixDisplay(confusion_matrix=cm, display_labels=['Normal', 'Anomaly'])\n",
        "    disp.plot(cmap='Blues', values_format='d')\n",
        "    plt.title(f\"{channel} – {tag} Confusion Matrix\")\n",
        "    os.makedirs(f\"plots/{channel}\", exist_ok=True)\n",
        "    plt.savefig(f\"plots/{channel}/conf_matrix_{tag}.png\", dpi=300)\n",
        "    plt.close()\n",
        "\n",
        "# This plot helps me visualize where my model predicted anomalies in the original signal.\n",
        "# I plot the raw telemetry time-series, and every time the model says \"anomaly\"\n",
        "# I highlight that window in red. This way I can quickly see whether those predictions make sense\n",
        "def plot_anomaly_windows(ts, y_pred, window_size, channel):\n",
        "    if ts.ndim > 1:\n",
        "        return\n",
        "    plt.figure(figsize=(14,4))\n",
        "    plt.plot(ts, label='Telemetry')\n",
        "    for i, p in enumerate(y_pred):\n",
        "        if p == 1:\n",
        "            plt.axvspan(i, i + window_size, color='red', alpha=0.3)\n",
        "    plt.title(f\"{channel} – Detected Anomaly Windows\")\n",
        "    plt.xlabel('Time')\n",
        "    plt.ylabel('Value')\n",
        "    plt.grid(True)\n",
        "    os.makedirs(f\"plots/{channel}\", exist_ok=True)\n",
        "    plt.savefig(f\"plots/{channel}/detected_anomalies.png\", dpi=300)\n",
        "    plt.close()\n",
        "\n",
        "# In this plot, I specifically highlight where my model made mistakes.\n",
        "# False Positives (orange): the model said \"anomaly\" but it was actually normal.\n",
        "# False Negatives (blue): the model missed an actual anomaly.\n",
        "def plot_fp_fn_windows(ts, y_true, y_pred, window_size, channel):\n",
        "    if ts.ndim > 1:\n",
        "        return\n",
        "    plt.figure(figsize=(14,4))\n",
        "    plt.plot(ts, label='Telemetry')\n",
        "    seen_fp = seen_fn = False\n",
        "    for i, (true, pred) in enumerate(zip(y_true, y_pred)):\n",
        "        if pred == 1 and true == 0:\n",
        "            if not seen_fp:\n",
        "                plt.axvspan(i, i + window_size, color='orange', alpha=0.3, label='False Positive')\n",
        "                seen_fp = True\n",
        "            else:\n",
        "                plt.axvspan(i, i + window_size, color='orange', alpha=0.3)\n",
        "        if pred == 0 and true == 1:\n",
        "            if not seen_fn:\n",
        "                plt.axvspan(i, i + window_size, color='blue', alpha=0.3, label='False Negative')\n",
        "                seen_fn = True\n",
        "            else:\n",
        "                plt.axvspan(i, i + window_size, color='blue', alpha=0.3)\n",
        "    plt.title(f\"{channel} – FP (orange) & FN (blue)\")\n",
        "    plt.xlabel('Time')\n",
        "    plt.ylabel('Value')\n",
        "    plt.legend()\n",
        "    plt.grid(True)\n",
        "    os.makedirs(f\"plots/{channel}\", exist_ok=True)\n",
        "    plt.savefig(f\"plots/{channel}/fp_fn.png\", dpi=300)\n",
        "    plt.close()\n",
        "# This plot shows how precision and recall change as I vary the classification threshold.\n",
        "# It's useful for selecting the best threshold depending on whether I want to prioritize\n",
        "# fewer false alarms (higher precision) or catch more anomalies (higher recall).\n",
        "def plot_precision_recall_vs_threshold(y_true, y_prob, channel):\n",
        "    p, r, thresholds = precision_recall_curve(y_true, y_prob)\n",
        "    plt.figure(figsize=(8, 4))\n",
        "    plt.plot(thresholds, p[:-1], '--', label='Precision')\n",
        "    plt.plot(thresholds, r[:-1], '-', label='Recall')\n",
        "    plt.xlabel('Threshold')\n",
        "    plt.ylabel('Score')\n",
        "    plt.title(f\"{channel} – Precision & Recall vs Threshold\")\n",
        "    plt.legend()\n",
        "    plt.grid(True)\n",
        "    os.makedirs(f\"plots/{channel}\", exist_ok=True)\n",
        "    plt.savefig(f\"plots/{channel}/precision_recall_threshold.png\", dpi=300)\n",
        "    plt.close()\n",
        "\n",
        "\n",
        "\n",
        "def main():\n",
        "\n",
        "    # I start by specifying where the input files are located.\n",
        "    # The .npy files contain telemetry signals, and the CSV has labeled anomaly intervals.\n",
        "    # I use a fixed window size of 100. I tried 50 and 200 during testing,\n",
        "    # but 100 worked best — it captured enough context without being too diluted.\n",
        "    csv_path = '/content/labeled_anomalies.csv'\n",
        "    data_dir = '/content/data'\n",
        "    window_size = 100# I fixed this window size to turn the time-series into supervised samples.\n",
        "\n",
        "\n",
        "    # I load only the MSL channels , and I only keep those with valid anomaly labels\n",
        "    # and corresponding .npy telemetry files.\n",
        "    channels = load_msl_channels_with_anomalies(csv_path, data_dir)\n",
        "    print(f\"Found {len(channels)} MSL channels with anomalies.\")\n",
        "\n",
        "\n",
        "    # These lists help me collect all predictions and ground truth labels from all channels\n",
        "    # so I can compute overall evaluation metrics later.\n",
        "    all_y_true = []\n",
        "    all_y_pred = []\n",
        "    all_y_prob = []\n",
        "\n",
        "    precisions = []\n",
        "    recalls = []\n",
        "    f1s = []\n",
        "    fps_list = []\n",
        "    fns_list = []\n",
        "\n",
        "\n",
        "    # Now I loop through each telemetry channel and train a separate model for each one.\n",
        "    for ch in channels:\n",
        "        chan_id = ch['chan_id']\n",
        "        intervals = ch['intervals']\n",
        "        ts = np.load(ch['path'])\n",
        "\n",
        "        print(f\"\\n▶️ Channel {chan_id}: {len(intervals)} anomaly intervals\")\n",
        "\n",
        "        # I create labeled sliding windows from the raw time series using my earlier function.\n",
        "        # Each window becomes a supervised training example.\n",
        "        X, y = create_windows(ts, intervals, window_size)\n",
        "        print(f\"   • Windows: {X.shape[0]}, Anomalies: {y.sum()} ({y.mean()*100:.2f}%)\")\n",
        "        if X.size == 0:\n",
        "            continue\n",
        "\n",
        "        # I split the windows into 70% training and 30% temp, then split that 30% in half for validation and test.\n",
        "         # I used stratified sampling to make sure the anomaly ratio stays balanced across all splits.\n",
        "         # This structure helps me tune thresholds on validation and report clean results on unseen test data.\n",
        "\n",
        "        X_train, X_temp, y_train, y_temp = train_test_split(\n",
        "            X, y, test_size=0.3, stratify=y, random_state=SEED)\n",
        "        X_val, X_test, y_val, y_test = train_test_split(\n",
        "            X_temp, y_temp, test_size=0.5, stratify=y_temp, random_state=SEED)\n",
        "\n",
        "        # I compute class weights to help the model deal with the imbalance between normal and anomaly classes.\n",
        "        # This helps the model not just predict the majority class all the time.\n",
        "        class_weights = compute_class_weight('balanced', classes=np.unique(y_train), y=y_train)\n",
        "        class_weight_dict = {0: class_weights[0], 1: class_weights[1]}\n",
        "        print(f\"   • Class weights: {class_weight_dict}\")\n",
        "\n",
        "\n",
        "        # I clear the TensorFlow backend before training each model to avoid memory or naming conflicts.\n",
        "        #https://stackoverflow.com/questions/55479221/how-to-clearing-tensorflow-keras-gpu-memory\n",
        "        K.clear_session()\n",
        "\n",
        "        # I build a fresh CNN model for this channel, using the window shape as input.\n",
        "        model = build_enhanced_cnn((window_size, X.shape[2]))\n",
        "\n",
        "        # I use early stopping and model checkpointing to save the best-performing model during training.\n",
        "        #https://stackoverflow.com/questions/48285129/saving-best-model-in-keras\n",
        "        # I monitor PR AUC because it's more meaningful for anomaly detection than accuracy.\n",
        "        es = EarlyStopping(monitor='val_prc', patience=5, mode='max', restore_best_weights=True)\n",
        "        checkpoint = ModelCheckpoint(\n",
        "            f'models/{chan_id}_best.h5',\n",
        "            monitor='val_prc',\n",
        "            save_best_only=True,\n",
        "            mode='max',\n",
        "            verbose=1\n",
        "        )\n",
        "\n",
        "        # Now I train the CNN on this channel using class weights and validation tracking.\n",
        "        print(\"   • Training the model.\")\n",
        "        history = model.fit(\n",
        "            X_train, y_train,\n",
        "            validation_data=(X_val, y_val),\n",
        "            epochs=50,\n",
        "            batch_size=32,\n",
        "            callbacks=[es, checkpoint],\n",
        "            class_weight=class_weight_dict,\n",
        "            verbose=1\n",
        "        )\n",
        "\n",
        "\n",
        "        # I reload the best model weights (based on PR AUC during training).\n",
        "        #https://stackoverflow.com/questions/67741387/reload-best-weights-from-tensorflow-keras-checkpoints\n",
        "        model = tf.keras.models.load_model(f'models/{chan_id}_best.h5',\n",
        "                                         custom_objects={'focal_loss_fn': focal_loss()})\n",
        "\n",
        "\n",
        "        y_prob = model.predict(X_test).ravel()\n",
        "        # I then compute precision, recall, and F1 scores at various thresholds,\n",
        "        # and select the threshold that gives the best F1 performance.\n",
        "        precision, recall, thresholds = precision_recall_curve(y_test, y_prob)\n",
        "        f1_scores = 2 * (precision * recall) / (precision + recall + 1e-6)\n",
        "        optimal_idx = np.argmax(f1_scores)\n",
        "        optimal_threshold = thresholds[optimal_idx]\n",
        "        y_pred = (y_prob > optimal_threshold).astype(int)\n",
        "\n",
        "        print(f\"\\n   • Optimal threshold: {optimal_threshold:.4f}\")\n",
        "        print(classification_report(y_test, y_pred, digits=4))\n",
        "\n",
        "\n",
        "        # I generate and save evaluation plots for this channel.\n",
        "\n",
        "        plot_precision_recall_vs_threshold(y_test, y_prob, chan_id)\n",
        "        os.makedirs('outputs', exist_ok=True)\n",
        "        np.savez_compressed(f\"outputs/{chan_id}_pred.npz\", y_true=y_test, y_pred=y_pred, y_prob=y_prob)\n",
        "\n",
        "        plot_loss_curve(history, chan_id, 'final')\n",
        "        plot_roc_curve(y_test, y_prob, chan_id, 'final')\n",
        "        plot_conf_matrix(y_test, y_pred, chan_id, 'final')\n",
        "        plot_anomaly_windows(ts, y_pred, window_size, chan_id)\n",
        "        plot_fp_fn_windows(ts, y_test, y_pred, window_size, chan_id)\n",
        "\n",
        "        # I compute and collect key evaluation metrics for this specific channel.\n",
        "        cm = confusion_matrix(y_test, y_pred)\n",
        "        tn, fp, fn, tp = cm.ravel()\n",
        "        prec = precision_score(y_test, y_pred)\n",
        "        rec = recall_score(y_test, y_pred)\n",
        "        f1 = f1_score(y_test, y_pred)\n",
        "        roc_auc = auc(*roc_curve(y_test, y_prob)[:2])\n",
        "\n",
        "        # Append these metrics to per-channel lists\n",
        "        precisions.append(float(round(prec, 4)))\n",
        "        recalls.append(float(round(rec, 4)))\n",
        "        f1s.append(float(round(f1, 4)))\n",
        "        fps_list.append(int(fp))\n",
        "        fns_list.append(int(fn))\n",
        "\n",
        "\n",
        "        # Save a summary file for each channel with metrics and details\n",
        "        summary = {\n",
        "            'channel': chan_id,\n",
        "            'train_windows': int(len(y_train)),\n",
        "            'val_windows': int(len(y_val)),\n",
        "            'test_windows': int(len(y_test)),\n",
        "            'true_positive': int(tp),\n",
        "            'false_positive': int(fp),\n",
        "            'true_negative': int(tn),\n",
        "            'false_negative': int(fn),\n",
        "            'precision': float(round(prec, 4)),\n",
        "            'recall': float(round(rec, 4)),\n",
        "            'f1_score': float(round(f1, 4)),\n",
        "            'roc_auc': float(round(roc_auc, 4)),\n",
        "            'optimal_threshold': float(round(optimal_threshold, 4))\n",
        "        }\n",
        "        with open(f\"outputs/{chan_id}_summary.json\", 'w') as f:\n",
        "            json.dump(summary, f, indent=2)\n",
        "\n",
        "      # I collect only test set results from each channel here,\n",
        "      # so I can later compute overall performance across all test data.\n",
        "        all_y_true.extend(y_test.tolist())\n",
        "        all_y_pred.extend(y_pred.tolist())\n",
        "        all_y_prob.extend(y_prob.tolist())\n",
        "\n",
        "\n",
        "    metrics_stats = {\n",
        "        'precision': {'mean': float(np.mean(precisions)), 'std': float(np.std(precisions))},\n",
        "        'recall':    {'mean': float(np.mean(recalls)),    'std': float(np.std(recalls))},\n",
        "        'f1_score':  {'mean': float(np.mean(f1s)),        'std': float(np.std(f1s))},\n",
        "        'false_positives': {'mean': float(np.mean(fps_list)), 'std': float(np.std(fps_list))},\n",
        "        'false_negatives': {'mean': float(np.mean(fns_list)), 'std': float(np.std(fns_list))}\n",
        "    }\n",
        "    os.makedirs('outputs', exist_ok=True)\n",
        "\n",
        "    with open('outputs/metrics_stats.json', 'w') as f:\n",
        "      json.dump(metrics_stats, f, indent=2)\n",
        "\n",
        "    # I also visualize these averages with error bars to show variability between channels.\n",
        "    labels = ['Precision', 'Recall', 'F1 Score', 'False Positives', 'False Negatives']\n",
        "    means  = [metrics_stats['precision']['mean'], metrics_stats['recall']['mean'], metrics_stats['f1_score']['mean'], metrics_stats['false_positives']['mean'], metrics_stats['false_negatives']['mean']]\n",
        "    stds   = [metrics_stats['precision']['std'],  metrics_stats['recall']['std'],  metrics_stats['f1_score']['std'],  metrics_stats['false_positives']['std'],  metrics_stats['false_negatives']['std']]\n",
        "    plt.figure()\n",
        "    x = np.arange(len(labels))\n",
        "    plt.bar(x, means, yerr=stds, capsize=5)\n",
        "    plt.xticks(x, labels, rotation=45, ha='right')\n",
        "    plt.title('Mean ± STD of Metrics across channels')\n",
        "    plt.tight_layout()\n",
        "    os.makedirs('plots/overall', exist_ok=True)\n",
        "    plt.savefig('plots/overall/metrics_bar.png', dpi=300)\n",
        "    plt.close()\n",
        "\n",
        "    # Finally, I calculate and print the overall test performance across all channels.\n",
        "    overall_prec = precision_score(all_y_true, all_y_pred)\n",
        "    overall_rec  = recall_score(all_y_true, all_y_pred)\n",
        "    overall_f1   = f1_score(all_y_true, all_y_pred)\n",
        "    fpr, tpr, _  = roc_curve(all_y_true, all_y_prob)\n",
        "    overall_auc  = auc(fpr, tpr)\n",
        "\n",
        "    print(\"\\n Overall Metrics:\")\n",
        "    print(f\"  • Precision: {overall_prec:.4f}\")\n",
        "    print(f\"  • Recall   : {overall_rec:.4f}\")\n",
        "    print(f\"  • F1 Score : {overall_f1:.4f}\")\n",
        "    print(f\"  • ROC AUC  : {overall_auc:.4f}\")\n",
        "\n",
        "    # Save the overall scores for reporting and plots\n",
        "    overall_summary = {\n",
        "        'precision': float(round(overall_prec, 4)),\n",
        "        'recall':    float(round(overall_rec, 4)),\n",
        "        'f1_score':  float(round(overall_f1, 4)),\n",
        "        'roc_auc':   float(round(overall_auc, 4))\n",
        "    }\n",
        "    with open('outputs/overall_summary.json', 'w') as f:\n",
        "        json.dump(overall_summary, f, indent=2)\n",
        "    os.makedirs(\"plots/overall\", exist_ok=True)\n",
        "\n",
        "    # Now I generate final evaluation plots to summarize model performance across all channels.\n",
        "    # These plots help visualize the model's global behavior, not just per channel.\n",
        "\n",
        "    # ROC Curve (overall): this shows how well the model separates anomalies from normal windows\n",
        "    # across all test data. AUC gives a threshold-independent measure of separability.\n",
        "    fpr, tpr, _ = roc_curve(all_y_true, all_y_prob)\n",
        "    roc_auc = auc(fpr, tpr)\n",
        "    plt.figure()\n",
        "    plt.plot(fpr, tpr, label=f\"AUC = {roc_auc:.4f}\")\n",
        "    plt.plot([0, 1], [0, 1], '--', color='gray')\n",
        "    plt.xlabel('False Positive Rate')\n",
        "    plt.ylabel('True Positive Rate')\n",
        "    plt.title('Overall ROC Curve – CNN')\n",
        "    plt.legend()\n",
        "    plt.grid(True)\n",
        "    plt.show()\n",
        "    plt.savefig(\"plots/overall/roc_overall.png\", dpi=300)\n",
        "    plt.close()\n",
        "\n",
        "    # Precision-Recall Curve (overall): this is especially useful for imbalanced datasets.\n",
        "    # It shows the trade-off between precision and recall as the decision threshold changes.\n",
        "    # This helps me understand the model's strengths in detecting rare anomalies.\n",
        "    precision, recall, _ = precision_recall_curve(all_y_true, all_y_prob)\n",
        "    plt.figure()\n",
        "    plt.plot(recall, precision, label='PR Curve')\n",
        "    plt.xlabel('Recall')\n",
        "    plt.ylabel('Precision')\n",
        "    plt.title('Overall Precision-Recall Curve – CNN')\n",
        "    plt.grid(True)\n",
        "    plt.legend()\n",
        "    plt.show()\n",
        "    plt.savefig(\"plots/overall/prc_overall.png\", dpi=300)\n",
        "    plt.close()\n",
        "\n",
        "    # Threshold tuning plot: here I show how precision and recall change as I move the decision threshold.\n",
        "    # This lets me visually explore the best trade-off point based on application needs (e.g. high recall vs fewer false alarms).\n",
        "    thresholds = np.linspace(0, 1, 200)\n",
        "    precisions, recalls = [], []\n",
        "    for t in thresholds:\n",
        "      preds = (np.array(all_y_prob) > t).astype(int)\n",
        "      precisions.append(precision_score(all_y_true, preds))\n",
        "      recalls.append(recall_score(all_y_true, preds))\n",
        "\n",
        "    plt.figure()\n",
        "    plt.plot(thresholds, precisions, label=\"Precision\", linestyle='--')\n",
        "    plt.plot(thresholds, recalls, label=\"Recall\")\n",
        "    plt.xlabel(\"Threshold\")\n",
        "    plt.title(\"Precision/Recall vs. Threshold – Overall\")\n",
        "    plt.legend()\n",
        "    plt.grid(True)\n",
        "    plt.show()\n",
        "    plt.savefig(\"plots/overall/threshold_tuning_overall.png\", dpi=300)\n",
        "    plt.close()\n",
        "\n",
        "    # Finally, I generate a confusion matrix across all test predictions.\n",
        "    # This shows how many total true positives, false positives, etc. the model made in the full test set\n",
        "    cm = confusion_matrix(all_y_true, all_y_pred)\n",
        "    disp = ConfusionMatrixDisplay(confusion_matrix=cm, display_labels=['Normal', 'Anomaly'])\n",
        "    disp.plot(cmap='Blues', values_format='d')\n",
        "    plt.title('Overall Confusion Matrix – CNN')\n",
        "    plt.show()\n",
        "    plt.savefig(\"plots/overall/conf_matrix_overall.png\", dpi=300)\n",
        "    plt.close()\n",
        "\n",
        "    # Bar Plot: Mean ± Std across channels\n",
        "    labels = ['Precision', 'Recall', 'F1 Score', 'False Positives', 'False Negatives']\n",
        "    means  = [np.mean(precisions), np.mean(recalls), np.mean(f1s), np.mean(fps_list), np.mean(fns_list)]\n",
        "    stds   = [np.std(precisions), np.std(recalls), np.std(f1s), np.std(fps_list), np.std(fns_list)]\n",
        "\n",
        "    x = np.arange(len(labels))\n",
        "    plt.figure()\n",
        "    plt.bar(x, means, yerr=stds, capsize=5)\n",
        "    plt.xticks(x, labels, rotation=45, ha='right')\n",
        "    plt.title('Mean ± STD of Metrics across channels')\n",
        "    plt.tight_layout()\n",
        "    plt.show()\n",
        "    plt.savefig(\"plots/overall/metrics_bar.png\", dpi=300)\n",
        "    plt.close()\n",
        "\n",
        "\n",
        "if __name__ == '__main__':\n",
        "    main()\n",
        "\n",
        "\n"
      ],
      "metadata": {
        "colab": {
          "base_uri": "https://localhost:8080/",
          "height": 1000
        },
        "id": "HbBOzg3VlP-M",
        "outputId": "f61b9816-c9c8-4b66-935a-e5b18fc4e7ad"
      },
      "execution_count": null,
      "outputs": [
        {
          "output_type": "stream",
          "name": "stdout",
          "text": [
            "Mounted at /content/drive\n",
            "Data extracted:\n",
            "   • Telemetry .npy files → /content/data\n",
            "   • labeled_anomalies.csv → /content/labeled_anomalies.csv\n",
            "Found 20 MSL channels with anomalies.\n",
            "\n",
            "▶️ Channel M-1: 1 anomaly intervals\n",
            "   • Windows: 2110, Anomalies: 1099 (52.09%)\n",
            "   • Class weights: {0: np.float64(1.0430790960451977), 1: np.float64(0.9603381014304291)}\n"
          ]
        },
        {
          "output_type": "stream",
          "name": "stderr",
          "text": [
            "/usr/local/lib/python3.11/dist-packages/keras/src/layers/convolutional/base_conv.py:107: UserWarning: Do not pass an `input_shape`/`input_dim` argument to a layer. When using Sequential models, prefer using an `Input(shape)` object as the first layer in the model instead.\n",
            "  super().__init__(activity_regularizer=activity_regularizer, **kwargs)\n"
          ]
        },
        {
          "output_type": "stream",
          "name": "stdout",
          "text": [
            "   • Training model...\n",
            "Epoch 1/50\n",
            "\u001b[1m47/47\u001b[0m \u001b[32m━━━━━━━━━━━━━━━━━━━━\u001b[0m\u001b[37m\u001b[0m \u001b[1m0s\u001b[0m 97ms/step - accuracy: 0.7745 - auc: 0.8321 - loss: 0.2023 - prc: 0.8585 - precision: 0.8093 - recall: 0.6987\n",
            "Epoch 1: val_prc improved from -inf to 0.63950, saving model to models/M-1_best.h5\n"
          ]
        },
        {
          "output_type": "stream",
          "name": "stderr",
          "text": [
            "WARNING:absl:You are saving your model as an HDF5 file via `model.save()` or `keras.saving.save_model(model)`. This file format is considered legacy. We recommend using instead the native Keras format, e.g. `model.save('my_model.keras')` or `keras.saving.save_model(model, 'my_model.keras')`. \n"
          ]
        },
        {
          "output_type": "stream",
          "name": "stdout",
          "text": [
            "\b\b\b\b\b\b\b\b\b\b\b\b\b\b\b\b\b\b\b\b\b\b\b\b\b\b\b\b\b\b\b\b\b\b\b\b\b\b\b\b\b\b\b\b\b\b\b\b\b\b\b\b\b\b\b\b\b\b\b\b\b\b\b\b\b\b\b\b\b\b\b\b\b\b\b\b\b\b\b\b\b\b\b\b\b\b\b\b\b\b\b\b\b\b\b\b\b\b\b\b\b\b\b\b\b\b\b\b\b\b\b\b\b\b\b\b\b\b\b\b\b\b\b\b\b\b\b\b\b\b\b\b\b\b\b\b\b\b\r\u001b[1m47/47\u001b[0m \u001b[32m━━━━━━━━━━━━━━━━━━━━\u001b[0m\u001b[37m\u001b[0m \u001b[1m15s\u001b[0m 155ms/step - accuracy: 0.7755 - auc: 0.8334 - loss: 0.2010 - prc: 0.8599 - precision: 0.8107 - recall: 0.7001 - val_accuracy: 0.4778 - val_auc: 0.5636 - val_loss: 0.7860 - val_prc: 0.6395 - val_precision: 0.0000e+00 - val_recall: 0.0000e+00\n",
            "Epoch 2/50\n",
            "\u001b[1m41/47\u001b[0m \u001b[32m━━━━━━━━━━━━━━━━━\u001b[0m\u001b[37m━━━\u001b[0m \u001b[1m0s\u001b[0m 7ms/step - accuracy: 0.8849 - auc: 0.9493 - loss: 0.0496 - prc: 0.9586 - precision: 0.9486 - recall: 0.8087\n",
            "Epoch 2: val_prc did not improve from 0.63950\n",
            "\u001b[1m47/47\u001b[0m \u001b[32m━━━━━━━━━━━━━━━━━━━━\u001b[0m\u001b[37m\u001b[0m \u001b[1m10s\u001b[0m 11ms/step - accuracy: 0.8856 - auc: 0.9508 - loss: 0.0480 - prc: 0.9601 - precision: 0.9480 - recall: 0.8131 - val_accuracy: 0.4778 - val_auc: 0.5000 - val_loss: 1.6306 - val_prc: 0.5222 - val_precision: 0.0000e+00 - val_recall: 0.0000e+00\n",
            "Epoch 3/50\n",
            "\u001b[1m47/47\u001b[0m \u001b[32m━━━━━━━━━━━━━━━━━━━━\u001b[0m\u001b[37m\u001b[0m \u001b[1m0s\u001b[0m 7ms/step - accuracy: 0.9027 - auc: 0.9670 - loss: 0.0306 - prc: 0.9722 - precision: 0.9574 - recall: 0.8406\n",
            "Epoch 3: val_prc did not improve from 0.63950\n",
            "\u001b[1m47/47\u001b[0m \u001b[32m━━━━━━━━━━━━━━━━━━━━\u001b[0m\u001b[37m\u001b[0m \u001b[1m1s\u001b[0m 11ms/step - accuracy: 0.9028 - auc: 0.9671 - loss: 0.0304 - prc: 0.9724 - precision: 0.9576 - recall: 0.8408 - val_accuracy: 0.4778 - val_auc: 0.5000 - val_loss: 2.0944 - val_prc: 0.5222 - val_precision: 0.0000e+00 - val_recall: 0.0000e+00\n",
            "Epoch 4/50\n",
            "\u001b[1m42/47\u001b[0m \u001b[32m━━━━━━━━━━━━━━━━━\u001b[0m\u001b[37m━━━\u001b[0m \u001b[1m0s\u001b[0m 8ms/step - accuracy: 0.9288 - auc: 0.9776 - loss: 0.0190 - prc: 0.9808 - precision: 0.9748 - recall: 0.8782\n",
            "Epoch 4: val_prc did not improve from 0.63950\n",
            "\u001b[1m47/47\u001b[0m \u001b[32m━━━━━━━━━━━━━━━━━━━━\u001b[0m\u001b[37m\u001b[0m \u001b[1m1s\u001b[0m 13ms/step - accuracy: 0.9286 - auc: 0.9781 - loss: 0.0188 - prc: 0.9813 - precision: 0.9757 - recall: 0.8780 - val_accuracy: 0.4778 - val_auc: 0.5000 - val_loss: 2.1040 - val_prc: 0.5222 - val_precision: 0.0000e+00 - val_recall: 0.0000e+00\n",
            "Epoch 5/50\n",
            "\u001b[1m40/47\u001b[0m \u001b[32m━━━━━━━━━━━━━━━━━\u001b[0m\u001b[37m━━━\u001b[0m \u001b[1m0s\u001b[0m 5ms/step - accuracy: 0.9481 - auc: 0.9836 - loss: 0.0168 - prc: 0.9861 - precision: 0.9789 - recall: 0.9141\n",
            "Epoch 5: val_prc did not improve from 0.63950\n",
            "\u001b[1m47/47\u001b[0m \u001b[32m━━━━━━━━━━━━━━━━━━━━\u001b[0m\u001b[37m\u001b[0m \u001b[1m1s\u001b[0m 8ms/step - accuracy: 0.9481 - auc: 0.9843 - loss: 0.0164 - prc: 0.9868 - precision: 0.9805 - recall: 0.9137 - val_accuracy: 0.4778 - val_auc: 0.5000 - val_loss: 2.1040 - val_prc: 0.5222 - val_precision: 0.0000e+00 - val_recall: 0.0000e+00\n",
            "Epoch 6/50\n",
            "\u001b[1m41/47\u001b[0m \u001b[32m━━━━━━━━━━━━━━━━━\u001b[0m\u001b[37m━━━\u001b[0m \u001b[1m0s\u001b[0m 5ms/step - accuracy: 0.9642 - auc: 0.9944 - loss: 0.0086 - prc: 0.9949 - precision: 0.9971 - recall: 0.9302\n",
            "Epoch 6: val_prc did not improve from 0.63950\n",
            "\u001b[1m47/47\u001b[0m \u001b[32m━━━━━━━━━━━━━━━━━━━━\u001b[0m\u001b[37m\u001b[0m \u001b[1m1s\u001b[0m 8ms/step - accuracy: 0.9643 - auc: 0.9945 - loss: 0.0086 - prc: 0.9951 - precision: 0.9971 - recall: 0.9310 - val_accuracy: 0.4778 - val_auc: 0.5000 - val_loss: 2.0965 - val_prc: 0.5222 - val_precision: 0.0000e+00 - val_recall: 0.0000e+00\n"
          ]
        },
        {
          "output_type": "stream",
          "name": "stderr",
          "text": [
            "WARNING:absl:Compiled the loaded model, but the compiled metrics have yet to be built. `model.compile_metrics` will be empty until you train or evaluate the model.\n"
          ]
        },
        {
          "output_type": "stream",
          "name": "stdout",
          "text": [
            "\u001b[1m10/10\u001b[0m \u001b[32m━━━━━━━━━━━━━━━━━━━━\u001b[0m\u001b[37m\u001b[0m \u001b[1m1s\u001b[0m 42ms/step\n",
            "\n",
            "   • Optimal threshold: 0.0010\n",
            "              precision    recall  f1-score   support\n",
            "\n",
            "           0     0.9891    0.5987    0.7459       152\n",
            "           1     0.7289    0.9939    0.8410       165\n",
            "\n",
            "    accuracy                         0.8044       317\n",
            "   macro avg     0.8590    0.7963    0.7935       317\n",
            "weighted avg     0.8537    0.8044    0.7954       317\n",
            "\n",
            "\n",
            "▶️ Channel M-2: 1 anomaly intervals\n",
            "   • Windows: 2109, Anomalies: 1098 (52.06%)\n",
            "   • Class weights: {0: np.float64(1.0423728813559323), 1: np.float64(0.9609375)}\n"
          ]
        },
        {
          "output_type": "stream",
          "name": "stderr",
          "text": [
            "/usr/local/lib/python3.11/dist-packages/keras/src/layers/convolutional/base_conv.py:107: UserWarning: Do not pass an `input_shape`/`input_dim` argument to a layer. When using Sequential models, prefer using an `Input(shape)` object as the first layer in the model instead.\n",
            "  super().__init__(activity_regularizer=activity_regularizer, **kwargs)\n"
          ]
        },
        {
          "output_type": "stream",
          "name": "stdout",
          "text": [
            "   • Training model...\n",
            "Epoch 1/50\n",
            "\u001b[1m47/47\u001b[0m \u001b[32m━━━━━━━━━━━━━━━━━━━━\u001b[0m\u001b[37m\u001b[0m \u001b[1m0s\u001b[0m 90ms/step - accuracy: 0.5448 - auc: 0.5870 - loss: 0.3283 - prc: 0.6299 - precision: 0.5900 - recall: 0.3971\n",
            "Epoch 1: val_prc improved from -inf to 0.52215, saving model to models/M-2_best.h5\n"
          ]
        },
        {
          "output_type": "stream",
          "name": "stderr",
          "text": [
            "WARNING:absl:You are saving your model as an HDF5 file via `model.save()` or `keras.saving.save_model(model)`. This file format is considered legacy. We recommend using instead the native Keras format, e.g. `model.save('my_model.keras')` or `keras.saving.save_model(model, 'my_model.keras')`. \n"
          ]
        },
        {
          "output_type": "stream",
          "name": "stdout",
          "text": [
            "\b\b\b\b\b\b\b\b\b\b\b\b\b\b\b\b\b\b\b\b\b\b\b\b\b\b\b\b\b\b\b\b\b\b\b\b\b\b\b\b\b\b\b\b\b\b\b\b\b\b\b\b\b\b\b\b\b\b\b\b\b\b\b\b\b\b\b\b\b\b\b\b\b\b\b\b\b\b\b\b\b\b\b\b\b\b\b\b\b\b\b\b\b\b\b\b\b\b\b\b\b\b\b\b\b\b\b\b\b\b\b\b\b\b\b\b\b\b\b\b\b\b\b\b\b\b\b\b\b\b\b\b\b\b\b\b\b\b\r\u001b[1m47/47\u001b[0m \u001b[32m━━━━━━━━━━━━━━━━━━━━\u001b[0m\u001b[37m\u001b[0m \u001b[1m16s\u001b[0m 171ms/step - accuracy: 0.5457 - auc: 0.5878 - loss: 0.3270 - prc: 0.6309 - precision: 0.5914 - recall: 0.3982 - val_accuracy: 0.4778 - val_auc: 0.5000 - val_loss: 0.8722 - val_prc: 0.5222 - val_precision: 0.0000e+00 - val_recall: 0.0000e+00\n",
            "Epoch 2/50\n",
            "\u001b[1m39/47\u001b[0m \u001b[32m━━━━━━━━━━━━━━━━\u001b[0m\u001b[37m━━━━\u001b[0m \u001b[1m0s\u001b[0m 6ms/step - accuracy: 0.6998 - auc: 0.7848 - loss: 0.0851 - prc: 0.8146 - precision: 0.8177 - recall: 0.5422\n",
            "Epoch 2: val_prc did not improve from 0.52215\n",
            "\u001b[1m47/47\u001b[0m \u001b[32m━━━━━━━━━━━━━━━━━━━━\u001b[0m\u001b[37m\u001b[0m \u001b[1m8s\u001b[0m 8ms/step - accuracy: 0.7039 - auc: 0.7902 - loss: 0.0822 - prc: 0.8200 - precision: 0.8213 - recall: 0.5490 - val_accuracy: 0.4778 - val_auc: 0.5000 - val_loss: 1.6164 - val_prc: 0.5222 - val_precision: 0.0000e+00 - val_recall: 0.0000e+00\n",
            "Epoch 3/50\n",
            "\u001b[1m40/47\u001b[0m \u001b[32m━━━━━━━━━━━━━━━━━\u001b[0m\u001b[37m━━━\u001b[0m \u001b[1m0s\u001b[0m 5ms/step - accuracy: 0.7852 - auc: 0.8640 - loss: 0.0529 - prc: 0.8945 - precision: 0.8675 - recall: 0.6934\n",
            "Epoch 3: val_prc did not improve from 0.52215\n",
            "\u001b[1m47/47\u001b[0m \u001b[32m━━━━━━━━━━━━━━━━━━━━\u001b[0m\u001b[37m\u001b[0m \u001b[1m1s\u001b[0m 8ms/step - accuracy: 0.7885 - auc: 0.8692 - loss: 0.0516 - prc: 0.8983 - precision: 0.8722 - recall: 0.6957 - val_accuracy: 0.4778 - val_auc: 0.5000 - val_loss: 2.0913 - val_prc: 0.5222 - val_precision: 0.0000e+00 - val_recall: 0.0000e+00\n",
            "Epoch 4/50\n",
            "\u001b[1m40/47\u001b[0m \u001b[32m━━━━━━━━━━━━━━━━━\u001b[0m\u001b[37m━━━\u001b[0m \u001b[1m0s\u001b[0m 5ms/step - accuracy: 0.8519 - auc: 0.9399 - loss: 0.0361 - prc: 0.9477 - precision: 0.9266 - recall: 0.7757\n",
            "Epoch 4: val_prc did not improve from 0.52215\n",
            "\u001b[1m47/47\u001b[0m \u001b[32m━━━━━━━━━━━━━━━━━━━━\u001b[0m\u001b[37m\u001b[0m \u001b[1m1s\u001b[0m 8ms/step - accuracy: 0.8552 - auc: 0.9425 - loss: 0.0351 - prc: 0.9502 - precision: 0.9295 - recall: 0.7800 - val_accuracy: 0.4778 - val_auc: 0.5000 - val_loss: 2.1040 - val_prc: 0.5222 - val_precision: 0.0000e+00 - val_recall: 0.0000e+00\n",
            "Epoch 5/50\n",
            "\u001b[1m40/47\u001b[0m \u001b[32m━━━━━━━━━━━━━━━━━\u001b[0m\u001b[37m━━━\u001b[0m \u001b[1m0s\u001b[0m 5ms/step - accuracy: 0.8976 - auc: 0.9746 - loss: 0.0229 - prc: 0.9786 - precision: 0.9424 - recall: 0.8554\n",
            "Epoch 5: val_prc did not improve from 0.52215\n",
            "\u001b[1m47/47\u001b[0m \u001b[32m━━━━━━━━━━━━━━━━━━━━\u001b[0m\u001b[37m\u001b[0m \u001b[1m1s\u001b[0m 8ms/step - accuracy: 0.9018 - auc: 0.9753 - loss: 0.0223 - prc: 0.9795 - precision: 0.9458 - recall: 0.8604 - val_accuracy: 0.4778 - val_auc: 0.5000 - val_loss: 2.1040 - val_prc: 0.5222 - val_precision: 0.0000e+00 - val_recall: 0.0000e+00\n",
            "Epoch 6/50\n",
            "\u001b[1m41/47\u001b[0m \u001b[32m━━━━━━━━━━━━━━━━━\u001b[0m\u001b[37m━━━\u001b[0m \u001b[1m0s\u001b[0m 5ms/step - accuracy: 0.9391 - auc: 0.9847 - loss: 0.0159 - prc: 0.9875 - precision: 0.9761 - recall: 0.9049\n",
            "Epoch 6: val_prc did not improve from 0.52215\n",
            "\u001b[1m47/47\u001b[0m \u001b[32m━━━━━━━━━━━━━━━━━━━━\u001b[0m\u001b[37m\u001b[0m \u001b[1m1s\u001b[0m 8ms/step - accuracy: 0.9403 - auc: 0.9854 - loss: 0.0157 - prc: 0.9881 - precision: 0.9770 - recall: 0.9064 - val_accuracy: 0.4778 - val_auc: 0.5000 - val_loss: 2.1040 - val_prc: 0.5222 - val_precision: 0.0000e+00 - val_recall: 0.0000e+00\n"
          ]
        },
        {
          "output_type": "stream",
          "name": "stderr",
          "text": [
            "WARNING:absl:Compiled the loaded model, but the compiled metrics have yet to be built. `model.compile_metrics` will be empty until you train or evaluate the model.\n"
          ]
        },
        {
          "output_type": "stream",
          "name": "stdout",
          "text": [
            "\u001b[1m10/10\u001b[0m \u001b[32m━━━━━━━━━━━━━━━━━━━━\u001b[0m\u001b[37m\u001b[0m \u001b[1m1s\u001b[0m 40ms/step\n",
            "\n",
            "   • Optimal threshold: 0.0010\n",
            "              precision    recall  f1-score   support\n",
            "\n",
            "           0     0.7429    0.1711    0.2781       152\n",
            "           1     0.5532    0.9455    0.6980       165\n",
            "\n",
            "    accuracy                         0.5741       317\n",
            "   macro avg     0.6480    0.5583    0.4880       317\n",
            "weighted avg     0.6441    0.5741    0.4966       317\n",
            "\n",
            "\n",
            "▶️ Channel S-2: 1 anomaly intervals\n",
            "   • Windows: 827, Anomalies: 26 (3.14%)\n",
            "   • Class weights: {0: np.float64(0.5160714285714286), 1: np.float64(16.055555555555557)}\n",
            "   • Training model...\n",
            "Epoch 1/50\n"
          ]
        },
        {
          "output_type": "stream",
          "name": "stderr",
          "text": [
            "/usr/local/lib/python3.11/dist-packages/keras/src/layers/convolutional/base_conv.py:107: UserWarning: Do not pass an `input_shape`/`input_dim` argument to a layer. When using Sequential models, prefer using an `Input(shape)` object as the first layer in the model instead.\n",
            "  super().__init__(activity_regularizer=activity_regularizer, **kwargs)\n"
          ]
        },
        {
          "output_type": "stream",
          "name": "stdout",
          "text": [
            "\u001b[1m19/19\u001b[0m \u001b[32m━━━━━━━━━━━━━━━━━━━━\u001b[0m\u001b[37m\u001b[0m \u001b[1m0s\u001b[0m 200ms/step - accuracy: 0.9187 - auc: 0.9659 - loss: 0.1005 - prc: 0.6442 - precision: 0.3504 - recall: 0.9223\n",
            "Epoch 1: val_prc improved from -inf to 1.00000, saving model to models/S-2_best.h5\n"
          ]
        },
        {
          "output_type": "stream",
          "name": "stderr",
          "text": [
            "WARNING:absl:You are saving your model as an HDF5 file via `model.save()` or `keras.saving.save_model(model)`. This file format is considered legacy. We recommend using instead the native Keras format, e.g. `model.save('my_model.keras')` or `keras.saving.save_model(model, 'my_model.keras')`. \n"
          ]
        },
        {
          "output_type": "stream",
          "name": "stdout",
          "text": [
            "\b\b\b\b\b\b\b\b\b\b\b\b\b\b\b\b\b\b\b\b\b\b\b\b\b\b\b\b\b\b\b\b\b\b\b\b\b\b\b\b\b\b\b\b\b\b\b\b\b\b\b\b\b\b\b\b\b\b\b\b\b\b\b\b\b\b\b\b\b\b\b\b\b\b\b\b\b\b\b\b\b\b\b\b\b\b\b\b\b\b\b\b\b\b\b\b\b\b\b\b\b\b\b\b\b\b\b\b\b\b\b\b\b\b\b\b\b\b\b\b\b\b\b\b\b\b\b\b\b\b\b\b\b\b\b\b\b\b\b\r\u001b[1m19/19\u001b[0m \u001b[32m━━━━━━━━━━━━━━━━━━━━\u001b[0m\u001b[37m\u001b[0m \u001b[1m15s\u001b[0m 388ms/step - accuracy: 0.9213 - auc: 0.9670 - loss: 0.0987 - prc: 0.6527 - precision: 0.3587 - recall: 0.9207 - val_accuracy: 0.0323 - val_auc: 1.0000 - val_loss: 1.9871 - val_prc: 1.0000 - val_precision: 0.0323 - val_recall: 1.0000\n",
            "Epoch 2/50\n",
            "\u001b[1m16/19\u001b[0m \u001b[32m━━━━━━━━━━━━━━━━\u001b[0m\u001b[37m━━━━\u001b[0m \u001b[1m0s\u001b[0m 7ms/step - accuracy: 0.9960 - auc: 0.9965 - loss: 0.0147 - prc: 0.9114 - precision: 0.8967 - recall: 0.9961    \n",
            "Epoch 2: val_prc did not improve from 1.00000\n",
            "\u001b[1m19/19\u001b[0m \u001b[32m━━━━━━━━━━━━━━━━━━━━\u001b[0m\u001b[37m\u001b[0m \u001b[1m0s\u001b[0m 15ms/step - accuracy: 0.9950 - auc: 0.9911 - loss: 0.0344 - prc: 0.8917 - precision: 0.8858 - recall: 0.9747 - val_accuracy: 0.0323 - val_auc: 0.5000 - val_loss: 7.1588 - val_prc: 0.0323 - val_precision: 0.0323 - val_recall: 1.0000\n",
            "Epoch 3/50\n",
            "\u001b[1m16/19\u001b[0m \u001b[32m━━━━━━━━━━━━━━━━\u001b[0m\u001b[37m━━━━\u001b[0m \u001b[1m0s\u001b[0m 7ms/step - accuracy: 0.9928 - auc: 0.9985 - loss: 0.0157 - prc: 0.9202 - precision: 0.8268 - recall: 1.0000\n",
            "Epoch 3: val_prc did not improve from 1.00000\n",
            "\u001b[1m19/19\u001b[0m \u001b[32m━━━━━━━━━━━━━━━━━━━━\u001b[0m\u001b[37m\u001b[0m \u001b[1m0s\u001b[0m 16ms/step - accuracy: 0.9921 - auc: 0.9983 - loss: 0.0181 - prc: 0.9076 - precision: 0.8114 - recall: 1.0000 - val_accuracy: 0.0323 - val_auc: 0.5000 - val_loss: 11.0533 - val_prc: 0.0323 - val_precision: 0.0323 - val_recall: 1.0000\n",
            "Epoch 4/50\n",
            "\u001b[1m11/19\u001b[0m \u001b[32m━━━━━━━━━━━\u001b[0m\u001b[37m━━━━━━━━━\u001b[0m \u001b[1m0s\u001b[0m 5ms/step - accuracy: 0.9986 - auc: 1.0000 - loss: 0.0103 - prc: 1.0000 - precision: 1.0000 - recall: 0.9523      \n",
            "Epoch 4: val_prc did not improve from 1.00000\n",
            "\u001b[1m19/19\u001b[0m \u001b[32m━━━━━━━━━━━━━━━━━━━━\u001b[0m\u001b[37m\u001b[0m \u001b[1m1s\u001b[0m 10ms/step - accuracy: 0.9966 - auc: 0.9994 - loss: 0.0209 - prc: 0.9699 - precision: 0.9732 - recall: 0.9144 - val_accuracy: 0.0323 - val_auc: 0.5000 - val_loss: 11.5711 - val_prc: 0.0323 - val_precision: 0.0323 - val_recall: 1.0000\n",
            "Epoch 5/50\n",
            "\u001b[1m11/19\u001b[0m \u001b[32m━━━━━━━━━━━\u001b[0m\u001b[37m━━━━━━━━━\u001b[0m \u001b[1m0s\u001b[0m 5ms/step - accuracy: 0.9852 - auc: 0.9938 - loss: 0.0703 - prc: 0.7325 - precision: 0.6794 - recall: 1.0000  \n",
            "Epoch 5: val_prc did not improve from 1.00000\n",
            "\u001b[1m19/19\u001b[0m \u001b[32m━━━━━━━━━━━━━━━━━━━━\u001b[0m\u001b[37m\u001b[0m \u001b[1m0s\u001b[0m 11ms/step - accuracy: 0.9836 - auc: 0.9947 - loss: 0.0636 - prc: 0.7594 - precision: 0.6566 - recall: 1.0000 - val_accuracy: 0.0323 - val_auc: 0.5000 - val_loss: 11.5711 - val_prc: 0.0323 - val_precision: 0.0323 - val_recall: 1.0000\n",
            "Epoch 6/50\n",
            "\u001b[1m11/19\u001b[0m \u001b[32m━━━━━━━━━━━\u001b[0m\u001b[37m━━━━━━━━━\u001b[0m \u001b[1m0s\u001b[0m 5ms/step - accuracy: 0.9978 - auc: 1.0000 - loss: 0.0196 - prc: 1.0000 - precision: 1.0000 - recall: 0.9263     \n",
            "Epoch 6: val_prc did not improve from 1.00000\n",
            "\u001b[1m19/19\u001b[0m \u001b[32m━━━━━━━━━━━━━━━━━━━━\u001b[0m\u001b[37m\u001b[0m \u001b[1m0s\u001b[0m 11ms/step - accuracy: 0.9964 - auc: 0.9999 - loss: 0.0245 - prc: 0.9979 - precision: 0.9811 - recall: 0.9001 - val_accuracy: 0.0323 - val_auc: 0.5000 - val_loss: 11.5711 - val_prc: 0.0323 - val_precision: 0.0323 - val_recall: 1.0000\n"
          ]
        },
        {
          "output_type": "stream",
          "name": "stderr",
          "text": [
            "WARNING:absl:Compiled the loaded model, but the compiled metrics have yet to be built. `model.compile_metrics` will be empty until you train or evaluate the model.\n"
          ]
        },
        {
          "output_type": "stream",
          "name": "stdout",
          "text": [
            "\u001b[1m4/4\u001b[0m \u001b[32m━━━━━━━━━━━━━━━━━━━━\u001b[0m\u001b[37m\u001b[0m \u001b[1m1s\u001b[0m 125ms/step\n",
            "\n",
            "   • Optimal threshold: 0.9812\n",
            "              precision    recall  f1-score   support\n",
            "\n",
            "           0     0.9918    1.0000    0.9959       121\n",
            "           1     1.0000    0.7500    0.8571         4\n",
            "\n",
            "    accuracy                         0.9920       125\n",
            "   macro avg     0.9959    0.8750    0.9265       125\n",
            "weighted avg     0.9921    0.9920    0.9914       125\n",
            "\n",
            "\n",
            "▶️ Channel T-4: 1 anomaly intervals\n",
            "   • Windows: 2173, Anomalies: 167 (7.69%)\n",
            "   • Class weights: {0: np.float64(0.5416666666666666), 1: np.float64(6.5)}\n"
          ]
        },
        {
          "output_type": "stream",
          "name": "stderr",
          "text": [
            "/usr/local/lib/python3.11/dist-packages/keras/src/layers/convolutional/base_conv.py:107: UserWarning: Do not pass an `input_shape`/`input_dim` argument to a layer. When using Sequential models, prefer using an `Input(shape)` object as the first layer in the model instead.\n",
            "  super().__init__(activity_regularizer=activity_regularizer, **kwargs)\n"
          ]
        },
        {
          "output_type": "stream",
          "name": "stdout",
          "text": [
            "   • Training model...\n",
            "Epoch 1/50\n",
            "\u001b[1m48/48\u001b[0m \u001b[32m━━━━━━━━━━━━━━━━━━━━\u001b[0m\u001b[37m\u001b[0m \u001b[1m0s\u001b[0m 92ms/step - accuracy: 0.7613 - auc: 0.5789 - loss: 0.4537 - prc: 0.1145 - precision: 0.0980 - recall: 0.2368\n",
            "Epoch 1: val_prc improved from -inf to 0.51701, saving model to models/T-4_best.h5\n"
          ]
        },
        {
          "output_type": "stream",
          "name": "stderr",
          "text": [
            "WARNING:absl:You are saving your model as an HDF5 file via `model.save()` or `keras.saving.save_model(model)`. This file format is considered legacy. We recommend using instead the native Keras format, e.g. `model.save('my_model.keras')` or `keras.saving.save_model(model, 'my_model.keras')`. \n"
          ]
        },
        {
          "output_type": "stream",
          "name": "stdout",
          "text": [
            "\b\b\b\b\b\b\b\b\b\b\b\b\b\b\b\b\b\b\b\b\b\b\b\b\b\b\b\b\b\b\b\b\b\b\b\b\b\b\b\b\b\b\b\b\b\b\b\b\b\b\b\b\b\b\b\b\b\b\b\b\b\b\b\b\b\b\b\b\b\b\b\b\b\b\b\b\b\b\b\b\b\b\b\b\b\b\b\b\b\b\b\b\b\b\b\b\b\b\b\b\b\b\b\b\b\b\b\b\b\b\b\b\b\b\b\b\b\b\b\b\b\b\b\b\b\b\b\b\b\b\b\b\b\b\b\b\b\b\r\u001b[1m48/48\u001b[0m \u001b[32m━━━━━━━━━━━━━━━━━━━━\u001b[0m\u001b[37m\u001b[0m \u001b[1m15s\u001b[0m 136ms/step - accuracy: 0.7618 - auc: 0.5810 - loss: 0.4509 - prc: 0.1154 - precision: 0.0989 - recall: 0.2390 - val_accuracy: 0.0767 - val_auc: 0.9195 - val_loss: 0.7912 - val_prc: 0.5170 - val_precision: 0.0767 - val_recall: 1.0000\n",
            "Epoch 2/50\n",
            "\u001b[1m48/48\u001b[0m \u001b[32m━━━━━━━━━━━━━━━━━━━━\u001b[0m\u001b[37m\u001b[0m \u001b[1m0s\u001b[0m 6ms/step - accuracy: 0.8538 - auc: 0.8853 - loss: 0.0971 - prc: 0.4706 - precision: 0.3210 - recall: 0.6645\n",
            "Epoch 2: val_prc improved from 0.51701 to 0.77315, saving model to models/T-4_best.h5\n"
          ]
        },
        {
          "output_type": "stream",
          "name": "stderr",
          "text": [
            "WARNING:absl:You are saving your model as an HDF5 file via `model.save()` or `keras.saving.save_model(model)`. This file format is considered legacy. We recommend using instead the native Keras format, e.g. `model.save('my_model.keras')` or `keras.saving.save_model(model, 'my_model.keras')`. \n"
          ]
        },
        {
          "output_type": "stream",
          "name": "stdout",
          "text": [
            "\b\b\b\b\b\b\b\b\b\b\b\b\b\b\b\b\b\b\b\b\b\b\b\b\b\b\b\b\b\b\b\b\b\b\b\b\b\b\b\b\b\b\b\b\b\b\b\b\b\b\b\b\b\b\b\b\b\b\b\b\b\b\b\b\b\b\b\b\b\b\b\b\b\b\b\b\b\b\b\b\b\b\b\b\b\b\b\b\b\b\b\b\b\b\b\b\b\b\b\b\b\b\b\b\b\b\b\b\b\b\b\b\b\b\b\b\b\b\b\b\b\b\b\b\b\b\b\b\b\b\b\b\b\b\b\b\b\r\u001b[1m48/48\u001b[0m \u001b[32m━━━━━━━━━━━━━━━━━━━━\u001b[0m\u001b[37m\u001b[0m \u001b[1m1s\u001b[0m 11ms/step - accuracy: 0.8545 - auc: 0.8858 - loss: 0.0967 - prc: 0.4720 - precision: 0.3220 - recall: 0.6649 - val_accuracy: 0.0767 - val_auc: 0.9777 - val_loss: 1.5476 - val_prc: 0.7731 - val_precision: 0.0767 - val_recall: 1.0000\n",
            "Epoch 3/50\n",
            "\u001b[1m41/48\u001b[0m \u001b[32m━━━━━━━━━━━━━━━━━\u001b[0m\u001b[37m━━━\u001b[0m \u001b[1m0s\u001b[0m 5ms/step - accuracy: 0.9271 - auc: 0.9734 - loss: 0.0285 - prc: 0.7705 - precision: 0.5422 - recall: 0.9062\n",
            "Epoch 3: val_prc improved from 0.77315 to 0.81545, saving model to models/T-4_best.h5\n"
          ]
        },
        {
          "output_type": "stream",
          "name": "stderr",
          "text": [
            "WARNING:absl:You are saving your model as an HDF5 file via `model.save()` or `keras.saving.save_model(model)`. This file format is considered legacy. We recommend using instead the native Keras format, e.g. `model.save('my_model.keras')` or `keras.saving.save_model(model, 'my_model.keras')`. \n"
          ]
        },
        {
          "output_type": "stream",
          "name": "stdout",
          "text": [
            "\b\b\b\b\b\b\b\b\b\b\b\b\b\b\b\b\b\b\b\b\b\b\b\b\b\b\b\b\b\b\b\b\b\b\b\b\b\b\b\b\b\b\b\b\b\b\b\b\b\b\b\b\b\b\b\b\b\b\b\b\b\b\b\b\b\b\b\b\b\b\b\b\b\b\b\b\b\b\b\b\b\b\b\b\b\b\b\b\b\b\b\b\b\b\b\b\b\b\b\b\b\b\b\b\b\b\b\b\b\b\b\b\b\b\b\b\b\b\b\b\b\b\b\b\b\b\b\b\b\b\b\b\b\b\b\b\b\r\u001b[1m48/48\u001b[0m \u001b[32m━━━━━━━━━━━━━━━━━━━━\u001b[0m\u001b[37m\u001b[0m \u001b[1m0s\u001b[0m 9ms/step - accuracy: 0.9306 - auc: 0.9749 - loss: 0.0271 - prc: 0.7828 - precision: 0.5535 - recall: 0.9050 - val_accuracy: 0.0890 - val_auc: 0.9843 - val_loss: 2.0165 - val_prc: 0.8154 - val_precision: 0.0776 - val_recall: 1.0000\n",
            "Epoch 4/50\n",
            "\u001b[1m38/48\u001b[0m \u001b[32m━━━━━━━━━━━━━━━\u001b[0m\u001b[37m━━━━━\u001b[0m \u001b[1m0s\u001b[0m 6ms/step - accuracy: 0.9489 - auc: 0.9817 - loss: 0.0256 - prc: 0.8431 - precision: 0.6450 - recall: 0.8558\n",
            "Epoch 4: val_prc did not improve from 0.81545\n",
            "\u001b[1m48/48\u001b[0m \u001b[32m━━━━━━━━━━━━━━━━━━━━\u001b[0m\u001b[37m\u001b[0m \u001b[1m0s\u001b[0m 10ms/step - accuracy: 0.9507 - auc: 0.9827 - loss: 0.0242 - prc: 0.8517 - precision: 0.6483 - recall: 0.8659 - val_accuracy: 0.1074 - val_auc: 0.8090 - val_loss: 3.0465 - val_prc: 0.1786 - val_precision: 0.0791 - val_recall: 1.0000\n",
            "Epoch 5/50\n",
            "\u001b[1m41/48\u001b[0m \u001b[32m━━━━━━━━━━━━━━━━━\u001b[0m\u001b[37m━━━\u001b[0m \u001b[1m0s\u001b[0m 5ms/step - accuracy: 0.9676 - auc: 0.9945 - loss: 0.0113 - prc: 0.9578 - precision: 0.7474 - recall: 0.9220\n",
            "Epoch 5: val_prc did not improve from 0.81545\n",
            "\u001b[1m48/48\u001b[0m \u001b[32m━━━━━━━━━━━━━━━━━━━━\u001b[0m\u001b[37m\u001b[0m \u001b[1m0s\u001b[0m 8ms/step - accuracy: 0.9685 - auc: 0.9946 - loss: 0.0112 - prc: 0.9573 - precision: 0.7514 - recall: 0.9226 - val_accuracy: 0.1411 - val_auc: 0.7425 - val_loss: 3.2256 - val_prc: 0.1389 - val_precision: 0.0820 - val_recall: 1.0000\n",
            "Epoch 6/50\n",
            "\u001b[1m41/48\u001b[0m \u001b[32m━━━━━━━━━━━━━━━━━\u001b[0m\u001b[37m━━━\u001b[0m \u001b[1m0s\u001b[0m 5ms/step - accuracy: 0.9846 - auc: 0.9974 - loss: 0.0081 - prc: 0.9775 - precision: 0.8638 - recall: 0.9642\n",
            "Epoch 6: val_prc did not improve from 0.81545\n",
            "\u001b[1m48/48\u001b[0m \u001b[32m━━━━━━━━━━━━━━━━━━━━\u001b[0m\u001b[37m\u001b[0m \u001b[1m1s\u001b[0m 8ms/step - accuracy: 0.9848 - auc: 0.9975 - loss: 0.0079 - prc: 0.9780 - precision: 0.8648 - recall: 0.9642 - val_accuracy: 0.1288 - val_auc: 0.6279 - val_loss: 4.5160 - val_prc: 0.1004 - val_precision: 0.0809 - val_recall: 1.0000\n",
            "Epoch 7/50\n",
            "\u001b[1m42/48\u001b[0m \u001b[32m━━━━━━━━━━━━━━━━━\u001b[0m\u001b[37m━━━\u001b[0m \u001b[1m0s\u001b[0m 5ms/step - accuracy: 0.9866 - auc: 0.9989 - loss: 0.0052 - prc: 0.9883 - precision: 0.8813 - recall: 0.9648\n",
            "Epoch 7: val_prc did not improve from 0.81545\n",
            "\u001b[1m48/48\u001b[0m \u001b[32m━━━━━━━━━━━━━━━━━━━━\u001b[0m\u001b[37m\u001b[0m \u001b[1m0s\u001b[0m 8ms/step - accuracy: 0.9864 - auc: 0.9989 - loss: 0.0051 - prc: 0.9884 - precision: 0.8788 - recall: 0.9647 - val_accuracy: 0.1503 - val_auc: 0.6179 - val_loss: 5.0723 - val_prc: 0.0980 - val_precision: 0.0828 - val_recall: 1.0000\n",
            "Epoch 8/50\n",
            "\u001b[1m39/48\u001b[0m \u001b[32m━━━━━━━━━━━━━━━━\u001b[0m\u001b[37m━━━━\u001b[0m \u001b[1m0s\u001b[0m 5ms/step - accuracy: 0.9866 - auc: 0.9987 - loss: 0.0063 - prc: 0.9860 - precision: 0.8842 - recall: 0.9642\n",
            "Epoch 8: val_prc did not improve from 0.81545\n",
            "\u001b[1m48/48\u001b[0m \u001b[32m━━━━━━━━━━━━━━━━━━━━\u001b[0m\u001b[37m\u001b[0m \u001b[1m1s\u001b[0m 8ms/step - accuracy: 0.9870 - auc: 0.9987 - loss: 0.0060 - prc: 0.9865 - precision: 0.8854 - recall: 0.9659 - val_accuracy: 0.1810 - val_auc: 0.6279 - val_loss: 5.2896 - val_prc: 0.1004 - val_precision: 0.0856 - val_recall: 1.0000\n"
          ]
        },
        {
          "output_type": "stream",
          "name": "stderr",
          "text": [
            "WARNING:absl:Compiled the loaded model, but the compiled metrics have yet to be built. `model.compile_metrics` will be empty until you train or evaluate the model.\n"
          ]
        },
        {
          "output_type": "stream",
          "name": "stdout",
          "text": [
            "\u001b[1m11/11\u001b[0m \u001b[32m━━━━━━━━━━━━━━━━━━━━\u001b[0m\u001b[37m\u001b[0m \u001b[1m1s\u001b[0m 54ms/step\n",
            "\n",
            "   • Optimal threshold: 0.9893\n",
            "              precision    recall  f1-score   support\n",
            "\n",
            "           0     0.9866    0.9767    0.9816       301\n",
            "           1     0.7500    0.8400    0.7925        25\n",
            "\n",
            "    accuracy                         0.9663       326\n",
            "   macro avg     0.8683    0.9084    0.8870       326\n",
            "weighted avg     0.9684    0.9663    0.9671       326\n",
            "\n",
            "\n",
            "▶️ Channel T-5: 1 anomaly intervals\n",
            "   • Windows: 2173, Anomalies: 124 (5.71%)\n",
            "   • Class weights: {0: np.float64(0.5303347280334728), 1: np.float64(8.741379310344827)}\n"
          ]
        },
        {
          "output_type": "stream",
          "name": "stderr",
          "text": [
            "/usr/local/lib/python3.11/dist-packages/keras/src/layers/convolutional/base_conv.py:107: UserWarning: Do not pass an `input_shape`/`input_dim` argument to a layer. When using Sequential models, prefer using an `Input(shape)` object as the first layer in the model instead.\n",
            "  super().__init__(activity_regularizer=activity_regularizer, **kwargs)\n"
          ]
        },
        {
          "output_type": "stream",
          "name": "stdout",
          "text": [
            "   • Training model...\n",
            "Epoch 1/50\n",
            "\u001b[1m48/48\u001b[0m \u001b[32m━━━━━━━━━━━━━━━━━━━━\u001b[0m\u001b[37m\u001b[0m \u001b[1m0s\u001b[0m 105ms/step - accuracy: 0.8394 - auc: 0.6089 - loss: 0.4415 - prc: 0.0916 - precision: 0.1095 - recall: 0.2837\n",
            "Epoch 1: val_prc improved from -inf to 0.07197, saving model to models/T-5_best.h5\n"
          ]
        },
        {
          "output_type": "stream",
          "name": "stderr",
          "text": [
            "WARNING:absl:You are saving your model as an HDF5 file via `model.save()` or `keras.saving.save_model(model)`. This file format is considered legacy. We recommend using instead the native Keras format, e.g. `model.save('my_model.keras')` or `keras.saving.save_model(model, 'my_model.keras')`. \n"
          ]
        },
        {
          "output_type": "stream",
          "name": "stdout",
          "text": [
            "\b\b\b\b\b\b\b\b\b\b\b\b\b\b\b\b\b\b\b\b\b\b\b\b\b\b\b\b\b\b\b\b\b\b\b\b\b\b\b\b\b\b\b\b\b\b\b\b\b\b\b\b\b\b\b\b\b\b\b\b\b\b\b\b\b\b\b\b\b\b\b\b\b\b\b\b\b\b\b\b\b\b\b\b\b\b\b\b\b\b\b\b\b\b\b\b\b\b\b\b\b\b\b\b\b\b\b\b\b\b\b\b\b\b\b\b\b\b\b\b\b\b\b\b\b\b\b\b\b\b\b\b\b\b\b\b\b\b\b\r\u001b[1m48/48\u001b[0m \u001b[32m━━━━━━━━━━━━━━━━━━━━\u001b[0m\u001b[37m\u001b[0m \u001b[1m14s\u001b[0m 150ms/step - accuracy: 0.8394 - auc: 0.6108 - loss: 0.4390 - prc: 0.0927 - precision: 0.1101 - recall: 0.2849 - val_accuracy: 0.0583 - val_auc: 0.5912 - val_loss: 1.7054 - val_prc: 0.0720 - val_precision: 0.0583 - val_recall: 1.0000\n",
            "Epoch 2/50\n",
            "\u001b[1m48/48\u001b[0m \u001b[32m━━━━━━━━━━━━━━━━━━━━\u001b[0m\u001b[37m\u001b[0m \u001b[1m0s\u001b[0m 6ms/step - accuracy: 0.8772 - auc: 0.9178 - loss: 0.0960 - prc: 0.4285 - precision: 0.3020 - recall: 0.8052\n",
            "Epoch 2: val_prc did not improve from 0.07197\n",
            "\u001b[1m48/48\u001b[0m \u001b[32m━━━━━━━━━━━━━━━━━━━━\u001b[0m\u001b[37m\u001b[0m \u001b[1m0s\u001b[0m 8ms/step - accuracy: 0.8781 - auc: 0.9183 - loss: 0.0954 - prc: 0.4316 - precision: 0.3040 - recall: 0.8047 - val_accuracy: 0.0583 - val_auc: 0.5000 - val_loss: 5.2769 - val_prc: 0.0583 - val_precision: 0.0583 - val_recall: 1.0000\n",
            "Epoch 3/50\n",
            "\u001b[1m41/48\u001b[0m \u001b[32m━━━━━━━━━━━━━━━━━\u001b[0m\u001b[37m━━━\u001b[0m \u001b[1m0s\u001b[0m 5ms/step - accuracy: 0.9493 - auc: 0.9798 - loss: 0.0258 - prc: 0.8404 - precision: 0.5061 - recall: 0.8028\n",
            "Epoch 3: val_prc did not improve from 0.07197\n",
            "\u001b[1m48/48\u001b[0m \u001b[32m━━━━━━━━━━━━━━━━━━━━\u001b[0m\u001b[37m\u001b[0m \u001b[1m0s\u001b[0m 8ms/step - accuracy: 0.9522 - auc: 0.9816 - loss: 0.0249 - prc: 0.8495 - precision: 0.5300 - recall: 0.8171 - val_accuracy: 0.0583 - val_auc: 0.5000 - val_loss: 7.9105 - val_prc: 0.0583 - val_precision: 0.0583 - val_recall: 1.0000\n",
            "Epoch 4/50\n",
            "\u001b[1m40/48\u001b[0m \u001b[32m━━━━━━━━━━━━━━━━\u001b[0m\u001b[37m━━━━\u001b[0m \u001b[1m0s\u001b[0m 5ms/step - accuracy: 0.9640 - auc: 0.9933 - loss: 0.0223 - prc: 0.9285 - precision: 0.6151 - recall: 0.9122\n",
            "Epoch 4: val_prc did not improve from 0.07197\n",
            "\u001b[1m48/48\u001b[0m \u001b[32m━━━━━━━━━━━━━━━━━━━━\u001b[0m\u001b[37m\u001b[0m \u001b[1m1s\u001b[0m 8ms/step - accuracy: 0.9650 - auc: 0.9922 - loss: 0.0235 - prc: 0.9242 - precision: 0.6263 - recall: 0.9053 - val_accuracy: 0.0583 - val_auc: 0.5000 - val_loss: 9.2616 - val_prc: 0.0583 - val_precision: 0.0583 - val_recall: 1.0000\n",
            "Epoch 5/50\n",
            "\u001b[1m39/48\u001b[0m \u001b[32m━━━━━━━━━━━━━━━━\u001b[0m\u001b[37m━━━━\u001b[0m \u001b[1m0s\u001b[0m 5ms/step - accuracy: 0.9722 - auc: 0.9972 - loss: 0.0091 - prc: 0.9698 - precision: 0.6581 - recall: 0.9927\n",
            "Epoch 5: val_prc did not improve from 0.07197\n",
            "\u001b[1m48/48\u001b[0m \u001b[32m━━━━━━━━━━━━━━━━━━━━\u001b[0m\u001b[37m\u001b[0m \u001b[1m1s\u001b[0m 10ms/step - accuracy: 0.9740 - auc: 0.9968 - loss: 0.0097 - prc: 0.9688 - precision: 0.6792 - recall: 0.9868 - val_accuracy: 0.0583 - val_auc: 0.5000 - val_loss: 10.2243 - val_prc: 0.0583 - val_precision: 0.0583 - val_recall: 1.0000\n",
            "Epoch 6/50\n",
            "\u001b[1m40/48\u001b[0m \u001b[32m━━━━━━━━━━━━━━━━\u001b[0m\u001b[37m━━━━\u001b[0m \u001b[1m0s\u001b[0m 5ms/step - accuracy: 0.9853 - auc: 0.9978 - loss: 0.0086 - prc: 0.9759 - precision: 0.7906 - recall: 0.9866\n",
            "Epoch 6: val_prc did not improve from 0.07197\n",
            "\u001b[1m48/48\u001b[0m \u001b[32m━━━━━━━━━━━━━━━━━━━━\u001b[0m\u001b[37m\u001b[0m \u001b[1m1s\u001b[0m 10ms/step - accuracy: 0.9858 - auc: 0.9977 - loss: 0.0089 - prc: 0.9755 - precision: 0.7990 - recall: 0.9845 - val_accuracy: 0.0583 - val_auc: 0.5000 - val_loss: 10.1046 - val_prc: 0.0583 - val_precision: 0.0583 - val_recall: 1.0000\n"
          ]
        },
        {
          "output_type": "stream",
          "name": "stderr",
          "text": [
            "WARNING:absl:Compiled the loaded model, but the compiled metrics have yet to be built. `model.compile_metrics` will be empty until you train or evaluate the model.\n"
          ]
        },
        {
          "output_type": "stream",
          "name": "stdout",
          "text": [
            "\u001b[1m11/11\u001b[0m \u001b[32m━━━━━━━━━━━━━━━━━━━━\u001b[0m\u001b[37m\u001b[0m \u001b[1m1s\u001b[0m 41ms/step\n",
            "\n",
            "   • Optimal threshold: 0.9436\n",
            "              precision    recall  f1-score   support\n",
            "\n",
            "           0     0.9675    0.8701    0.9162       308\n",
            "           1     0.1837    0.5000    0.2687        18\n",
            "\n",
            "    accuracy                         0.8497       326\n",
            "   macro avg     0.5756    0.6851    0.5924       326\n",
            "weighted avg     0.9242    0.8497    0.8805       326\n",
            "\n",
            "\n",
            "▶️ Channel F-7: 3 anomaly intervals\n",
            "   • Windows: 2412, Anomalies: 299 (12.40%)\n",
            "   • Class weights: {0: np.float64(0.5706558485463151), 1: np.float64(4.038277511961723)}\n"
          ]
        },
        {
          "output_type": "stream",
          "name": "stderr",
          "text": [
            "/usr/local/lib/python3.11/dist-packages/keras/src/layers/convolutional/base_conv.py:107: UserWarning: Do not pass an `input_shape`/`input_dim` argument to a layer. When using Sequential models, prefer using an `Input(shape)` object as the first layer in the model instead.\n",
            "  super().__init__(activity_regularizer=activity_regularizer, **kwargs)\n"
          ]
        },
        {
          "output_type": "stream",
          "name": "stdout",
          "text": [
            "   • Training model...\n",
            "Epoch 1/50\n",
            "\u001b[1m53/53\u001b[0m \u001b[32m━━━━━━━━━━━━━━━━━━━━\u001b[0m\u001b[37m\u001b[0m \u001b[1m0s\u001b[0m 89ms/step - accuracy: 0.7503 - auc: 0.5914 - loss: 0.5646 - prc: 0.1910 - precision: 0.1960 - recall: 0.3150\n",
            "Epoch 1: val_prc improved from -inf to 0.16779, saving model to models/F-7_best.h5\n"
          ]
        },
        {
          "output_type": "stream",
          "name": "stderr",
          "text": [
            "WARNING:absl:You are saving your model as an HDF5 file via `model.save()` or `keras.saving.save_model(model)`. This file format is considered legacy. We recommend using instead the native Keras format, e.g. `model.save('my_model.keras')` or `keras.saving.save_model(model, 'my_model.keras')`. \n"
          ]
        },
        {
          "output_type": "stream",
          "name": "stdout",
          "text": [
            "\b\b\b\b\b\b\b\b\b\b\b\b\b\b\b\b\b\b\b\b\b\b\b\b\b\b\b\b\b\b\b\b\b\b\b\b\b\b\b\b\b\b\b\b\b\b\b\b\b\b\b\b\b\b\b\b\b\b\b\b\b\b\b\b\b\b\b\b\b\b\b\b\b\b\b\b\b\b\b\b\b\b\b\b\b\b\b\b\b\b\b\b\b\b\b\b\b\b\b\b\b\b\b\b\b\b\b\b\b\b\b\b\b\b\b\b\b\b\b\b\b\b\b\b\b\b\b\b\b\b\b\b\b\b\b\b\b\b\r\u001b[1m53/53\u001b[0m \u001b[32m━━━━━━━━━━━━━━━━━━━━\u001b[0m\u001b[37m\u001b[0m \u001b[1m16s\u001b[0m 156ms/step - accuracy: 0.7503 - auc: 0.5914 - loss: 0.5619 - prc: 0.1911 - precision: 0.1962 - recall: 0.3157 - val_accuracy: 0.1243 - val_auc: 0.5863 - val_loss: 0.9133 - val_prc: 0.1678 - val_precision: 0.1243 - val_recall: 1.0000\n",
            "Epoch 2/50\n",
            "\u001b[1m50/53\u001b[0m \u001b[32m━━━━━━━━━━━━━━━━━━\u001b[0m\u001b[37m━━\u001b[0m \u001b[1m0s\u001b[0m 5ms/step - accuracy: 0.7973 - auc: 0.7059 - loss: 0.1114 - prc: 0.3324 - precision: 0.3047 - recall: 0.4858\n",
            "Epoch 2: val_prc improved from 0.16779 to 0.18556, saving model to models/F-7_best.h5\n"
          ]
        },
        {
          "output_type": "stream",
          "name": "stderr",
          "text": [
            "WARNING:absl:You are saving your model as an HDF5 file via `model.save()` or `keras.saving.save_model(model)`. This file format is considered legacy. We recommend using instead the native Keras format, e.g. `model.save('my_model.keras')` or `keras.saving.save_model(model, 'my_model.keras')`. \n"
          ]
        },
        {
          "output_type": "stream",
          "name": "stdout",
          "text": [
            "\b\b\b\b\b\b\b\b\b\b\b\b\b\b\b\b\b\b\b\b\b\b\b\b\b\b\b\b\b\b\b\b\b\b\b\b\b\b\b\b\b\b\b\b\b\b\b\b\b\b\b\b\b\b\b\b\b\b\b\b\b\b\b\b\b\b\b\b\b\b\b\b\b\b\b\b\b\b\b\b\b\b\b\b\b\b\b\b\b\b\b\b\b\b\b\b\b\b\b\b\b\b\b\b\b\b\b\b\b\b\b\b\b\b\b\b\b\b\b\b\b\b\b\b\b\b\b\b\b\b\b\b\b\b\b\b\b\r\u001b[1m53/53\u001b[0m \u001b[32m━━━━━━━━━━━━━━━━━━━━\u001b[0m\u001b[37m\u001b[0m \u001b[1m9s\u001b[0m 9ms/step - accuracy: 0.7981 - auc: 0.7076 - loss: 0.1099 - prc: 0.3322 - precision: 0.3061 - recall: 0.4879 - val_accuracy: 0.1243 - val_auc: 0.6266 - val_loss: 2.7900 - val_prc: 0.1856 - val_precision: 0.1243 - val_recall: 1.0000\n",
            "Epoch 3/50\n",
            "\u001b[1m49/53\u001b[0m \u001b[32m━━━━━━━━━━━━━━━━━━\u001b[0m\u001b[37m━━\u001b[0m \u001b[1m0s\u001b[0m 5ms/step - accuracy: 0.8499 - auc: 0.7861 - loss: 0.0627 - prc: 0.4399 - precision: 0.4116 - recall: 0.4745\n",
            "Epoch 3: val_prc did not improve from 0.18556\n",
            "\u001b[1m53/53\u001b[0m \u001b[32m━━━━━━━━━━━━━━━━━━━━\u001b[0m\u001b[37m\u001b[0m \u001b[1m1s\u001b[0m 9ms/step - accuracy: 0.8508 - auc: 0.7893 - loss: 0.0623 - prc: 0.4455 - precision: 0.4150 - recall: 0.4833 - val_accuracy: 0.1243 - val_auc: 0.5000 - val_loss: 4.9517 - val_prc: 0.1243 - val_precision: 0.1243 - val_recall: 1.0000\n",
            "Epoch 4/50\n",
            "\u001b[1m49/53\u001b[0m \u001b[32m━━━━━━━━━━━━━━━━━━\u001b[0m\u001b[37m━━\u001b[0m \u001b[1m0s\u001b[0m 5ms/step - accuracy: 0.9064 - auc: 0.8707 - loss: 0.0482 - prc: 0.6641 - precision: 0.6433 - recall: 0.5815\n",
            "Epoch 4: val_prc did not improve from 0.18556\n",
            "\u001b[1m53/53\u001b[0m \u001b[32m━━━━━━━━━━━━━━━━━━━━\u001b[0m\u001b[37m\u001b[0m \u001b[1m1s\u001b[0m 9ms/step - accuracy: 0.9060 - auc: 0.8719 - loss: 0.0479 - prc: 0.6663 - precision: 0.6394 - recall: 0.5853 - val_accuracy: 0.1243 - val_auc: 0.5000 - val_loss: 5.8711 - val_prc: 0.1243 - val_precision: 0.1243 - val_recall: 1.0000\n",
            "Epoch 5/50\n",
            "\u001b[1m53/53\u001b[0m \u001b[32m━━━━━━━━━━━━━━━━━━━━\u001b[0m\u001b[37m\u001b[0m \u001b[1m0s\u001b[0m 6ms/step - accuracy: 0.9169 - auc: 0.9242 - loss: 0.0374 - prc: 0.7754 - precision: 0.6621 - recall: 0.7003\n",
            "Epoch 5: val_prc did not improve from 0.18556\n",
            "\u001b[1m53/53\u001b[0m \u001b[32m━━━━━━━━━━━━━━━━━━━━\u001b[0m\u001b[37m\u001b[0m \u001b[1m1s\u001b[0m 10ms/step - accuracy: 0.9170 - auc: 0.9244 - loss: 0.0373 - prc: 0.7757 - precision: 0.6620 - recall: 0.7010 - val_accuracy: 0.1243 - val_auc: 0.5000 - val_loss: 6.3548 - val_prc: 0.1243 - val_precision: 0.1243 - val_recall: 1.0000\n",
            "Epoch 6/50\n",
            "\u001b[1m51/53\u001b[0m \u001b[32m━━━━━━━━━━━━━━━━━━━\u001b[0m\u001b[37m━\u001b[0m \u001b[1m0s\u001b[0m 7ms/step - accuracy: 0.9429 - auc: 0.9728 - loss: 0.0257 - prc: 0.8563 - precision: 0.7748 - recall: 0.7726\n",
            "Epoch 6: val_prc did not improve from 0.18556\n",
            "\u001b[1m53/53\u001b[0m \u001b[32m━━━━━━━━━━━━━━━━━━━━\u001b[0m\u001b[37m\u001b[0m \u001b[1m1s\u001b[0m 12ms/step - accuracy: 0.9426 - auc: 0.9726 - loss: 0.0258 - prc: 0.8555 - precision: 0.7728 - recall: 0.7732 - val_accuracy: 0.1243 - val_auc: 0.5000 - val_loss: 6.6395 - val_prc: 0.1243 - val_precision: 0.1243 - val_recall: 1.0000\n",
            "Epoch 7/50\n",
            "\u001b[1m49/53\u001b[0m \u001b[32m━━━━━━━━━━━━━━━━━━\u001b[0m\u001b[37m━━\u001b[0m \u001b[1m0s\u001b[0m 8ms/step - accuracy: 0.9467 - auc: 0.9765 - loss: 0.0223 - prc: 0.8959 - precision: 0.7828 - recall: 0.8045\n",
            "Epoch 7: val_prc did not improve from 0.18556\n",
            "\u001b[1m53/53\u001b[0m \u001b[32m━━━━━━━━━━━━━━━━━━━━\u001b[0m\u001b[37m\u001b[0m \u001b[1m1s\u001b[0m 12ms/step - accuracy: 0.9470 - auc: 0.9765 - loss: 0.0223 - prc: 0.8958 - precision: 0.7825 - recall: 0.8071 - val_accuracy: 0.1243 - val_auc: 0.5000 - val_loss: 7.9388 - val_prc: 0.1243 - val_precision: 0.1243 - val_recall: 1.0000\n"
          ]
        },
        {
          "output_type": "stream",
          "name": "stderr",
          "text": [
            "WARNING:absl:Compiled the loaded model, but the compiled metrics have yet to be built. `model.compile_metrics` will be empty until you train or evaluate the model.\n"
          ]
        },
        {
          "output_type": "stream",
          "name": "stdout",
          "text": [
            "\u001b[1m12/12\u001b[0m \u001b[32m━━━━━━━━━━━━━━━━━━━━\u001b[0m\u001b[37m\u001b[0m \u001b[1m1s\u001b[0m 36ms/step\n",
            "\n",
            "   • Optimal threshold: 0.9882\n",
            "              precision    recall  f1-score   support\n",
            "\n",
            "           0     0.9302    0.6309    0.7519       317\n",
            "           1     0.2041    0.6667    0.3125        45\n",
            "\n",
            "    accuracy                         0.6354       362\n",
            "   macro avg     0.5672    0.6488    0.5322       362\n",
            "weighted avg     0.8400    0.6354    0.6973       362\n",
            "\n",
            "\n",
            "▶️ Channel M-3: 1 anomaly intervals\n",
            "   • Windows: 1938, Anomalies: 349 (18.01%)\n",
            "   • Class weights: {0: np.float64(0.6097122302158273), 1: np.float64(2.778688524590164)}\n"
          ]
        },
        {
          "output_type": "stream",
          "name": "stderr",
          "text": [
            "/usr/local/lib/python3.11/dist-packages/keras/src/layers/convolutional/base_conv.py:107: UserWarning: Do not pass an `input_shape`/`input_dim` argument to a layer. When using Sequential models, prefer using an `Input(shape)` object as the first layer in the model instead.\n",
            "  super().__init__(activity_regularizer=activity_regularizer, **kwargs)\n"
          ]
        },
        {
          "output_type": "stream",
          "name": "stdout",
          "text": [
            "   • Training model...\n",
            "Epoch 1/50\n",
            "\u001b[1m43/43\u001b[0m \u001b[32m━━━━━━━━━━━━━━━━━━━━\u001b[0m\u001b[37m\u001b[0m \u001b[1m0s\u001b[0m 90ms/step - accuracy: 0.7376 - auc: 0.6767 - loss: 0.3248 - prc: 0.3807 - precision: 0.3267 - recall: 0.4726\n",
            "Epoch 1: val_prc improved from -inf to 0.81890, saving model to models/M-3_best.h5\n"
          ]
        },
        {
          "output_type": "stream",
          "name": "stderr",
          "text": [
            "WARNING:absl:You are saving your model as an HDF5 file via `model.save()` or `keras.saving.save_model(model)`. This file format is considered legacy. We recommend using instead the native Keras format, e.g. `model.save('my_model.keras')` or `keras.saving.save_model(model, 'my_model.keras')`. \n"
          ]
        },
        {
          "output_type": "stream",
          "name": "stdout",
          "text": [
            "\b\b\b\b\b\b\b\b\b\b\b\b\b\b\b\b\b\b\b\b\b\b\b\b\b\b\b\b\b\b\b\b\b\b\b\b\b\b\b\b\b\b\b\b\b\b\b\b\b\b\b\b\b\b\b\b\b\b\b\b\b\b\b\b\b\b\b\b\b\b\b\b\b\b\b\b\b\b\b\b\b\b\b\b\b\b\b\b\b\b\b\b\b\b\b\b\b\b\b\b\b\b\b\b\b\b\b\b\b\b\b\b\b\b\b\b\b\b\b\b\b\b\b\b\b\b\b\b\b\b\b\b\b\b\b\b\b\b\r\u001b[1m43/43\u001b[0m \u001b[32m━━━━━━━━━━━━━━━━━━━━\u001b[0m\u001b[37m\u001b[0m \u001b[1m15s\u001b[0m 142ms/step - accuracy: 0.7389 - auc: 0.6791 - loss: 0.3224 - prc: 0.3836 - precision: 0.3293 - recall: 0.4748 - val_accuracy: 0.4948 - val_auc: 0.9364 - val_loss: 0.1389 - val_prc: 0.8189 - val_precision: 0.2650 - val_recall: 1.0000\n",
            "Epoch 2/50\n",
            "\u001b[1m38/43\u001b[0m \u001b[32m━━━━━━━━━━━━━━━━━\u001b[0m\u001b[37m━━━\u001b[0m \u001b[1m0s\u001b[0m 6ms/step - accuracy: 0.8819 - auc: 0.9164 - loss: 0.0807 - prc: 0.7597 - precision: 0.6266 - recall: 0.7460\n",
            "Epoch 2: val_prc did not improve from 0.81890\n",
            "\u001b[1m43/43\u001b[0m \u001b[32m━━━━━━━━━━━━━━━━━━━━\u001b[0m\u001b[37m\u001b[0m \u001b[1m0s\u001b[0m 8ms/step - accuracy: 0.8830 - auc: 0.9188 - loss: 0.0781 - prc: 0.7649 - precision: 0.6327 - recall: 0.7472 - val_accuracy: 0.8316 - val_auc: 0.9223 - val_loss: 0.0952 - val_prc: 0.7879 - val_precision: 1.0000 - val_recall: 0.0755\n",
            "Epoch 3/50\n",
            "\u001b[1m40/43\u001b[0m \u001b[32m━━━━━━━━━━━━━━━━━━\u001b[0m\u001b[37m━━\u001b[0m \u001b[1m0s\u001b[0m 5ms/step - accuracy: 0.9444 - auc: 0.9668 - loss: 0.0310 - prc: 0.9060 - precision: 0.8121 - recall: 0.8719\n",
            "Epoch 3: val_prc did not improve from 0.81890\n",
            "\u001b[1m43/43\u001b[0m \u001b[32m━━━━━━━━━━━━━━━━━━━━\u001b[0m\u001b[37m\u001b[0m \u001b[1m1s\u001b[0m 8ms/step - accuracy: 0.9442 - auc: 0.9676 - loss: 0.0306 - prc: 0.9074 - precision: 0.8126 - recall: 0.8723 - val_accuracy: 0.8179 - val_auc: 0.7664 - val_loss: 0.1980 - val_prc: 0.6818 - val_precision: 0.0000e+00 - val_recall: 0.0000e+00\n",
            "Epoch 4/50\n",
            "\u001b[1m39/43\u001b[0m \u001b[32m━━━━━━━━━━━━━━━━━━\u001b[0m\u001b[37m━━\u001b[0m \u001b[1m0s\u001b[0m 6ms/step - accuracy: 0.9613 - auc: 0.9708 - loss: 0.0297 - prc: 0.9384 - precision: 0.8853 - recall: 0.8873\n",
            "Epoch 4: val_prc did not improve from 0.81890\n",
            "\u001b[1m43/43\u001b[0m \u001b[32m━━━━━━━━━━━━━━━━━━━━\u001b[0m\u001b[37m\u001b[0m \u001b[1m0s\u001b[0m 8ms/step - accuracy: 0.9626 - auc: 0.9730 - loss: 0.0280 - prc: 0.9422 - precision: 0.8891 - recall: 0.8925 - val_accuracy: 0.8419 - val_auc: 0.7679 - val_loss: 0.2639 - val_prc: 0.6860 - val_precision: 1.0000 - val_recall: 0.1321\n",
            "Epoch 5/50\n",
            "\u001b[1m36/43\u001b[0m \u001b[32m━━━━━━━━━━━━━━━━\u001b[0m\u001b[37m━━━━\u001b[0m \u001b[1m0s\u001b[0m 6ms/step - accuracy: 0.9824 - auc: 0.9972 - loss: 0.0082 - prc: 0.9874 - precision: 0.9293 - recall: 0.9683\n",
            "Epoch 5: val_prc did not improve from 0.81890\n",
            "\u001b[1m43/43\u001b[0m \u001b[32m━━━━━━━━━━━━━━━━━━━━\u001b[0m\u001b[37m\u001b[0m \u001b[1m1s\u001b[0m 9ms/step - accuracy: 0.9823 - auc: 0.9970 - loss: 0.0084 - prc: 0.9871 - precision: 0.9320 - recall: 0.9659 - val_accuracy: 0.8797 - val_auc: 0.7762 - val_loss: 0.1988 - val_prc: 0.6965 - val_precision: 1.0000 - val_recall: 0.3396\n",
            "Epoch 6/50\n",
            "\u001b[1m36/43\u001b[0m \u001b[32m━━━━━━━━━━━━━━━━\u001b[0m\u001b[37m━━━━\u001b[0m \u001b[1m0s\u001b[0m 6ms/step - accuracy: 0.9831 - auc: 0.9964 - loss: 0.0084 - prc: 0.9868 - precision: 0.9445 - recall: 0.9554\n",
            "Epoch 6: val_prc did not improve from 0.81890\n",
            "\u001b[1m43/43\u001b[0m \u001b[32m━━━━━━━━━━━━━━━━━━━━\u001b[0m\u001b[37m\u001b[0m \u001b[1m0s\u001b[0m 9ms/step - accuracy: 0.9826 - auc: 0.9963 - loss: 0.0085 - prc: 0.9870 - precision: 0.9434 - recall: 0.9548 - val_accuracy: 0.9107 - val_auc: 0.7762 - val_loss: 0.2330 - val_prc: 0.6963 - val_precision: 1.0000 - val_recall: 0.5094\n"
          ]
        },
        {
          "output_type": "stream",
          "name": "stderr",
          "text": [
            "WARNING:absl:Compiled the loaded model, but the compiled metrics have yet to be built. `model.compile_metrics` will be empty until you train or evaluate the model.\n"
          ]
        },
        {
          "output_type": "stream",
          "name": "stdout",
          "text": [
            "\u001b[1m10/10\u001b[0m \u001b[32m━━━━━━━━━━━━━━━━━━━━\u001b[0m\u001b[37m\u001b[0m \u001b[1m1s\u001b[0m 44ms/step\n",
            "\n",
            "   • Optimal threshold: 0.6652\n",
            "              precision    recall  f1-score   support\n",
            "\n",
            "           0     0.9578    0.9498    0.9538       239\n",
            "           1     0.7778    0.8077    0.7925        52\n",
            "\n",
            "    accuracy                         0.9244       291\n",
            "   macro avg     0.8678    0.8787    0.8731       291\n",
            "weighted avg     0.9256    0.9244    0.9250       291\n",
            "\n",
            "\n",
            "▶️ Channel M-4: 1 anomaly intervals\n",
            "   • Windows: 1977, Anomalies: 349 (17.65%)\n",
            "   • Class weights: {0: np.float64(0.6071115013169447), 1: np.float64(2.834016393442623)}\n"
          ]
        },
        {
          "output_type": "stream",
          "name": "stderr",
          "text": [
            "/usr/local/lib/python3.11/dist-packages/keras/src/layers/convolutional/base_conv.py:107: UserWarning: Do not pass an `input_shape`/`input_dim` argument to a layer. When using Sequential models, prefer using an `Input(shape)` object as the first layer in the model instead.\n",
            "  super().__init__(activity_regularizer=activity_regularizer, **kwargs)\n"
          ]
        },
        {
          "output_type": "stream",
          "name": "stdout",
          "text": [
            "   • Training model...\n",
            "Epoch 1/50\n",
            "\u001b[1m44/44\u001b[0m \u001b[32m━━━━━━━━━━━━━━━━━━━━\u001b[0m\u001b[37m\u001b[0m \u001b[1m0s\u001b[0m 116ms/step - accuracy: 0.7477 - auc: 0.6617 - loss: 0.2841 - prc: 0.2925 - precision: 0.3281 - recall: 0.4264\n",
            "Epoch 1: val_prc improved from -inf to 0.49736, saving model to models/M-4_best.h5\n"
          ]
        },
        {
          "output_type": "stream",
          "name": "stderr",
          "text": [
            "WARNING:absl:You are saving your model as an HDF5 file via `model.save()` or `keras.saving.save_model(model)`. This file format is considered legacy. We recommend using instead the native Keras format, e.g. `model.save('my_model.keras')` or `keras.saving.save_model(model, 'my_model.keras')`. \n"
          ]
        },
        {
          "output_type": "stream",
          "name": "stdout",
          "text": [
            "\b\b\b\b\b\b\b\b\b\b\b\b\b\b\b\b\b\b\b\b\b\b\b\b\b\b\b\b\b\b\b\b\b\b\b\b\b\b\b\b\b\b\b\b\b\b\b\b\b\b\b\b\b\b\b\b\b\b\b\b\b\b\b\b\b\b\b\b\b\b\b\b\b\b\b\b\b\b\b\b\b\b\b\b\b\b\b\b\b\b\b\b\b\b\b\b\b\b\b\b\b\b\b\b\b\b\b\b\b\b\b\b\b\b\b\b\b\b\b\b\b\b\b\b\b\b\b\b\b\b\b\b\b\b\b\b\b\b\b\r\u001b[1m44/44\u001b[0m \u001b[32m━━━━━━━━━━━━━━━━━━━━\u001b[0m\u001b[37m\u001b[0m \u001b[1m16s\u001b[0m 202ms/step - accuracy: 0.7484 - auc: 0.6637 - loss: 0.2825 - prc: 0.2942 - precision: 0.3298 - recall: 0.4279 - val_accuracy: 0.8215 - val_auc: 0.8714 - val_loss: 0.0705 - val_prc: 0.4974 - val_precision: 0.0000e+00 - val_recall: 0.0000e+00\n",
            "Epoch 2/50\n",
            "\u001b[1m37/44\u001b[0m \u001b[32m━━━━━━━━━━━━━━━━\u001b[0m\u001b[37m━━━━\u001b[0m \u001b[1m0s\u001b[0m 6ms/step - accuracy: 0.8680 - auc: 0.9145 - loss: 0.0744 - prc: 0.6940 - precision: 0.5952 - recall: 0.7493\n",
            "Epoch 2: val_prc did not improve from 0.49736\n",
            "\u001b[1m44/44\u001b[0m \u001b[32m━━━━━━━━━━━━━━━━━━━━\u001b[0m\u001b[37m\u001b[0m \u001b[1m0s\u001b[0m 8ms/step - accuracy: 0.8713 - auc: 0.9167 - loss: 0.0717 - prc: 0.7007 - precision: 0.6043 - recall: 0.7518 - val_accuracy: 0.8215 - val_auc: 0.5850 - val_loss: 0.2694 - val_prc: 0.2800 - val_precision: 0.0000e+00 - val_recall: 0.0000e+00\n",
            "Epoch 3/50\n",
            "\u001b[1m39/44\u001b[0m \u001b[32m━━━━━━━━━━━━━━━━━\u001b[0m\u001b[37m━━━\u001b[0m \u001b[1m0s\u001b[0m 6ms/step - accuracy: 0.9535 - auc: 0.9842 - loss: 0.0195 - prc: 0.9353 - precision: 0.8293 - recall: 0.9232\n",
            "Epoch 3: val_prc did not improve from 0.49736\n",
            "\u001b[1m44/44\u001b[0m \u001b[32m━━━━━━━━━━━━━━━━━━━━\u001b[0m\u001b[37m\u001b[0m \u001b[1m0s\u001b[0m 8ms/step - accuracy: 0.9541 - auc: 0.9841 - loss: 0.0196 - prc: 0.9350 - precision: 0.8334 - recall: 0.9210 - val_accuracy: 0.8215 - val_auc: 0.5240 - val_loss: 0.4094 - val_prc: 0.2125 - val_precision: 0.0000e+00 - val_recall: 0.0000e+00\n",
            "Epoch 4/50\n",
            "\u001b[1m36/44\u001b[0m \u001b[32m━━━━━━━━━━━━━━━━\u001b[0m\u001b[37m━━━━\u001b[0m \u001b[1m0s\u001b[0m 6ms/step - accuracy: 0.9634 - auc: 0.9944 - loss: 0.0110 - prc: 0.9792 - precision: 0.8640 - recall: 0.9345\n",
            "Epoch 4: val_prc did not improve from 0.49736\n",
            "\u001b[1m44/44\u001b[0m \u001b[32m━━━━━━━━━━━━━━━━━━━━\u001b[0m\u001b[37m\u001b[0m \u001b[1m0s\u001b[0m 8ms/step - accuracy: 0.9647 - auc: 0.9944 - loss: 0.0110 - prc: 0.9785 - precision: 0.8698 - recall: 0.9352 - val_accuracy: 0.8249 - val_auc: 0.5996 - val_loss: 0.3860 - val_prc: 0.3426 - val_precision: 1.0000 - val_recall: 0.0189\n",
            "Epoch 5/50\n",
            "\u001b[1m39/44\u001b[0m \u001b[32m━━━━━━━━━━━━━━━━━\u001b[0m\u001b[37m━━━\u001b[0m \u001b[1m0s\u001b[0m 6ms/step - accuracy: 0.9869 - auc: 0.9980 - loss: 0.0064 - prc: 0.9917 - precision: 0.9581 - recall: 0.9657\n",
            "Epoch 5: val_prc did not improve from 0.49736\n",
            "\u001b[1m44/44\u001b[0m \u001b[32m━━━━━━━━━━━━━━━━━━━━\u001b[0m\u001b[37m\u001b[0m \u001b[1m0s\u001b[0m 8ms/step - accuracy: 0.9870 - auc: 0.9981 - loss: 0.0063 - prc: 0.9919 - precision: 0.9586 - recall: 0.9664 - val_accuracy: 0.8182 - val_auc: 0.6488 - val_loss: 0.4339 - val_prc: 0.4206 - val_precision: 0.3333 - val_recall: 0.0189\n",
            "Epoch 6/50\n",
            "\u001b[1m38/44\u001b[0m \u001b[32m━━━━━━━━━━━━━━━━━\u001b[0m\u001b[37m━━━\u001b[0m \u001b[1m0s\u001b[0m 6ms/step - accuracy: 0.9734 - auc: 0.9957 - loss: 0.0133 - prc: 0.9837 - precision: 0.8948 - recall: 0.9609\n",
            "Epoch 6: val_prc improved from 0.49736 to 0.50882, saving model to models/M-4_best.h5\n"
          ]
        },
        {
          "output_type": "stream",
          "name": "stderr",
          "text": [
            "WARNING:absl:You are saving your model as an HDF5 file via `model.save()` or `keras.saving.save_model(model)`. This file format is considered legacy. We recommend using instead the native Keras format, e.g. `model.save('my_model.keras')` or `keras.saving.save_model(model, 'my_model.keras')`. \n"
          ]
        },
        {
          "output_type": "stream",
          "name": "stdout",
          "text": [
            "\b\b\b\b\b\b\b\b\b\b\b\b\b\b\b\b\b\b\b\b\b\b\b\b\b\b\b\b\b\b\b\b\b\b\b\b\b\b\b\b\b\b\b\b\b\b\b\b\b\b\b\b\b\b\b\b\b\b\b\b\b\b\b\b\b\b\b\b\b\b\b\b\b\b\b\b\b\b\b\b\b\b\b\b\b\b\b\b\b\b\b\b\b\b\b\b\b\b\b\b\b\b\b\b\b\b\b\b\b\b\b\b\b\b\b\b\b\b\b\b\b\b\b\b\b\b\b\b\b\b\b\b\b\b\b\b\b\r\u001b[1m44/44\u001b[0m \u001b[32m━━━━━━━━━━━━━━━━━━━━\u001b[0m\u001b[37m\u001b[0m \u001b[1m1s\u001b[0m 10ms/step - accuracy: 0.9739 - auc: 0.9958 - loss: 0.0129 - prc: 0.9834 - precision: 0.8981 - recall: 0.9594 - val_accuracy: 0.8215 - val_auc: 0.7040 - val_loss: 0.3343 - val_prc: 0.5088 - val_precision: 0.5000 - val_recall: 0.0377\n",
            "Epoch 7/50\n",
            "\u001b[1m37/44\u001b[0m \u001b[32m━━━━━━━━━━━━━━━━\u001b[0m\u001b[37m━━━━\u001b[0m \u001b[1m0s\u001b[0m 6ms/step - accuracy: 0.9860 - auc: 0.9991 - loss: 0.0041 - prc: 0.9962 - precision: 0.9491 - recall: 0.9707\n",
            "Epoch 7: val_prc improved from 0.50882 to 0.52870, saving model to models/M-4_best.h5\n"
          ]
        },
        {
          "output_type": "stream",
          "name": "stderr",
          "text": [
            "WARNING:absl:You are saving your model as an HDF5 file via `model.save()` or `keras.saving.save_model(model)`. This file format is considered legacy. We recommend using instead the native Keras format, e.g. `model.save('my_model.keras')` or `keras.saving.save_model(model, 'my_model.keras')`. \n"
          ]
        },
        {
          "output_type": "stream",
          "name": "stdout",
          "text": [
            "\b\b\b\b\b\b\b\b\b\b\b\b\b\b\b\b\b\b\b\b\b\b\b\b\b\b\b\b\b\b\b\b\b\b\b\b\b\b\b\b\b\b\b\b\b\b\b\b\b\b\b\b\b\b\b\b\b\b\b\b\b\b\b\b\b\b\b\b\b\b\b\b\b\b\b\b\b\b\b\b\b\b\b\b\b\b\b\b\b\b\b\b\b\b\b\b\b\b\b\b\b\b\b\b\b\b\b\b\b\b\b\b\b\b\b\b\b\b\b\b\b\b\b\b\b\b\b\b\b\b\b\b\b\b\b\b\b\r\u001b[1m44/44\u001b[0m \u001b[32m━━━━━━━━━━━━━━━━━━━━\u001b[0m\u001b[37m\u001b[0m \u001b[1m1s\u001b[0m 10ms/step - accuracy: 0.9860 - auc: 0.9992 - loss: 0.0041 - prc: 0.9963 - precision: 0.9491 - recall: 0.9709 - val_accuracy: 0.8754 - val_auc: 0.7101 - val_loss: 0.2852 - val_prc: 0.5287 - val_precision: 0.9000 - val_recall: 0.3396\n",
            "Epoch 8/50\n",
            "\u001b[1m40/44\u001b[0m \u001b[32m━━━━━━━━━━━━━━━━━━\u001b[0m\u001b[37m━━\u001b[0m \u001b[1m0s\u001b[0m 5ms/step - accuracy: 0.9972 - auc: 0.9999 - loss: 0.0011 - prc: 0.9996 - precision: 0.9853 - recall: 0.9985    \n",
            "Epoch 8: val_prc improved from 0.52870 to 0.79680, saving model to models/M-4_best.h5\n"
          ]
        },
        {
          "output_type": "stream",
          "name": "stderr",
          "text": [
            "WARNING:absl:You are saving your model as an HDF5 file via `model.save()` or `keras.saving.save_model(model)`. This file format is considered legacy. We recommend using instead the native Keras format, e.g. `model.save('my_model.keras')` or `keras.saving.save_model(model, 'my_model.keras')`. \n"
          ]
        },
        {
          "output_type": "stream",
          "name": "stdout",
          "text": [
            "\b\b\b\b\b\b\b\b\b\b\b\b\b\b\b\b\b\b\b\b\b\b\b\b\b\b\b\b\b\b\b\b\b\b\b\b\b\b\b\b\b\b\b\b\b\b\b\b\b\b\b\b\b\b\b\b\b\b\b\b\b\b\b\b\b\b\b\b\b\b\b\b\b\b\b\b\b\b\b\b\b\b\b\b\b\b\b\b\b\b\b\b\b\b\b\b\b\b\b\b\b\b\b\b\b\b\b\b\b\b\b\b\b\b\b\b\b\b\b\b\b\b\b\b\b\b\b\b\b\b\b\b\b\b\b\b\b\r\u001b[1m44/44\u001b[0m \u001b[32m━━━━━━━━━━━━━━━━━━━━\u001b[0m\u001b[37m\u001b[0m \u001b[1m1s\u001b[0m 10ms/step - accuracy: 0.9970 - auc: 0.9999 - loss: 0.0012 - prc: 0.9996 - precision: 0.9846 - recall: 0.9979 - val_accuracy: 0.8923 - val_auc: 0.9037 - val_loss: 0.1203 - val_prc: 0.7968 - val_precision: 0.9200 - val_recall: 0.4340\n",
            "Epoch 9/50\n",
            "\u001b[1m39/44\u001b[0m \u001b[32m━━━━━━━━━━━━━━━━━\u001b[0m\u001b[37m━━━\u001b[0m \u001b[1m0s\u001b[0m 6ms/step - accuracy: 0.9981 - auc: 1.0000 - loss: 9.1275e-04 - prc: 0.9998 - precision: 0.9890 - recall: 1.0000\n",
            "Epoch 9: val_prc improved from 0.79680 to 0.84106, saving model to models/M-4_best.h5\n"
          ]
        },
        {
          "output_type": "stream",
          "name": "stderr",
          "text": [
            "WARNING:absl:You are saving your model as an HDF5 file via `model.save()` or `keras.saving.save_model(model)`. This file format is considered legacy. We recommend using instead the native Keras format, e.g. `model.save('my_model.keras')` or `keras.saving.save_model(model, 'my_model.keras')`. \n"
          ]
        },
        {
          "output_type": "stream",
          "name": "stdout",
          "text": [
            "\b\b\b\b\b\b\b\b\b\b\b\b\b\b\b\b\b\b\b\b\b\b\b\b\b\b\b\b\b\b\b\b\b\b\b\b\b\b\b\b\b\b\b\b\b\b\b\b\b\b\b\b\b\b\b\b\b\b\b\b\b\b\b\b\b\b\b\b\b\b\b\b\b\b\b\b\b\b\b\b\b\b\b\b\b\b\b\b\b\b\b\b\b\b\b\b\b\b\b\b\b\b\b\b\b\b\b\b\b\b\b\b\b\b\b\b\b\b\b\b\b\b\b\b\b\b\b\b\b\b\b\b\b\b\b\b\b\b\b\b\b\r\u001b[1m44/44\u001b[0m \u001b[32m━━━━━━━━━━━━━━━━━━━━\u001b[0m\u001b[37m\u001b[0m \u001b[1m0s\u001b[0m 10ms/step - accuracy: 0.9978 - auc: 1.0000 - loss: 0.0010 - prc: 0.9998 - precision: 0.9877 - recall: 0.9994 - val_accuracy: 0.9024 - val_auc: 0.9141 - val_loss: 0.1282 - val_prc: 0.8411 - val_precision: 0.9286 - val_recall: 0.4906\n",
            "Epoch 10/50\n",
            "\u001b[1m39/44\u001b[0m \u001b[32m━━━━━━━━━━━━━━━━━\u001b[0m\u001b[37m━━━\u001b[0m \u001b[1m0s\u001b[0m 6ms/step - accuracy: 0.9956 - auc: 0.9997 - loss: 0.0025 - prc: 0.9984 - precision: 0.9843 - recall: 0.9903\n",
            "Epoch 10: val_prc improved from 0.84106 to 0.99598, saving model to models/M-4_best.h5\n"
          ]
        },
        {
          "output_type": "stream",
          "name": "stderr",
          "text": [
            "WARNING:absl:You are saving your model as an HDF5 file via `model.save()` or `keras.saving.save_model(model)`. This file format is considered legacy. We recommend using instead the native Keras format, e.g. `model.save('my_model.keras')` or `keras.saving.save_model(model, 'my_model.keras')`. \n"
          ]
        },
        {
          "output_type": "stream",
          "name": "stdout",
          "text": [
            "\b\b\b\b\b\b\b\b\b\b\b\b\b\b\b\b\b\b\b\b\b\b\b\b\b\b\b\b\b\b\b\b\b\b\b\b\b\b\b\b\b\b\b\b\b\b\b\b\b\b\b\b\b\b\b\b\b\b\b\b\b\b\b\b\b\b\b\b\b\b\b\b\b\b\b\b\b\b\b\b\b\b\b\b\b\b\b\b\b\b\b\b\b\b\b\b\b\b\b\b\b\b\b\b\b\b\b\b\b\b\b\b\b\b\b\b\b\b\b\b\b\b\b\b\b\b\b\b\b\b\b\b\b\b\b\b\b\r\u001b[1m44/44\u001b[0m \u001b[32m━━━━━━━━━━━━━━━━━━━━\u001b[0m\u001b[37m\u001b[0m \u001b[1m0s\u001b[0m 10ms/step - accuracy: 0.9954 - auc: 0.9995 - loss: 0.0030 - prc: 0.9979 - precision: 0.9836 - recall: 0.9897 - val_accuracy: 0.9798 - val_auc: 0.9991 - val_loss: 0.0088 - val_prc: 0.9960 - val_precision: 0.9796 - val_recall: 0.9057\n",
            "Epoch 11/50\n",
            "\u001b[1m41/44\u001b[0m \u001b[32m━━━━━━━━━━━━━━━━━━\u001b[0m\u001b[37m━━\u001b[0m \u001b[1m0s\u001b[0m 5ms/step - accuracy: 0.9974 - auc: 0.9999 - loss: 0.0012 - prc: 0.9996 - precision: 0.9908 - recall: 0.9940    \n",
            "Epoch 11: val_prc improved from 0.99598 to 1.00000, saving model to models/M-4_best.h5\n"
          ]
        },
        {
          "output_type": "stream",
          "name": "stderr",
          "text": [
            "WARNING:absl:You are saving your model as an HDF5 file via `model.save()` or `keras.saving.save_model(model)`. This file format is considered legacy. We recommend using instead the native Keras format, e.g. `model.save('my_model.keras')` or `keras.saving.save_model(model, 'my_model.keras')`. \n"
          ]
        },
        {
          "output_type": "stream",
          "name": "stdout",
          "text": [
            "\b\b\b\b\b\b\b\b\b\b\b\b\b\b\b\b\b\b\b\b\b\b\b\b\b\b\b\b\b\b\b\b\b\b\b\b\b\b\b\b\b\b\b\b\b\b\b\b\b\b\b\b\b\b\b\b\b\b\b\b\b\b\b\b\b\b\b\b\b\b\b\b\b\b\b\b\b\b\b\b\b\b\b\b\b\b\b\b\b\b\b\b\b\b\b\b\b\b\b\b\b\b\b\b\b\b\b\b\b\b\b\b\b\b\b\b\b\b\b\b\b\b\b\b\b\b\b\b\b\b\b\b\b\b\b\b\b\r\u001b[1m44/44\u001b[0m \u001b[32m━━━━━━━━━━━━━━━━━━━━\u001b[0m\u001b[37m\u001b[0m \u001b[1m1s\u001b[0m 10ms/step - accuracy: 0.9971 - auc: 0.9999 - loss: 0.0013 - prc: 0.9994 - precision: 0.9898 - recall: 0.9934 - val_accuracy: 0.9933 - val_auc: 1.0000 - val_loss: 0.0058 - val_prc: 1.0000 - val_precision: 0.9636 - val_recall: 1.0000\n",
            "Epoch 12/50\n",
            "\u001b[1m40/44\u001b[0m \u001b[32m━━━━━━━━━━━━━━━━━━\u001b[0m\u001b[37m━━\u001b[0m \u001b[1m0s\u001b[0m 5ms/step - accuracy: 0.9890 - auc: 0.9995 - loss: 0.0033 - prc: 0.9979 - precision: 0.9547 - recall: 0.9838\n",
            "Epoch 12: val_prc improved from 1.00000 to 1.00000, saving model to models/M-4_best.h5\n"
          ]
        },
        {
          "output_type": "stream",
          "name": "stderr",
          "text": [
            "WARNING:absl:You are saving your model as an HDF5 file via `model.save()` or `keras.saving.save_model(model)`. This file format is considered legacy. We recommend using instead the native Keras format, e.g. `model.save('my_model.keras')` or `keras.saving.save_model(model, 'my_model.keras')`. \n"
          ]
        },
        {
          "output_type": "stream",
          "name": "stdout",
          "text": [
            "\b\b\b\b\b\b\b\b\b\b\b\b\b\b\b\b\b\b\b\b\b\b\b\b\b\b\b\b\b\b\b\b\b\b\b\b\b\b\b\b\b\b\b\b\b\b\b\b\b\b\b\b\b\b\b\b\b\b\b\b\b\b\b\b\b\b\b\b\b\b\b\b\b\b\b\b\b\b\b\b\b\b\b\b\b\b\b\b\b\b\b\b\b\b\b\b\b\b\b\b\b\b\b\b\b\b\b\b\b\b\b\b\b\b\b\b\b\b\b\b\b\b\b\b\b\b\b\b\b\b\b\b\b\b\b\b\b\r\u001b[1m44/44\u001b[0m \u001b[32m━━━━━━━━━━━━━━━━━━━━\u001b[0m\u001b[37m\u001b[0m \u001b[1m0s\u001b[0m 10ms/step - accuracy: 0.9892 - auc: 0.9996 - loss: 0.0032 - prc: 0.9980 - precision: 0.9561 - recall: 0.9837 - val_accuracy: 0.9933 - val_auc: 1.0000 - val_loss: 0.0088 - val_prc: 1.0000 - val_precision: 0.9636 - val_recall: 1.0000\n",
            "Epoch 13/50\n",
            "\u001b[1m40/44\u001b[0m \u001b[32m━━━━━━━━━━━━━━━━━━\u001b[0m\u001b[37m━━\u001b[0m \u001b[1m0s\u001b[0m 5ms/step - accuracy: 0.9917 - auc: 0.9997 - loss: 0.0034 - prc: 0.9988 - precision: 0.9638 - recall: 0.9890\n",
            "Epoch 13: val_prc did not improve from 1.00000\n",
            "\u001b[1m44/44\u001b[0m \u001b[32m━━━━━━━━━━━━━━━━━━━━\u001b[0m\u001b[37m\u001b[0m \u001b[1m0s\u001b[0m 8ms/step - accuracy: 0.9919 - auc: 0.9997 - loss: 0.0033 - prc: 0.9988 - precision: 0.9647 - recall: 0.9890 - val_accuracy: 0.9933 - val_auc: 0.9999 - val_loss: 0.0119 - val_prc: 0.9995 - val_precision: 0.9636 - val_recall: 1.0000\n",
            "Epoch 14/50\n",
            "\u001b[1m38/44\u001b[0m \u001b[32m━━━━━━━━━━━━━━━━━\u001b[0m\u001b[37m━━━\u001b[0m \u001b[1m0s\u001b[0m 6ms/step - accuracy: 0.9931 - auc: 0.9999 - loss: 0.0020 - prc: 0.9996 - precision: 0.9798 - recall: 0.9810\n",
            "Epoch 14: val_prc improved from 1.00000 to 1.00000, saving model to models/M-4_best.h5\n"
          ]
        },
        {
          "output_type": "stream",
          "name": "stderr",
          "text": [
            "WARNING:absl:You are saving your model as an HDF5 file via `model.save()` or `keras.saving.save_model(model)`. This file format is considered legacy. We recommend using instead the native Keras format, e.g. `model.save('my_model.keras')` or `keras.saving.save_model(model, 'my_model.keras')`. \n"
          ]
        },
        {
          "output_type": "stream",
          "name": "stdout",
          "text": [
            "\b\b\b\b\b\b\b\b\b\b\b\b\b\b\b\b\b\b\b\b\b\b\b\b\b\b\b\b\b\b\b\b\b\b\b\b\b\b\b\b\b\b\b\b\b\b\b\b\b\b\b\b\b\b\b\b\b\b\b\b\b\b\b\b\b\b\b\b\b\b\b\b\b\b\b\b\b\b\b\b\b\b\b\b\b\b\b\b\b\b\b\b\b\b\b\b\b\b\b\b\b\b\b\b\b\b\b\b\b\b\b\b\b\b\b\b\b\b\b\b\b\b\b\b\b\b\b\b\b\b\b\b\b\b\b\b\b\r\u001b[1m44/44\u001b[0m \u001b[32m━━━━━━━━━━━━━━━━━━━━\u001b[0m\u001b[37m\u001b[0m \u001b[1m0s\u001b[0m 10ms/step - accuracy: 0.9934 - auc: 0.9999 - loss: 0.0019 - prc: 0.9996 - precision: 0.9797 - recall: 0.9833 - val_accuracy: 1.0000 - val_auc: 1.0000 - val_loss: 2.5217e-04 - val_prc: 1.0000 - val_precision: 1.0000 - val_recall: 1.0000\n",
            "Epoch 15/50\n",
            "\u001b[1m39/44\u001b[0m \u001b[32m━━━━━━━━━━━━━━━━━\u001b[0m\u001b[37m━━━\u001b[0m \u001b[1m0s\u001b[0m 6ms/step - accuracy: 0.9996 - auc: 1.0000 - loss: 4.7230e-04 - prc: 1.0000 - precision: 0.9979 - recall: 1.0000\n",
            "Epoch 15: val_prc did not improve from 1.00000\n",
            "\u001b[1m44/44\u001b[0m \u001b[32m━━━━━━━━━━━━━━━━━━━━\u001b[0m\u001b[37m\u001b[0m \u001b[1m0s\u001b[0m 8ms/step - accuracy: 0.9996 - auc: 1.0000 - loss: 4.6955e-04 - prc: 1.0000 - precision: 0.9976 - recall: 1.0000 - val_accuracy: 1.0000 - val_auc: 1.0000 - val_loss: 1.6765e-04 - val_prc: 1.0000 - val_precision: 1.0000 - val_recall: 1.0000\n",
            "Epoch 16/50\n",
            "\u001b[1m40/44\u001b[0m \u001b[32m━━━━━━━━━━━━━━━━━━\u001b[0m\u001b[37m━━\u001b[0m \u001b[1m0s\u001b[0m 5ms/step - accuracy: 0.9989 - auc: 1.0000 - loss: 5.6642e-04 - prc: 0.9999 - precision: 0.9936 - recall: 0.9998\n",
            "Epoch 16: val_prc did not improve from 1.00000\n",
            "\u001b[1m44/44\u001b[0m \u001b[32m━━━━━━━━━━━━━━━━━━━━\u001b[0m\u001b[37m\u001b[0m \u001b[1m1s\u001b[0m 8ms/step - accuracy: 0.9988 - auc: 1.0000 - loss: 6.4020e-04 - prc: 0.9998 - precision: 0.9934 - recall: 0.9993 - val_accuracy: 0.9966 - val_auc: 0.9999 - val_loss: 0.0050 - val_prc: 0.9996 - val_precision: 0.9815 - val_recall: 1.0000\n",
            "Epoch 17/50\n",
            "\u001b[1m40/44\u001b[0m \u001b[32m━━━━━━━━━━━━━━━━━━\u001b[0m\u001b[37m━━\u001b[0m \u001b[1m0s\u001b[0m 7ms/step - accuracy: 0.9998 - auc: 1.0000 - loss: 2.5972e-04 - prc: 1.0000 - precision: 0.9990 - recall: 0.9999\n",
            "Epoch 17: val_prc did not improve from 1.00000\n",
            "\u001b[1m44/44\u001b[0m \u001b[32m━━━━━━━━━━━━━━━━━━━━\u001b[0m\u001b[37m\u001b[0m \u001b[1m1s\u001b[0m 12ms/step - accuracy: 0.9996 - auc: 1.0000 - loss: 3.0059e-04 - prc: 1.0000 - precision: 0.9986 - recall: 0.9992 - val_accuracy: 0.9966 - val_auc: 1.0000 - val_loss: 0.0012 - val_prc: 1.0000 - val_precision: 0.9815 - val_recall: 1.0000\n",
            "Epoch 18/50\n",
            "\u001b[1m37/44\u001b[0m \u001b[32m━━━━━━━━━━━━━━━━\u001b[0m\u001b[37m━━━━\u001b[0m \u001b[1m0s\u001b[0m 8ms/step - accuracy: 1.0000 - auc: 1.0000 - loss: 1.9969e-04 - prc: 1.0000 - precision: 1.0000 - recall: 1.0000\n",
            "Epoch 18: val_prc did not improve from 1.00000\n",
            "\u001b[1m44/44\u001b[0m \u001b[32m━━━━━━━━━━━━━━━━━━━━\u001b[0m\u001b[37m\u001b[0m \u001b[1m1s\u001b[0m 11ms/step - accuracy: 1.0000 - auc: 1.0000 - loss: 1.9970e-04 - prc: 1.0000 - precision: 1.0000 - recall: 1.0000 - val_accuracy: 0.9966 - val_auc: 0.9999 - val_loss: 0.0057 - val_prc: 0.9996 - val_precision: 0.9815 - val_recall: 1.0000\n",
            "Epoch 19/50\n",
            "\u001b[1m41/44\u001b[0m \u001b[32m━━━━━━━━━━━━━━━━━━\u001b[0m\u001b[37m━━\u001b[0m \u001b[1m0s\u001b[0m 7ms/step - accuracy: 0.9989 - auc: 1.0000 - loss: 6.4210e-04 - prc: 0.9998 - precision: 0.9967 - recall: 0.9968\n",
            "Epoch 19: val_prc did not improve from 1.00000\n",
            "\u001b[1m44/44\u001b[0m \u001b[32m━━━━━━━━━━━━━━━━━━━━\u001b[0m\u001b[37m\u001b[0m \u001b[1m1s\u001b[0m 12ms/step - accuracy: 0.9987 - auc: 0.9998 - loss: 8.9049e-04 - prc: 0.9996 - precision: 0.9962 - recall: 0.9960 - val_accuracy: 0.9630 - val_auc: 0.9971 - val_loss: 0.0380 - val_prc: 0.9779 - val_precision: 0.8387 - val_recall: 0.9811\n"
          ]
        },
        {
          "output_type": "stream",
          "name": "stderr",
          "text": [
            "WARNING:absl:Compiled the loaded model, but the compiled metrics have yet to be built. `model.compile_metrics` will be empty until you train or evaluate the model.\n"
          ]
        },
        {
          "output_type": "stream",
          "name": "stdout",
          "text": [
            "\u001b[1m10/10\u001b[0m \u001b[32m━━━━━━━━━━━━━━━━━━━━\u001b[0m\u001b[37m\u001b[0m \u001b[1m1s\u001b[0m 65ms/step\n",
            "\n",
            "   • Optimal threshold: 0.8285\n",
            "              precision    recall  f1-score   support\n",
            "\n",
            "           0     0.9959    0.9959    0.9959       245\n",
            "           1     0.9808    0.9808    0.9808        52\n",
            "\n",
            "    accuracy                         0.9933       297\n",
            "   macro avg     0.9883    0.9883    0.9883       297\n",
            "weighted avg     0.9933    0.9933    0.9933       297\n",
            "\n",
            "\n",
            "▶️ Channel M-5: 1 anomaly intervals\n",
            "   • Windows: 1933, Anomalies: 399 (20.64%)\n",
            "   • Class weights: {0: np.float64(0.6298882681564246), 1: np.float64(2.424731182795699)}\n",
            "   • Training model...\n",
            "Epoch 1/50\n"
          ]
        },
        {
          "output_type": "stream",
          "name": "stderr",
          "text": [
            "/usr/local/lib/python3.11/dist-packages/keras/src/layers/convolutional/base_conv.py:107: UserWarning: Do not pass an `input_shape`/`input_dim` argument to a layer. When using Sequential models, prefer using an `Input(shape)` object as the first layer in the model instead.\n",
            "  super().__init__(activity_regularizer=activity_regularizer, **kwargs)\n"
          ]
        },
        {
          "output_type": "stream",
          "name": "stdout",
          "text": [
            "\u001b[1m43/43\u001b[0m \u001b[32m━━━━━━━━━━━━━━━━━━━━\u001b[0m\u001b[37m\u001b[0m \u001b[1m0s\u001b[0m 123ms/step - accuracy: 0.6958 - auc: 0.5980 - loss: 0.4097 - prc: 0.2806 - precision: 0.2897 - recall: 0.3770\n",
            "Epoch 1: val_prc improved from -inf to 0.34851, saving model to models/M-5_best.h5\n"
          ]
        },
        {
          "output_type": "stream",
          "name": "stderr",
          "text": [
            "WARNING:absl:You are saving your model as an HDF5 file via `model.save()` or `keras.saving.save_model(model)`. This file format is considered legacy. We recommend using instead the native Keras format, e.g. `model.save('my_model.keras')` or `keras.saving.save_model(model, 'my_model.keras')`. \n"
          ]
        },
        {
          "output_type": "stream",
          "name": "stdout",
          "text": [
            "\b\b\b\b\b\b\b\b\b\b\b\b\b\b\b\b\b\b\b\b\b\b\b\b\b\b\b\b\b\b\b\b\b\b\b\b\b\b\b\b\b\b\b\b\b\b\b\b\b\b\b\b\b\b\b\b\b\b\b\b\b\b\b\b\b\b\b\b\b\b\b\b\b\b\b\b\b\b\b\b\b\b\b\b\b\b\b\b\b\b\b\b\b\b\b\b\b\b\b\b\b\b\b\b\b\b\b\b\b\b\b\b\b\b\b\b\b\b\b\b\b\b\b\b\b\b\b\b\b\b\b\b\b\b\b\b\b\b\b\r\u001b[1m43/43\u001b[0m \u001b[32m━━━━━━━━━━━━━━━━━━━━\u001b[0m\u001b[37m\u001b[0m \u001b[1m15s\u001b[0m 173ms/step - accuracy: 0.6958 - auc: 0.5989 - loss: 0.4070 - prc: 0.2810 - precision: 0.2903 - recall: 0.3774 - val_accuracy: 0.2966 - val_auc: 0.6814 - val_loss: 0.3299 - val_prc: 0.3485 - val_precision: 0.2273 - val_recall: 1.0000\n",
            "Epoch 2/50\n",
            "\u001b[1m40/43\u001b[0m \u001b[32m━━━━━━━━━━━━━━━━━━\u001b[0m\u001b[37m━━\u001b[0m \u001b[1m0s\u001b[0m 5ms/step - accuracy: 0.7595 - auc: 0.7789 - loss: 0.0833 - prc: 0.3939 - precision: 0.4076 - recall: 0.4787\n",
            "Epoch 2: val_prc improved from 0.34851 to 0.35063, saving model to models/M-5_best.h5\n"
          ]
        },
        {
          "output_type": "stream",
          "name": "stderr",
          "text": [
            "WARNING:absl:You are saving your model as an HDF5 file via `model.save()` or `keras.saving.save_model(model)`. This file format is considered legacy. We recommend using instead the native Keras format, e.g. `model.save('my_model.keras')` or `keras.saving.save_model(model, 'my_model.keras')`. \n"
          ]
        },
        {
          "output_type": "stream",
          "name": "stdout",
          "text": [
            "\b\b\b\b\b\b\b\b\b\b\b\b\b\b\b\b\b\b\b\b\b\b\b\b\b\b\b\b\b\b\b\b\b\b\b\b\b\b\b\b\b\b\b\b\b\b\b\b\b\b\b\b\b\b\b\b\b\b\b\b\b\b\b\b\b\b\b\b\b\b\b\b\b\b\b\b\b\b\b\b\b\b\b\b\b\b\b\b\b\b\b\b\b\b\b\b\b\b\b\b\b\b\b\b\b\b\b\b\b\b\b\b\b\b\b\b\b\b\b\b\b\b\b\b\b\b\b\b\b\b\b\b\b\b\b\b\b\r\u001b[1m43/43\u001b[0m \u001b[32m━━━━━━━━━━━━━━━━━━━━\u001b[0m\u001b[37m\u001b[0m \u001b[1m10s\u001b[0m 10ms/step - accuracy: 0.7629 - auc: 0.7835 - loss: 0.0820 - prc: 0.4033 - precision: 0.4168 - recall: 0.4877 - val_accuracy: 0.7931 - val_auc: 0.7097 - val_loss: 0.0897 - val_prc: 0.3506 - val_precision: 0.0000e+00 - val_recall: 0.0000e+00\n",
            "Epoch 3/50\n",
            "\u001b[1m41/43\u001b[0m \u001b[32m━━━━━━━━━━━━━━━━━━━\u001b[0m\u001b[37m━\u001b[0m \u001b[1m0s\u001b[0m 5ms/step - accuracy: 0.8593 - auc: 0.8899 - loss: 0.0463 - prc: 0.6765 - precision: 0.6685 - recall: 0.5632\n",
            "Epoch 3: val_prc did not improve from 0.35063\n",
            "\u001b[1m43/43\u001b[0m \u001b[32m━━━━━━━━━━━━━━━━━━━━\u001b[0m\u001b[37m\u001b[0m \u001b[1m0s\u001b[0m 8ms/step - accuracy: 0.8599 - auc: 0.8907 - loss: 0.0462 - prc: 0.6791 - precision: 0.6703 - recall: 0.5681 - val_accuracy: 0.7931 - val_auc: 0.5442 - val_loss: 0.3414 - val_prc: 0.2557 - val_precision: 0.0000e+00 - val_recall: 0.0000e+00\n",
            "Epoch 4/50\n",
            "\u001b[1m39/43\u001b[0m \u001b[32m━━━━━━━━━━━━━━━━━━\u001b[0m\u001b[37m━━\u001b[0m \u001b[1m0s\u001b[0m 6ms/step - accuracy: 0.9047 - auc: 0.9441 - loss: 0.0334 - prc: 0.8382 - precision: 0.7492 - recall: 0.7842\n",
            "Epoch 4: val_prc did not improve from 0.35063\n",
            "\u001b[1m43/43\u001b[0m \u001b[32m━━━━━━━━━━━━━━━━━━━━\u001b[0m\u001b[37m\u001b[0m \u001b[1m0s\u001b[0m 9ms/step - accuracy: 0.9067 - auc: 0.9459 - loss: 0.0330 - prc: 0.8433 - precision: 0.7560 - recall: 0.7876 - val_accuracy: 0.7931 - val_auc: 0.5000 - val_loss: 0.5555 - val_prc: 0.2069 - val_precision: 0.0000e+00 - val_recall: 0.0000e+00\n",
            "Epoch 5/50\n",
            "\u001b[1m41/43\u001b[0m \u001b[32m━━━━━━━━━━━━━━━━━━━\u001b[0m\u001b[37m━\u001b[0m \u001b[1m0s\u001b[0m 5ms/step - accuracy: 0.9386 - auc: 0.9775 - loss: 0.0214 - prc: 0.9329 - precision: 0.8365 - recall: 0.8547\n",
            "Epoch 5: val_prc did not improve from 0.35063\n",
            "\u001b[1m43/43\u001b[0m \u001b[32m━━━━━━━━━━━━━━━━━━━━\u001b[0m\u001b[37m\u001b[0m \u001b[1m0s\u001b[0m 8ms/step - accuracy: 0.9389 - auc: 0.9777 - loss: 0.0213 - prc: 0.9339 - precision: 0.8381 - recall: 0.8558 - val_accuracy: 0.7931 - val_auc: 0.5000 - val_loss: 0.6995 - val_prc: 0.2069 - val_precision: 0.0000e+00 - val_recall: 0.0000e+00\n",
            "Epoch 6/50\n",
            "\u001b[1m38/43\u001b[0m \u001b[32m━━━━━━━━━━━━━━━━━\u001b[0m\u001b[37m━━━\u001b[0m \u001b[1m0s\u001b[0m 6ms/step - accuracy: 0.9524 - auc: 0.9883 - loss: 0.0167 - prc: 0.9516 - precision: 0.8684 - recall: 0.8942\n",
            "Epoch 6: val_prc did not improve from 0.35063\n",
            "\u001b[1m43/43\u001b[0m \u001b[32m━━━━━━━━━━━━━━━━━━━━\u001b[0m\u001b[37m\u001b[0m \u001b[1m0s\u001b[0m 8ms/step - accuracy: 0.9524 - auc: 0.9883 - loss: 0.0166 - prc: 0.9527 - precision: 0.8700 - recall: 0.8940 - val_accuracy: 0.7931 - val_auc: 0.5000 - val_loss: 0.8107 - val_prc: 0.2069 - val_precision: 0.0000e+00 - val_recall: 0.0000e+00\n",
            "Epoch 7/50\n",
            "\u001b[1m39/43\u001b[0m \u001b[32m━━━━━━━━━━━━━━━━━━\u001b[0m\u001b[37m━━\u001b[0m \u001b[1m0s\u001b[0m 6ms/step - accuracy: 0.9767 - auc: 0.9968 - loss: 0.0082 - prc: 0.9879 - precision: 0.9530 - recall: 0.9260\n",
            "Epoch 7: val_prc did not improve from 0.35063\n",
            "\u001b[1m43/43\u001b[0m \u001b[32m━━━━━━━━━━━━━━━━━━━━\u001b[0m\u001b[37m\u001b[0m \u001b[1m1s\u001b[0m 8ms/step - accuracy: 0.9772 - auc: 0.9968 - loss: 0.0081 - prc: 0.9882 - precision: 0.9533 - recall: 0.9290 - val_accuracy: 0.7931 - val_auc: 0.5000 - val_loss: 0.7341 - val_prc: 0.2069 - val_precision: 0.0000e+00 - val_recall: 0.0000e+00\n"
          ]
        },
        {
          "output_type": "stream",
          "name": "stderr",
          "text": [
            "WARNING:absl:Compiled the loaded model, but the compiled metrics have yet to be built. `model.compile_metrics` will be empty until you train or evaluate the model.\n"
          ]
        },
        {
          "output_type": "stream",
          "name": "stdout",
          "text": [
            "\u001b[1m10/10\u001b[0m \u001b[32m━━━━━━━━━━━━━━━━━━━━\u001b[0m\u001b[37m\u001b[0m \u001b[1m1s\u001b[0m 43ms/step\n",
            "\n",
            "   • Optimal threshold: 0.0733\n",
            "              precision    recall  f1-score   support\n",
            "\n",
            "           0     0.9366    0.5783    0.7151       230\n",
            "           1     0.3446    0.8500    0.4904        60\n",
            "\n",
            "    accuracy                         0.6345       290\n",
            "   macro avg     0.6406    0.7141    0.6027       290\n",
            "weighted avg     0.8141    0.6345    0.6686       290\n",
            "\n",
            "\n",
            "▶️ Channel P-15: 1 anomaly intervals\n",
            "   • Windows: 3583, Anomalies: 119 (3.32%)\n",
            "   • Class weights: {0: np.float64(0.5171134020618556), 1: np.float64(15.108433734939759)}\n"
          ]
        },
        {
          "output_type": "stream",
          "name": "stderr",
          "text": [
            "/usr/local/lib/python3.11/dist-packages/keras/src/layers/convolutional/base_conv.py:107: UserWarning: Do not pass an `input_shape`/`input_dim` argument to a layer. When using Sequential models, prefer using an `Input(shape)` object as the first layer in the model instead.\n",
            "  super().__init__(activity_regularizer=activity_regularizer, **kwargs)\n"
          ]
        },
        {
          "output_type": "stream",
          "name": "stdout",
          "text": [
            "   • Training model...\n",
            "Epoch 1/50\n",
            "\u001b[1m79/79\u001b[0m \u001b[32m━━━━━━━━━━━━━━━━━━━━\u001b[0m\u001b[37m\u001b[0m \u001b[1m0s\u001b[0m 54ms/step - accuracy: 0.8402 - auc: 0.6812 - loss: 0.3851 - prc: 0.0676 - precision: 0.0699 - recall: 0.3390\n",
            "Epoch 1: val_prc improved from -inf to 0.02343, saving model to models/P-15_best.h5\n"
          ]
        },
        {
          "output_type": "stream",
          "name": "stderr",
          "text": [
            "WARNING:absl:You are saving your model as an HDF5 file via `model.save()` or `keras.saving.save_model(model)`. This file format is considered legacy. We recommend using instead the native Keras format, e.g. `model.save('my_model.keras')` or `keras.saving.save_model(model, 'my_model.keras')`. \n"
          ]
        },
        {
          "output_type": "stream",
          "name": "stdout",
          "text": [
            "\b\b\b\b\b\b\b\b\b\b\b\b\b\b\b\b\b\b\b\b\b\b\b\b\b\b\b\b\b\b\b\b\b\b\b\b\b\b\b\b\b\b\b\b\b\b\b\b\b\b\b\b\b\b\b\b\b\b\b\b\b\b\b\b\b\b\b\b\b\b\b\b\b\b\b\b\b\b\b\b\b\b\b\b\b\b\b\b\b\b\b\b\b\b\b\b\b\b\b\b\b\b\b\b\b\b\b\b\b\b\b\b\b\b\b\b\b\b\b\b\b\b\b\b\b\b\b\b\b\b\b\b\b\b\b\b\b\b\r\u001b[1m79/79\u001b[0m \u001b[32m━━━━━━━━━━━━━━━━━━━━\u001b[0m\u001b[37m\u001b[0m \u001b[1m16s\u001b[0m 98ms/step - accuracy: 0.8403 - auc: 0.6823 - loss: 0.3840 - prc: 0.0680 - precision: 0.0703 - recall: 0.3405 - val_accuracy: 0.0335 - val_auc: 0.3555 - val_loss: 1.8512 - val_prc: 0.0234 - val_precision: 0.0335 - val_recall: 1.0000\n",
            "Epoch 2/50\n",
            "\u001b[1m78/79\u001b[0m \u001b[32m━━━━━━━━━━━━━━━━━━━\u001b[0m\u001b[37m━\u001b[0m \u001b[1m0s\u001b[0m 8ms/step - accuracy: 0.8482 - auc: 0.8473 - loss: 0.0980 - prc: 0.1979 - precision: 0.1169 - recall: 0.5542\n",
            "Epoch 2: val_prc did not improve from 0.02343\n",
            "\u001b[1m79/79\u001b[0m \u001b[32m━━━━━━━━━━━━━━━━━━━━\u001b[0m\u001b[37m\u001b[0m \u001b[1m1s\u001b[0m 10ms/step - accuracy: 0.8488 - auc: 0.8482 - loss: 0.0980 - prc: 0.1978 - precision: 0.1178 - recall: 0.5566 - val_accuracy: 0.0335 - val_auc: 0.3555 - val_loss: 2.9625 - val_prc: 0.0234 - val_precision: 0.0335 - val_recall: 1.0000\n",
            "Epoch 3/50\n",
            "\u001b[1m75/79\u001b[0m \u001b[32m━━━━━━━━━━━━━━━━━━\u001b[0m\u001b[37m━━\u001b[0m \u001b[1m0s\u001b[0m 7ms/step - accuracy: 0.9384 - auc: 0.9095 - loss: 0.0496 - prc: 0.3596 - precision: 0.2688 - recall: 0.6478\n",
            "Epoch 3: val_prc improved from 0.02343 to 0.02584, saving model to models/P-15_best.h5\n"
          ]
        },
        {
          "output_type": "stream",
          "name": "stderr",
          "text": [
            "WARNING:absl:You are saving your model as an HDF5 file via `model.save()` or `keras.saving.save_model(model)`. This file format is considered legacy. We recommend using instead the native Keras format, e.g. `model.save('my_model.keras')` or `keras.saving.save_model(model, 'my_model.keras')`. \n"
          ]
        },
        {
          "output_type": "stream",
          "name": "stdout",
          "text": [
            "\b\b\b\b\b\b\b\b\b\b\b\b\b\b\b\b\b\b\b\b\b\b\b\b\b\b\b\b\b\b\b\b\b\b\b\b\b\b\b\b\b\b\b\b\b\b\b\b\b\b\b\b\b\b\b\b\b\b\b\b\b\b\b\b\b\b\b\b\b\b\b\b\b\b\b\b\b\b\b\b\b\b\b\b\b\b\b\b\b\b\b\b\b\b\b\b\b\b\b\b\b\b\b\b\b\b\b\b\b\b\b\b\b\b\b\b\b\b\b\b\b\b\b\b\b\b\b\b\b\b\b\b\b\b\b\b\b\r\u001b[1m79/79\u001b[0m \u001b[32m━━━━━━━━━━━━━━━━━━━━\u001b[0m\u001b[37m\u001b[0m \u001b[1m1s\u001b[0m 10ms/step - accuracy: 0.9380 - auc: 0.9127 - loss: 0.0489 - prc: 0.3663 - precision: 0.2708 - recall: 0.6579 - val_accuracy: 0.0335 - val_auc: 0.4127 - val_loss: 3.9462 - val_prc: 0.0258 - val_precision: 0.0335 - val_recall: 1.0000\n",
            "Epoch 4/50\n",
            "\u001b[1m79/79\u001b[0m \u001b[32m━━━━━━━━━━━━━━━━━━━━\u001b[0m\u001b[37m\u001b[0m \u001b[1m0s\u001b[0m 5ms/step - accuracy: 0.9331 - auc: 0.9560 - loss: 0.0195 - prc: 0.6639 - precision: 0.2923 - recall: 0.8579\n",
            "Epoch 4: val_prc improved from 0.02584 to 0.02829, saving model to models/P-15_best.h5\n"
          ]
        },
        {
          "output_type": "stream",
          "name": "stderr",
          "text": [
            "WARNING:absl:You are saving your model as an HDF5 file via `model.save()` or `keras.saving.save_model(model)`. This file format is considered legacy. We recommend using instead the native Keras format, e.g. `model.save('my_model.keras')` or `keras.saving.save_model(model, 'my_model.keras')`. \n"
          ]
        },
        {
          "output_type": "stream",
          "name": "stdout",
          "text": [
            "\b\b\b\b\b\b\b\b\b\b\b\b\b\b\b\b\b\b\b\b\b\b\b\b\b\b\b\b\b\b\b\b\b\b\b\b\b\b\b\b\b\b\b\b\b\b\b\b\b\b\b\b\b\b\b\b\b\b\b\b\b\b\b\b\b\b\b\b\b\b\b\b\b\b\b\b\b\b\b\b\b\b\b\b\b\b\b\b\b\b\b\b\b\b\b\b\b\b\b\b\b\b\b\b\b\b\b\b\b\b\b\b\b\b\b\b\b\b\b\b\b\b\b\b\b\b\b\b\b\b\b\b\b\b\b\b\b\r\u001b[1m79/79\u001b[0m \u001b[32m━━━━━━━━━━━━━━━━━━━━\u001b[0m\u001b[37m\u001b[0m \u001b[1m1s\u001b[0m 9ms/step - accuracy: 0.9333 - auc: 0.9563 - loss: 0.0195 - prc: 0.6641 - precision: 0.2931 - recall: 0.8582 - val_accuracy: 0.0335 - val_auc: 0.4472 - val_loss: 4.0526 - val_prc: 0.0283 - val_precision: 0.0335 - val_recall: 1.0000\n",
            "Epoch 5/50\n",
            "\u001b[1m79/79\u001b[0m \u001b[32m━━━━━━━━━━━━━━━━━━━━\u001b[0m\u001b[37m\u001b[0m \u001b[1m0s\u001b[0m 5ms/step - accuracy: 0.9448 - auc: 0.9597 - loss: 0.0161 - prc: 0.7527 - precision: 0.3320 - recall: 0.8676\n",
            "Epoch 5: val_prc improved from 0.02829 to 0.03054, saving model to models/P-15_best.h5\n"
          ]
        },
        {
          "output_type": "stream",
          "name": "stderr",
          "text": [
            "WARNING:absl:You are saving your model as an HDF5 file via `model.save()` or `keras.saving.save_model(model)`. This file format is considered legacy. We recommend using instead the native Keras format, e.g. `model.save('my_model.keras')` or `keras.saving.save_model(model, 'my_model.keras')`. \n"
          ]
        },
        {
          "output_type": "stream",
          "name": "stdout",
          "text": [
            "\b\b\b\b\b\b\b\b\b\b\b\b\b\b\b\b\b\b\b\b\b\b\b\b\b\b\b\b\b\b\b\b\b\b\b\b\b\b\b\b\b\b\b\b\b\b\b\b\b\b\b\b\b\b\b\b\b\b\b\b\b\b\b\b\b\b\b\b\b\b\b\b\b\b\b\b\b\b\b\b\b\b\b\b\b\b\b\b\b\b\b\b\b\b\b\b\b\b\b\b\b\b\b\b\b\b\b\b\b\b\b\b\b\b\b\b\b\b\b\b\b\b\b\b\b\b\b\b\b\b\b\b\b\b\b\b\b\r\u001b[1m79/79\u001b[0m \u001b[32m━━━━━━━━━━━━━━━━━━━━\u001b[0m\u001b[37m\u001b[0m \u001b[1m1s\u001b[0m 8ms/step - accuracy: 0.9449 - auc: 0.9600 - loss: 0.0161 - prc: 0.7533 - precision: 0.3326 - recall: 0.8679 - val_accuracy: 0.0335 - val_auc: 0.4997 - val_loss: 3.4345 - val_prc: 0.0305 - val_precision: 0.0335 - val_recall: 1.0000\n",
            "Epoch 6/50\n",
            "\u001b[1m75/79\u001b[0m \u001b[32m━━━━━━━━━━━━━━━━━━\u001b[0m\u001b[37m━━\u001b[0m \u001b[1m0s\u001b[0m 6ms/step - accuracy: 0.9447 - auc: 0.9597 - loss: 0.0163 - prc: 0.7320 - precision: 0.3314 - recall: 0.8732\n",
            "Epoch 6: val_prc improved from 0.03054 to 0.03656, saving model to models/P-15_best.h5\n"
          ]
        },
        {
          "output_type": "stream",
          "name": "stderr",
          "text": [
            "WARNING:absl:You are saving your model as an HDF5 file via `model.save()` or `keras.saving.save_model(model)`. This file format is considered legacy. We recommend using instead the native Keras format, e.g. `model.save('my_model.keras')` or `keras.saving.save_model(model, 'my_model.keras')`. \n"
          ]
        },
        {
          "output_type": "stream",
          "name": "stdout",
          "text": [
            "\b\b\b\b\b\b\b\b\b\b\b\b\b\b\b\b\b\b\b\b\b\b\b\b\b\b\b\b\b\b\b\b\b\b\b\b\b\b\b\b\b\b\b\b\b\b\b\b\b\b\b\b\b\b\b\b\b\b\b\b\b\b\b\b\b\b\b\b\b\b\b\b\b\b\b\b\b\b\b\b\b\b\b\b\b\b\b\b\b\b\b\b\b\b\b\b\b\b\b\b\b\b\b\b\b\b\b\b\b\b\b\b\b\b\b\b\b\b\b\b\b\b\b\b\b\b\b\b\b\b\b\b\b\b\b\b\b\r\u001b[1m79/79\u001b[0m \u001b[32m━━━━━━━━━━━━━━━━━━━━\u001b[0m\u001b[37m\u001b[0m \u001b[1m1s\u001b[0m 9ms/step - accuracy: 0.9449 - auc: 0.9615 - loss: 0.0162 - prc: 0.7367 - precision: 0.3343 - recall: 0.8754 - val_accuracy: 0.0484 - val_auc: 0.5791 - val_loss: 2.7883 - val_prc: 0.0366 - val_precision: 0.0340 - val_recall: 1.0000\n",
            "Epoch 7/50\n",
            "\u001b[1m70/79\u001b[0m \u001b[32m━━━━━━━━━━━━━━━━━\u001b[0m\u001b[37m━━━\u001b[0m \u001b[1m0s\u001b[0m 5ms/step - accuracy: 0.9611 - auc: 0.9640 - loss: 0.0124 - prc: 0.7971 - precision: 0.4184 - recall: 0.9343\n",
            "Epoch 7: val_prc improved from 0.03656 to 0.04847, saving model to models/P-15_best.h5\n"
          ]
        },
        {
          "output_type": "stream",
          "name": "stderr",
          "text": [
            "WARNING:absl:You are saving your model as an HDF5 file via `model.save()` or `keras.saving.save_model(model)`. This file format is considered legacy. We recommend using instead the native Keras format, e.g. `model.save('my_model.keras')` or `keras.saving.save_model(model, 'my_model.keras')`. \n"
          ]
        },
        {
          "output_type": "stream",
          "name": "stdout",
          "text": [
            "\b\b\b\b\b\b\b\b\b\b\b\b\b\b\b\b\b\b\b\b\b\b\b\b\b\b\b\b\b\b\b\b\b\b\b\b\b\b\b\b\b\b\b\b\b\b\b\b\b\b\b\b\b\b\b\b\b\b\b\b\b\b\b\b\b\b\b\b\b\b\b\b\b\b\b\b\b\b\b\b\b\b\b\b\b\b\b\b\b\b\b\b\b\b\b\b\b\b\b\b\b\b\b\b\b\b\b\b\b\b\b\b\b\b\b\b\b\b\b\b\b\b\b\b\b\b\b\b\b\b\b\b\b\b\b\b\b\r\u001b[1m79/79\u001b[0m \u001b[32m━━━━━━━━━━━━━━━━━━━━\u001b[0m\u001b[37m\u001b[0m \u001b[1m1s\u001b[0m 9ms/step - accuracy: 0.9608 - auc: 0.9673 - loss: 0.0127 - prc: 0.8017 - precision: 0.4206 - recall: 0.9345 - val_accuracy: 0.2924 - val_auc: 0.6804 - val_loss: 1.5094 - val_prc: 0.0485 - val_precision: 0.0452 - val_recall: 1.0000\n",
            "Epoch 8/50\n",
            "\u001b[1m77/79\u001b[0m \u001b[32m━━━━━━━━━━━━━━━━━━━\u001b[0m\u001b[37m━\u001b[0m \u001b[1m0s\u001b[0m 6ms/step - accuracy: 0.9588 - auc: 0.9666 - loss: 0.0123 - prc: 0.8066 - precision: 0.4147 - recall: 0.9568\n",
            "Epoch 8: val_prc improved from 0.04847 to 0.09208, saving model to models/P-15_best.h5\n"
          ]
        },
        {
          "output_type": "stream",
          "name": "stderr",
          "text": [
            "WARNING:absl:You are saving your model as an HDF5 file via `model.save()` or `keras.saving.save_model(model)`. This file format is considered legacy. We recommend using instead the native Keras format, e.g. `model.save('my_model.keras')` or `keras.saving.save_model(model, 'my_model.keras')`. \n"
          ]
        },
        {
          "output_type": "stream",
          "name": "stdout",
          "text": [
            "\b\b\b\b\b\b\b\b\b\b\b\b\b\b\b\b\b\b\b\b\b\b\b\b\b\b\b\b\b\b\b\b\b\b\b\b\b\b\b\b\b\b\b\b\b\b\b\b\b\b\b\b\b\b\b\b\b\b\b\b\b\b\b\b\b\b\b\b\b\b\b\b\b\b\b\b\b\b\b\b\b\b\b\b\b\b\b\b\b\b\b\b\b\b\b\b\b\b\b\b\b\b\b\b\b\b\b\b\b\b\b\b\b\b\b\b\b\b\b\b\b\b\b\b\b\b\b\b\b\b\b\b\b\b\b\b\b\r\u001b[1m79/79\u001b[0m \u001b[32m━━━━━━━━━━━━━━━━━━━━\u001b[0m\u001b[37m\u001b[0m \u001b[1m1s\u001b[0m 8ms/step - accuracy: 0.9591 - auc: 0.9676 - loss: 0.0123 - prc: 0.8088 - precision: 0.4178 - recall: 0.9572 - val_accuracy: 0.5642 - val_auc: 0.8204 - val_loss: 0.7524 - val_prc: 0.0921 - val_precision: 0.0714 - val_recall: 1.0000\n",
            "Epoch 9/50\n",
            "\u001b[1m77/79\u001b[0m \u001b[32m━━━━━━━━━━━━━━━━━━━\u001b[0m\u001b[37m━\u001b[0m \u001b[1m0s\u001b[0m 6ms/step - accuracy: 0.9552 - auc: 0.9665 - loss: 0.0136 - prc: 0.7521 - precision: 0.3967 - recall: 0.9412\n",
            "Epoch 9: val_prc improved from 0.09208 to 0.20288, saving model to models/P-15_best.h5\n"
          ]
        },
        {
          "output_type": "stream",
          "name": "stderr",
          "text": [
            "WARNING:absl:You are saving your model as an HDF5 file via `model.save()` or `keras.saving.save_model(model)`. This file format is considered legacy. We recommend using instead the native Keras format, e.g. `model.save('my_model.keras')` or `keras.saving.save_model(model, 'my_model.keras')`. \n"
          ]
        },
        {
          "output_type": "stream",
          "name": "stdout",
          "text": [
            "\b\b\b\b\b\b\b\b\b\b\b\b\b\b\b\b\b\b\b\b\b\b\b\b\b\b\b\b\b\b\b\b\b\b\b\b\b\b\b\b\b\b\b\b\b\b\b\b\b\b\b\b\b\b\b\b\b\b\b\b\b\b\b\b\b\b\b\b\b\b\b\b\b\b\b\b\b\b\b\b\b\b\b\b\b\b\b\b\b\b\b\b\b\b\b\b\b\b\b\b\b\b\b\b\b\b\b\b\b\b\b\b\b\b\b\b\b\b\b\b\b\b\b\b\b\b\b\b\b\b\b\b\b\b\b\b\b\r\u001b[1m79/79\u001b[0m \u001b[32m━━━━━━━━━━━━━━━━━━━━\u001b[0m\u001b[37m\u001b[0m \u001b[1m1s\u001b[0m 9ms/step - accuracy: 0.9555 - auc: 0.9673 - loss: 0.0138 - prc: 0.7531 - precision: 0.3996 - recall: 0.9413 - val_accuracy: 0.4097 - val_auc: 0.9214 - val_loss: 1.0196 - val_prc: 0.2029 - val_precision: 0.0537 - val_recall: 1.0000\n",
            "Epoch 10/50\n",
            "\u001b[1m78/79\u001b[0m \u001b[32m━━━━━━━━━━━━━━━━━━━\u001b[0m\u001b[37m━\u001b[0m \u001b[1m0s\u001b[0m 5ms/step - accuracy: 0.8869 - auc: 0.9326 - loss: 0.0315 - prc: 0.5307 - precision: 0.1844 - recall: 0.8121\n",
            "Epoch 10: val_prc improved from 0.20288 to 0.49262, saving model to models/P-15_best.h5\n"
          ]
        },
        {
          "output_type": "stream",
          "name": "stderr",
          "text": [
            "WARNING:absl:You are saving your model as an HDF5 file via `model.save()` or `keras.saving.save_model(model)`. This file format is considered legacy. We recommend using instead the native Keras format, e.g. `model.save('my_model.keras')` or `keras.saving.save_model(model, 'my_model.keras')`. \n"
          ]
        },
        {
          "output_type": "stream",
          "name": "stdout",
          "text": [
            "\b\b\b\b\b\b\b\b\b\b\b\b\b\b\b\b\b\b\b\b\b\b\b\b\b\b\b\b\b\b\b\b\b\b\b\b\b\b\b\b\b\b\b\b\b\b\b\b\b\b\b\b\b\b\b\b\b\b\b\b\b\b\b\b\b\b\b\b\b\b\b\b\b\b\b\b\b\b\b\b\b\b\b\b\b\b\b\b\b\b\b\b\b\b\b\b\b\b\b\b\b\b\b\b\b\b\b\b\b\b\b\b\b\b\b\b\b\b\b\b\b\b\b\b\b\b\b\b\b\b\b\b\b\b\b\b\b\r\u001b[1m79/79\u001b[0m \u001b[32m━━━━━━━━━━━━━━━━━━━━\u001b[0m\u001b[37m\u001b[0m \u001b[1m1s\u001b[0m 8ms/step - accuracy: 0.8875 - auc: 0.9333 - loss: 0.0315 - prc: 0.5317 - precision: 0.1858 - recall: 0.8114 - val_accuracy: 0.5568 - val_auc: 0.9289 - val_loss: 0.3093 - val_prc: 0.4926 - val_precision: 0.0703 - val_recall: 1.0000\n",
            "Epoch 11/50\n",
            "\u001b[1m76/79\u001b[0m \u001b[32m━━━━━━━━━━━━━━━━━━━\u001b[0m\u001b[37m━\u001b[0m \u001b[1m0s\u001b[0m 6ms/step - accuracy: 0.9589 - auc: 0.9618 - loss: 0.0150 - prc: 0.7355 - precision: 0.4074 - recall: 0.9122\n",
            "Epoch 11: val_prc did not improve from 0.49262\n",
            "\u001b[1m79/79\u001b[0m \u001b[32m━━━━━━━━━━━━━━━━━━━━\u001b[0m\u001b[37m\u001b[0m \u001b[1m1s\u001b[0m 7ms/step - accuracy: 0.9592 - auc: 0.9632 - loss: 0.0150 - prc: 0.7401 - precision: 0.4113 - recall: 0.9111 - val_accuracy: 0.6927 - val_auc: 0.9616 - val_loss: 0.3452 - val_prc: 0.3484 - val_precision: 0.0984 - val_recall: 1.0000\n",
            "Epoch 12/50\n",
            "\u001b[1m73/79\u001b[0m \u001b[32m━━━━━━━━━━━━━━━━━━\u001b[0m\u001b[37m━━\u001b[0m \u001b[1m0s\u001b[0m 6ms/step - accuracy: 0.9383 - auc: 0.9573 - loss: 0.0221 - prc: 0.6570 - precision: 0.3201 - recall: 0.9035\n",
            "Epoch 12: val_prc did not improve from 0.49262\n",
            "\u001b[1m79/79\u001b[0m \u001b[32m━━━━━━━━━━━━━━━━━━━━\u001b[0m\u001b[37m\u001b[0m \u001b[1m1s\u001b[0m 8ms/step - accuracy: 0.9399 - auc: 0.9600 - loss: 0.0216 - prc: 0.6670 - precision: 0.3294 - recall: 0.9051 - val_accuracy: 0.9665 - val_auc: 0.9383 - val_loss: 0.0318 - val_prc: 0.4515 - val_precision: 0.5000 - val_recall: 0.5556\n",
            "Epoch 13/50\n",
            "\u001b[1m73/79\u001b[0m \u001b[32m━━━━━━━━━━━━━━━━━━\u001b[0m\u001b[37m━━\u001b[0m \u001b[1m0s\u001b[0m 7ms/step - accuracy: 0.9555 - auc: 0.9645 - loss: 0.0128 - prc: 0.8287 - precision: 0.3866 - recall: 0.9295\n",
            "Epoch 13: val_prc did not improve from 0.49262\n",
            "\u001b[1m79/79\u001b[0m \u001b[32m━━━━━━━━━━━━━━━━━━━━\u001b[0m\u001b[37m\u001b[0m \u001b[1m1s\u001b[0m 10ms/step - accuracy: 0.9559 - auc: 0.9670 - loss: 0.0127 - prc: 0.8333 - precision: 0.3916 - recall: 0.9310 - val_accuracy: 0.8957 - val_auc: 0.9560 - val_loss: 0.1020 - val_prc: 0.3875 - val_precision: 0.2121 - val_recall: 0.7778\n",
            "Epoch 14/50\n",
            "\u001b[1m75/79\u001b[0m \u001b[32m━━━━━━━━━━━━━━━━━━\u001b[0m\u001b[37m━━\u001b[0m \u001b[1m0s\u001b[0m 7ms/step - accuracy: 0.9667 - auc: 0.9678 - loss: 0.0103 - prc: 0.8472 - precision: 0.4608 - recall: 0.9331\n",
            "Epoch 14: val_prc improved from 0.49262 to 0.63616, saving model to models/P-15_best.h5\n"
          ]
        },
        {
          "output_type": "stream",
          "name": "stderr",
          "text": [
            "WARNING:absl:You are saving your model as an HDF5 file via `model.save()` or `keras.saving.save_model(model)`. This file format is considered legacy. We recommend using instead the native Keras format, e.g. `model.save('my_model.keras')` or `keras.saving.save_model(model, 'my_model.keras')`. \n"
          ]
        },
        {
          "output_type": "stream",
          "name": "stdout",
          "text": [
            "\b\b\b\b\b\b\b\b\b\b\b\b\b\b\b\b\b\b\b\b\b\b\b\b\b\b\b\b\b\b\b\b\b\b\b\b\b\b\b\b\b\b\b\b\b\b\b\b\b\b\b\b\b\b\b\b\b\b\b\b\b\b\b\b\b\b\b\b\b\b\b\b\b\b\b\b\b\b\b\b\b\b\b\b\b\b\b\b\b\b\b\b\b\b\b\b\b\b\b\b\b\b\b\b\b\b\b\b\b\b\b\b\b\b\b\b\b\b\b\b\b\b\b\b\b\b\b\b\b\b\b\b\b\b\b\b\b\r\u001b[1m79/79\u001b[0m \u001b[32m━━━━━━━━━━━━━━━━━━━━\u001b[0m\u001b[37m\u001b[0m \u001b[1m1s\u001b[0m 11ms/step - accuracy: 0.9667 - auc: 0.9694 - loss: 0.0104 - prc: 0.8494 - precision: 0.4629 - recall: 0.9327 - val_accuracy: 0.9143 - val_auc: 0.9816 - val_loss: 0.0630 - val_prc: 0.6362 - val_precision: 0.2812 - val_recall: 1.0000\n",
            "Epoch 15/50\n",
            "\u001b[1m72/79\u001b[0m \u001b[32m━━━━━━━━━━━━━━━━━━\u001b[0m\u001b[37m━━\u001b[0m \u001b[1m0s\u001b[0m 8ms/step - accuracy: 0.9673 - auc: 0.9676 - loss: 0.0085 - prc: 0.8668 - precision: 0.4681 - recall: 0.9496\n",
            "Epoch 15: val_prc did not improve from 0.63616\n",
            "\u001b[1m79/79\u001b[0m \u001b[32m━━━━━━━━━━━━━━━━━━━━\u001b[0m\u001b[37m\u001b[0m \u001b[1m1s\u001b[0m 10ms/step - accuracy: 0.9674 - auc: 0.9703 - loss: 0.0086 - prc: 0.8704 - precision: 0.4719 - recall: 0.9506 - val_accuracy: 0.7840 - val_auc: 0.9771 - val_loss: 0.1627 - val_prc: 0.5484 - val_precision: 0.1343 - val_recall: 1.0000\n",
            "Epoch 16/50\n",
            "\u001b[1m77/79\u001b[0m \u001b[32m━━━━━━━━━━━━━━━━━━━\u001b[0m\u001b[37m━\u001b[0m \u001b[1m0s\u001b[0m 6ms/step - accuracy: 0.9559 - auc: 0.9683 - loss: 0.0120 - prc: 0.8487 - precision: 0.3983 - recall: 0.9409\n",
            "Epoch 16: val_prc did not improve from 0.63616\n",
            "\u001b[1m79/79\u001b[0m \u001b[32m━━━━━━━━━━━━━━━━━━━━\u001b[0m\u001b[37m\u001b[0m \u001b[1m1s\u001b[0m 7ms/step - accuracy: 0.9563 - auc: 0.9692 - loss: 0.0120 - prc: 0.8489 - precision: 0.4014 - recall: 0.9409 - val_accuracy: 0.7058 - val_auc: 0.9244 - val_loss: 0.6426 - val_prc: 0.2887 - val_precision: 0.1023 - val_recall: 1.0000\n",
            "Epoch 17/50\n",
            "\u001b[1m78/79\u001b[0m \u001b[32m━━━━━━━━━━━━━━━━━━━\u001b[0m\u001b[37m━\u001b[0m \u001b[1m0s\u001b[0m 5ms/step - accuracy: 0.9614 - auc: 0.9687 - loss: 0.0113 - prc: 0.8341 - precision: 0.4306 - recall: 0.9341\n",
            "Epoch 17: val_prc improved from 0.63616 to 0.86136, saving model to models/P-15_best.h5\n"
          ]
        },
        {
          "output_type": "stream",
          "name": "stderr",
          "text": [
            "WARNING:absl:You are saving your model as an HDF5 file via `model.save()` or `keras.saving.save_model(model)`. This file format is considered legacy. We recommend using instead the native Keras format, e.g. `model.save('my_model.keras')` or `keras.saving.save_model(model, 'my_model.keras')`. \n"
          ]
        },
        {
          "output_type": "stream",
          "name": "stdout",
          "text": [
            "\b\b\b\b\b\b\b\b\b\b\b\b\b\b\b\b\b\b\b\b\b\b\b\b\b\b\b\b\b\b\b\b\b\b\b\b\b\b\b\b\b\b\b\b\b\b\b\b\b\b\b\b\b\b\b\b\b\b\b\b\b\b\b\b\b\b\b\b\b\b\b\b\b\b\b\b\b\b\b\b\b\b\b\b\b\b\b\b\b\b\b\b\b\b\b\b\b\b\b\b\b\b\b\b\b\b\b\b\b\b\b\b\b\b\b\b\b\b\b\b\b\b\b\b\b\b\b\b\b\b\b\b\b\b\b\b\b\r\u001b[1m79/79\u001b[0m \u001b[32m━━━━━━━━━━━━━━━━━━━━\u001b[0m\u001b[37m\u001b[0m \u001b[1m1s\u001b[0m 9ms/step - accuracy: 0.9616 - auc: 0.9693 - loss: 0.0113 - prc: 0.8355 - precision: 0.4326 - recall: 0.9343 - val_accuracy: 0.9516 - val_auc: 0.9901 - val_loss: 0.0117 - val_prc: 0.8614 - val_precision: 0.3889 - val_recall: 0.7778\n",
            "Epoch 18/50\n",
            "\u001b[1m76/79\u001b[0m \u001b[32m━━━━━━━━━━━━━━━━━━━\u001b[0m\u001b[37m━\u001b[0m \u001b[1m0s\u001b[0m 6ms/step - accuracy: 0.9626 - auc: 0.9603 - loss: 0.0310 - prc: 0.6619 - precision: 0.4315 - recall: 0.9219\n",
            "Epoch 18: val_prc improved from 0.86136 to 0.88864, saving model to models/P-15_best.h5\n"
          ]
        },
        {
          "output_type": "stream",
          "name": "stderr",
          "text": [
            "WARNING:absl:You are saving your model as an HDF5 file via `model.save()` or `keras.saving.save_model(model)`. This file format is considered legacy. We recommend using instead the native Keras format, e.g. `model.save('my_model.keras')` or `keras.saving.save_model(model, 'my_model.keras')`. \n"
          ]
        },
        {
          "output_type": "stream",
          "name": "stdout",
          "text": [
            "\b\b\b\b\b\b\b\b\b\b\b\b\b\b\b\b\b\b\b\b\b\b\b\b\b\b\b\b\b\b\b\b\b\b\b\b\b\b\b\b\b\b\b\b\b\b\b\b\b\b\b\b\b\b\b\b\b\b\b\b\b\b\b\b\b\b\b\b\b\b\b\b\b\b\b\b\b\b\b\b\b\b\b\b\b\b\b\b\b\b\b\b\b\b\b\b\b\b\b\b\b\b\b\b\b\b\b\b\b\b\b\b\b\b\b\b\b\b\b\b\b\b\b\b\b\b\b\b\b\b\b\b\b\b\b\b\b\r\u001b[1m79/79\u001b[0m \u001b[32m━━━━━━━━━━━━━━━━━━━━\u001b[0m\u001b[37m\u001b[0m \u001b[1m1s\u001b[0m 9ms/step - accuracy: 0.9629 - auc: 0.9619 - loss: 0.0305 - prc: 0.6681 - precision: 0.4356 - recall: 0.9236 - val_accuracy: 0.9199 - val_auc: 0.9957 - val_loss: 0.0511 - val_prc: 0.8886 - val_precision: 0.2951 - val_recall: 1.0000\n",
            "Epoch 19/50\n",
            "\u001b[1m76/79\u001b[0m \u001b[32m━━━━━━━━━━━━━━━━━━━\u001b[0m\u001b[37m━\u001b[0m \u001b[1m0s\u001b[0m 6ms/step - accuracy: 0.8623 - auc: 0.9277 - loss: 0.0516 - prc: 0.3746 - precision: 0.1719 - recall: 0.9279\n",
            "Epoch 19: val_prc did not improve from 0.88864\n",
            "\u001b[1m79/79\u001b[0m \u001b[32m━━━━━━━━━━━━━━━━━━━━\u001b[0m\u001b[37m\u001b[0m \u001b[1m1s\u001b[0m 8ms/step - accuracy: 0.8639 - auc: 0.9292 - loss: 0.0511 - prc: 0.3789 - precision: 0.1745 - recall: 0.9270 - val_accuracy: 0.7654 - val_auc: 0.9571 - val_loss: 0.2110 - val_prc: 0.5742 - val_precision: 0.1197 - val_recall: 0.9444\n",
            "Epoch 20/50\n",
            "\u001b[1m77/79\u001b[0m \u001b[32m━━━━━━━━━━━━━━━━━━━\u001b[0m\u001b[37m━\u001b[0m \u001b[1m0s\u001b[0m 6ms/step - accuracy: 0.9560 - auc: 0.9572 - loss: 0.0196 - prc: 0.5812 - precision: 0.3819 - recall: 0.8615\n",
            "Epoch 20: val_prc did not improve from 0.88864\n",
            "\u001b[1m79/79\u001b[0m \u001b[32m━━━━━━━━━━━━━━━━━━━━\u001b[0m\u001b[37m\u001b[0m \u001b[1m1s\u001b[0m 7ms/step - accuracy: 0.9561 - auc: 0.9582 - loss: 0.0196 - prc: 0.5849 - precision: 0.3837 - recall: 0.8628 - val_accuracy: 0.8454 - val_auc: 0.9816 - val_loss: 0.0676 - val_prc: 0.6055 - val_precision: 0.1782 - val_recall: 1.0000\n",
            "Epoch 21/50\n",
            "\u001b[1m77/79\u001b[0m \u001b[32m━━━━━━━━━━━━━━━━━━━\u001b[0m\u001b[37m━\u001b[0m \u001b[1m0s\u001b[0m 6ms/step - accuracy: 0.9301 - auc: 0.9600 - loss: 0.0184 - prc: 0.7116 - precision: 0.2856 - recall: 0.9245\n",
            "Epoch 21: val_prc did not improve from 0.88864\n",
            "\u001b[1m79/79\u001b[0m \u001b[32m━━━━━━━━━━━━━━━━━━━━\u001b[0m\u001b[37m\u001b[0m \u001b[1m1s\u001b[0m 7ms/step - accuracy: 0.9303 - auc: 0.9610 - loss: 0.0184 - prc: 0.7136 - precision: 0.2873 - recall: 0.9243 - val_accuracy: 0.9497 - val_auc: 0.9918 - val_loss: 0.0307 - val_prc: 0.7964 - val_precision: 0.4000 - val_recall: 1.0000\n",
            "Epoch 22/50\n",
            "\u001b[1m77/79\u001b[0m \u001b[32m━━━━━━━━━━━━━━━━━━━\u001b[0m\u001b[37m━\u001b[0m \u001b[1m0s\u001b[0m 5ms/step - accuracy: 0.9533 - auc: 0.9637 - loss: 0.0133 - prc: 0.8183 - precision: 0.3729 - recall: 0.8608\n",
            "Epoch 22: val_prc did not improve from 0.88864\n",
            "\u001b[1m79/79\u001b[0m \u001b[32m━━━━━━━━━━━━━━━━━━━━\u001b[0m\u001b[37m\u001b[0m \u001b[1m1s\u001b[0m 8ms/step - accuracy: 0.9533 - auc: 0.9647 - loss: 0.0133 - prc: 0.8195 - precision: 0.3742 - recall: 0.8624 - val_accuracy: 0.8063 - val_auc: 0.9896 - val_loss: 0.0843 - val_prc: 0.7151 - val_precision: 0.1475 - val_recall: 1.0000\n",
            "Epoch 23/50\n",
            "\u001b[1m76/79\u001b[0m \u001b[32m━━━━━━━━━━━━━━━━━━━\u001b[0m\u001b[37m━\u001b[0m \u001b[1m0s\u001b[0m 6ms/step - accuracy: 0.9632 - auc: 0.9675 - loss: 0.0113 - prc: 0.8170 - precision: 0.4410 - recall: 0.9415\n",
            "Epoch 23: val_prc improved from 0.88864 to 0.96279, saving model to models/P-15_best.h5\n"
          ]
        },
        {
          "output_type": "stream",
          "name": "stderr",
          "text": [
            "WARNING:absl:You are saving your model as an HDF5 file via `model.save()` or `keras.saving.save_model(model)`. This file format is considered legacy. We recommend using instead the native Keras format, e.g. `model.save('my_model.keras')` or `keras.saving.save_model(model, 'my_model.keras')`. \n"
          ]
        },
        {
          "output_type": "stream",
          "name": "stdout",
          "text": [
            "\b\b\b\b\b\b\b\b\b\b\b\b\b\b\b\b\b\b\b\b\b\b\b\b\b\b\b\b\b\b\b\b\b\b\b\b\b\b\b\b\b\b\b\b\b\b\b\b\b\b\b\b\b\b\b\b\b\b\b\b\b\b\b\b\b\b\b\b\b\b\b\b\b\b\b\b\b\b\b\b\b\b\b\b\b\b\b\b\b\b\b\b\b\b\b\b\b\b\b\b\b\b\b\b\b\b\b\b\b\b\b\b\b\b\b\b\b\b\b\b\b\b\b\b\b\b\b\b\b\b\b\b\b\b\b\b\b\r\u001b[1m79/79\u001b[0m \u001b[32m━━━━━━━━━━━━━━━━━━━━\u001b[0m\u001b[37m\u001b[0m \u001b[1m1s\u001b[0m 8ms/step - accuracy: 0.9636 - auc: 0.9689 - loss: 0.0112 - prc: 0.8205 - precision: 0.4455 - recall: 0.9429 - val_accuracy: 0.9609 - val_auc: 0.9986 - val_loss: 0.0123 - val_prc: 0.9628 - val_precision: 0.4615 - val_recall: 1.0000\n",
            "Epoch 24/50\n",
            "\u001b[1m75/79\u001b[0m \u001b[32m━━━━━━━━━━━━━━━━━━\u001b[0m\u001b[37m━━\u001b[0m \u001b[1m0s\u001b[0m 6ms/step - accuracy: 0.9586 - auc: 0.9639 - loss: 0.0170 - prc: 0.7776 - precision: 0.4061 - recall: 0.9265\n",
            "Epoch 24: val_prc did not improve from 0.96279\n",
            "\u001b[1m79/79\u001b[0m \u001b[32m━━━━━━━━━━━━━━━━━━━━\u001b[0m\u001b[37m\u001b[0m \u001b[1m1s\u001b[0m 8ms/step - accuracy: 0.9588 - auc: 0.9655 - loss: 0.0173 - prc: 0.7775 - precision: 0.4098 - recall: 0.9277 - val_accuracy: 0.9497 - val_auc: 0.9382 - val_loss: 0.0354 - val_prc: 0.4214 - val_precision: 0.3448 - val_recall: 0.5556\n",
            "Epoch 25/50\n",
            "\u001b[1m76/79\u001b[0m \u001b[32m━━━━━━━━━━━━━━━━━━━\u001b[0m\u001b[37m━\u001b[0m \u001b[1m0s\u001b[0m 6ms/step - accuracy: 0.9657 - auc: 0.9611 - loss: 0.0151 - prc: 0.7504 - precision: 0.4538 - recall: 0.8571\n",
            "Epoch 25: val_prc did not improve from 0.96279\n",
            "\u001b[1m79/79\u001b[0m \u001b[32m━━━━━━━━━━━━━━━━━━━━\u001b[0m\u001b[37m\u001b[0m \u001b[1m1s\u001b[0m 7ms/step - accuracy: 0.9660 - auc: 0.9627 - loss: 0.0149 - prc: 0.7549 - precision: 0.4575 - recall: 0.8615 - val_accuracy: 0.9777 - val_auc: 0.9948 - val_loss: 0.0104 - val_prc: 0.8974 - val_precision: 0.6000 - val_recall: 1.0000\n",
            "Epoch 26/50\n",
            "\u001b[1m79/79\u001b[0m \u001b[32m━━━━━━━━━━━━━━━━━━━━\u001b[0m\u001b[37m\u001b[0m \u001b[1m0s\u001b[0m 5ms/step - accuracy: 0.9626 - auc: 0.9646 - loss: 0.0151 - prc: 0.7796 - precision: 0.4324 - recall: 0.9443\n",
            "Epoch 26: val_prc did not improve from 0.96279\n",
            "\u001b[1m79/79\u001b[0m \u001b[32m━━━━━━━━━━━━━━━━━━━━\u001b[0m\u001b[37m\u001b[0m \u001b[1m1s\u001b[0m 8ms/step - accuracy: 0.9626 - auc: 0.9649 - loss: 0.0151 - prc: 0.7803 - precision: 0.4329 - recall: 0.9445 - val_accuracy: 0.8007 - val_auc: 0.9413 - val_loss: 0.1836 - val_prc: 0.6335 - val_precision: 0.1440 - val_recall: 1.0000\n",
            "Epoch 27/50\n",
            "\u001b[1m70/79\u001b[0m \u001b[32m━━━━━━━━━━━━━━━━━\u001b[0m\u001b[37m━━━\u001b[0m \u001b[1m0s\u001b[0m 5ms/step - accuracy: 0.9558 - auc: 0.9649 - loss: 0.0133 - prc: 0.8061 - precision: 0.3911 - recall: 0.9594\n",
            "Epoch 27: val_prc did not improve from 0.96279\n",
            "\u001b[1m79/79\u001b[0m \u001b[32m━━━━━━━━━━━━━━━━━━━━\u001b[0m\u001b[37m\u001b[0m \u001b[1m1s\u001b[0m 8ms/step - accuracy: 0.9568 - auc: 0.9687 - loss: 0.0130 - prc: 0.8179 - precision: 0.4008 - recall: 0.9628 - val_accuracy: 0.8696 - val_auc: 0.9945 - val_loss: 0.0662 - val_prc: 0.8728 - val_precision: 0.2045 - val_recall: 1.0000\n",
            "Epoch 28/50\n",
            "\u001b[1m75/79\u001b[0m \u001b[32m━━━━━━━━━━━━━━━━━━\u001b[0m\u001b[37m━━\u001b[0m \u001b[1m0s\u001b[0m 7ms/step - accuracy: 0.9744 - auc: 0.9686 - loss: 0.0090 - prc: 0.8426 - precision: 0.5309 - recall: 0.9578\n",
            "Epoch 28: val_prc did not improve from 0.96279\n",
            "\u001b[1m79/79\u001b[0m \u001b[32m━━━━━━━━━━━━━━━━━━━━\u001b[0m\u001b[37m\u001b[0m \u001b[1m1s\u001b[0m 10ms/step - accuracy: 0.9747 - auc: 0.9704 - loss: 0.0089 - prc: 0.8475 - precision: 0.5363 - recall: 0.9589 - val_accuracy: 0.9125 - val_auc: 0.9920 - val_loss: 0.0554 - val_prc: 0.8211 - val_precision: 0.2769 - val_recall: 1.0000\n"
          ]
        },
        {
          "output_type": "stream",
          "name": "stderr",
          "text": [
            "WARNING:absl:Compiled the loaded model, but the compiled metrics have yet to be built. `model.compile_metrics` will be empty until you train or evaluate the model.\n"
          ]
        },
        {
          "output_type": "stream",
          "name": "stdout",
          "text": [
            "\u001b[1m17/17\u001b[0m \u001b[32m━━━━━━━━━━━━━━━━━━━━\u001b[0m\u001b[37m\u001b[0m \u001b[1m1s\u001b[0m 42ms/step\n",
            "\n",
            "   • Optimal threshold: 0.6473\n",
            "              precision    recall  f1-score   support\n",
            "\n",
            "           0     0.9962    0.9981    0.9971       520\n",
            "           1     0.9412    0.8889    0.9143        18\n",
            "\n",
            "    accuracy                         0.9944       538\n",
            "   macro avg     0.9687    0.9435    0.9557       538\n",
            "weighted avg     0.9943    0.9944    0.9943       538\n",
            "\n",
            "\n",
            "▶️ Channel C-1: 2 anomaly intervals\n",
            "   • Windows: 2059, Anomalies: 357 (17.34%)\n",
            "   • Class weights: {0: np.float64(0.6049538203190596), 1: np.float64(2.882)}\n"
          ]
        },
        {
          "output_type": "stream",
          "name": "stderr",
          "text": [
            "/usr/local/lib/python3.11/dist-packages/keras/src/layers/convolutional/base_conv.py:107: UserWarning: Do not pass an `input_shape`/`input_dim` argument to a layer. When using Sequential models, prefer using an `Input(shape)` object as the first layer in the model instead.\n",
            "  super().__init__(activity_regularizer=activity_regularizer, **kwargs)\n"
          ]
        },
        {
          "output_type": "stream",
          "name": "stdout",
          "text": [
            "   • Training model...\n",
            "Epoch 1/50\n",
            "\u001b[1m46/46\u001b[0m \u001b[32m━━━━━━━━━━━━━━━━━━━━\u001b[0m\u001b[37m\u001b[0m \u001b[1m0s\u001b[0m 115ms/step - accuracy: 0.7361 - auc: 0.6646 - loss: 0.3585 - prc: 0.3027 - precision: 0.3168 - recall: 0.4265\n",
            "Epoch 1: val_prc improved from -inf to 0.58544, saving model to models/C-1_best.h5\n"
          ]
        },
        {
          "output_type": "stream",
          "name": "stderr",
          "text": [
            "WARNING:absl:You are saving your model as an HDF5 file via `model.save()` or `keras.saving.save_model(model)`. This file format is considered legacy. We recommend using instead the native Keras format, e.g. `model.save('my_model.keras')` or `keras.saving.save_model(model, 'my_model.keras')`. \n"
          ]
        },
        {
          "output_type": "stream",
          "name": "stdout",
          "text": [
            "\b\b\b\b\b\b\b\b\b\b\b\b\b\b\b\b\b\b\b\b\b\b\b\b\b\b\b\b\b\b\b\b\b\b\b\b\b\b\b\b\b\b\b\b\b\b\b\b\b\b\b\b\b\b\b\b\b\b\b\b\b\b\b\b\b\b\b\b\b\b\b\b\b\b\b\b\b\b\b\b\b\b\b\b\b\b\b\b\b\b\b\b\b\b\b\b\b\b\b\b\b\b\b\b\b\b\b\b\b\b\b\b\b\b\b\b\b\b\b\b\b\b\b\b\b\b\b\b\b\b\b\b\b\b\b\b\b\b\b\r\u001b[1m46/46\u001b[0m \u001b[32m━━━━━━━━━━━━━━━━━━━━\u001b[0m\u001b[37m\u001b[0m \u001b[1m16s\u001b[0m 191ms/step - accuracy: 0.7367 - auc: 0.6661 - loss: 0.3565 - prc: 0.3044 - precision: 0.3179 - recall: 0.4276 - val_accuracy: 0.8479 - val_auc: 0.8623 - val_loss: 0.0375 - val_prc: 0.5854 - val_precision: 1.0000 - val_recall: 0.1296\n",
            "Epoch 2/50\n",
            "\u001b[1m46/46\u001b[0m \u001b[32m━━━━━━━━━━━━━━━━━━━━\u001b[0m\u001b[37m\u001b[0m \u001b[1m0s\u001b[0m 6ms/step - accuracy: 0.8243 - auc: 0.8546 - loss: 0.0992 - prc: 0.5938 - precision: 0.5021 - recall: 0.5913\n",
            "Epoch 2: val_prc improved from 0.58544 to 0.60250, saving model to models/C-1_best.h5\n"
          ]
        },
        {
          "output_type": "stream",
          "name": "stderr",
          "text": [
            "WARNING:absl:You are saving your model as an HDF5 file via `model.save()` or `keras.saving.save_model(model)`. This file format is considered legacy. We recommend using instead the native Keras format, e.g. `model.save('my_model.keras')` or `keras.saving.save_model(model, 'my_model.keras')`. \n"
          ]
        },
        {
          "output_type": "stream",
          "name": "stdout",
          "text": [
            "\b\b\b\b\b\b\b\b\b\b\b\b\b\b\b\b\b\b\b\b\b\b\b\b\b\b\b\b\b\b\b\b\b\b\b\b\b\b\b\b\b\b\b\b\b\b\b\b\b\b\b\b\b\b\b\b\b\b\b\b\b\b\b\b\b\b\b\b\b\b\b\b\b\b\b\b\b\b\b\b\b\b\b\b\b\b\b\b\b\b\b\b\b\b\b\b\b\b\b\b\b\b\b\b\b\b\b\b\b\b\b\b\b\b\b\b\b\b\b\b\b\b\b\b\b\b\b\b\b\b\b\b\b\b\b\b\b\r\u001b[1m46/46\u001b[0m \u001b[32m━━━━━━━━━━━━━━━━━━━━\u001b[0m\u001b[37m\u001b[0m \u001b[1m8s\u001b[0m 10ms/step - accuracy: 0.8248 - auc: 0.8552 - loss: 0.0988 - prc: 0.5949 - precision: 0.5033 - recall: 0.5916 - val_accuracy: 0.8447 - val_auc: 0.8873 - val_loss: 0.0328 - val_prc: 0.6025 - val_precision: 0.6154 - val_recall: 0.2963\n",
            "Epoch 3/50\n",
            "\u001b[1m41/46\u001b[0m \u001b[32m━━━━━━━━━━━━━━━━━\u001b[0m\u001b[37m━━━\u001b[0m \u001b[1m0s\u001b[0m 5ms/step - accuracy: 0.9022 - auc: 0.9333 - loss: 0.0443 - prc: 0.7922 - precision: 0.7002 - recall: 0.7761\n",
            "Epoch 3: val_prc improved from 0.60250 to 0.64052, saving model to models/C-1_best.h5\n"
          ]
        },
        {
          "output_type": "stream",
          "name": "stderr",
          "text": [
            "WARNING:absl:You are saving your model as an HDF5 file via `model.save()` or `keras.saving.save_model(model)`. This file format is considered legacy. We recommend using instead the native Keras format, e.g. `model.save('my_model.keras')` or `keras.saving.save_model(model, 'my_model.keras')`. \n"
          ]
        },
        {
          "output_type": "stream",
          "name": "stdout",
          "text": [
            "\b\b\b\b\b\b\b\b\b\b\b\b\b\b\b\b\b\b\b\b\b\b\b\b\b\b\b\b\b\b\b\b\b\b\b\b\b\b\b\b\b\b\b\b\b\b\b\b\b\b\b\b\b\b\b\b\b\b\b\b\b\b\b\b\b\b\b\b\b\b\b\b\b\b\b\b\b\b\b\b\b\b\b\b\b\b\b\b\b\b\b\b\b\b\b\b\b\b\b\b\b\b\b\b\b\b\b\b\b\b\b\b\b\b\b\b\b\b\b\b\b\b\b\b\b\b\b\b\b\b\b\b\b\b\b\b\b\r\u001b[1m46/46\u001b[0m \u001b[32m━━━━━━━━━━━━━━━━━━━━\u001b[0m\u001b[37m\u001b[0m \u001b[1m0s\u001b[0m 10ms/step - accuracy: 0.9027 - auc: 0.9336 - loss: 0.0442 - prc: 0.7932 - precision: 0.7017 - recall: 0.7744 - val_accuracy: 0.8252 - val_auc: 0.8892 - val_loss: 0.1307 - val_prc: 0.6405 - val_precision: 0.0000e+00 - val_recall: 0.0000e+00\n",
            "Epoch 4/50\n",
            "\u001b[1m39/46\u001b[0m \u001b[32m━━━━━━━━━━━━━━━━\u001b[0m\u001b[37m━━━━\u001b[0m \u001b[1m0s\u001b[0m 5ms/step - accuracy: 0.9396 - auc: 0.9741 - loss: 0.0257 - prc: 0.8901 - precision: 0.8065 - recall: 0.8591\n",
            "Epoch 4: val_prc improved from 0.64052 to 0.68442, saving model to models/C-1_best.h5\n"
          ]
        },
        {
          "output_type": "stream",
          "name": "stderr",
          "text": [
            "WARNING:absl:You are saving your model as an HDF5 file via `model.save()` or `keras.saving.save_model(model)`. This file format is considered legacy. We recommend using instead the native Keras format, e.g. `model.save('my_model.keras')` or `keras.saving.save_model(model, 'my_model.keras')`. \n"
          ]
        },
        {
          "output_type": "stream",
          "name": "stdout",
          "text": [
            "\b\b\b\b\b\b\b\b\b\b\b\b\b\b\b\b\b\b\b\b\b\b\b\b\b\b\b\b\b\b\b\b\b\b\b\b\b\b\b\b\b\b\b\b\b\b\b\b\b\b\b\b\b\b\b\b\b\b\b\b\b\b\b\b\b\b\b\b\b\b\b\b\b\b\b\b\b\b\b\b\b\b\b\b\b\b\b\b\b\b\b\b\b\b\b\b\b\b\b\b\b\b\b\b\b\b\b\b\b\b\b\b\b\b\b\b\b\b\b\b\b\b\b\b\b\b\b\b\b\b\b\b\b\b\b\b\b\r\u001b[1m46/46\u001b[0m \u001b[32m━━━━━━━━━━━━━━━━━━━━\u001b[0m\u001b[37m\u001b[0m \u001b[1m1s\u001b[0m 11ms/step - accuracy: 0.9398 - auc: 0.9743 - loss: 0.0254 - prc: 0.8913 - precision: 0.8090 - recall: 0.8561 - val_accuracy: 0.8350 - val_auc: 0.9201 - val_loss: 0.1022 - val_prc: 0.6844 - val_precision: 1.0000 - val_recall: 0.0556\n",
            "Epoch 5/50\n",
            "\u001b[1m41/46\u001b[0m \u001b[32m━━━━━━━━━━━━━━━━━\u001b[0m\u001b[37m━━━\u001b[0m \u001b[1m0s\u001b[0m 5ms/step - accuracy: 0.9467 - auc: 0.9750 - loss: 0.0272 - prc: 0.9135 - precision: 0.8416 - recall: 0.8572\n",
            "Epoch 5: val_prc did not improve from 0.68442\n",
            "\u001b[1m46/46\u001b[0m \u001b[32m━━━━━━━━━━━━━━━━━━━━\u001b[0m\u001b[37m\u001b[0m \u001b[1m0s\u001b[0m 8ms/step - accuracy: 0.9463 - auc: 0.9752 - loss: 0.0270 - prc: 0.9135 - precision: 0.8390 - recall: 0.8576 - val_accuracy: 0.8252 - val_auc: 0.8410 - val_loss: 0.1451 - val_prc: 0.6441 - val_precision: 0.0000e+00 - val_recall: 0.0000e+00\n",
            "Epoch 6/50\n",
            "\u001b[1m37/46\u001b[0m \u001b[32m━━━━━━━━━━━━━━━━\u001b[0m\u001b[37m━━━━\u001b[0m \u001b[1m0s\u001b[0m 6ms/step - accuracy: 0.9619 - auc: 0.9897 - loss: 0.0153 - prc: 0.9616 - precision: 0.8716 - recall: 0.9169\n",
            "Epoch 6: val_prc did not improve from 0.68442\n",
            "\u001b[1m46/46\u001b[0m \u001b[32m━━━━━━━━━━━━━━━━━━━━\u001b[0m\u001b[37m\u001b[0m \u001b[1m1s\u001b[0m 8ms/step - accuracy: 0.9628 - auc: 0.9901 - loss: 0.0150 - prc: 0.9626 - precision: 0.8734 - recall: 0.9191 - val_accuracy: 0.8673 - val_auc: 0.7538 - val_loss: 0.1755 - val_prc: 0.5887 - val_precision: 1.0000 - val_recall: 0.2407\n",
            "Epoch 7/50\n",
            "\u001b[1m40/46\u001b[0m \u001b[32m━━━━━━━━━━━━━━━━━\u001b[0m\u001b[37m━━━\u001b[0m \u001b[1m0s\u001b[0m 5ms/step - accuracy: 0.9658 - auc: 0.9920 - loss: 0.0142 - prc: 0.9698 - precision: 0.8975 - recall: 0.9099\n",
            "Epoch 7: val_prc did not improve from 0.68442\n",
            "\u001b[1m46/46\u001b[0m \u001b[32m━━━━━━━━━━━━━━━━━━━━\u001b[0m\u001b[37m\u001b[0m \u001b[1m0s\u001b[0m 8ms/step - accuracy: 0.9670 - auc: 0.9925 - loss: 0.0136 - prc: 0.9714 - precision: 0.9000 - recall: 0.9134 - val_accuracy: 0.8544 - val_auc: 0.7701 - val_loss: 0.1590 - val_prc: 0.6023 - val_precision: 0.7647 - val_recall: 0.2407\n",
            "Epoch 8/50\n",
            "\u001b[1m40/46\u001b[0m \u001b[32m━━━━━━━━━━━━━━━━━\u001b[0m\u001b[37m━━━\u001b[0m \u001b[1m0s\u001b[0m 5ms/step - accuracy: 0.9897 - auc: 0.9974 - loss: 0.0069 - prc: 0.9939 - precision: 0.9641 - recall: 0.9774\n",
            "Epoch 8: val_prc improved from 0.68442 to 0.82739, saving model to models/C-1_best.h5\n"
          ]
        },
        {
          "output_type": "stream",
          "name": "stderr",
          "text": [
            "WARNING:absl:You are saving your model as an HDF5 file via `model.save()` or `keras.saving.save_model(model)`. This file format is considered legacy. We recommend using instead the native Keras format, e.g. `model.save('my_model.keras')` or `keras.saving.save_model(model, 'my_model.keras')`. \n"
          ]
        },
        {
          "output_type": "stream",
          "name": "stdout",
          "text": [
            "\b\b\b\b\b\b\b\b\b\b\b\b\b\b\b\b\b\b\b\b\b\b\b\b\b\b\b\b\b\b\b\b\b\b\b\b\b\b\b\b\b\b\b\b\b\b\b\b\b\b\b\b\b\b\b\b\b\b\b\b\b\b\b\b\b\b\b\b\b\b\b\b\b\b\b\b\b\b\b\b\b\b\b\b\b\b\b\b\b\b\b\b\b\b\b\b\b\b\b\b\b\b\b\b\b\b\b\b\b\b\b\b\b\b\b\b\b\b\b\b\b\b\b\b\b\b\b\b\b\b\b\b\b\b\b\b\b\r\u001b[1m46/46\u001b[0m \u001b[32m━━━━━━━━━━━━━━━━━━━━\u001b[0m\u001b[37m\u001b[0m \u001b[1m0s\u001b[0m 10ms/step - accuracy: 0.9891 - auc: 0.9972 - loss: 0.0073 - prc: 0.9930 - precision: 0.9620 - recall: 0.9761 - val_accuracy: 0.8738 - val_auc: 0.9448 - val_loss: 0.0765 - val_prc: 0.8274 - val_precision: 0.8000 - val_recall: 0.3704\n",
            "Epoch 9/50\n",
            "\u001b[1m38/46\u001b[0m \u001b[32m━━━━━━━━━━━━━━━━\u001b[0m\u001b[37m━━━━\u001b[0m \u001b[1m0s\u001b[0m 6ms/step - accuracy: 0.9815 - auc: 0.9971 - loss: 0.0089 - prc: 0.9799 - precision: 0.9337 - recall: 0.9620\n",
            "Epoch 9: val_prc improved from 0.82739 to 0.88558, saving model to models/C-1_best.h5\n"
          ]
        },
        {
          "output_type": "stream",
          "name": "stderr",
          "text": [
            "WARNING:absl:You are saving your model as an HDF5 file via `model.save()` or `keras.saving.save_model(model)`. This file format is considered legacy. We recommend using instead the native Keras format, e.g. `model.save('my_model.keras')` or `keras.saving.save_model(model, 'my_model.keras')`. \n"
          ]
        },
        {
          "output_type": "stream",
          "name": "stdout",
          "text": [
            "\b\b\b\b\b\b\b\b\b\b\b\b\b\b\b\b\b\b\b\b\b\b\b\b\b\b\b\b\b\b\b\b\b\b\b\b\b\b\b\b\b\b\b\b\b\b\b\b\b\b\b\b\b\b\b\b\b\b\b\b\b\b\b\b\b\b\b\b\b\b\b\b\b\b\b\b\b\b\b\b\b\b\b\b\b\b\b\b\b\b\b\b\b\b\b\b\b\b\b\b\b\b\b\b\b\b\b\b\b\b\b\b\b\b\b\b\b\b\b\b\b\b\b\b\b\b\b\b\b\b\b\b\b\b\b\b\b\r\u001b[1m46/46\u001b[0m \u001b[32m━━━━━━━━━━━━━━━━━━━━\u001b[0m\u001b[37m\u001b[0m \u001b[1m1s\u001b[0m 10ms/step - accuracy: 0.9812 - auc: 0.9968 - loss: 0.0093 - prc: 0.9792 - precision: 0.9332 - recall: 0.9604 - val_accuracy: 0.9450 - val_auc: 0.9874 - val_loss: 0.1057 - val_prc: 0.8856 - val_precision: 0.7606 - val_recall: 1.0000\n",
            "Epoch 10/50\n",
            "\u001b[1m38/46\u001b[0m \u001b[32m━━━━━━━━━━━━━━━━\u001b[0m\u001b[37m━━━━\u001b[0m \u001b[1m0s\u001b[0m 6ms/step - accuracy: 0.9907 - auc: 0.9982 - loss: 0.0069 - prc: 0.9837 - precision: 0.9647 - recall: 0.9814\n",
            "Epoch 10: val_prc did not improve from 0.88558\n",
            "\u001b[1m46/46\u001b[0m \u001b[32m━━━━━━━━━━━━━━━━━━━━\u001b[0m\u001b[37m\u001b[0m \u001b[1m1s\u001b[0m 10ms/step - accuracy: 0.9891 - auc: 0.9980 - loss: 0.0075 - prc: 0.9829 - precision: 0.9602 - recall: 0.9768 - val_accuracy: 0.9256 - val_auc: 0.9846 - val_loss: 0.2002 - val_prc: 0.8818 - val_precision: 0.7013 - val_recall: 1.0000\n",
            "Epoch 11/50\n",
            "\u001b[1m40/46\u001b[0m \u001b[32m━━━━━━━━━━━━━━━━━\u001b[0m\u001b[37m━━━\u001b[0m \u001b[1m0s\u001b[0m 5ms/step - accuracy: 0.9880 - auc: 0.9988 - loss: 0.0050 - prc: 0.9951 - precision: 0.9500 - recall: 0.9827\n",
            "Epoch 11: val_prc improved from 0.88558 to 0.99804, saving model to models/C-1_best.h5\n"
          ]
        },
        {
          "output_type": "stream",
          "name": "stderr",
          "text": [
            "WARNING:absl:You are saving your model as an HDF5 file via `model.save()` or `keras.saving.save_model(model)`. This file format is considered legacy. We recommend using instead the native Keras format, e.g. `model.save('my_model.keras')` or `keras.saving.save_model(model, 'my_model.keras')`. \n"
          ]
        },
        {
          "output_type": "stream",
          "name": "stdout",
          "text": [
            "\b\b\b\b\b\b\b\b\b\b\b\b\b\b\b\b\b\b\b\b\b\b\b\b\b\b\b\b\b\b\b\b\b\b\b\b\b\b\b\b\b\b\b\b\b\b\b\b\b\b\b\b\b\b\b\b\b\b\b\b\b\b\b\b\b\b\b\b\b\b\b\b\b\b\b\b\b\b\b\b\b\b\b\b\b\b\b\b\b\b\b\b\b\b\b\b\b\b\b\b\b\b\b\b\b\b\b\b\b\b\b\b\b\b\b\b\b\b\b\b\b\b\b\b\b\b\b\b\b\b\b\b\b\b\b\b\b\r\u001b[1m46/46\u001b[0m \u001b[32m━━━━━━━━━━━━━━━━━━━━\u001b[0m\u001b[37m\u001b[0m \u001b[1m0s\u001b[0m 10ms/step - accuracy: 0.9883 - auc: 0.9988 - loss: 0.0049 - prc: 0.9952 - precision: 0.9522 - recall: 0.9822 - val_accuracy: 0.9773 - val_auc: 0.9996 - val_loss: 0.0229 - val_prc: 0.9980 - val_precision: 0.8852 - val_recall: 1.0000\n",
            "Epoch 12/50\n",
            "\u001b[1m37/46\u001b[0m \u001b[32m━━━━━━━━━━━━━━━━\u001b[0m\u001b[37m━━━━\u001b[0m \u001b[1m0s\u001b[0m 6ms/step - accuracy: 0.9893 - auc: 0.9995 - loss: 0.0031 - prc: 0.9978 - precision: 0.9614 - recall: 0.9782\n",
            "Epoch 12: val_prc improved from 0.99804 to 0.99966, saving model to models/C-1_best.h5\n"
          ]
        },
        {
          "output_type": "stream",
          "name": "stderr",
          "text": [
            "WARNING:absl:You are saving your model as an HDF5 file via `model.save()` or `keras.saving.save_model(model)`. This file format is considered legacy. We recommend using instead the native Keras format, e.g. `model.save('my_model.keras')` or `keras.saving.save_model(model, 'my_model.keras')`. \n"
          ]
        },
        {
          "output_type": "stream",
          "name": "stdout",
          "text": [
            "\b\b\b\b\b\b\b\b\b\b\b\b\b\b\b\b\b\b\b\b\b\b\b\b\b\b\b\b\b\b\b\b\b\b\b\b\b\b\b\b\b\b\b\b\b\b\b\b\b\b\b\b\b\b\b\b\b\b\b\b\b\b\b\b\b\b\b\b\b\b\b\b\b\b\b\b\b\b\b\b\b\b\b\b\b\b\b\b\b\b\b\b\b\b\b\b\b\b\b\b\b\b\b\b\b\b\b\b\b\b\b\b\b\b\b\b\b\b\b\b\b\b\b\b\b\b\b\b\b\b\b\b\b\b\b\b\b\r\u001b[1m46/46\u001b[0m \u001b[32m━━━━━━━━━━━━━━━━━━━━\u001b[0m\u001b[37m\u001b[0m \u001b[1m1s\u001b[0m 10ms/step - accuracy: 0.9896 - auc: 0.9995 - loss: 0.0032 - prc: 0.9977 - precision: 0.9618 - recall: 0.9792 - val_accuracy: 0.9903 - val_auc: 0.9999 - val_loss: 0.0114 - val_prc: 0.9997 - val_precision: 0.9474 - val_recall: 1.0000\n",
            "Epoch 13/50\n",
            "\u001b[1m40/46\u001b[0m \u001b[32m━━━━━━━━━━━━━━━━━\u001b[0m\u001b[37m━━━\u001b[0m \u001b[1m0s\u001b[0m 5ms/step - accuracy: 0.9929 - auc: 0.9988 - loss: 0.0057 - prc: 0.9878 - precision: 0.9840 - recall: 0.9748\n",
            "Epoch 13: val_prc did not improve from 0.99966\n",
            "\u001b[1m46/46\u001b[0m \u001b[32m━━━━━━━━━━━━━━━━━━━━\u001b[0m\u001b[37m\u001b[0m \u001b[1m1s\u001b[0m 8ms/step - accuracy: 0.9926 - auc: 0.9988 - loss: 0.0059 - prc: 0.9879 - precision: 0.9823 - recall: 0.9748 - val_accuracy: 0.9903 - val_auc: 0.9997 - val_loss: 0.0151 - val_prc: 0.9986 - val_precision: 0.9474 - val_recall: 1.0000\n",
            "Epoch 14/50\n",
            "\u001b[1m38/46\u001b[0m \u001b[32m━━━━━━━━━━━━━━━━\u001b[0m\u001b[37m━━━━\u001b[0m \u001b[1m0s\u001b[0m 6ms/step - accuracy: 0.9948 - auc: 0.9978 - loss: 0.0074 - prc: 0.9912 - precision: 0.9807 - recall: 0.9894\n",
            "Epoch 14: val_prc did not improve from 0.99966\n",
            "\u001b[1m46/46\u001b[0m \u001b[32m━━━━━━━━━━━━━━━━━━━━\u001b[0m\u001b[37m\u001b[0m \u001b[1m0s\u001b[0m 8ms/step - accuracy: 0.9944 - auc: 0.9978 - loss: 0.0074 - prc: 0.9915 - precision: 0.9802 - recall: 0.9878 - val_accuracy: 0.9871 - val_auc: 0.9980 - val_loss: 0.0203 - val_prc: 0.9815 - val_precision: 0.9310 - val_recall: 1.0000\n",
            "Epoch 15/50\n",
            "\u001b[1m38/46\u001b[0m \u001b[32m━━━━━━━━━━━━━━━━\u001b[0m\u001b[37m━━━━\u001b[0m \u001b[1m0s\u001b[0m 6ms/step - accuracy: 0.9924 - auc: 0.9998 - loss: 0.0021 - prc: 0.9992 - precision: 0.9751 - recall: 0.9819\n",
            "Epoch 15: val_prc did not improve from 0.99966\n",
            "\u001b[1m46/46\u001b[0m \u001b[32m━━━━━━━━━━━━━━━━━━━━\u001b[0m\u001b[37m\u001b[0m \u001b[1m1s\u001b[0m 8ms/step - accuracy: 0.9927 - auc: 0.9998 - loss: 0.0021 - prc: 0.9992 - precision: 0.9766 - recall: 0.9821 - val_accuracy: 0.9935 - val_auc: 0.9999 - val_loss: 0.0105 - val_prc: 0.9997 - val_precision: 0.9643 - val_recall: 1.0000\n",
            "Epoch 16/50\n",
            "\u001b[1m38/46\u001b[0m \u001b[32m━━━━━━━━━━━━━━━━\u001b[0m\u001b[37m━━━━\u001b[0m \u001b[1m0s\u001b[0m 6ms/step - accuracy: 0.9933 - auc: 0.9996 - loss: 0.0034 - prc: 0.9981 - precision: 0.9727 - recall: 0.9897\n",
            "Epoch 16: val_prc did not improve from 0.99966\n",
            "\u001b[1m46/46\u001b[0m \u001b[32m━━━━━━━━━━━━━━━━━━━━\u001b[0m\u001b[37m\u001b[0m \u001b[1m1s\u001b[0m 8ms/step - accuracy: 0.9932 - auc: 0.9996 - loss: 0.0034 - prc: 0.9980 - precision: 0.9731 - recall: 0.9884 - val_accuracy: 0.9935 - val_auc: 0.9999 - val_loss: 0.0130 - val_prc: 0.9997 - val_precision: 0.9643 - val_recall: 1.0000\n",
            "Epoch 17/50\n",
            "\u001b[1m45/46\u001b[0m \u001b[32m━━━━━━━━━━━━━━━━━━━\u001b[0m\u001b[37m━\u001b[0m \u001b[1m0s\u001b[0m 6ms/step - accuracy: 0.9876 - auc: 0.9993 - loss: 0.0043 - prc: 0.9969 - precision: 0.9575 - recall: 0.9720\n",
            "Epoch 17: val_prc did not improve from 0.99966\n",
            "\u001b[1m46/46\u001b[0m \u001b[32m━━━━━━━━━━━━━━━━━━━━\u001b[0m\u001b[37m\u001b[0m \u001b[1m1s\u001b[0m 10ms/step - accuracy: 0.9877 - auc: 0.9993 - loss: 0.0043 - prc: 0.9969 - precision: 0.9576 - recall: 0.9724 - val_accuracy: 0.9935 - val_auc: 0.9978 - val_loss: 0.0203 - val_prc: 0.9801 - val_precision: 0.9643 - val_recall: 1.0000\n"
          ]
        },
        {
          "output_type": "stream",
          "name": "stderr",
          "text": [
            "WARNING:absl:Compiled the loaded model, but the compiled metrics have yet to be built. `model.compile_metrics` will be empty until you train or evaluate the model.\n"
          ]
        },
        {
          "output_type": "stream",
          "name": "stdout",
          "text": [
            "\u001b[1m10/10\u001b[0m \u001b[32m━━━━━━━━━━━━━━━━━━━━\u001b[0m\u001b[37m\u001b[0m \u001b[1m1s\u001b[0m 69ms/step\n",
            "\n",
            "   • Optimal threshold: 0.8186\n",
            "              precision    recall  f1-score   support\n",
            "\n",
            "           0     0.9960    0.9844    0.9902       256\n",
            "           1     0.9286    0.9811    0.9541        53\n",
            "\n",
            "    accuracy                         0.9838       309\n",
            "   macro avg     0.9623    0.9828    0.9722       309\n",
            "weighted avg     0.9845    0.9838    0.9840       309\n",
            "\n",
            "\n",
            "▶️ Channel C-2: 2 anomaly intervals\n",
            "   • Windows: 665, Anomalies: 199 (29.92%)\n",
            "   • Class weights: {0: np.float64(0.7131901840490797), 1: np.float64(1.6726618705035972)}\n",
            "   • Training model...\n",
            "Epoch 1/50\n"
          ]
        },
        {
          "output_type": "stream",
          "name": "stderr",
          "text": [
            "/usr/local/lib/python3.11/dist-packages/keras/src/layers/convolutional/base_conv.py:107: UserWarning: Do not pass an `input_shape`/`input_dim` argument to a layer. When using Sequential models, prefer using an `Input(shape)` object as the first layer in the model instead.\n",
            "  super().__init__(activity_regularizer=activity_regularizer, **kwargs)\n"
          ]
        },
        {
          "output_type": "stream",
          "name": "stdout",
          "text": [
            "\u001b[1m15/15\u001b[0m \u001b[32m━━━━━━━━━━━━━━━━━━━━\u001b[0m\u001b[37m\u001b[0m \u001b[1m0s\u001b[0m 399ms/step - accuracy: 0.6742 - auc: 0.7167 - loss: 0.3769 - prc: 0.4827 - precision: 0.4986 - recall: 0.4707\n",
            "Epoch 1: val_prc improved from -inf to 0.98161, saving model to models/C-2_best.h5\n"
          ]
        },
        {
          "output_type": "stream",
          "name": "stderr",
          "text": [
            "WARNING:absl:You are saving your model as an HDF5 file via `model.save()` or `keras.saving.save_model(model)`. This file format is considered legacy. We recommend using instead the native Keras format, e.g. `model.save('my_model.keras')` or `keras.saving.save_model(model, 'my_model.keras')`. \n"
          ]
        },
        {
          "output_type": "stream",
          "name": "stdout",
          "text": [
            "\b\b\b\b\b\b\b\b\b\b\b\b\b\b\b\b\b\b\b\b\b\b\b\b\b\b\b\b\b\b\b\b\b\b\b\b\b\b\b\b\b\b\b\b\b\b\b\b\b\b\b\b\b\b\b\b\b\b\b\b\b\b\b\b\b\b\b\b\b\b\b\b\b\b\b\b\b\b\b\b\b\b\b\b\b\b\b\b\b\b\b\b\b\b\b\b\b\b\b\b\b\b\b\b\b\b\b\b\b\b\b\b\b\b\b\b\b\b\b\b\b\b\b\b\b\b\b\b\b\b\b\b\b\b\b\b\b\b\b\r\u001b[1m15/15\u001b[0m \u001b[32m━━━━━━━━━━━━━━━━━━━━\u001b[0m\u001b[37m\u001b[0m \u001b[1m15s\u001b[0m 551ms/step - accuracy: 0.6800 - auc: 0.7233 - loss: 0.3683 - prc: 0.4922 - precision: 0.5057 - recall: 0.4795 - val_accuracy: 0.3000 - val_auc: 0.9919 - val_loss: 0.4528 - val_prc: 0.9816 - val_precision: 0.3000 - val_recall: 1.0000\n",
            "Epoch 2/50\n",
            "\u001b[1m10/15\u001b[0m \u001b[32m━━━━━━━━━━━━━\u001b[0m\u001b[37m━━━━━━━\u001b[0m \u001b[1m0s\u001b[0m 6ms/step - accuracy: 0.9741 - auc: 0.9987 - loss: 0.0123 - prc: 0.9973 - precision: 1.0000 - recall: 0.9154     \n",
            "Epoch 2: val_prc did not improve from 0.98161\n",
            "\u001b[1m15/15\u001b[0m \u001b[32m━━━━━━━━━━━━━━━━━━━━\u001b[0m\u001b[37m\u001b[0m \u001b[1m0s\u001b[0m 14ms/step - accuracy: 0.9649 - auc: 0.9977 - loss: 0.0175 - prc: 0.9951 - precision: 1.0000 - recall: 0.8851 - val_accuracy: 0.3000 - val_auc: 0.5429 - val_loss: 2.9322 - val_prc: 0.3191 - val_precision: 0.3000 - val_recall: 1.0000\n",
            "Epoch 3/50\n",
            "\u001b[1m10/15\u001b[0m \u001b[32m━━━━━━━━━━━━━\u001b[0m\u001b[37m━━━━━━━\u001b[0m \u001b[1m0s\u001b[0m 6ms/step - accuracy: 0.9933 - auc: 0.9996 - loss: 0.0035 - prc: 0.9990 - precision: 0.9831 - recall: 0.9950 \n",
            "Epoch 3: val_prc did not improve from 0.98161\n",
            "\u001b[1m15/15\u001b[0m \u001b[32m━━━━━━━━━━━━━━━━━━━━\u001b[0m\u001b[37m\u001b[0m \u001b[1m0s\u001b[0m 13ms/step - accuracy: 0.9905 - auc: 0.9990 - loss: 0.0067 - prc: 0.9974 - precision: 0.9754 - recall: 0.9940 - val_accuracy: 0.3000 - val_auc: 0.5000 - val_loss: 4.9003 - val_prc: 0.3000 - val_precision: 0.3000 - val_recall: 1.0000\n",
            "Epoch 4/50\n",
            "\u001b[1m10/15\u001b[0m \u001b[32m━━━━━━━━━━━━━\u001b[0m\u001b[37m━━━━━━━\u001b[0m \u001b[1m0s\u001b[0m 6ms/step - accuracy: 0.9761 - auc: 0.9989 - loss: 0.0085 - prc: 0.9976 - precision: 0.9559 - recall: 0.9669 \n",
            "Epoch 4: val_prc did not improve from 0.98161\n",
            "\u001b[1m15/15\u001b[0m \u001b[32m━━━━━━━━━━━━━━━━━━━━\u001b[0m\u001b[37m\u001b[0m \u001b[1m0s\u001b[0m 12ms/step - accuracy: 0.9792 - auc: 0.9990 - loss: 0.0073 - prc: 0.9979 - precision: 0.9623 - recall: 0.9705 - val_accuracy: 0.3000 - val_auc: 0.5000 - val_loss: 6.5988 - val_prc: 0.3000 - val_precision: 0.3000 - val_recall: 1.0000\n",
            "Epoch 5/50\n",
            "\u001b[1m11/15\u001b[0m \u001b[32m━━━━━━━━━━━━━━\u001b[0m\u001b[37m━━━━━━\u001b[0m \u001b[1m0s\u001b[0m 5ms/step - accuracy: 0.9984 - auc: 1.0000 - loss: 5.9583e-04 - prc: 1.0000 - precision: 1.0000 - recall: 0.9946  \n",
            "Epoch 5: val_prc did not improve from 0.98161\n",
            "\u001b[1m15/15\u001b[0m \u001b[32m━━━━━━━━━━━━━━━━━━━━\u001b[0m\u001b[37m\u001b[0m \u001b[1m0s\u001b[0m 13ms/step - accuracy: 0.9976 - auc: 1.0000 - loss: 6.8265e-04 - prc: 1.0000 - precision: 0.9982 - recall: 0.9940 - val_accuracy: 0.3000 - val_auc: 0.5000 - val_loss: 7.9080 - val_prc: 0.3000 - val_precision: 0.3000 - val_recall: 1.0000\n",
            "Epoch 6/50\n",
            "\u001b[1m10/15\u001b[0m \u001b[32m━━━━━━━━━━━━━\u001b[0m\u001b[37m━━━━━━━\u001b[0m \u001b[1m0s\u001b[0m 6ms/step - accuracy: 0.9959 - auc: 0.9999 - loss: 0.0013 - prc: 0.9999 - precision: 1.0000 - recall: 0.9865     \n",
            "Epoch 6: val_prc did not improve from 0.98161\n",
            "\u001b[1m15/15\u001b[0m \u001b[32m━━━━━━━━━━━━━━━━━━━━\u001b[0m\u001b[37m\u001b[0m \u001b[1m0s\u001b[0m 14ms/step - accuracy: 0.9944 - auc: 0.9999 - loss: 0.0016 - prc: 0.9998 - precision: 0.9981 - recall: 0.9833 - val_accuracy: 0.3000 - val_auc: 0.5000 - val_loss: 8.3698 - val_prc: 0.3000 - val_precision: 0.3000 - val_recall: 1.0000\n"
          ]
        },
        {
          "output_type": "stream",
          "name": "stderr",
          "text": [
            "WARNING:absl:Compiled the loaded model, but the compiled metrics have yet to be built. `model.compile_metrics` will be empty until you train or evaluate the model.\n"
          ]
        },
        {
          "output_type": "stream",
          "name": "stdout",
          "text": [
            "\u001b[1m4/4\u001b[0m \u001b[32m━━━━━━━━━━━━━━━━━━━━\u001b[0m\u001b[37m\u001b[0m \u001b[1m1s\u001b[0m 141ms/step\n",
            "\n",
            "   • Optimal threshold: 0.7970\n",
            "              precision    recall  f1-score   support\n",
            "\n",
            "           0     0.9855    0.9714    0.9784        70\n",
            "           1     0.9355    0.9667    0.9508        30\n",
            "\n",
            "    accuracy                         0.9700       100\n",
            "   macro avg     0.9605    0.9690    0.9646       100\n",
            "weighted avg     0.9705    0.9700    0.9701       100\n",
            "\n",
            "\n",
            "▶️ Channel T-12: 1 anomaly intervals\n",
            "   • Windows: 1046, Anomalies: 219 (20.94%)\n",
            "   • Class weights: {0: np.float64(0.6321243523316062), 1: np.float64(2.392156862745098)}\n",
            "   • Training model...\n",
            "Epoch 1/50\n"
          ]
        },
        {
          "output_type": "stream",
          "name": "stderr",
          "text": [
            "/usr/local/lib/python3.11/dist-packages/keras/src/layers/convolutional/base_conv.py:107: UserWarning: Do not pass an `input_shape`/`input_dim` argument to a layer. When using Sequential models, prefer using an `Input(shape)` object as the first layer in the model instead.\n",
            "  super().__init__(activity_regularizer=activity_regularizer, **kwargs)\n"
          ]
        },
        {
          "output_type": "stream",
          "name": "stdout",
          "text": [
            "\u001b[1m23/23\u001b[0m \u001b[32m━━━━━━━━━━━━━━━━━━━━\u001b[0m\u001b[37m\u001b[0m \u001b[1m0s\u001b[0m 182ms/step - accuracy: 0.8434 - auc: 0.9050 - loss: 0.1673 - prc: 0.6593 - precision: 0.6069 - recall: 0.8865\n",
            "Epoch 1: val_prc improved from -inf to 0.20339, saving model to models/T-12_best.h5\n"
          ]
        },
        {
          "output_type": "stream",
          "name": "stderr",
          "text": [
            "WARNING:absl:You are saving your model as an HDF5 file via `model.save()` or `keras.saving.save_model(model)`. This file format is considered legacy. We recommend using instead the native Keras format, e.g. `model.save('my_model.keras')` or `keras.saving.save_model(model, 'my_model.keras')`. \n"
          ]
        },
        {
          "output_type": "stream",
          "name": "stdout",
          "text": [
            "\b\b\b\b\b\b\b\b\b\b\b\b\b\b\b\b\b\b\b\b\b\b\b\b\b\b\b\b\b\b\b\b\b\b\b\b\b\b\b\b\b\b\b\b\b\b\b\b\b\b\b\b\b\b\b\b\b\b\b\b\b\b\b\b\b\b\b\b\b\b\b\b\b\b\b\b\b\b\b\b\b\b\b\b\b\b\b\b\b\b\b\b\b\b\b\b\b\b\b\b\b\b\b\b\b\b\b\b\b\b\b\b\b\b\b\b\b\b\b\b\b\b\b\b\b\b\b\b\b\b\b\b\b\b\b\b\b\b\b\r\u001b[1m23/23\u001b[0m \u001b[32m━━━━━━━━━━━━━━━━━━━━\u001b[0m\u001b[37m\u001b[0m \u001b[1m15s\u001b[0m 279ms/step - accuracy: 0.8464 - auc: 0.9074 - loss: 0.1648 - prc: 0.6660 - precision: 0.6130 - recall: 0.8864 - val_accuracy: 0.2102 - val_auc: 0.5423 - val_loss: 1.3742 - val_prc: 0.2034 - val_precision: 0.2102 - val_recall: 1.0000\n",
            "Epoch 2/50\n",
            "\u001b[1m20/23\u001b[0m \u001b[32m━━━━━━━━━━━━━━━━━\u001b[0m\u001b[37m━━━\u001b[0m \u001b[1m0s\u001b[0m 8ms/step - accuracy: 0.9172 - auc: 0.9362 - loss: 0.1103 - prc: 0.7962 - precision: 0.7741 - recall: 0.7434\n",
            "Epoch 2: val_prc did not improve from 0.20339\n",
            "\u001b[1m23/23\u001b[0m \u001b[32m━━━━━━━━━━━━━━━━━━━━\u001b[0m\u001b[37m\u001b[0m \u001b[1m1s\u001b[0m 17ms/step - accuracy: 0.9207 - auc: 0.9418 - loss: 0.1028 - prc: 0.8095 - precision: 0.7845 - recall: 0.7662 - val_accuracy: 0.2102 - val_auc: 0.2661 - val_loss: 2.2992 - val_prc: 0.1389 - val_precision: 0.2102 - val_recall: 1.0000\n",
            "Epoch 3/50\n",
            "\u001b[1m22/23\u001b[0m \u001b[32m━━━━━━━━━━━━━━━━━━━\u001b[0m\u001b[37m━\u001b[0m \u001b[1m0s\u001b[0m 8ms/step - accuracy: 0.9166 - auc: 0.9721 - loss: 0.0340 - prc: 0.8623 - precision: 0.8072 - recall: 0.7212\n",
            "Epoch 3: val_prc did not improve from 0.20339\n",
            "\u001b[1m23/23\u001b[0m \u001b[32m━━━━━━━━━━━━━━━━━━━━\u001b[0m\u001b[37m\u001b[0m \u001b[1m1s\u001b[0m 18ms/step - accuracy: 0.9177 - auc: 0.9727 - loss: 0.0337 - prc: 0.8655 - precision: 0.8095 - recall: 0.7303 - val_accuracy: 0.2102 - val_auc: 0.3387 - val_loss: 3.1429 - val_prc: 0.1502 - val_precision: 0.2102 - val_recall: 1.0000\n",
            "Epoch 4/50\n",
            "\u001b[1m20/23\u001b[0m \u001b[32m━━━━━━━━━━━━━━━━━\u001b[0m\u001b[37m━━━\u001b[0m \u001b[1m0s\u001b[0m 9ms/step - accuracy: 0.9653 - auc: 0.9895 - loss: 0.0152 - prc: 0.9366 - precision: 0.8771 - recall: 0.9511\n",
            "Epoch 4: val_prc improved from 0.20339 to 0.21019, saving model to models/T-12_best.h5\n"
          ]
        },
        {
          "output_type": "stream",
          "name": "stderr",
          "text": [
            "WARNING:absl:You are saving your model as an HDF5 file via `model.save()` or `keras.saving.save_model(model)`. This file format is considered legacy. We recommend using instead the native Keras format, e.g. `model.save('my_model.keras')` or `keras.saving.save_model(model, 'my_model.keras')`. \n"
          ]
        },
        {
          "output_type": "stream",
          "name": "stdout",
          "text": [
            "\b\b\b\b\b\b\b\b\b\b\b\b\b\b\b\b\b\b\b\b\b\b\b\b\b\b\b\b\b\b\b\b\b\b\b\b\b\b\b\b\b\b\b\b\b\b\b\b\b\b\b\b\b\b\b\b\b\b\b\b\b\b\b\b\b\b\b\b\b\b\b\b\b\b\b\b\b\b\b\b\b\b\b\b\b\b\b\b\b\b\b\b\b\b\b\b\b\b\b\b\b\b\b\b\b\b\b\b\b\b\b\b\b\b\b\b\b\b\b\b\b\b\b\b\b\b\b\b\b\b\b\b\b\b\b\b\b\r\u001b[1m23/23\u001b[0m \u001b[32m━━━━━━━━━━━━━━━━━━━━\u001b[0m\u001b[37m\u001b[0m \u001b[1m1s\u001b[0m 23ms/step - accuracy: 0.9643 - auc: 0.9887 - loss: 0.0159 - prc: 0.9331 - precision: 0.8754 - recall: 0.9515 - val_accuracy: 0.2102 - val_auc: 0.5000 - val_loss: 3.8396 - val_prc: 0.2102 - val_precision: 0.2102 - val_recall: 1.0000\n",
            "Epoch 5/50\n",
            "\u001b[1m21/23\u001b[0m \u001b[32m━━━━━━━━━━━━━━━━━━\u001b[0m\u001b[37m━━\u001b[0m \u001b[1m0s\u001b[0m 8ms/step - accuracy: 0.9633 - auc: 0.9873 - loss: 0.0149 - prc: 0.9391 - precision: 0.8728 - recall: 0.9503\n",
            "Epoch 5: val_prc did not improve from 0.21019\n",
            "\u001b[1m23/23\u001b[0m \u001b[32m━━━━━━━━━━━━━━━━━━━━\u001b[0m\u001b[37m\u001b[0m \u001b[1m0s\u001b[0m 19ms/step - accuracy: 0.9626 - auc: 0.9871 - loss: 0.0151 - prc: 0.9387 - precision: 0.8732 - recall: 0.9478 - val_accuracy: 0.2102 - val_auc: 0.5000 - val_loss: 4.3531 - val_prc: 0.2102 - val_precision: 0.2102 - val_recall: 1.0000\n",
            "Epoch 6/50\n",
            "\u001b[1m20/23\u001b[0m \u001b[32m━━━━━━━━━━━━━━━━━\u001b[0m\u001b[37m━━━\u001b[0m \u001b[1m0s\u001b[0m 8ms/step - accuracy: 0.9541 - auc: 0.9863 - loss: 0.0168 - prc: 0.9111 - precision: 0.8776 - recall: 0.8838\n",
            "Epoch 6: val_prc did not improve from 0.21019\n",
            "\u001b[1m23/23\u001b[0m \u001b[32m━━━━━━━━━━━━━━━━━━━━\u001b[0m\u001b[37m\u001b[0m \u001b[1m0s\u001b[0m 13ms/step - accuracy: 0.9541 - auc: 0.9859 - loss: 0.0173 - prc: 0.9124 - precision: 0.8773 - recall: 0.8887 - val_accuracy: 0.2102 - val_auc: 0.5000 - val_loss: 5.0340 - val_prc: 0.2102 - val_precision: 0.2102 - val_recall: 1.0000\n",
            "Epoch 7/50\n",
            "\u001b[1m21/23\u001b[0m \u001b[32m━━━━━━━━━━━━━━━━━━\u001b[0m\u001b[37m━━\u001b[0m \u001b[1m0s\u001b[0m 5ms/step - accuracy: 0.9450 - auc: 0.9895 - loss: 0.0149 - prc: 0.9431 - precision: 0.8251 - recall: 0.9089\n",
            "Epoch 7: val_prc did not improve from 0.21019\n",
            "\u001b[1m23/23\u001b[0m \u001b[32m━━━━━━━━━━━━━━━━━━━━\u001b[0m\u001b[37m\u001b[0m \u001b[1m0s\u001b[0m 10ms/step - accuracy: 0.9458 - auc: 0.9891 - loss: 0.0152 - prc: 0.9406 - precision: 0.8304 - recall: 0.9088 - val_accuracy: 0.2102 - val_auc: 0.5000 - val_loss: 5.5649 - val_prc: 0.2102 - val_precision: 0.2102 - val_recall: 1.0000\n",
            "Epoch 8/50\n",
            "\u001b[1m20/23\u001b[0m \u001b[32m━━━━━━━━━━━━━━━━━\u001b[0m\u001b[37m━━━\u001b[0m \u001b[1m0s\u001b[0m 5ms/step - accuracy: 0.9524 - auc: 0.9883 - loss: 0.0133 - prc: 0.9456 - precision: 0.8170 - recall: 0.9678\n",
            "Epoch 8: val_prc did not improve from 0.21019\n",
            "\u001b[1m23/23\u001b[0m \u001b[32m━━━━━━━━━━━━━━━━━━━━\u001b[0m\u001b[37m\u001b[0m \u001b[1m0s\u001b[0m 10ms/step - accuracy: 0.9528 - auc: 0.9883 - loss: 0.0133 - prc: 0.9462 - precision: 0.8236 - recall: 0.9643 - val_accuracy: 0.2102 - val_auc: 0.5000 - val_loss: 6.6130 - val_prc: 0.2102 - val_precision: 0.2102 - val_recall: 1.0000\n",
            "Epoch 9/50\n",
            "\u001b[1m17/23\u001b[0m \u001b[32m━━━━━━━━━━━━━━\u001b[0m\u001b[37m━━━━━━\u001b[0m \u001b[1m0s\u001b[0m 6ms/step - accuracy: 0.9769 - auc: 0.9945 - loss: 0.0116 - prc: 0.9708 - precision: 0.9077 - recall: 0.9780\n",
            "Epoch 9: val_prc did not improve from 0.21019\n",
            "\u001b[1m23/23\u001b[0m \u001b[32m━━━━━━━━━━━━━━━━━━━━\u001b[0m\u001b[37m\u001b[0m \u001b[1m0s\u001b[0m 12ms/step - accuracy: 0.9742 - auc: 0.9929 - loss: 0.0135 - prc: 0.9633 - precision: 0.9035 - recall: 0.9734 - val_accuracy: 0.2102 - val_auc: 0.5000 - val_loss: 7.2477 - val_prc: 0.2102 - val_precision: 0.2102 - val_recall: 1.0000\n"
          ]
        },
        {
          "output_type": "stream",
          "name": "stderr",
          "text": [
            "WARNING:absl:Compiled the loaded model, but the compiled metrics have yet to be built. `model.compile_metrics` will be empty until you train or evaluate the model.\n"
          ]
        },
        {
          "output_type": "stream",
          "name": "stdout",
          "text": [
            "\u001b[1m5/5\u001b[0m \u001b[32m━━━━━━━━━━━━━━━━━━━━\u001b[0m\u001b[37m\u001b[0m \u001b[1m1s\u001b[0m 96ms/step\n",
            "\n",
            "   • Optimal threshold: 0.9975\n",
            "              precision    recall  f1-score   support\n",
            "\n",
            "           0     0.9600    0.1935    0.3221       124\n",
            "           1     0.2424    0.9697    0.3879        33\n",
            "\n",
            "    accuracy                         0.3567       157\n",
            "   macro avg     0.6012    0.5816    0.3550       157\n",
            "weighted avg     0.8092    0.3567    0.3360       157\n",
            "\n",
            "\n",
            "▶️ Channel T-13: 2 anomaly intervals\n",
            "   • Windows: 1046, Anomalies: 199 (19.02%)\n",
            "   • Class weights: {0: np.float64(0.6172006745362564), 1: np.float64(2.633093525179856)}\n",
            "   • Training model...\n",
            "Epoch 1/50\n"
          ]
        },
        {
          "output_type": "stream",
          "name": "stderr",
          "text": [
            "/usr/local/lib/python3.11/dist-packages/keras/src/layers/convolutional/base_conv.py:107: UserWarning: Do not pass an `input_shape`/`input_dim` argument to a layer. When using Sequential models, prefer using an `Input(shape)` object as the first layer in the model instead.\n",
            "  super().__init__(activity_regularizer=activity_regularizer, **kwargs)\n"
          ]
        },
        {
          "output_type": "stream",
          "name": "stdout",
          "text": [
            "\u001b[1m23/23\u001b[0m \u001b[32m━━━━━━━━━━━━━━━━━━━━\u001b[0m\u001b[37m\u001b[0m \u001b[1m0s\u001b[0m 207ms/step - accuracy: 0.7504 - auc: 0.8108 - loss: 0.2529 - prc: 0.4198 - precision: 0.4550 - recall: 0.6972\n",
            "Epoch 1: val_prc improved from -inf to 0.16994, saving model to models/T-13_best.h5\n"
          ]
        },
        {
          "output_type": "stream",
          "name": "stderr",
          "text": [
            "WARNING:absl:You are saving your model as an HDF5 file via `model.save()` or `keras.saving.save_model(model)`. This file format is considered legacy. We recommend using instead the native Keras format, e.g. `model.save('my_model.keras')` or `keras.saving.save_model(model, 'my_model.keras')`. \n"
          ]
        },
        {
          "output_type": "stream",
          "name": "stdout",
          "text": [
            "\b\b\b\b\b\b\b\b\b\b\b\b\b\b\b\b\b\b\b\b\b\b\b\b\b\b\b\b\b\b\b\b\b\b\b\b\b\b\b\b\b\b\b\b\b\b\b\b\b\b\b\b\b\b\b\b\b\b\b\b\b\b\b\b\b\b\b\b\b\b\b\b\b\b\b\b\b\b\b\b\b\b\b\b\b\b\b\b\b\b\b\b\b\b\b\b\b\b\b\b\b\b\b\b\b\b\b\b\b\b\b\b\b\b\b\b\b\b\b\b\b\b\b\b\b\b\b\b\b\b\b\b\b\b\b\b\b\b\b\r\u001b[1m23/23\u001b[0m \u001b[32m━━━━━━━━━━━━━━━━━━━━\u001b[0m\u001b[37m\u001b[0m \u001b[1m15s\u001b[0m 304ms/step - accuracy: 0.7525 - auc: 0.8130 - loss: 0.2496 - prc: 0.4216 - precision: 0.4562 - recall: 0.6939 - val_accuracy: 0.1911 - val_auc: 0.4860 - val_loss: 0.8067 - val_prc: 0.1699 - val_precision: 0.1911 - val_recall: 1.0000\n",
            "Epoch 2/50\n",
            "\u001b[1m20/23\u001b[0m \u001b[32m━━━━━━━━━━━━━━━━━\u001b[0m\u001b[37m━━━\u001b[0m \u001b[1m0s\u001b[0m 6ms/step - accuracy: 0.8361 - auc: 0.9085 - loss: 0.0748 - prc: 0.6033 - precision: 0.6066 - recall: 0.6574\n",
            "Epoch 2: val_prc did not improve from 0.16994\n",
            "\u001b[1m23/23\u001b[0m \u001b[32m━━━━━━━━━━━━━━━━━━━━\u001b[0m\u001b[37m\u001b[0m \u001b[1m0s\u001b[0m 11ms/step - accuracy: 0.8371 - auc: 0.9073 - loss: 0.0734 - prc: 0.5949 - precision: 0.5997 - recall: 0.6647 - val_accuracy: 0.1911 - val_auc: 0.2480 - val_loss: 2.3086 - val_prc: 0.1243 - val_precision: 0.1911 - val_recall: 1.0000\n",
            "Epoch 3/50\n",
            "\u001b[1m21/23\u001b[0m \u001b[32m━━━━━━━━━━━━━━━━━━\u001b[0m\u001b[37m━━\u001b[0m \u001b[1m0s\u001b[0m 5ms/step - accuracy: 0.8468 - auc: 0.9097 - loss: 0.0408 - prc: 0.5620 - precision: 0.6374 - recall: 0.6077\n",
            "Epoch 3: val_prc did not improve from 0.16994\n",
            "\u001b[1m23/23\u001b[0m \u001b[32m━━━━━━━━━━━━━━━━━━━━\u001b[0m\u001b[37m\u001b[0m \u001b[1m0s\u001b[0m 11ms/step - accuracy: 0.8491 - auc: 0.9115 - loss: 0.0403 - prc: 0.5660 - precision: 0.6374 - recall: 0.6161 - val_accuracy: 0.1911 - val_auc: 0.2206 - val_loss: 2.3628 - val_prc: 0.1218 - val_precision: 0.1911 - val_recall: 1.0000\n",
            "Epoch 4/50\n",
            "\u001b[1m20/23\u001b[0m \u001b[32m━━━━━━━━━━━━━━━━━\u001b[0m\u001b[37m━━━\u001b[0m \u001b[1m0s\u001b[0m 6ms/step - accuracy: 0.8737 - auc: 0.9338 - loss: 0.0362 - prc: 0.7088 - precision: 0.6634 - recall: 0.7940\n",
            "Epoch 4: val_prc did not improve from 0.16994\n",
            "\u001b[1m23/23\u001b[0m \u001b[32m━━━━━━━━━━━━━━━━━━━━\u001b[0m\u001b[37m\u001b[0m \u001b[1m0s\u001b[0m 11ms/step - accuracy: 0.8721 - auc: 0.9330 - loss: 0.0361 - prc: 0.7063 - precision: 0.6534 - recall: 0.7979 - val_accuracy: 0.1911 - val_auc: 0.2564 - val_loss: 3.0510 - val_prc: 0.1241 - val_precision: 0.1911 - val_recall: 1.0000\n",
            "Epoch 5/50\n",
            "\u001b[1m21/23\u001b[0m \u001b[32m━━━━━━━━━━━━━━━━━━\u001b[0m\u001b[37m━━\u001b[0m \u001b[1m0s\u001b[0m 5ms/step - accuracy: 0.8870 - auc: 0.9464 - loss: 0.0318 - prc: 0.7374 - precision: 0.7010 - recall: 0.7836\n",
            "Epoch 5: val_prc improved from 0.16994 to 0.19108, saving model to models/T-13_best.h5\n"
          ]
        },
        {
          "output_type": "stream",
          "name": "stderr",
          "text": [
            "WARNING:absl:You are saving your model as an HDF5 file via `model.save()` or `keras.saving.save_model(model)`. This file format is considered legacy. We recommend using instead the native Keras format, e.g. `model.save('my_model.keras')` or `keras.saving.save_model(model, 'my_model.keras')`. \n"
          ]
        },
        {
          "output_type": "stream",
          "name": "stdout",
          "text": [
            "\b\b\b\b\b\b\b\b\b\b\b\b\b\b\b\b\b\b\b\b\b\b\b\b\b\b\b\b\b\b\b\b\b\b\b\b\b\b\b\b\b\b\b\b\b\b\b\b\b\b\b\b\b\b\b\b\b\b\b\b\b\b\b\b\b\b\b\b\b\b\b\b\b\b\b\b\b\b\b\b\b\b\b\b\b\b\b\b\b\b\b\b\b\b\b\b\b\b\b\b\b\b\b\b\b\b\b\b\b\b\b\b\b\b\b\b\b\b\b\b\b\b\b\b\b\b\b\b\b\b\b\b\b\b\b\b\b\r\u001b[1m23/23\u001b[0m \u001b[32m━━━━━━━━━━━━━━━━━━━━\u001b[0m\u001b[37m\u001b[0m \u001b[1m0s\u001b[0m 14ms/step - accuracy: 0.8862 - auc: 0.9452 - loss: 0.0318 - prc: 0.7290 - precision: 0.6948 - recall: 0.7863 - val_accuracy: 0.1911 - val_auc: 0.5000 - val_loss: 4.2065 - val_prc: 0.1911 - val_precision: 0.1911 - val_recall: 1.0000\n",
            "Epoch 6/50\n",
            "\u001b[1m18/23\u001b[0m \u001b[32m━━━━━━━━━━━━━━━\u001b[0m\u001b[37m━━━━━\u001b[0m \u001b[1m0s\u001b[0m 6ms/step - accuracy: 0.9043 - auc: 0.9533 - loss: 0.0293 - prc: 0.7629 - precision: 0.7337 - recall: 0.8411\n",
            "Epoch 6: val_prc did not improve from 0.19108\n",
            "\u001b[1m23/23\u001b[0m \u001b[32m━━━━━━━━━━━━━━━━━━━━\u001b[0m\u001b[37m\u001b[0m \u001b[1m0s\u001b[0m 11ms/step - accuracy: 0.9031 - auc: 0.9536 - loss: 0.0290 - prc: 0.7606 - precision: 0.7244 - recall: 0.8366 - val_accuracy: 0.1911 - val_auc: 0.5000 - val_loss: 5.0809 - val_prc: 0.1911 - val_precision: 0.1911 - val_recall: 1.0000\n",
            "Epoch 7/50\n",
            "\u001b[1m20/23\u001b[0m \u001b[32m━━━━━━━━━━━━━━━━━\u001b[0m\u001b[37m━━━\u001b[0m \u001b[1m0s\u001b[0m 5ms/step - accuracy: 0.8977 - auc: 0.9508 - loss: 0.0333 - prc: 0.7445 - precision: 0.7152 - recall: 0.8454\n",
            "Epoch 7: val_prc did not improve from 0.19108\n",
            "\u001b[1m23/23\u001b[0m \u001b[32m━━━━━━━━━━━━━━━━━━━━\u001b[0m\u001b[37m\u001b[0m \u001b[1m0s\u001b[0m 10ms/step - accuracy: 0.8972 - auc: 0.9505 - loss: 0.0332 - prc: 0.7391 - precision: 0.7116 - recall: 0.8363 - val_accuracy: 0.1911 - val_auc: 0.5000 - val_loss: 5.5035 - val_prc: 0.1911 - val_precision: 0.1911 - val_recall: 1.0000\n",
            "Epoch 8/50\n",
            "\u001b[1m20/23\u001b[0m \u001b[32m━━━━━━━━━━━━━━━━━\u001b[0m\u001b[37m━━━\u001b[0m \u001b[1m0s\u001b[0m 6ms/step - accuracy: 0.8680 - auc: 0.9387 - loss: 0.0330 - prc: 0.7057 - precision: 0.6539 - recall: 0.7783\n",
            "Epoch 8: val_prc did not improve from 0.19108\n",
            "\u001b[1m23/23\u001b[0m \u001b[32m━━━━━━━━━━━━━━━━━━━━\u001b[0m\u001b[37m\u001b[0m \u001b[1m0s\u001b[0m 10ms/step - accuracy: 0.8703 - auc: 0.9403 - loss: 0.0324 - prc: 0.7097 - precision: 0.6533 - recall: 0.7828 - val_accuracy: 0.1911 - val_auc: 0.5000 - val_loss: 6.3079 - val_prc: 0.1911 - val_precision: 0.1911 - val_recall: 1.0000\n",
            "Epoch 9/50\n",
            "\u001b[1m19/23\u001b[0m \u001b[32m━━━━━━━━━━━━━━━━\u001b[0m\u001b[37m━━━━\u001b[0m \u001b[1m0s\u001b[0m 6ms/step - accuracy: 0.9213 - auc: 0.9596 - loss: 0.0289 - prc: 0.7783 - precision: 0.7614 - recall: 0.8954\n",
            "Epoch 9: val_prc did not improve from 0.19108\n",
            "\u001b[1m23/23\u001b[0m \u001b[32m━━━━━━━━━━━━━━━━━━━━\u001b[0m\u001b[37m\u001b[0m \u001b[1m0s\u001b[0m 11ms/step - accuracy: 0.9180 - auc: 0.9583 - loss: 0.0290 - prc: 0.7736 - precision: 0.7496 - recall: 0.8868 - val_accuracy: 0.1911 - val_auc: 0.5000 - val_loss: 6.4681 - val_prc: 0.1911 - val_precision: 0.1911 - val_recall: 1.0000\n",
            "Epoch 10/50\n",
            "\u001b[1m20/23\u001b[0m \u001b[32m━━━━━━━━━━━━━━━━━\u001b[0m\u001b[37m━━━\u001b[0m \u001b[1m0s\u001b[0m 6ms/step - accuracy: 0.9102 - auc: 0.9581 - loss: 0.0293 - prc: 0.8046 - precision: 0.7487 - recall: 0.8544\n",
            "Epoch 10: val_prc did not improve from 0.19108\n",
            "\u001b[1m23/23\u001b[0m \u001b[32m━━━━━━━━━━━━━━━━━━━━\u001b[0m\u001b[37m\u001b[0m \u001b[1m0s\u001b[0m 11ms/step - accuracy: 0.9099 - auc: 0.9588 - loss: 0.0289 - prc: 0.8070 - precision: 0.7423 - recall: 0.8575 - val_accuracy: 0.1911 - val_auc: 0.5000 - val_loss: 7.0904 - val_prc: 0.1911 - val_precision: 0.1911 - val_recall: 1.0000\n"
          ]
        },
        {
          "output_type": "stream",
          "name": "stderr",
          "text": [
            "WARNING:absl:Compiled the loaded model, but the compiled metrics have yet to be built. `model.compile_metrics` will be empty until you train or evaluate the model.\n"
          ]
        },
        {
          "output_type": "stream",
          "name": "stdout",
          "text": [
            "\u001b[1m5/5\u001b[0m \u001b[32m━━━━━━━━━━━━━━━━━━━━\u001b[0m\u001b[37m\u001b[0m \u001b[1m1s\u001b[0m 136ms/step\n",
            "\n",
            "   • Optimal threshold: 0.9966\n",
            "              precision    recall  f1-score   support\n",
            "\n",
            "           0     0.9333    0.1102    0.1972       127\n",
            "           1     0.2042    0.9667    0.3372        30\n",
            "\n",
            "    accuracy                         0.2739       157\n",
            "   macro avg     0.5688    0.5385    0.2672       157\n",
            "weighted avg     0.7940    0.2739    0.2239       157\n",
            "\n",
            "\n",
            "▶️ Channel D-14: 2 anomaly intervals\n",
            "   • Windows: 3576, Anomalies: 418 (11.69%)\n",
            "   • Class weights: {0: np.float64(0.566289592760181), 1: np.float64(4.271331058020478)}\n"
          ]
        },
        {
          "output_type": "stream",
          "name": "stderr",
          "text": [
            "/usr/local/lib/python3.11/dist-packages/keras/src/layers/convolutional/base_conv.py:107: UserWarning: Do not pass an `input_shape`/`input_dim` argument to a layer. When using Sequential models, prefer using an `Input(shape)` object as the first layer in the model instead.\n",
            "  super().__init__(activity_regularizer=activity_regularizer, **kwargs)\n"
          ]
        },
        {
          "output_type": "stream",
          "name": "stdout",
          "text": [
            "   • Training model...\n",
            "Epoch 1/50\n",
            "\u001b[1m79/79\u001b[0m \u001b[32m━━━━━━━━━━━━━━━━━━━━\u001b[0m\u001b[37m\u001b[0m \u001b[1m0s\u001b[0m 67ms/step - accuracy: 0.7379 - auc: 0.6512 - loss: 0.1737 - prc: 0.1411 - precision: 0.1352 - recall: 0.2608\n",
            "Epoch 1: val_prc improved from -inf to 0.08489, saving model to models/D-14_best.h5\n"
          ]
        },
        {
          "output_type": "stream",
          "name": "stderr",
          "text": [
            "WARNING:absl:You are saving your model as an HDF5 file via `model.save()` or `keras.saving.save_model(model)`. This file format is considered legacy. We recommend using instead the native Keras format, e.g. `model.save('my_model.keras')` or `keras.saving.save_model(model, 'my_model.keras')`. \n"
          ]
        },
        {
          "output_type": "stream",
          "name": "stdout",
          "text": [
            "\b\b\b\b\b\b\b\b\b\b\b\b\b\b\b\b\b\b\b\b\b\b\b\b\b\b\b\b\b\b\b\b\b\b\b\b\b\b\b\b\b\b\b\b\b\b\b\b\b\b\b\b\b\b\b\b\b\b\b\b\b\b\b\b\b\b\b\b\b\b\b\b\b\b\b\b\b\b\b\b\b\b\b\b\b\b\b\b\b\b\b\b\b\b\b\b\b\b\b\b\b\b\b\b\b\b\b\b\b\b\b\b\b\b\b\b\b\b\b\b\b\b\b\b\b\b\b\b\b\b\b\b\b\b\b\b\b\b\r\u001b[1m79/79\u001b[0m \u001b[32m━━━━━━━━━━━━━━━━━━━━\u001b[0m\u001b[37m\u001b[0m \u001b[1m15s\u001b[0m 97ms/step - accuracy: 0.7382 - auc: 0.6516 - loss: 0.1729 - prc: 0.1414 - precision: 0.1355 - recall: 0.2606 - val_accuracy: 0.1157 - val_auc: 0.3655 - val_loss: 1.0912 - val_prc: 0.0849 - val_precision: 0.1157 - val_recall: 1.0000\n",
            "Epoch 2/50\n",
            "\u001b[1m71/79\u001b[0m \u001b[32m━━━━━━━━━━━━━━━━━\u001b[0m\u001b[37m━━━\u001b[0m \u001b[1m0s\u001b[0m 6ms/step - accuracy: 0.8725 - auc: 0.7182 - loss: 0.0581 - prc: 0.2147 - precision: 0.3058 - recall: 0.1429\n",
            "Epoch 2: val_prc improved from 0.08489 to 0.08913, saving model to models/D-14_best.h5\n"
          ]
        },
        {
          "output_type": "stream",
          "name": "stderr",
          "text": [
            "WARNING:absl:You are saving your model as an HDF5 file via `model.save()` or `keras.saving.save_model(model)`. This file format is considered legacy. We recommend using instead the native Keras format, e.g. `model.save('my_model.keras')` or `keras.saving.save_model(model, 'my_model.keras')`. \n"
          ]
        },
        {
          "output_type": "stream",
          "name": "stdout",
          "text": [
            "\b\b\b\b\b\b\b\b\b\b\b\b\b\b\b\b\b\b\b\b\b\b\b\b\b\b\b\b\b\b\b\b\b\b\b\b\b\b\b\b\b\b\b\b\b\b\b\b\b\b\b\b\b\b\b\b\b\b\b\b\b\b\b\b\b\b\b\b\b\b\b\b\b\b\b\b\b\b\b\b\b\b\b\b\b\b\b\b\b\b\b\b\b\b\b\b\b\b\b\b\b\b\b\b\b\b\b\b\b\b\b\b\b\b\b\b\b\b\b\b\b\b\b\b\b\b\b\b\b\b\b\b\b\b\b\b\b\r\u001b[1m79/79\u001b[0m \u001b[32m━━━━━━━━━━━━━━━━━━━━\u001b[0m\u001b[37m\u001b[0m \u001b[1m1s\u001b[0m 9ms/step - accuracy: 0.8715 - auc: 0.7187 - loss: 0.0583 - prc: 0.2162 - precision: 0.3061 - recall: 0.1424 - val_accuracy: 0.1157 - val_auc: 0.3978 - val_loss: 1.9722 - val_prc: 0.0891 - val_precision: 0.1157 - val_recall: 1.0000\n",
            "Epoch 3/50\n",
            "\u001b[1m74/79\u001b[0m \u001b[32m━━━━━━━━━━━━━━━━━━\u001b[0m\u001b[37m━━\u001b[0m \u001b[1m0s\u001b[0m 6ms/step - accuracy: 0.8355 - auc: 0.7438 - loss: 0.0580 - prc: 0.2608 - precision: 0.2606 - recall: 0.2681\n",
            "Epoch 3: val_prc improved from 0.08913 to 0.09515, saving model to models/D-14_best.h5\n"
          ]
        },
        {
          "output_type": "stream",
          "name": "stderr",
          "text": [
            "WARNING:absl:You are saving your model as an HDF5 file via `model.save()` or `keras.saving.save_model(model)`. This file format is considered legacy. We recommend using instead the native Keras format, e.g. `model.save('my_model.keras')` or `keras.saving.save_model(model, 'my_model.keras')`. \n"
          ]
        },
        {
          "output_type": "stream",
          "name": "stdout",
          "text": [
            "\b\b\b\b\b\b\b\b\b\b\b\b\b\b\b\b\b\b\b\b\b\b\b\b\b\b\b\b\b\b\b\b\b\b\b\b\b\b\b\b\b\b\b\b\b\b\b\b\b\b\b\b\b\b\b\b\b\b\b\b\b\b\b\b\b\b\b\b\b\b\b\b\b\b\b\b\b\b\b\b\b\b\b\b\b\b\b\b\b\b\b\b\b\b\b\b\b\b\b\b\b\b\b\b\b\b\b\b\b\b\b\b\b\b\b\b\b\b\b\b\b\b\b\b\b\b\b\b\b\b\b\b\b\b\b\b\b\r\u001b[1m79/79\u001b[0m \u001b[32m━━━━━━━━━━━━━━━━━━━━\u001b[0m\u001b[37m\u001b[0m \u001b[1m1s\u001b[0m 9ms/step - accuracy: 0.8368 - auc: 0.7431 - loss: 0.0581 - prc: 0.2594 - precision: 0.2624 - recall: 0.2609 - val_accuracy: 0.1157 - val_auc: 0.4372 - val_loss: 2.3870 - val_prc: 0.0951 - val_precision: 0.1157 - val_recall: 1.0000\n",
            "Epoch 4/50\n",
            "\u001b[1m77/79\u001b[0m \u001b[32m━━━━━━━━━━━━━━━━━━━\u001b[0m\u001b[37m━\u001b[0m \u001b[1m0s\u001b[0m 6ms/step - accuracy: 0.8904 - auc: 0.7442 - loss: 0.0546 - prc: 0.2844 - precision: 0.5057 - recall: 0.1476\n",
            "Epoch 4: val_prc improved from 0.09515 to 0.10352, saving model to models/D-14_best.h5\n"
          ]
        },
        {
          "output_type": "stream",
          "name": "stderr",
          "text": [
            "WARNING:absl:You are saving your model as an HDF5 file via `model.save()` or `keras.saving.save_model(model)`. This file format is considered legacy. We recommend using instead the native Keras format, e.g. `model.save('my_model.keras')` or `keras.saving.save_model(model, 'my_model.keras')`. \n"
          ]
        },
        {
          "output_type": "stream",
          "name": "stdout",
          "text": [
            "\b\b\b\b\b\b\b\b\b\b\b\b\b\b\b\b\b\b\b\b\b\b\b\b\b\b\b\b\b\b\b\b\b\b\b\b\b\b\b\b\b\b\b\b\b\b\b\b\b\b\b\b\b\b\b\b\b\b\b\b\b\b\b\b\b\b\b\b\b\b\b\b\b\b\b\b\b\b\b\b\b\b\b\b\b\b\b\b\b\b\b\b\b\b\b\b\b\b\b\b\b\b\b\b\b\b\b\b\b\b\b\b\b\b\b\b\b\b\b\b\b\b\b\b\b\b\b\b\b\b\b\b\b\b\b\b\b\r\u001b[1m79/79\u001b[0m \u001b[32m━━━━━━━━━━━━━━━━━━━━\u001b[0m\u001b[37m\u001b[0m \u001b[1m1s\u001b[0m 8ms/step - accuracy: 0.8899 - auc: 0.7450 - loss: 0.0546 - prc: 0.2857 - precision: 0.5032 - recall: 0.1491 - val_accuracy: 0.1157 - val_auc: 0.4867 - val_loss: 2.2118 - val_prc: 0.1035 - val_precision: 0.1157 - val_recall: 1.0000\n",
            "Epoch 5/50\n",
            "\u001b[1m73/79\u001b[0m \u001b[32m━━━━━━━━━━━━━━━━━━\u001b[0m\u001b[37m━━\u001b[0m \u001b[1m0s\u001b[0m 6ms/step - accuracy: 0.8699 - auc: 0.7891 - loss: 0.0513 - prc: 0.3487 - precision: 0.3818 - recall: 0.3007\n",
            "Epoch 5: val_prc improved from 0.10352 to 0.10930, saving model to models/D-14_best.h5\n"
          ]
        },
        {
          "output_type": "stream",
          "name": "stderr",
          "text": [
            "WARNING:absl:You are saving your model as an HDF5 file via `model.save()` or `keras.saving.save_model(model)`. This file format is considered legacy. We recommend using instead the native Keras format, e.g. `model.save('my_model.keras')` or `keras.saving.save_model(model, 'my_model.keras')`. \n"
          ]
        },
        {
          "output_type": "stream",
          "name": "stdout",
          "text": [
            "\b\b\b\b\b\b\b\b\b\b\b\b\b\b\b\b\b\b\b\b\b\b\b\b\b\b\b\b\b\b\b\b\b\b\b\b\b\b\b\b\b\b\b\b\b\b\b\b\b\b\b\b\b\b\b\b\b\b\b\b\b\b\b\b\b\b\b\b\b\b\b\b\b\b\b\b\b\b\b\b\b\b\b\b\b\b\b\b\b\b\b\b\b\b\b\b\b\b\b\b\b\b\b\b\b\b\b\b\b\b\b\b\b\b\b\b\b\b\b\b\b\b\b\b\b\b\b\b\b\b\b\b\b\b\b\b\b\r\u001b[1m79/79\u001b[0m \u001b[32m━━━━━━━━━━━━━━━━━━━━\u001b[0m\u001b[37m\u001b[0m \u001b[1m1s\u001b[0m 9ms/step - accuracy: 0.8702 - auc: 0.7890 - loss: 0.0513 - prc: 0.3491 - precision: 0.3846 - recall: 0.2923 - val_accuracy: 0.1157 - val_auc: 0.5137 - val_loss: 1.2620 - val_prc: 0.1093 - val_precision: 0.1157 - val_recall: 1.0000\n",
            "Epoch 6/50\n",
            "\u001b[1m76/79\u001b[0m \u001b[32m━━━━━━━━━━━━━━━━━━━\u001b[0m\u001b[37m━\u001b[0m \u001b[1m0s\u001b[0m 6ms/step - accuracy: 0.8658 - auc: 0.7920 - loss: 0.0496 - prc: 0.3526 - precision: 0.3384 - recall: 0.2300\n",
            "Epoch 6: val_prc improved from 0.10930 to 0.39998, saving model to models/D-14_best.h5\n"
          ]
        },
        {
          "output_type": "stream",
          "name": "stderr",
          "text": [
            "WARNING:absl:You are saving your model as an HDF5 file via `model.save()` or `keras.saving.save_model(model)`. This file format is considered legacy. We recommend using instead the native Keras format, e.g. `model.save('my_model.keras')` or `keras.saving.save_model(model, 'my_model.keras')`. \n"
          ]
        },
        {
          "output_type": "stream",
          "name": "stdout",
          "text": [
            "\b\b\b\b\b\b\b\b\b\b\b\b\b\b\b\b\b\b\b\b\b\b\b\b\b\b\b\b\b\b\b\b\b\b\b\b\b\b\b\b\b\b\b\b\b\b\b\b\b\b\b\b\b\b\b\b\b\b\b\b\b\b\b\b\b\b\b\b\b\b\b\b\b\b\b\b\b\b\b\b\b\b\b\b\b\b\b\b\b\b\b\b\b\b\b\b\b\b\b\b\b\b\b\b\b\b\b\b\b\b\b\b\b\b\b\b\b\b\b\b\b\b\b\b\b\b\b\b\b\b\b\b\b\b\b\b\b\r\u001b[1m79/79\u001b[0m \u001b[32m━━━━━━━━━━━━━━━━━━━━\u001b[0m\u001b[37m\u001b[0m \u001b[1m1s\u001b[0m 9ms/step - accuracy: 0.8659 - auc: 0.7930 - loss: 0.0496 - prc: 0.3544 - precision: 0.3415 - recall: 0.2308 - val_accuracy: 0.4757 - val_auc: 0.8586 - val_loss: 0.1064 - val_prc: 0.4000 - val_precision: 0.1808 - val_recall: 1.0000\n",
            "Epoch 7/50\n",
            "\u001b[1m75/79\u001b[0m \u001b[32m━━━━━━━━━━━━━━━━━━\u001b[0m\u001b[37m━━\u001b[0m \u001b[1m0s\u001b[0m 6ms/step - accuracy: 0.8805 - auc: 0.8045 - loss: 0.0503 - prc: 0.3567 - precision: 0.3950 - recall: 0.1679\n",
            "Epoch 7: val_prc improved from 0.39998 to 0.43042, saving model to models/D-14_best.h5\n"
          ]
        },
        {
          "output_type": "stream",
          "name": "stderr",
          "text": [
            "WARNING:absl:You are saving your model as an HDF5 file via `model.save()` or `keras.saving.save_model(model)`. This file format is considered legacy. We recommend using instead the native Keras format, e.g. `model.save('my_model.keras')` or `keras.saving.save_model(model, 'my_model.keras')`. \n"
          ]
        },
        {
          "output_type": "stream",
          "name": "stdout",
          "text": [
            "\b\b\b\b\b\b\b\b\b\b\b\b\b\b\b\b\b\b\b\b\b\b\b\b\b\b\b\b\b\b\b\b\b\b\b\b\b\b\b\b\b\b\b\b\b\b\b\b\b\b\b\b\b\b\b\b\b\b\b\b\b\b\b\b\b\b\b\b\b\b\b\b\b\b\b\b\b\b\b\b\b\b\b\b\b\b\b\b\b\b\b\b\b\b\b\b\b\b\b\b\b\b\b\b\b\b\b\b\b\b\b\b\b\b\b\b\b\b\b\b\b\b\b\b\b\b\b\b\b\b\b\b\b\b\b\b\b\r\u001b[1m79/79\u001b[0m \u001b[32m━━━━━━━━━━━━━━━━━━━━\u001b[0m\u001b[37m\u001b[0m \u001b[1m1s\u001b[0m 8ms/step - accuracy: 0.8809 - auc: 0.8050 - loss: 0.0503 - prc: 0.3594 - precision: 0.4035 - recall: 0.1692 - val_accuracy: 0.4888 - val_auc: 0.8889 - val_loss: 0.1150 - val_prc: 0.4304 - val_precision: 0.1845 - val_recall: 1.0000\n",
            "Epoch 8/50\n",
            "\u001b[1m71/79\u001b[0m \u001b[32m━━━━━━━━━━━━━━━━━\u001b[0m\u001b[37m━━━\u001b[0m \u001b[1m0s\u001b[0m 6ms/step - accuracy: 0.8981 - auc: 0.8636 - loss: 0.0439 - prc: 0.5166 - precision: 0.5903 - recall: 0.3938\n",
            "Epoch 8: val_prc improved from 0.43042 to 0.54929, saving model to models/D-14_best.h5\n"
          ]
        },
        {
          "output_type": "stream",
          "name": "stderr",
          "text": [
            "WARNING:absl:You are saving your model as an HDF5 file via `model.save()` or `keras.saving.save_model(model)`. This file format is considered legacy. We recommend using instead the native Keras format, e.g. `model.save('my_model.keras')` or `keras.saving.save_model(model, 'my_model.keras')`. \n"
          ]
        },
        {
          "output_type": "stream",
          "name": "stdout",
          "text": [
            "\b\b\b\b\b\b\b\b\b\b\b\b\b\b\b\b\b\b\b\b\b\b\b\b\b\b\b\b\b\b\b\b\b\b\b\b\b\b\b\b\b\b\b\b\b\b\b\b\b\b\b\b\b\b\b\b\b\b\b\b\b\b\b\b\b\b\b\b\b\b\b\b\b\b\b\b\b\b\b\b\b\b\b\b\b\b\b\b\b\b\b\b\b\b\b\b\b\b\b\b\b\b\b\b\b\b\b\b\b\b\b\b\b\b\b\b\b\b\b\b\b\b\b\b\b\b\b\b\b\b\b\b\b\b\b\b\b\r\u001b[1m79/79\u001b[0m \u001b[32m━━━━━━━━━━━━━━━━━━━━\u001b[0m\u001b[37m\u001b[0m \u001b[1m1s\u001b[0m 9ms/step - accuracy: 0.8965 - auc: 0.8627 - loss: 0.0442 - prc: 0.5153 - precision: 0.5798 - recall: 0.3940 - val_accuracy: 0.8974 - val_auc: 0.8876 - val_loss: 0.0517 - val_prc: 0.5493 - val_precision: 0.6522 - val_recall: 0.2419\n",
            "Epoch 9/50\n",
            "\u001b[1m73/79\u001b[0m \u001b[32m━━━━━━━━━━━━━━━━━━\u001b[0m\u001b[37m━━\u001b[0m \u001b[1m0s\u001b[0m 7ms/step - accuracy: 0.8824 - auc: 0.8559 - loss: 0.0441 - prc: 0.4836 - precision: 0.4550 - recall: 0.4222\n",
            "Epoch 9: val_prc improved from 0.54929 to 0.72448, saving model to models/D-14_best.h5\n"
          ]
        },
        {
          "output_type": "stream",
          "name": "stderr",
          "text": [
            "WARNING:absl:You are saving your model as an HDF5 file via `model.save()` or `keras.saving.save_model(model)`. This file format is considered legacy. We recommend using instead the native Keras format, e.g. `model.save('my_model.keras')` or `keras.saving.save_model(model, 'my_model.keras')`. \n"
          ]
        },
        {
          "output_type": "stream",
          "name": "stdout",
          "text": [
            "\b\b\b\b\b\b\b\b\b\b\b\b\b\b\b\b\b\b\b\b\b\b\b\b\b\b\b\b\b\b\b\b\b\b\b\b\b\b\b\b\b\b\b\b\b\b\b\b\b\b\b\b\b\b\b\b\b\b\b\b\b\b\b\b\b\b\b\b\b\b\b\b\b\b\b\b\b\b\b\b\b\b\b\b\b\b\b\b\b\b\b\b\b\b\b\b\b\b\b\b\b\b\b\b\b\b\b\b\b\b\b\b\b\b\b\b\b\b\b\b\b\b\b\b\b\b\b\b\b\b\b\b\b\b\b\b\b\r\u001b[1m79/79\u001b[0m \u001b[32m━━━━━━━━━━━━━━━━━━━━\u001b[0m\u001b[37m\u001b[0m \u001b[1m1s\u001b[0m 12ms/step - accuracy: 0.8817 - auc: 0.8557 - loss: 0.0443 - prc: 0.4842 - precision: 0.4550 - recall: 0.4224 - val_accuracy: 0.6063 - val_auc: 0.9254 - val_loss: 0.0802 - val_prc: 0.7245 - val_precision: 0.2251 - val_recall: 0.9839\n",
            "Epoch 10/50\n",
            "\u001b[1m75/79\u001b[0m \u001b[32m━━━━━━━━━━━━━━━━━━\u001b[0m\u001b[37m━━\u001b[0m \u001b[1m0s\u001b[0m 8ms/step - accuracy: 0.8681 - auc: 0.8543 - loss: 0.0456 - prc: 0.4814 - precision: 0.4194 - recall: 0.4313\n",
            "Epoch 10: val_prc did not improve from 0.72448\n",
            "\u001b[1m79/79\u001b[0m \u001b[32m━━━━━━━━━━━━━━━━━━━━\u001b[0m\u001b[37m\u001b[0m \u001b[1m1s\u001b[0m 11ms/step - accuracy: 0.8691 - auc: 0.8550 - loss: 0.0456 - prc: 0.4843 - precision: 0.4246 - recall: 0.4314 - val_accuracy: 0.5541 - val_auc: 0.9039 - val_loss: 0.1897 - val_prc: 0.6521 - val_precision: 0.2060 - val_recall: 1.0000\n",
            "Epoch 11/50\n",
            "\u001b[1m78/79\u001b[0m \u001b[32m━━━━━━━━━━━━━━━━━━━\u001b[0m\u001b[37m━\u001b[0m \u001b[1m0s\u001b[0m 8ms/step - accuracy: 0.8915 - auc: 0.8773 - loss: 0.0424 - prc: 0.5604 - precision: 0.5041 - recall: 0.4415\n",
            "Epoch 11: val_prc did not improve from 0.72448\n",
            "\u001b[1m79/79\u001b[0m \u001b[32m━━━━━━━━━━━━━━━━━━━━\u001b[0m\u001b[37m\u001b[0m \u001b[1m1s\u001b[0m 11ms/step - accuracy: 0.8917 - auc: 0.8776 - loss: 0.0424 - prc: 0.5614 - precision: 0.5065 - recall: 0.4414 - val_accuracy: 0.6735 - val_auc: 0.9029 - val_loss: 0.0805 - val_prc: 0.6391 - val_precision: 0.2616 - val_recall: 1.0000\n",
            "Epoch 12/50\n",
            "\u001b[1m75/79\u001b[0m \u001b[32m━━━━━━━━━━━━━━━━━━\u001b[0m\u001b[37m━━\u001b[0m \u001b[1m0s\u001b[0m 6ms/step - accuracy: 0.8850 - auc: 0.9093 - loss: 0.0386 - prc: 0.6441 - precision: 0.4917 - recall: 0.5864\n",
            "Epoch 12: val_prc improved from 0.72448 to 0.72917, saving model to models/D-14_best.h5\n"
          ]
        },
        {
          "output_type": "stream",
          "name": "stderr",
          "text": [
            "WARNING:absl:You are saving your model as an HDF5 file via `model.save()` or `keras.saving.save_model(model)`. This file format is considered legacy. We recommend using instead the native Keras format, e.g. `model.save('my_model.keras')` or `keras.saving.save_model(model, 'my_model.keras')`. \n"
          ]
        },
        {
          "output_type": "stream",
          "name": "stdout",
          "text": [
            "\b\b\b\b\b\b\b\b\b\b\b\b\b\b\b\b\b\b\b\b\b\b\b\b\b\b\b\b\b\b\b\b\b\b\b\b\b\b\b\b\b\b\b\b\b\b\b\b\b\b\b\b\b\b\b\b\b\b\b\b\b\b\b\b\b\b\b\b\b\b\b\b\b\b\b\b\b\b\b\b\b\b\b\b\b\b\b\b\b\b\b\b\b\b\b\b\b\b\b\b\b\b\b\b\b\b\b\b\b\b\b\b\b\b\b\b\b\b\b\b\b\b\b\b\b\b\b\b\b\b\b\b\b\b\b\b\b\r\u001b[1m79/79\u001b[0m \u001b[32m━━━━━━━━━━━━━━━━━━━━\u001b[0m\u001b[37m\u001b[0m \u001b[1m1s\u001b[0m 9ms/step - accuracy: 0.8860 - auc: 0.9089 - loss: 0.0387 - prc: 0.6437 - precision: 0.4971 - recall: 0.5836 - val_accuracy: 0.6530 - val_auc: 0.9283 - val_loss: 0.1176 - val_prc: 0.7292 - val_precision: 0.2500 - val_recall: 1.0000\n",
            "Epoch 13/50\n",
            "\u001b[1m74/79\u001b[0m \u001b[32m━━━━━━━━━━━━━━━━━━\u001b[0m\u001b[37m━━\u001b[0m \u001b[1m0s\u001b[0m 6ms/step - accuracy: 0.9150 - auc: 0.8913 - loss: 0.0423 - prc: 0.5922 - precision: 0.6279 - recall: 0.5204\n",
            "Epoch 13: val_prc improved from 0.72917 to 0.79357, saving model to models/D-14_best.h5\n"
          ]
        },
        {
          "output_type": "stream",
          "name": "stderr",
          "text": [
            "WARNING:absl:You are saving your model as an HDF5 file via `model.save()` or `keras.saving.save_model(model)`. This file format is considered legacy. We recommend using instead the native Keras format, e.g. `model.save('my_model.keras')` or `keras.saving.save_model(model, 'my_model.keras')`. \n"
          ]
        },
        {
          "output_type": "stream",
          "name": "stdout",
          "text": [
            "\b\b\b\b\b\b\b\b\b\b\b\b\b\b\b\b\b\b\b\b\b\b\b\b\b\b\b\b\b\b\b\b\b\b\b\b\b\b\b\b\b\b\b\b\b\b\b\b\b\b\b\b\b\b\b\b\b\b\b\b\b\b\b\b\b\b\b\b\b\b\b\b\b\b\b\b\b\b\b\b\b\b\b\b\b\b\b\b\b\b\b\b\b\b\b\b\b\b\b\b\b\b\b\b\b\b\b\b\b\b\b\b\b\b\b\b\b\b\b\b\b\b\b\b\b\b\b\b\b\b\b\b\b\b\b\b\b\r\u001b[1m79/79\u001b[0m \u001b[32m━━━━━━━━━━━━━━━━━━━━\u001b[0m\u001b[37m\u001b[0m \u001b[1m1s\u001b[0m 9ms/step - accuracy: 0.9146 - auc: 0.8912 - loss: 0.0423 - prc: 0.5931 - precision: 0.6298 - recall: 0.5181 - val_accuracy: 0.9403 - val_auc: 0.9454 - val_loss: 0.0369 - val_prc: 0.7936 - val_precision: 0.7885 - val_recall: 0.6613\n",
            "Epoch 14/50\n",
            "\u001b[1m79/79\u001b[0m \u001b[32m━━━━━━━━━━━━━━━━━━━━\u001b[0m\u001b[37m\u001b[0m \u001b[1m0s\u001b[0m 5ms/step - accuracy: 0.9057 - auc: 0.8923 - loss: 0.0412 - prc: 0.5918 - precision: 0.5886 - recall: 0.4773\n",
            "Epoch 14: val_prc improved from 0.79357 to 0.79967, saving model to models/D-14_best.h5\n"
          ]
        },
        {
          "output_type": "stream",
          "name": "stderr",
          "text": [
            "WARNING:absl:You are saving your model as an HDF5 file via `model.save()` or `keras.saving.save_model(model)`. This file format is considered legacy. We recommend using instead the native Keras format, e.g. `model.save('my_model.keras')` or `keras.saving.save_model(model, 'my_model.keras')`. \n"
          ]
        },
        {
          "output_type": "stream",
          "name": "stdout",
          "text": [
            "\b\b\b\b\b\b\b\b\b\b\b\b\b\b\b\b\b\b\b\b\b\b\b\b\b\b\b\b\b\b\b\b\b\b\b\b\b\b\b\b\b\b\b\b\b\b\b\b\b\b\b\b\b\b\b\b\b\b\b\b\b\b\b\b\b\b\b\b\b\b\b\b\b\b\b\b\b\b\b\b\b\b\b\b\b\b\b\b\b\b\b\b\b\b\b\b\b\b\b\b\b\b\b\b\b\b\b\b\b\b\b\b\b\b\b\b\b\b\b\b\b\b\b\b\b\b\b\b\b\b\b\b\b\b\b\b\b\r\u001b[1m79/79\u001b[0m \u001b[32m━━━━━━━━━━━━━━━━━━━━\u001b[0m\u001b[37m\u001b[0m \u001b[1m1s\u001b[0m 9ms/step - accuracy: 0.9057 - auc: 0.8924 - loss: 0.0412 - prc: 0.5920 - precision: 0.5894 - recall: 0.4771 - val_accuracy: 0.6754 - val_auc: 0.9481 - val_loss: 0.0751 - val_prc: 0.7997 - val_precision: 0.2627 - val_recall: 1.0000\n",
            "Epoch 15/50\n",
            "\u001b[1m75/79\u001b[0m \u001b[32m━━━━━━━━━━━━━━━━━━\u001b[0m\u001b[37m━━\u001b[0m \u001b[1m0s\u001b[0m 6ms/step - accuracy: 0.9188 - auc: 0.9153 - loss: 0.0353 - prc: 0.6836 - precision: 0.6324 - recall: 0.6008\n",
            "Epoch 15: val_prc did not improve from 0.79967\n",
            "\u001b[1m79/79\u001b[0m \u001b[32m━━━━━━━━━━━━━━━━━━━━\u001b[0m\u001b[37m\u001b[0m \u001b[1m1s\u001b[0m 7ms/step - accuracy: 0.9183 - auc: 0.9150 - loss: 0.0354 - prc: 0.6829 - precision: 0.6324 - recall: 0.5988 - val_accuracy: 0.6866 - val_auc: 0.9397 - val_loss: 0.0834 - val_prc: 0.7706 - val_precision: 0.2696 - val_recall: 1.0000\n",
            "Epoch 16/50\n",
            "\u001b[1m77/79\u001b[0m \u001b[32m━━━━━━━━━━━━━━━━━━━\u001b[0m\u001b[37m━\u001b[0m \u001b[1m0s\u001b[0m 6ms/step - accuracy: 0.9290 - auc: 0.9193 - loss: 0.0359 - prc: 0.6885 - precision: 0.7134 - recall: 0.5763\n",
            "Epoch 16: val_prc did not improve from 0.79967\n",
            "\u001b[1m79/79\u001b[0m \u001b[32m━━━━━━━━━━━━━━━━━━━━\u001b[0m\u001b[37m\u001b[0m \u001b[1m1s\u001b[0m 7ms/step - accuracy: 0.9288 - auc: 0.9192 - loss: 0.0359 - prc: 0.6885 - precision: 0.7135 - recall: 0.5758 - val_accuracy: 0.9384 - val_auc: 0.9508 - val_loss: 0.0305 - val_prc: 0.7939 - val_precision: 0.8537 - val_recall: 0.5645\n",
            "Epoch 17/50\n",
            "\u001b[1m77/79\u001b[0m \u001b[32m━━━━━━━━━━━━━━━━━━━\u001b[0m\u001b[37m━\u001b[0m \u001b[1m0s\u001b[0m 6ms/step - accuracy: 0.9205 - auc: 0.9241 - loss: 0.0359 - prc: 0.6896 - precision: 0.6502 - recall: 0.6022\n",
            "Epoch 17: val_prc improved from 0.79967 to 0.82008, saving model to models/D-14_best.h5\n"
          ]
        },
        {
          "output_type": "stream",
          "name": "stderr",
          "text": [
            "WARNING:absl:You are saving your model as an HDF5 file via `model.save()` or `keras.saving.save_model(model)`. This file format is considered legacy. We recommend using instead the native Keras format, e.g. `model.save('my_model.keras')` or `keras.saving.save_model(model, 'my_model.keras')`. \n"
          ]
        },
        {
          "output_type": "stream",
          "name": "stdout",
          "text": [
            "\b\b\b\b\b\b\b\b\b\b\b\b\b\b\b\b\b\b\b\b\b\b\b\b\b\b\b\b\b\b\b\b\b\b\b\b\b\b\b\b\b\b\b\b\b\b\b\b\b\b\b\b\b\b\b\b\b\b\b\b\b\b\b\b\b\b\b\b\b\b\b\b\b\b\b\b\b\b\b\b\b\b\b\b\b\b\b\b\b\b\b\b\b\b\b\b\b\b\b\b\b\b\b\b\b\b\b\b\b\b\b\b\b\b\b\b\b\b\b\b\b\b\b\b\b\b\b\b\b\b\b\b\b\b\b\b\b\r\u001b[1m79/79\u001b[0m \u001b[32m━━━━━━━━━━━━━━━━━━━━\u001b[0m\u001b[37m\u001b[0m \u001b[1m1s\u001b[0m 9ms/step - accuracy: 0.9206 - auc: 0.9239 - loss: 0.0359 - prc: 0.6900 - precision: 0.6530 - recall: 0.6007 - val_accuracy: 0.9496 - val_auc: 0.9543 - val_loss: 0.0357 - val_prc: 0.8201 - val_precision: 0.8070 - val_recall: 0.7419\n",
            "Epoch 18/50\n",
            "\u001b[1m77/79\u001b[0m \u001b[32m━━━━━━━━━━━━━━━━━━━\u001b[0m\u001b[37m━\u001b[0m \u001b[1m0s\u001b[0m 6ms/step - accuracy: 0.9299 - auc: 0.9385 - loss: 0.0295 - prc: 0.7722 - precision: 0.6914 - recall: 0.6465\n",
            "Epoch 18: val_prc did not improve from 0.82008\n",
            "\u001b[1m79/79\u001b[0m \u001b[32m━━━━━━━━━━━━━━━━━━━━\u001b[0m\u001b[37m\u001b[0m \u001b[1m1s\u001b[0m 7ms/step - accuracy: 0.9298 - auc: 0.9383 - loss: 0.0296 - prc: 0.7716 - precision: 0.6927 - recall: 0.6453 - val_accuracy: 0.7015 - val_auc: 0.9496 - val_loss: 0.0746 - val_prc: 0.8035 - val_precision: 0.2793 - val_recall: 1.0000\n",
            "Epoch 19/50\n",
            "\u001b[1m73/79\u001b[0m \u001b[32m━━━━━━━━━━━━━━━━━━\u001b[0m\u001b[37m━━\u001b[0m \u001b[1m0s\u001b[0m 6ms/step - accuracy: 0.9311 - auc: 0.9293 - loss: 0.0308 - prc: 0.7395 - precision: 0.7251 - recall: 0.5871\n",
            "Epoch 19: val_prc did not improve from 0.82008\n",
            "\u001b[1m79/79\u001b[0m \u001b[32m━━━━━━━━━━━━━━━━━━━━\u001b[0m\u001b[37m\u001b[0m \u001b[1m1s\u001b[0m 8ms/step - accuracy: 0.9313 - auc: 0.9294 - loss: 0.0309 - prc: 0.7408 - precision: 0.7309 - recall: 0.5869 - val_accuracy: 0.9403 - val_auc: 0.9532 - val_loss: 0.0432 - val_prc: 0.8184 - val_precision: 0.7500 - val_recall: 0.7258\n",
            "Epoch 20/50\n",
            "\u001b[1m77/79\u001b[0m \u001b[32m━━━━━━━━━━━━━━━━━━━\u001b[0m\u001b[37m━\u001b[0m \u001b[1m0s\u001b[0m 6ms/step - accuracy: 0.9351 - auc: 0.9320 - loss: 0.0316 - prc: 0.7467 - precision: 0.7456 - recall: 0.6300\n",
            "Epoch 20: val_prc improved from 0.82008 to 0.84166, saving model to models/D-14_best.h5\n"
          ]
        },
        {
          "output_type": "stream",
          "name": "stderr",
          "text": [
            "WARNING:absl:You are saving your model as an HDF5 file via `model.save()` or `keras.saving.save_model(model)`. This file format is considered legacy. We recommend using instead the native Keras format, e.g. `model.save('my_model.keras')` or `keras.saving.save_model(model, 'my_model.keras')`. \n"
          ]
        },
        {
          "output_type": "stream",
          "name": "stdout",
          "text": [
            "\b\b\b\b\b\b\b\b\b\b\b\b\b\b\b\b\b\b\b\b\b\b\b\b\b\b\b\b\b\b\b\b\b\b\b\b\b\b\b\b\b\b\b\b\b\b\b\b\b\b\b\b\b\b\b\b\b\b\b\b\b\b\b\b\b\b\b\b\b\b\b\b\b\b\b\b\b\b\b\b\b\b\b\b\b\b\b\b\b\b\b\b\b\b\b\b\b\b\b\b\b\b\b\b\b\b\b\b\b\b\b\b\b\b\b\b\b\b\b\b\b\b\b\b\b\b\b\b\b\b\b\b\b\b\b\b\b\r\u001b[1m79/79\u001b[0m \u001b[32m━━━━━━━━━━━━━━━━━━━━\u001b[0m\u001b[37m\u001b[0m \u001b[1m1s\u001b[0m 8ms/step - accuracy: 0.9351 - auc: 0.9319 - loss: 0.0316 - prc: 0.7467 - precision: 0.7481 - recall: 0.6283 - val_accuracy: 0.9515 - val_auc: 0.9592 - val_loss: 0.0286 - val_prc: 0.8417 - val_precision: 0.8750 - val_recall: 0.6774\n",
            "Epoch 21/50\n",
            "\u001b[1m75/79\u001b[0m \u001b[32m━━━━━━━━━━━━━━━━━━\u001b[0m\u001b[37m━━\u001b[0m \u001b[1m0s\u001b[0m 6ms/step - accuracy: 0.9495 - auc: 0.9434 - loss: 0.0274 - prc: 0.7895 - precision: 0.8746 - recall: 0.6237\n",
            "Epoch 21: val_prc did not improve from 0.84166\n",
            "\u001b[1m79/79\u001b[0m \u001b[32m━━━━━━━━━━━━━━━━━━━━\u001b[0m\u001b[37m\u001b[0m \u001b[1m1s\u001b[0m 8ms/step - accuracy: 0.9486 - auc: 0.9425 - loss: 0.0276 - prc: 0.7872 - precision: 0.8709 - recall: 0.6200 - val_accuracy: 0.7052 - val_auc: 0.9304 - val_loss: 0.3720 - val_prc: 0.7563 - val_precision: 0.2818 - val_recall: 1.0000\n",
            "Epoch 22/50\n",
            "\u001b[1m73/79\u001b[0m \u001b[32m━━━━━━━━━━━━━━━━━━\u001b[0m\u001b[37m━━\u001b[0m \u001b[1m0s\u001b[0m 7ms/step - accuracy: 0.9169 - auc: 0.9299 - loss: 0.0308 - prc: 0.7501 - precision: 0.6251 - recall: 0.6121\n",
            "Epoch 22: val_prc improved from 0.84166 to 0.85253, saving model to models/D-14_best.h5\n"
          ]
        },
        {
          "output_type": "stream",
          "name": "stderr",
          "text": [
            "WARNING:absl:You are saving your model as an HDF5 file via `model.save()` or `keras.saving.save_model(model)`. This file format is considered legacy. We recommend using instead the native Keras format, e.g. `model.save('my_model.keras')` or `keras.saving.save_model(model, 'my_model.keras')`. \n"
          ]
        },
        {
          "output_type": "stream",
          "name": "stdout",
          "text": [
            "\b\b\b\b\b\b\b\b\b\b\b\b\b\b\b\b\b\b\b\b\b\b\b\b\b\b\b\b\b\b\b\b\b\b\b\b\b\b\b\b\b\b\b\b\b\b\b\b\b\b\b\b\b\b\b\b\b\b\b\b\b\b\b\b\b\b\b\b\b\b\b\b\b\b\b\b\b\b\b\b\b\b\b\b\b\b\b\b\b\b\b\b\b\b\b\b\b\b\b\b\b\b\b\b\b\b\b\b\b\b\b\b\b\b\b\b\b\b\b\b\b\b\b\b\b\b\b\b\b\b\b\b\b\b\b\b\b\r\u001b[1m79/79\u001b[0m \u001b[32m━━━━━━━━━━━━━━━━━━━━\u001b[0m\u001b[37m\u001b[0m \u001b[1m1s\u001b[0m 11ms/step - accuracy: 0.9175 - auc: 0.9297 - loss: 0.0309 - prc: 0.7498 - precision: 0.6321 - recall: 0.6094 - val_accuracy: 0.9552 - val_auc: 0.9618 - val_loss: 0.0219 - val_prc: 0.8525 - val_precision: 0.9130 - val_recall: 0.6774\n",
            "Epoch 23/50\n",
            "\u001b[1m73/79\u001b[0m \u001b[32m━━━━━━━━━━━━━━━━━━\u001b[0m\u001b[37m━━\u001b[0m \u001b[1m0s\u001b[0m 7ms/step - accuracy: 0.9375 - auc: 0.9419 - loss: 0.0297 - prc: 0.7730 - precision: 0.7445 - recall: 0.6470\n",
            "Epoch 23: val_prc did not improve from 0.85253\n",
            "\u001b[1m79/79\u001b[0m \u001b[32m━━━━━━━━━━━━━━━━━━━━\u001b[0m\u001b[37m\u001b[0m \u001b[1m1s\u001b[0m 10ms/step - accuracy: 0.9373 - auc: 0.9414 - loss: 0.0299 - prc: 0.7725 - precision: 0.7472 - recall: 0.6451 - val_accuracy: 0.9534 - val_auc: 0.9606 - val_loss: 0.0421 - val_prc: 0.8443 - val_precision: 0.8364 - val_recall: 0.7419\n",
            "Epoch 24/50\n",
            "\u001b[1m77/79\u001b[0m \u001b[32m━━━━━━━━━━━━━━━━━━━\u001b[0m\u001b[37m━\u001b[0m \u001b[1m0s\u001b[0m 8ms/step - accuracy: 0.9362 - auc: 0.9426 - loss: 0.0302 - prc: 0.7889 - precision: 0.7217 - recall: 0.6775\n",
            "Epoch 24: val_prc improved from 0.85253 to 0.85274, saving model to models/D-14_best.h5\n"
          ]
        },
        {
          "output_type": "stream",
          "name": "stderr",
          "text": [
            "WARNING:absl:You are saving your model as an HDF5 file via `model.save()` or `keras.saving.save_model(model)`. This file format is considered legacy. We recommend using instead the native Keras format, e.g. `model.save('my_model.keras')` or `keras.saving.save_model(model, 'my_model.keras')`. \n"
          ]
        },
        {
          "output_type": "stream",
          "name": "stdout",
          "text": [
            "\b\b\b\b\b\b\b\b\b\b\b\b\b\b\b\b\b\b\b\b\b\b\b\b\b\b\b\b\b\b\b\b\b\b\b\b\b\b\b\b\b\b\b\b\b\b\b\b\b\b\b\b\b\b\b\b\b\b\b\b\b\b\b\b\b\b\b\b\b\b\b\b\b\b\b\b\b\b\b\b\b\b\b\b\b\b\b\b\b\b\b\b\b\b\b\b\b\b\b\b\b\b\b\b\b\b\b\b\b\b\b\b\b\b\b\b\b\b\b\b\b\b\b\b\b\b\b\b\b\b\b\b\b\b\b\b\b\r\u001b[1m79/79\u001b[0m \u001b[32m━━━━━━━━━━━━━━━━━━━━\u001b[0m\u001b[37m\u001b[0m \u001b[1m1s\u001b[0m 12ms/step - accuracy: 0.9361 - auc: 0.9425 - loss: 0.0303 - prc: 0.7886 - precision: 0.7234 - recall: 0.6759 - val_accuracy: 0.9571 - val_auc: 0.9618 - val_loss: 0.0331 - val_prc: 0.8527 - val_precision: 0.8679 - val_recall: 0.7419\n",
            "Epoch 25/50\n",
            "\u001b[1m76/79\u001b[0m \u001b[32m━━━━━━━━━━━━━━━━━━━\u001b[0m\u001b[37m━\u001b[0m \u001b[1m0s\u001b[0m 6ms/step - accuracy: 0.9407 - auc: 0.9400 - loss: 0.0278 - prc: 0.7829 - precision: 0.7630 - recall: 0.6571\n",
            "Epoch 25: val_prc did not improve from 0.85274\n",
            "\u001b[1m79/79\u001b[0m \u001b[32m━━━━━━━━━━━━━━━━━━━━\u001b[0m\u001b[37m\u001b[0m \u001b[1m1s\u001b[0m 7ms/step - accuracy: 0.9404 - auc: 0.9395 - loss: 0.0282 - prc: 0.7821 - precision: 0.7646 - recall: 0.6549 - val_accuracy: 0.6549 - val_auc: 0.9361 - val_loss: 1.0452 - val_prc: 0.7390 - val_precision: 0.2510 - val_recall: 1.0000\n",
            "Epoch 26/50\n",
            "\u001b[1m78/79\u001b[0m \u001b[32m━━━━━━━━━━━━━━━━━━━\u001b[0m\u001b[37m━\u001b[0m \u001b[1m0s\u001b[0m 6ms/step - accuracy: 0.9222 - auc: 0.9259 - loss: 0.0338 - prc: 0.7302 - precision: 0.6754 - recall: 0.6287\n",
            "Epoch 26: val_prc did not improve from 0.85274\n",
            "\u001b[1m79/79\u001b[0m \u001b[32m━━━━━━━━━━━━━━━━━━━━\u001b[0m\u001b[37m\u001b[0m \u001b[1m1s\u001b[0m 7ms/step - accuracy: 0.9223 - auc: 0.9260 - loss: 0.0339 - prc: 0.7307 - precision: 0.6773 - recall: 0.6277 - val_accuracy: 0.7425 - val_auc: 0.9541 - val_loss: 0.0535 - val_prc: 0.8207 - val_precision: 0.3100 - val_recall: 1.0000\n",
            "Epoch 27/50\n",
            "\u001b[1m78/79\u001b[0m \u001b[32m━━━━━━━━━━━━━━━━━━━\u001b[0m\u001b[37m━\u001b[0m \u001b[1m0s\u001b[0m 6ms/step - accuracy: 0.9451 - auc: 0.9373 - loss: 0.0314 - prc: 0.7718 - precision: 0.8115 - recall: 0.6465\n",
            "Epoch 27: val_prc did not improve from 0.85274\n",
            "\u001b[1m79/79\u001b[0m \u001b[32m━━━━━━━━━━━━━━━━━━━━\u001b[0m\u001b[37m\u001b[0m \u001b[1m1s\u001b[0m 8ms/step - accuracy: 0.9450 - auc: 0.9371 - loss: 0.0314 - prc: 0.7714 - precision: 0.8117 - recall: 0.6458 - val_accuracy: 0.9534 - val_auc: 0.9611 - val_loss: 0.0191 - val_prc: 0.8494 - val_precision: 0.9744 - val_recall: 0.6129\n",
            "Epoch 28/50\n",
            "\u001b[1m77/79\u001b[0m \u001b[32m━━━━━━━━━━━━━━━━━━━\u001b[0m\u001b[37m━\u001b[0m \u001b[1m0s\u001b[0m 6ms/step - accuracy: 0.9365 - auc: 0.9335 - loss: 0.0303 - prc: 0.7739 - precision: 0.7286 - recall: 0.6605\n",
            "Epoch 28: val_prc did not improve from 0.85274\n",
            "\u001b[1m79/79\u001b[0m \u001b[32m━━━━━━━━━━━━━━━━━━━━\u001b[0m\u001b[37m\u001b[0m \u001b[1m1s\u001b[0m 7ms/step - accuracy: 0.9364 - auc: 0.9333 - loss: 0.0303 - prc: 0.7735 - precision: 0.7298 - recall: 0.6589 - val_accuracy: 0.9440 - val_auc: 0.9600 - val_loss: 0.0214 - val_prc: 0.8403 - val_precision: 0.9211 - val_recall: 0.5645\n",
            "Epoch 29/50\n",
            "\u001b[1m77/79\u001b[0m \u001b[32m━━━━━━━━━━━━━━━━━━━\u001b[0m\u001b[37m━\u001b[0m \u001b[1m0s\u001b[0m 6ms/step - accuracy: 0.9497 - auc: 0.9464 - loss: 0.0274 - prc: 0.8047 - precision: 0.8214 - recall: 0.6858\n",
            "Epoch 29: val_prc did not improve from 0.85274\n",
            "\u001b[1m79/79\u001b[0m \u001b[32m━━━━━━━━━━━━━━━━━━━━\u001b[0m\u001b[37m\u001b[0m \u001b[1m1s\u001b[0m 8ms/step - accuracy: 0.9493 - auc: 0.9461 - loss: 0.0275 - prc: 0.8038 - precision: 0.8212 - recall: 0.6834 - val_accuracy: 0.8918 - val_auc: 0.9063 - val_loss: 0.0739 - val_prc: 0.6707 - val_precision: 1.0000 - val_recall: 0.0645\n"
          ]
        },
        {
          "output_type": "stream",
          "name": "stderr",
          "text": [
            "WARNING:absl:Compiled the loaded model, but the compiled metrics have yet to be built. `model.compile_metrics` will be empty until you train or evaluate the model.\n"
          ]
        },
        {
          "output_type": "stream",
          "name": "stdout",
          "text": [
            "\u001b[1m17/17\u001b[0m \u001b[32m━━━━━━━━━━━━━━━━━━━━\u001b[0m\u001b[37m\u001b[0m \u001b[1m1s\u001b[0m 26ms/step\n",
            "\n",
            "   • Optimal threshold: 0.5477\n",
            "              precision    recall  f1-score   support\n",
            "\n",
            "           0     0.9509    0.9810    0.9657       474\n",
            "           1     0.8125    0.6190    0.7027        63\n",
            "\n",
            "    accuracy                         0.9385       537\n",
            "   macro avg     0.8817    0.8000    0.8342       537\n",
            "weighted avg     0.9347    0.9385    0.9349       537\n",
            "\n",
            "\n",
            "▶️ Channel P-11: 2 anomaly intervals\n",
            "   • Windows: 3870, Anomalies: 424 (10.96%)\n",
            "   • Class weights: {0: np.float64(0.5615671641791045), 1: np.float64(4.5606060606060606)}\n"
          ]
        },
        {
          "output_type": "stream",
          "name": "stderr",
          "text": [
            "/usr/local/lib/python3.11/dist-packages/keras/src/layers/convolutional/base_conv.py:107: UserWarning: Do not pass an `input_shape`/`input_dim` argument to a layer. When using Sequential models, prefer using an `Input(shape)` object as the first layer in the model instead.\n",
            "  super().__init__(activity_regularizer=activity_regularizer, **kwargs)\n"
          ]
        },
        {
          "output_type": "stream",
          "name": "stdout",
          "text": [
            "   • Training model...\n",
            "Epoch 1/50\n",
            "\u001b[1m85/85\u001b[0m \u001b[32m━━━━━━━━━━━━━━━━━━━━\u001b[0m\u001b[37m\u001b[0m \u001b[1m0s\u001b[0m 58ms/step - accuracy: 0.7687 - auc: 0.6202 - loss: 0.4602 - prc: 0.1440 - precision: 0.1727 - recall: 0.3363\n",
            "Epoch 1: val_prc improved from -inf to 0.08223, saving model to models/P-11_best.h5\n"
          ]
        },
        {
          "output_type": "stream",
          "name": "stderr",
          "text": [
            "WARNING:absl:You are saving your model as an HDF5 file via `model.save()` or `keras.saving.save_model(model)`. This file format is considered legacy. We recommend using instead the native Keras format, e.g. `model.save('my_model.keras')` or `keras.saving.save_model(model, 'my_model.keras')`. \n"
          ]
        },
        {
          "output_type": "stream",
          "name": "stdout",
          "text": [
            "\b\b\b\b\b\b\b\b\b\b\b\b\b\b\b\b\b\b\b\b\b\b\b\b\b\b\b\b\b\b\b\b\b\b\b\b\b\b\b\b\b\b\b\b\b\b\b\b\b\b\b\b\b\b\b\b\b\b\b\b\b\b\b\b\b\b\b\b\b\b\b\b\b\b\b\b\b\b\b\b\b\b\b\b\b\b\b\b\b\b\b\b\b\b\b\b\b\b\b\b\b\b\b\b\b\b\b\b\b\b\b\b\b\b\b\b\b\b\b\b\b\b\b\b\b\b\b\b\b\b\b\b\b\b\b\b\b\b\r\u001b[1m85/85\u001b[0m \u001b[32m━━━━━━━━━━━━━━━━━━━━\u001b[0m\u001b[37m\u001b[0m \u001b[1m16s\u001b[0m 88ms/step - accuracy: 0.7687 - auc: 0.6205 - loss: 0.4586 - prc: 0.1443 - precision: 0.1730 - recall: 0.3367 - val_accuracy: 0.1086 - val_auc: 0.3210 - val_loss: 2.8544 - val_prc: 0.0822 - val_precision: 0.1086 - val_recall: 1.0000\n",
            "Epoch 2/50\n",
            "\u001b[1m84/85\u001b[0m \u001b[32m━━━━━━━━━━━━━━━━━━━\u001b[0m\u001b[37m━\u001b[0m \u001b[1m0s\u001b[0m 6ms/step - accuracy: 0.8347 - auc: 0.7958 - loss: 0.0627 - prc: 0.3212 - precision: 0.2974 - recall: 0.4724\n",
            "Epoch 2: val_prc improved from 0.08223 to 0.08343, saving model to models/P-11_best.h5\n"
          ]
        },
        {
          "output_type": "stream",
          "name": "stderr",
          "text": [
            "WARNING:absl:You are saving your model as an HDF5 file via `model.save()` or `keras.saving.save_model(model)`. This file format is considered legacy. We recommend using instead the native Keras format, e.g. `model.save('my_model.keras')` or `keras.saving.save_model(model, 'my_model.keras')`. \n"
          ]
        },
        {
          "output_type": "stream",
          "name": "stdout",
          "text": [
            "\b\b\b\b\b\b\b\b\b\b\b\b\b\b\b\b\b\b\b\b\b\b\b\b\b\b\b\b\b\b\b\b\b\b\b\b\b\b\b\b\b\b\b\b\b\b\b\b\b\b\b\b\b\b\b\b\b\b\b\b\b\b\b\b\b\b\b\b\b\b\b\b\b\b\b\b\b\b\b\b\b\b\b\b\b\b\b\b\b\b\b\b\b\b\b\b\b\b\b\b\b\b\b\b\b\b\b\b\b\b\b\b\b\b\b\b\b\b\b\b\b\b\b\b\b\b\b\b\b\b\b\b\b\b\b\b\b\r\u001b[1m85/85\u001b[0m \u001b[32m━━━━━━━━━━━━━━━━━━━━\u001b[0m\u001b[37m\u001b[0m \u001b[1m9s\u001b[0m 8ms/step - accuracy: 0.8349 - auc: 0.7961 - loss: 0.0627 - prc: 0.3230 - precision: 0.2985 - recall: 0.4731 - val_accuracy: 0.5914 - val_auc: 0.3446 - val_loss: 0.3005 - val_prc: 0.0834 - val_precision: 0.0777 - val_recall: 0.2540\n",
            "Epoch 3/50\n",
            "\u001b[1m83/85\u001b[0m \u001b[32m━━━━━━━━━━━━━━━━━━━\u001b[0m\u001b[37m━\u001b[0m \u001b[1m0s\u001b[0m 6ms/step - accuracy: 0.8627 - auc: 0.8588 - loss: 0.0491 - prc: 0.4843 - precision: 0.3694 - recall: 0.5452\n",
            "Epoch 3: val_prc improved from 0.08343 to 0.11531, saving model to models/P-11_best.h5\n"
          ]
        },
        {
          "output_type": "stream",
          "name": "stderr",
          "text": [
            "WARNING:absl:You are saving your model as an HDF5 file via `model.save()` or `keras.saving.save_model(model)`. This file format is considered legacy. We recommend using instead the native Keras format, e.g. `model.save('my_model.keras')` or `keras.saving.save_model(model, 'my_model.keras')`. \n"
          ]
        },
        {
          "output_type": "stream",
          "name": "stdout",
          "text": [
            "\b\b\b\b\b\b\b\b\b\b\b\b\b\b\b\b\b\b\b\b\b\b\b\b\b\b\b\b\b\b\b\b\b\b\b\b\b\b\b\b\b\b\b\b\b\b\b\b\b\b\b\b\b\b\b\b\b\b\b\b\b\b\b\b\b\b\b\b\b\b\b\b\b\b\b\b\b\b\b\b\b\b\b\b\b\b\b\b\b\b\b\b\b\b\b\b\b\b\b\b\b\b\b\b\b\b\b\b\b\b\b\b\b\b\b\b\b\b\b\b\b\b\b\b\b\b\b\b\b\b\b\b\b\b\b\b\b\r\u001b[1m85/85\u001b[0m \u001b[32m━━━━━━━━━━━━━━━━━━━━\u001b[0m\u001b[37m\u001b[0m \u001b[1m1s\u001b[0m 9ms/step - accuracy: 0.8631 - auc: 0.8596 - loss: 0.0491 - prc: 0.4869 - precision: 0.3719 - recall: 0.5470 - val_accuracy: 0.8310 - val_auc: 0.5259 - val_loss: 0.1222 - val_prc: 0.1153 - val_precision: 0.1429 - val_recall: 0.1111\n",
            "Epoch 4/50\n",
            "\u001b[1m81/85\u001b[0m \u001b[32m━━━━━━━━━━━━━━━━━━━\u001b[0m\u001b[37m━\u001b[0m \u001b[1m0s\u001b[0m 5ms/step - accuracy: 0.9206 - auc: 0.9448 - loss: 0.0317 - prc: 0.7087 - precision: 0.5947 - recall: 0.6671\n",
            "Epoch 4: val_prc improved from 0.11531 to 0.24009, saving model to models/P-11_best.h5\n"
          ]
        },
        {
          "output_type": "stream",
          "name": "stderr",
          "text": [
            "WARNING:absl:You are saving your model as an HDF5 file via `model.save()` or `keras.saving.save_model(model)`. This file format is considered legacy. We recommend using instead the native Keras format, e.g. `model.save('my_model.keras')` or `keras.saving.save_model(model, 'my_model.keras')`. \n"
          ]
        },
        {
          "output_type": "stream",
          "name": "stdout",
          "text": [
            "\b\b\b\b\b\b\b\b\b\b\b\b\b\b\b\b\b\b\b\b\b\b\b\b\b\b\b\b\b\b\b\b\b\b\b\b\b\b\b\b\b\b\b\b\b\b\b\b\b\b\b\b\b\b\b\b\b\b\b\b\b\b\b\b\b\b\b\b\b\b\b\b\b\b\b\b\b\b\b\b\b\b\b\b\b\b\b\b\b\b\b\b\b\b\b\b\b\b\b\b\b\b\b\b\b\b\b\b\b\b\b\b\b\b\b\b\b\b\b\b\b\b\b\b\b\b\b\b\b\b\b\b\b\b\b\b\b\r\u001b[1m85/85\u001b[0m \u001b[32m━━━━━━━━━━━━━━━━━━━━\u001b[0m\u001b[37m\u001b[0m \u001b[1m1s\u001b[0m 8ms/step - accuracy: 0.9201 - auc: 0.9449 - loss: 0.0317 - prc: 0.7098 - precision: 0.5940 - recall: 0.6688 - val_accuracy: 0.8466 - val_auc: 0.6838 - val_loss: 0.1131 - val_prc: 0.2401 - val_precision: 0.1905 - val_recall: 0.1270\n",
            "Epoch 5/50\n",
            "\u001b[1m82/85\u001b[0m \u001b[32m━━━━━━━━━━━━━━━━━━━\u001b[0m\u001b[37m━\u001b[0m \u001b[1m0s\u001b[0m 7ms/step - accuracy: 0.9450 - auc: 0.9751 - loss: 0.0219 - prc: 0.8378 - precision: 0.6952 - recall: 0.8000\n",
            "Epoch 5: val_prc improved from 0.24009 to 0.25113, saving model to models/P-11_best.h5\n"
          ]
        },
        {
          "output_type": "stream",
          "name": "stderr",
          "text": [
            "WARNING:absl:You are saving your model as an HDF5 file via `model.save()` or `keras.saving.save_model(model)`. This file format is considered legacy. We recommend using instead the native Keras format, e.g. `model.save('my_model.keras')` or `keras.saving.save_model(model, 'my_model.keras')`. \n"
          ]
        },
        {
          "output_type": "stream",
          "name": "stdout",
          "text": [
            "\b\b\b\b\b\b\b\b\b\b\b\b\b\b\b\b\b\b\b\b\b\b\b\b\b\b\b\b\b\b\b\b\b\b\b\b\b\b\b\b\b\b\b\b\b\b\b\b\b\b\b\b\b\b\b\b\b\b\b\b\b\b\b\b\b\b\b\b\b\b\b\b\b\b\b\b\b\b\b\b\b\b\b\b\b\b\b\b\b\b\b\b\b\b\b\b\b\b\b\b\b\b\b\b\b\b\b\b\b\b\b\b\b\b\b\b\b\b\b\b\b\b\b\b\b\b\b\b\b\b\b\b\b\b\b\b\b\r\u001b[1m85/85\u001b[0m \u001b[32m━━━━━━━━━━━━━━━━━━━━\u001b[0m\u001b[37m\u001b[0m \u001b[1m2s\u001b[0m 11ms/step - accuracy: 0.9451 - auc: 0.9752 - loss: 0.0219 - prc: 0.8395 - precision: 0.6968 - recall: 0.8008 - val_accuracy: 0.7776 - val_auc: 0.7332 - val_loss: 0.2156 - val_prc: 0.2511 - val_precision: 0.1887 - val_recall: 0.3175\n",
            "Epoch 6/50\n",
            "\u001b[1m84/85\u001b[0m \u001b[32m━━━━━━━━━━━━━━━━━━━\u001b[0m\u001b[37m━\u001b[0m \u001b[1m0s\u001b[0m 8ms/step - accuracy: 0.9492 - auc: 0.9784 - loss: 0.0208 - prc: 0.8733 - precision: 0.7155 - recall: 0.8183\n",
            "Epoch 6: val_prc improved from 0.25113 to 0.55640, saving model to models/P-11_best.h5\n"
          ]
        },
        {
          "output_type": "stream",
          "name": "stderr",
          "text": [
            "WARNING:absl:You are saving your model as an HDF5 file via `model.save()` or `keras.saving.save_model(model)`. This file format is considered legacy. We recommend using instead the native Keras format, e.g. `model.save('my_model.keras')` or `keras.saving.save_model(model, 'my_model.keras')`. \n"
          ]
        },
        {
          "output_type": "stream",
          "name": "stdout",
          "text": [
            "\b\b\b\b\b\b\b\b\b\b\b\b\b\b\b\b\b\b\b\b\b\b\b\b\b\b\b\b\b\b\b\b\b\b\b\b\b\b\b\b\b\b\b\b\b\b\b\b\b\b\b\b\b\b\b\b\b\b\b\b\b\b\b\b\b\b\b\b\b\b\b\b\b\b\b\b\b\b\b\b\b\b\b\b\b\b\b\b\b\b\b\b\b\b\b\b\b\b\b\b\b\b\b\b\b\b\b\b\b\b\b\b\b\b\b\b\b\b\b\b\b\b\b\b\b\b\b\b\b\b\b\b\b\b\b\b\b\r\u001b[1m85/85\u001b[0m \u001b[32m━━━━━━━━━━━━━━━━━━━━\u001b[0m\u001b[37m\u001b[0m \u001b[1m1s\u001b[0m 12ms/step - accuracy: 0.9491 - auc: 0.9784 - loss: 0.0208 - prc: 0.8736 - precision: 0.7156 - recall: 0.8186 - val_accuracy: 0.8293 - val_auc: 0.9027 - val_loss: 0.1306 - val_prc: 0.5564 - val_precision: 0.3548 - val_recall: 0.6984\n",
            "Epoch 7/50\n",
            "\u001b[1m83/85\u001b[0m \u001b[32m━━━━━━━━━━━━━━━━━━━\u001b[0m\u001b[37m━\u001b[0m \u001b[1m0s\u001b[0m 6ms/step - accuracy: 0.9524 - auc: 0.9806 - loss: 0.0199 - prc: 0.8938 - precision: 0.7248 - recall: 0.8336\n",
            "Epoch 7: val_prc improved from 0.55640 to 0.64561, saving model to models/P-11_best.h5\n"
          ]
        },
        {
          "output_type": "stream",
          "name": "stderr",
          "text": [
            "WARNING:absl:You are saving your model as an HDF5 file via `model.save()` or `keras.saving.save_model(model)`. This file format is considered legacy. We recommend using instead the native Keras format, e.g. `model.save('my_model.keras')` or `keras.saving.save_model(model, 'my_model.keras')`. \n"
          ]
        },
        {
          "output_type": "stream",
          "name": "stdout",
          "text": [
            "\b\b\b\b\b\b\b\b\b\b\b\b\b\b\b\b\b\b\b\b\b\b\b\b\b\b\b\b\b\b\b\b\b\b\b\b\b\b\b\b\b\b\b\b\b\b\b\b\b\b\b\b\b\b\b\b\b\b\b\b\b\b\b\b\b\b\b\b\b\b\b\b\b\b\b\b\b\b\b\b\b\b\b\b\b\b\b\b\b\b\b\b\b\b\b\b\b\b\b\b\b\b\b\b\b\b\b\b\b\b\b\b\b\b\b\b\b\b\b\b\b\b\b\b\b\b\b\b\b\b\b\b\b\b\b\b\b\r\u001b[1m85/85\u001b[0m \u001b[32m━━━━━━━━━━━━━━━━━━━━\u001b[0m\u001b[37m\u001b[0m \u001b[1m1s\u001b[0m 8ms/step - accuracy: 0.9523 - auc: 0.9807 - loss: 0.0198 - prc: 0.8941 - precision: 0.7253 - recall: 0.8341 - val_accuracy: 0.6103 - val_auc: 0.9373 - val_loss: 0.4226 - val_prc: 0.6456 - val_precision: 0.2180 - val_recall: 1.0000\n",
            "Epoch 8/50\n",
            "\u001b[1m84/85\u001b[0m \u001b[32m━━━━━━━━━━━━━━━━━━━\u001b[0m\u001b[37m━\u001b[0m \u001b[1m0s\u001b[0m 6ms/step - accuracy: 0.9592 - auc: 0.9873 - loss: 0.0160 - prc: 0.9154 - precision: 0.7563 - recall: 0.8681\n",
            "Epoch 8: val_prc did not improve from 0.64561\n",
            "\u001b[1m85/85\u001b[0m \u001b[32m━━━━━━━━━━━━━━━━━━━━\u001b[0m\u001b[37m\u001b[0m \u001b[1m1s\u001b[0m 7ms/step - accuracy: 0.9592 - auc: 0.9873 - loss: 0.0160 - prc: 0.9155 - precision: 0.7571 - recall: 0.8681 - val_accuracy: 0.7862 - val_auc: 0.9125 - val_loss: 0.2464 - val_prc: 0.6249 - val_precision: 0.3216 - val_recall: 0.8730\n",
            "Epoch 9/50\n",
            "\u001b[1m83/85\u001b[0m \u001b[32m━━━━━━━━━━━━━━━━━━━\u001b[0m\u001b[37m━\u001b[0m \u001b[1m0s\u001b[0m 6ms/step - accuracy: 0.9513 - auc: 0.9868 - loss: 0.0152 - prc: 0.9135 - precision: 0.7032 - recall: 0.8740\n",
            "Epoch 9: val_prc improved from 0.64561 to 0.96837, saving model to models/P-11_best.h5\n"
          ]
        },
        {
          "output_type": "stream",
          "name": "stderr",
          "text": [
            "WARNING:absl:You are saving your model as an HDF5 file via `model.save()` or `keras.saving.save_model(model)`. This file format is considered legacy. We recommend using instead the native Keras format, e.g. `model.save('my_model.keras')` or `keras.saving.save_model(model, 'my_model.keras')`. \n"
          ]
        },
        {
          "output_type": "stream",
          "name": "stdout",
          "text": [
            "\b\b\b\b\b\b\b\b\b\b\b\b\b\b\b\b\b\b\b\b\b\b\b\b\b\b\b\b\b\b\b\b\b\b\b\b\b\b\b\b\b\b\b\b\b\b\b\b\b\b\b\b\b\b\b\b\b\b\b\b\b\b\b\b\b\b\b\b\b\b\b\b\b\b\b\b\b\b\b\b\b\b\b\b\b\b\b\b\b\b\b\b\b\b\b\b\b\b\b\b\b\b\b\b\b\b\b\b\b\b\b\b\b\b\b\b\b\b\b\b\b\b\b\b\b\b\b\b\b\b\b\b\b\b\b\b\b\r\u001b[1m85/85\u001b[0m \u001b[32m━━━━━━━━━━━━━━━━━━━━\u001b[0m\u001b[37m\u001b[0m \u001b[1m1s\u001b[0m 8ms/step - accuracy: 0.9515 - auc: 0.9869 - loss: 0.0151 - prc: 0.9144 - precision: 0.7058 - recall: 0.8743 - val_accuracy: 0.9759 - val_auc: 0.9950 - val_loss: 0.0136 - val_prc: 0.9684 - val_precision: 0.8451 - val_recall: 0.9524\n",
            "Epoch 10/50\n",
            "\u001b[1m85/85\u001b[0m \u001b[32m━━━━━━━━━━━━━━━━━━━━\u001b[0m\u001b[37m\u001b[0m \u001b[1m0s\u001b[0m 6ms/step - accuracy: 0.9635 - auc: 0.9909 - loss: 0.0132 - prc: 0.9343 - precision: 0.7724 - recall: 0.8941\n",
            "Epoch 10: val_prc did not improve from 0.96837\n",
            "\u001b[1m85/85\u001b[0m \u001b[32m━━━━━━━━━━━━━━━━━━━━\u001b[0m\u001b[37m\u001b[0m \u001b[1m1s\u001b[0m 7ms/step - accuracy: 0.9635 - auc: 0.9909 - loss: 0.0132 - prc: 0.9345 - precision: 0.7730 - recall: 0.8941 - val_accuracy: 0.9690 - val_auc: 0.9901 - val_loss: 0.0093 - val_prc: 0.9411 - val_precision: 0.9592 - val_recall: 0.7460\n",
            "Epoch 11/50\n",
            "\u001b[1m81/85\u001b[0m \u001b[32m━━━━━━━━━━━━━━━━━━━\u001b[0m\u001b[37m━\u001b[0m \u001b[1m0s\u001b[0m 6ms/step - accuracy: 0.9751 - auc: 0.9935 - loss: 0.0113 - prc: 0.9551 - precision: 0.8479 - recall: 0.9026\n",
            "Epoch 11: val_prc did not improve from 0.96837\n",
            "\u001b[1m85/85\u001b[0m \u001b[32m━━━━━━━━━━━━━━━━━━━━\u001b[0m\u001b[37m\u001b[0m \u001b[1m1s\u001b[0m 8ms/step - accuracy: 0.9752 - auc: 0.9935 - loss: 0.0113 - prc: 0.9557 - precision: 0.8490 - recall: 0.9043 - val_accuracy: 0.8241 - val_auc: 0.9912 - val_loss: 0.1071 - val_prc: 0.9521 - val_precision: 0.3818 - val_recall: 1.0000\n",
            "Epoch 12/50\n",
            "\u001b[1m80/85\u001b[0m \u001b[32m━━━━━━━━━━━━━━━━━━\u001b[0m\u001b[37m━━\u001b[0m \u001b[1m0s\u001b[0m 6ms/step - accuracy: 0.9699 - auc: 0.9929 - loss: 0.0120 - prc: 0.9473 - precision: 0.8004 - recall: 0.9268\n",
            "Epoch 12: val_prc improved from 0.96837 to 0.99205, saving model to models/P-11_best.h5\n"
          ]
        },
        {
          "output_type": "stream",
          "name": "stderr",
          "text": [
            "WARNING:absl:You are saving your model as an HDF5 file via `model.save()` or `keras.saving.save_model(model)`. This file format is considered legacy. We recommend using instead the native Keras format, e.g. `model.save('my_model.keras')` or `keras.saving.save_model(model, 'my_model.keras')`. \n"
          ]
        },
        {
          "output_type": "stream",
          "name": "stdout",
          "text": [
            "\b\b\b\b\b\b\b\b\b\b\b\b\b\b\b\b\b\b\b\b\b\b\b\b\b\b\b\b\b\b\b\b\b\b\b\b\b\b\b\b\b\b\b\b\b\b\b\b\b\b\b\b\b\b\b\b\b\b\b\b\b\b\b\b\b\b\b\b\b\b\b\b\b\b\b\b\b\b\b\b\b\b\b\b\b\b\b\b\b\b\b\b\b\b\b\b\b\b\b\b\b\b\b\b\b\b\b\b\b\b\b\b\b\b\b\b\b\b\b\b\b\b\b\b\b\b\b\b\b\b\b\b\b\b\b\b\b\r\u001b[1m85/85\u001b[0m \u001b[32m━━━━━━━━━━━━━━━━━━━━\u001b[0m\u001b[37m\u001b[0m \u001b[1m1s\u001b[0m 9ms/step - accuracy: 0.9697 - auc: 0.9928 - loss: 0.0121 - prc: 0.9471 - precision: 0.8010 - recall: 0.9259 - val_accuracy: 0.9862 - val_auc: 0.9989 - val_loss: 0.0062 - val_prc: 0.9920 - val_precision: 0.9231 - val_recall: 0.9524\n",
            "Epoch 13/50\n",
            "\u001b[1m79/85\u001b[0m \u001b[32m━━━━━━━━━━━━━━━━━━\u001b[0m\u001b[37m━━\u001b[0m \u001b[1m0s\u001b[0m 5ms/step - accuracy: 0.9639 - auc: 0.9901 - loss: 0.0149 - prc: 0.9369 - precision: 0.7650 - recall: 0.9075\n",
            "Epoch 13: val_prc did not improve from 0.99205\n",
            "\u001b[1m85/85\u001b[0m \u001b[32m━━━━━━━━━━━━━━━━━━━━\u001b[0m\u001b[37m\u001b[0m \u001b[1m1s\u001b[0m 8ms/step - accuracy: 0.9640 - auc: 0.9901 - loss: 0.0149 - prc: 0.9377 - precision: 0.7676 - recall: 0.9083 - val_accuracy: 0.9707 - val_auc: 0.9984 - val_loss: 0.0064 - val_prc: 0.9859 - val_precision: 0.9600 - val_recall: 0.7619\n",
            "Epoch 14/50\n",
            "\u001b[1m77/85\u001b[0m \u001b[32m━━━━━━━━━━━━━━━━━━\u001b[0m\u001b[37m━━\u001b[0m \u001b[1m0s\u001b[0m 6ms/step - accuracy: 0.9742 - auc: 0.9950 - loss: 0.0100 - prc: 0.9641 - precision: 0.8413 - recall: 0.9028\n",
            "Epoch 14: val_prc did not improve from 0.99205\n",
            "\u001b[1m85/85\u001b[0m \u001b[32m━━━━━━━━━━━━━━━━━━━━\u001b[0m\u001b[37m\u001b[0m \u001b[1m1s\u001b[0m 8ms/step - accuracy: 0.9745 - auc: 0.9951 - loss: 0.0099 - prc: 0.9650 - precision: 0.8449 - recall: 0.9049 - val_accuracy: 0.8448 - val_auc: 0.9837 - val_loss: 0.3194 - val_prc: 0.8318 - val_precision: 0.4118 - val_recall: 1.0000\n",
            "Epoch 15/50\n",
            "\u001b[1m77/85\u001b[0m \u001b[32m━━━━━━━━━━━━━━━━━━\u001b[0m\u001b[37m━━\u001b[0m \u001b[1m0s\u001b[0m 6ms/step - accuracy: 0.9816 - auc: 0.9963 - loss: 0.0089 - prc: 0.9763 - precision: 0.8634 - recall: 0.9730\n",
            "Epoch 15: val_prc improved from 0.99205 to 0.99905, saving model to models/P-11_best.h5\n"
          ]
        },
        {
          "output_type": "stream",
          "name": "stderr",
          "text": [
            "WARNING:absl:You are saving your model as an HDF5 file via `model.save()` or `keras.saving.save_model(model)`. This file format is considered legacy. We recommend using instead the native Keras format, e.g. `model.save('my_model.keras')` or `keras.saving.save_model(model, 'my_model.keras')`. \n"
          ]
        },
        {
          "output_type": "stream",
          "name": "stdout",
          "text": [
            "\b\b\b\b\b\b\b\b\b\b\b\b\b\b\b\b\b\b\b\b\b\b\b\b\b\b\b\b\b\b\b\b\b\b\b\b\b\b\b\b\b\b\b\b\b\b\b\b\b\b\b\b\b\b\b\b\b\b\b\b\b\b\b\b\b\b\b\b\b\b\b\b\b\b\b\b\b\b\b\b\b\b\b\b\b\b\b\b\b\b\b\b\b\b\b\b\b\b\b\b\b\b\b\b\b\b\b\b\b\b\b\b\b\b\b\b\b\b\b\b\b\b\b\b\b\b\b\b\b\b\b\b\b\b\b\b\b\r\u001b[1m85/85\u001b[0m \u001b[32m━━━━━━━━━━━━━━━━━━━━\u001b[0m\u001b[37m\u001b[0m \u001b[1m1s\u001b[0m 8ms/step - accuracy: 0.9811 - auc: 0.9961 - loss: 0.0092 - prc: 0.9755 - precision: 0.8627 - recall: 0.9701 - val_accuracy: 0.9931 - val_auc: 0.9999 - val_loss: 0.0034 - val_prc: 0.9990 - val_precision: 0.9538 - val_recall: 0.9841\n",
            "Epoch 16/50\n",
            "\u001b[1m80/85\u001b[0m \u001b[32m━━━━━━━━━━━━━━━━━━\u001b[0m\u001b[37m━━\u001b[0m \u001b[1m0s\u001b[0m 7ms/step - accuracy: 0.9819 - auc: 0.9964 - loss: 0.0084 - prc: 0.9737 - precision: 0.8649 - recall: 0.9642\n",
            "Epoch 16: val_prc improved from 0.99905 to 1.00000, saving model to models/P-11_best.h5\n"
          ]
        },
        {
          "output_type": "stream",
          "name": "stderr",
          "text": [
            "WARNING:absl:You are saving your model as an HDF5 file via `model.save()` or `keras.saving.save_model(model)`. This file format is considered legacy. We recommend using instead the native Keras format, e.g. `model.save('my_model.keras')` or `keras.saving.save_model(model, 'my_model.keras')`. \n"
          ]
        },
        {
          "output_type": "stream",
          "name": "stdout",
          "text": [
            "\b\b\b\b\b\b\b\b\b\b\b\b\b\b\b\b\b\b\b\b\b\b\b\b\b\b\b\b\b\b\b\b\b\b\b\b\b\b\b\b\b\b\b\b\b\b\b\b\b\b\b\b\b\b\b\b\b\b\b\b\b\b\b\b\b\b\b\b\b\b\b\b\b\b\b\b\b\b\b\b\b\b\b\b\b\b\b\b\b\b\b\b\b\b\b\b\b\b\b\b\b\b\b\b\b\b\b\b\b\b\b\b\b\b\b\b\b\b\b\b\b\b\b\b\b\b\b\b\b\b\b\b\b\b\b\b\b\r\u001b[1m85/85\u001b[0m \u001b[32m━━━━━━━━━━━━━━━━━━━━\u001b[0m\u001b[37m\u001b[0m \u001b[1m2s\u001b[0m 11ms/step - accuracy: 0.9820 - auc: 0.9965 - loss: 0.0084 - prc: 0.9742 - precision: 0.8665 - recall: 0.9641 - val_accuracy: 0.9776 - val_auc: 1.0000 - val_loss: 0.0026 - val_prc: 1.0000 - val_precision: 1.0000 - val_recall: 0.7937\n",
            "Epoch 17/50\n",
            "\u001b[1m81/85\u001b[0m \u001b[32m━━━━━━━━━━━━━━━━━━━\u001b[0m\u001b[37m━\u001b[0m \u001b[1m0s\u001b[0m 8ms/step - accuracy: 0.9834 - auc: 0.9972 - loss: 0.0071 - prc: 0.9781 - precision: 0.9008 - recall: 0.9252\n",
            "Epoch 17: val_prc did not improve from 1.00000\n",
            "\u001b[1m85/85\u001b[0m \u001b[32m━━━━━━━━━━━━━━━━━━━━\u001b[0m\u001b[37m\u001b[0m \u001b[1m1s\u001b[0m 11ms/step - accuracy: 0.9837 - auc: 0.9973 - loss: 0.0071 - prc: 0.9786 - precision: 0.9027 - recall: 0.9269 - val_accuracy: 0.9500 - val_auc: 0.9980 - val_loss: 0.0240 - val_prc: 0.9876 - val_precision: 0.6889 - val_recall: 0.9841\n",
            "Epoch 18/50\n",
            "\u001b[1m82/85\u001b[0m \u001b[32m━━━━━━━━━━━━━━━━━━━\u001b[0m\u001b[37m━\u001b[0m \u001b[1m0s\u001b[0m 8ms/step - accuracy: 0.9829 - auc: 0.9970 - loss: 0.0088 - prc: 0.9802 - precision: 0.8970 - recall: 0.9436\n",
            "Epoch 18: val_prc did not improve from 1.00000\n",
            "\u001b[1m85/85\u001b[0m \u001b[32m━━━━━━━━━━━━━━━━━━━━\u001b[0m\u001b[37m\u001b[0m \u001b[1m1s\u001b[0m 10ms/step - accuracy: 0.9824 - auc: 0.9968 - loss: 0.0090 - prc: 0.9797 - precision: 0.8946 - recall: 0.9429 - val_accuracy: 0.9552 - val_auc: 0.9873 - val_loss: 0.0194 - val_prc: 0.9045 - val_precision: 0.9512 - val_recall: 0.6190\n",
            "Epoch 19/50\n",
            "\u001b[1m77/85\u001b[0m \u001b[32m━━━━━━━━━━━━━━━━━━\u001b[0m\u001b[37m━━\u001b[0m \u001b[1m0s\u001b[0m 6ms/step - accuracy: 0.9753 - auc: 0.9937 - loss: 0.0114 - prc: 0.9604 - precision: 0.8399 - recall: 0.9261\n",
            "Epoch 19: val_prc did not improve from 1.00000\n",
            "\u001b[1m85/85\u001b[0m \u001b[32m━━━━━━━━━━━━━━━━━━━━\u001b[0m\u001b[37m\u001b[0m \u001b[1m1s\u001b[0m 7ms/step - accuracy: 0.9753 - auc: 0.9938 - loss: 0.0113 - prc: 0.9609 - precision: 0.8419 - recall: 0.9259 - val_accuracy: 0.9534 - val_auc: 0.9864 - val_loss: 0.0172 - val_prc: 0.9270 - val_precision: 0.7500 - val_recall: 0.8571\n",
            "Epoch 20/50\n",
            "\u001b[1m84/85\u001b[0m \u001b[32m━━━━━━━━━━━━━━━━━━━\u001b[0m\u001b[37m━\u001b[0m \u001b[1m0s\u001b[0m 6ms/step - accuracy: 0.9813 - auc: 0.9972 - loss: 0.0075 - prc: 0.9768 - precision: 0.8590 - recall: 0.9660\n",
            "Epoch 20: val_prc did not improve from 1.00000\n",
            "\u001b[1m85/85\u001b[0m \u001b[32m━━━━━━━━━━━━━━━━━━━━\u001b[0m\u001b[37m\u001b[0m \u001b[1m1s\u001b[0m 8ms/step - accuracy: 0.9813 - auc: 0.9972 - loss: 0.0075 - prc: 0.9769 - precision: 0.8599 - recall: 0.9658 - val_accuracy: 0.8914 - val_auc: 0.9743 - val_loss: 0.0842 - val_prc: 0.8605 - val_precision: 0.5000 - val_recall: 0.9048\n",
            "Epoch 21/50\n",
            "\u001b[1m82/85\u001b[0m \u001b[32m━━━━━━━━━━━━━━━━━━━\u001b[0m\u001b[37m━\u001b[0m \u001b[1m0s\u001b[0m 6ms/step - accuracy: 0.9819 - auc: 0.9970 - loss: 0.0081 - prc: 0.9809 - precision: 0.8713 - recall: 0.9639\n",
            "Epoch 21: val_prc did not improve from 1.00000\n",
            "\u001b[1m85/85\u001b[0m \u001b[32m━━━━━━━━━━━━━━━━━━━━\u001b[0m\u001b[37m\u001b[0m \u001b[1m1s\u001b[0m 8ms/step - accuracy: 0.9818 - auc: 0.9970 - loss: 0.0081 - prc: 0.9807 - precision: 0.8715 - recall: 0.9634 - val_accuracy: 0.9655 - val_auc: 0.9988 - val_loss: 0.0053 - val_prc: 0.9897 - val_precision: 1.0000 - val_recall: 0.6825\n"
          ]
        },
        {
          "output_type": "stream",
          "name": "stderr",
          "text": [
            "WARNING:absl:Compiled the loaded model, but the compiled metrics have yet to be built. `model.compile_metrics` will be empty until you train or evaluate the model.\n"
          ]
        },
        {
          "output_type": "stream",
          "name": "stdout",
          "text": [
            "\u001b[1m19/19\u001b[0m \u001b[32m━━━━━━━━━━━━━━━━━━━━\u001b[0m\u001b[37m\u001b[0m \u001b[1m1s\u001b[0m 22ms/step\n",
            "\n",
            "   • Optimal threshold: 0.3249\n",
            "              precision    recall  f1-score   support\n",
            "\n",
            "           0     0.9980    0.9845    0.9912       517\n",
            "           1     0.8873    0.9844    0.9333        64\n",
            "\n",
            "    accuracy                         0.9845       581\n",
            "   macro avg     0.9427    0.9845    0.9623       581\n",
            "weighted avg     0.9858    0.9845    0.9849       581\n",
            "\n",
            "\n",
            "▶️ Channel D-15: 1 anomaly intervals\n",
            "   • Windows: 1975, Anomalies: 574 (29.06%)\n",
            "   • Class weights: {0: np.float64(0.7051020408163265), 1: np.float64(1.7189054726368158)}\n"
          ]
        },
        {
          "output_type": "stream",
          "name": "stderr",
          "text": [
            "/usr/local/lib/python3.11/dist-packages/keras/src/layers/convolutional/base_conv.py:107: UserWarning: Do not pass an `input_shape`/`input_dim` argument to a layer. When using Sequential models, prefer using an `Input(shape)` object as the first layer in the model instead.\n",
            "  super().__init__(activity_regularizer=activity_regularizer, **kwargs)\n"
          ]
        },
        {
          "output_type": "stream",
          "name": "stdout",
          "text": [
            "   • Training model...\n",
            "Epoch 1/50\n",
            "\u001b[1m44/44\u001b[0m \u001b[32m━━━━━━━━━━━━━━━━━━━━\u001b[0m\u001b[37m\u001b[0m \u001b[1m0s\u001b[0m 95ms/step - accuracy: 0.6027 - auc: 0.5274 - loss: 0.4936 - prc: 0.3019 - precision: 0.3145 - recall: 0.3275\n",
            "Epoch 1: val_prc improved from -inf to 0.27854, saving model to models/D-15_best.h5\n"
          ]
        },
        {
          "output_type": "stream",
          "name": "stderr",
          "text": [
            "WARNING:absl:You are saving your model as an HDF5 file via `model.save()` or `keras.saving.save_model(model)`. This file format is considered legacy. We recommend using instead the native Keras format, e.g. `model.save('my_model.keras')` or `keras.saving.save_model(model, 'my_model.keras')`. \n"
          ]
        },
        {
          "output_type": "stream",
          "name": "stdout",
          "text": [
            "\b\b\b\b\b\b\b\b\b\b\b\b\b\b\b\b\b\b\b\b\b\b\b\b\b\b\b\b\b\b\b\b\b\b\b\b\b\b\b\b\b\b\b\b\b\b\b\b\b\b\b\b\b\b\b\b\b\b\b\b\b\b\b\b\b\b\b\b\b\b\b\b\b\b\b\b\b\b\b\b\b\b\b\b\b\b\b\b\b\b\b\b\b\b\b\b\b\b\b\b\b\b\b\b\b\b\b\b\b\b\b\b\b\b\b\b\b\b\b\b\b\b\b\b\b\b\b\b\b\b\b\b\b\b\b\b\b\b\r\u001b[1m44/44\u001b[0m \u001b[32m━━━━━━━━━━━━━━━━━━━━\u001b[0m\u001b[37m\u001b[0m \u001b[1m15s\u001b[0m 144ms/step - accuracy: 0.6034 - auc: 0.5281 - loss: 0.4901 - prc: 0.3025 - precision: 0.3155 - recall: 0.3278 - val_accuracy: 0.3142 - val_auc: 0.5297 - val_loss: 0.1852 - val_prc: 0.2785 - val_precision: 0.2976 - val_recall: 1.0000\n",
            "Epoch 2/50\n",
            "\u001b[1m36/44\u001b[0m \u001b[32m━━━━━━━━━━━━━━━━\u001b[0m\u001b[37m━━━━\u001b[0m \u001b[1m0s\u001b[0m 6ms/step - accuracy: 0.7065 - auc: 0.6711 - loss: 0.0995 - prc: 0.4278 - precision: 0.4763 - recall: 0.4636\n",
            "Epoch 2: val_prc improved from 0.27854 to 0.34426, saving model to models/D-15_best.h5\n"
          ]
        },
        {
          "output_type": "stream",
          "name": "stderr",
          "text": [
            "WARNING:absl:You are saving your model as an HDF5 file via `model.save()` or `keras.saving.save_model(model)`. This file format is considered legacy. We recommend using instead the native Keras format, e.g. `model.save('my_model.keras')` or `keras.saving.save_model(model, 'my_model.keras')`. \n"
          ]
        },
        {
          "output_type": "stream",
          "name": "stdout",
          "text": [
            "\b\b\b\b\b\b\b\b\b\b\b\b\b\b\b\b\b\b\b\b\b\b\b\b\b\b\b\b\b\b\b\b\b\b\b\b\b\b\b\b\b\b\b\b\b\b\b\b\b\b\b\b\b\b\b\b\b\b\b\b\b\b\b\b\b\b\b\b\b\b\b\b\b\b\b\b\b\b\b\b\b\b\b\b\b\b\b\b\b\b\b\b\b\b\b\b\b\b\b\b\b\b\b\b\b\b\b\b\b\b\b\b\b\b\b\b\b\b\b\b\b\b\b\b\b\b\b\b\b\b\b\b\b\b\b\b\b\r\u001b[1m44/44\u001b[0m \u001b[32m━━━━━━━━━━━━━━━━━━━━\u001b[0m\u001b[37m\u001b[0m \u001b[1m10s\u001b[0m 10ms/step - accuracy: 0.7064 - auc: 0.6755 - loss: 0.0974 - prc: 0.4315 - precision: 0.4789 - recall: 0.4515 - val_accuracy: 0.2905 - val_auc: 0.6256 - val_loss: 0.4050 - val_prc: 0.3443 - val_precision: 0.2905 - val_recall: 1.0000\n",
            "Epoch 3/50\n",
            "\u001b[1m40/44\u001b[0m \u001b[32m━━━━━━━━━━━━━━━━━━\u001b[0m\u001b[37m━━\u001b[0m \u001b[1m0s\u001b[0m 5ms/step - accuracy: 0.7780 - auc: 0.8191 - loss: 0.0564 - prc: 0.6110 - precision: 0.6405 - recall: 0.4704\n",
            "Epoch 3: val_prc improved from 0.34426 to 0.38707, saving model to models/D-15_best.h5\n"
          ]
        },
        {
          "output_type": "stream",
          "name": "stderr",
          "text": [
            "WARNING:absl:You are saving your model as an HDF5 file via `model.save()` or `keras.saving.save_model(model)`. This file format is considered legacy. We recommend using instead the native Keras format, e.g. `model.save('my_model.keras')` or `keras.saving.save_model(model, 'my_model.keras')`. \n"
          ]
        },
        {
          "output_type": "stream",
          "name": "stdout",
          "text": [
            "\b\b\b\b\b\b\b\b\b\b\b\b\b\b\b\b\b\b\b\b\b\b\b\b\b\b\b\b\b\b\b\b\b\b\b\b\b\b\b\b\b\b\b\b\b\b\b\b\b\b\b\b\b\b\b\b\b\b\b\b\b\b\b\b\b\b\b\b\b\b\b\b\b\b\b\b\b\b\b\b\b\b\b\b\b\b\b\b\b\b\b\b\b\b\b\b\b\b\b\b\b\b\b\b\b\b\b\b\b\b\b\b\b\b\b\b\b\b\b\b\b\b\b\b\b\b\b\b\b\b\b\b\b\b\b\b\b\r\u001b[1m44/44\u001b[0m \u001b[32m━━━━━━━━━━━━━━━━━━━━\u001b[0m\u001b[37m\u001b[0m \u001b[1m0s\u001b[0m 10ms/step - accuracy: 0.7794 - auc: 0.8217 - loss: 0.0562 - prc: 0.6168 - precision: 0.6463 - recall: 0.4736 - val_accuracy: 0.4764 - val_auc: 0.6826 - val_loss: 0.1966 - val_prc: 0.3871 - val_precision: 0.3544 - val_recall: 0.9767\n",
            "Epoch 4/50\n",
            "\u001b[1m40/44\u001b[0m \u001b[32m━━━━━━━━━━━━━━━━━━\u001b[0m\u001b[37m━━\u001b[0m \u001b[1m0s\u001b[0m 5ms/step - accuracy: 0.8128 - auc: 0.8621 - loss: 0.0505 - prc: 0.6949 - precision: 0.6963 - recall: 0.5855\n",
            "Epoch 4: val_prc improved from 0.38707 to 0.45837, saving model to models/D-15_best.h5\n"
          ]
        },
        {
          "output_type": "stream",
          "name": "stderr",
          "text": [
            "WARNING:absl:You are saving your model as an HDF5 file via `model.save()` or `keras.saving.save_model(model)`. This file format is considered legacy. We recommend using instead the native Keras format, e.g. `model.save('my_model.keras')` or `keras.saving.save_model(model, 'my_model.keras')`. \n"
          ]
        },
        {
          "output_type": "stream",
          "name": "stdout",
          "text": [
            "\b\b\b\b\b\b\b\b\b\b\b\b\b\b\b\b\b\b\b\b\b\b\b\b\b\b\b\b\b\b\b\b\b\b\b\b\b\b\b\b\b\b\b\b\b\b\b\b\b\b\b\b\b\b\b\b\b\b\b\b\b\b\b\b\b\b\b\b\b\b\b\b\b\b\b\b\b\b\b\b\b\b\b\b\b\b\b\b\b\b\b\b\b\b\b\b\b\b\b\b\b\b\b\b\b\b\b\b\b\b\b\b\b\b\b\b\b\b\b\b\b\b\b\b\b\b\b\b\b\b\b\b\b\b\b\b\b\r\u001b[1m44/44\u001b[0m \u001b[32m━━━━━━━━━━━━━━━━━━━━\u001b[0m\u001b[37m\u001b[0m \u001b[1m0s\u001b[0m 10ms/step - accuracy: 0.8148 - auc: 0.8650 - loss: 0.0500 - prc: 0.7016 - precision: 0.7034 - recall: 0.5878 - val_accuracy: 0.7128 - val_auc: 0.7329 - val_loss: 0.0935 - val_prc: 0.4584 - val_precision: 0.6000 - val_recall: 0.0349\n",
            "Epoch 5/50\n",
            "\u001b[1m35/44\u001b[0m \u001b[32m━━━━━━━━━━━━━━━\u001b[0m\u001b[37m━━━━━\u001b[0m \u001b[1m0s\u001b[0m 6ms/step - accuracy: 0.8637 - auc: 0.9279 - loss: 0.0376 - prc: 0.8318 - precision: 0.7855 - recall: 0.6993\n",
            "Epoch 5: val_prc improved from 0.45837 to 0.58441, saving model to models/D-15_best.h5\n"
          ]
        },
        {
          "output_type": "stream",
          "name": "stderr",
          "text": [
            "WARNING:absl:You are saving your model as an HDF5 file via `model.save()` or `keras.saving.save_model(model)`. This file format is considered legacy. We recommend using instead the native Keras format, e.g. `model.save('my_model.keras')` or `keras.saving.save_model(model, 'my_model.keras')`. \n"
          ]
        },
        {
          "output_type": "stream",
          "name": "stdout",
          "text": [
            "\b\b\b\b\b\b\b\b\b\b\b\b\b\b\b\b\b\b\b\b\b\b\b\b\b\b\b\b\b\b\b\b\b\b\b\b\b\b\b\b\b\b\b\b\b\b\b\b\b\b\b\b\b\b\b\b\b\b\b\b\b\b\b\b\b\b\b\b\b\b\b\b\b\b\b\b\b\b\b\b\b\b\b\b\b\b\b\b\b\b\b\b\b\b\b\b\b\b\b\b\b\b\b\b\b\b\b\b\b\b\b\b\b\b\b\b\b\b\b\b\b\b\b\b\b\b\b\b\b\b\b\b\b\b\b\b\b\r\u001b[1m44/44\u001b[0m \u001b[32m━━━━━━━━━━━━━━━━━━━━\u001b[0m\u001b[37m\u001b[0m \u001b[1m0s\u001b[0m 10ms/step - accuracy: 0.8674 - auc: 0.9311 - loss: 0.0369 - prc: 0.8412 - precision: 0.7934 - recall: 0.7105 - val_accuracy: 0.7095 - val_auc: 0.8290 - val_loss: 0.2477 - val_prc: 0.5844 - val_precision: 0.0000e+00 - val_recall: 0.0000e+00\n",
            "Epoch 6/50\n",
            "\u001b[1m39/44\u001b[0m \u001b[32m━━━━━━━━━━━━━━━━━\u001b[0m\u001b[37m━━━\u001b[0m \u001b[1m0s\u001b[0m 6ms/step - accuracy: 0.9230 - auc: 0.9724 - loss: 0.0242 - prc: 0.9342 - precision: 0.9011 - recall: 0.8149\n",
            "Epoch 6: val_prc improved from 0.58441 to 0.60115, saving model to models/D-15_best.h5\n"
          ]
        },
        {
          "output_type": "stream",
          "name": "stderr",
          "text": [
            "WARNING:absl:You are saving your model as an HDF5 file via `model.save()` or `keras.saving.save_model(model)`. This file format is considered legacy. We recommend using instead the native Keras format, e.g. `model.save('my_model.keras')` or `keras.saving.save_model(model, 'my_model.keras')`. \n"
          ]
        },
        {
          "output_type": "stream",
          "name": "stdout",
          "text": [
            "\b\b\b\b\b\b\b\b\b\b\b\b\b\b\b\b\b\b\b\b\b\b\b\b\b\b\b\b\b\b\b\b\b\b\b\b\b\b\b\b\b\b\b\b\b\b\b\b\b\b\b\b\b\b\b\b\b\b\b\b\b\b\b\b\b\b\b\b\b\b\b\b\b\b\b\b\b\b\b\b\b\b\b\b\b\b\b\b\b\b\b\b\b\b\b\b\b\b\b\b\b\b\b\b\b\b\b\b\b\b\b\b\b\b\b\b\b\b\b\b\b\b\b\b\b\b\b\b\b\b\b\b\b\b\b\b\b\r\u001b[1m44/44\u001b[0m \u001b[32m━━━━━━━━━━━━━━━━━━━━\u001b[0m\u001b[37m\u001b[0m \u001b[1m0s\u001b[0m 10ms/step - accuracy: 0.9233 - auc: 0.9726 - loss: 0.0242 - prc: 0.9341 - precision: 0.9006 - recall: 0.8178 - val_accuracy: 0.7095 - val_auc: 0.7720 - val_loss: 0.3230 - val_prc: 0.6011 - val_precision: 0.0000e+00 - val_recall: 0.0000e+00\n",
            "Epoch 7/50\n",
            "\u001b[1m37/44\u001b[0m \u001b[32m━━━━━━━━━━━━━━━━\u001b[0m\u001b[37m━━━━\u001b[0m \u001b[1m0s\u001b[0m 6ms/step - accuracy: 0.9511 - auc: 0.9903 - loss: 0.0153 - prc: 0.9722 - precision: 0.9051 - recall: 0.9227\n",
            "Epoch 7: val_prc improved from 0.60115 to 0.61020, saving model to models/D-15_best.h5\n"
          ]
        },
        {
          "output_type": "stream",
          "name": "stderr",
          "text": [
            "WARNING:absl:You are saving your model as an HDF5 file via `model.save()` or `keras.saving.save_model(model)`. This file format is considered legacy. We recommend using instead the native Keras format, e.g. `model.save('my_model.keras')` or `keras.saving.save_model(model, 'my_model.keras')`. \n"
          ]
        },
        {
          "output_type": "stream",
          "name": "stdout",
          "text": [
            "\b\b\b\b\b\b\b\b\b\b\b\b\b\b\b\b\b\b\b\b\b\b\b\b\b\b\b\b\b\b\b\b\b\b\b\b\b\b\b\b\b\b\b\b\b\b\b\b\b\b\b\b\b\b\b\b\b\b\b\b\b\b\b\b\b\b\b\b\b\b\b\b\b\b\b\b\b\b\b\b\b\b\b\b\b\b\b\b\b\b\b\b\b\b\b\b\b\b\b\b\b\b\b\b\b\b\b\b\b\b\b\b\b\b\b\b\b\b\b\b\b\b\b\b\b\b\b\b\b\b\b\b\b\b\b\b\b\r\u001b[1m44/44\u001b[0m \u001b[32m━━━━━━━━━━━━━━━━━━━━\u001b[0m\u001b[37m\u001b[0m \u001b[1m1s\u001b[0m 10ms/step - accuracy: 0.9526 - auc: 0.9907 - loss: 0.0149 - prc: 0.9737 - precision: 0.9105 - recall: 0.9228 - val_accuracy: 0.7095 - val_auc: 0.7401 - val_loss: 0.3459 - val_prc: 0.6102 - val_precision: 0.0000e+00 - val_recall: 0.0000e+00\n",
            "Epoch 8/50\n",
            "\u001b[1m37/44\u001b[0m \u001b[32m━━━━━━━━━━━━━━━━\u001b[0m\u001b[37m━━━━\u001b[0m \u001b[1m0s\u001b[0m 6ms/step - accuracy: 0.9680 - auc: 0.9975 - loss: 0.0084 - prc: 0.9934 - precision: 0.9285 - recall: 0.9570\n",
            "Epoch 8: val_prc improved from 0.61020 to 0.63450, saving model to models/D-15_best.h5\n"
          ]
        },
        {
          "output_type": "stream",
          "name": "stderr",
          "text": [
            "WARNING:absl:You are saving your model as an HDF5 file via `model.save()` or `keras.saving.save_model(model)`. This file format is considered legacy. We recommend using instead the native Keras format, e.g. `model.save('my_model.keras')` or `keras.saving.save_model(model, 'my_model.keras')`. \n"
          ]
        },
        {
          "output_type": "stream",
          "name": "stdout",
          "text": [
            "\b\b\b\b\b\b\b\b\b\b\b\b\b\b\b\b\b\b\b\b\b\b\b\b\b\b\b\b\b\b\b\b\b\b\b\b\b\b\b\b\b\b\b\b\b\b\b\b\b\b\b\b\b\b\b\b\b\b\b\b\b\b\b\b\b\b\b\b\b\b\b\b\b\b\b\b\b\b\b\b\b\b\b\b\b\b\b\b\b\b\b\b\b\b\b\b\b\b\b\b\b\b\b\b\b\b\b\b\b\b\b\b\b\b\b\b\b\b\b\b\b\b\b\b\b\b\b\b\b\b\b\b\b\b\b\b\b\r\u001b[1m44/44\u001b[0m \u001b[32m━━━━━━━━━━━━━━━━━━━━\u001b[0m\u001b[37m\u001b[0m \u001b[1m1s\u001b[0m 10ms/step - accuracy: 0.9694 - auc: 0.9976 - loss: 0.0082 - prc: 0.9938 - precision: 0.9338 - recall: 0.9571 - val_accuracy: 0.7095 - val_auc: 0.7109 - val_loss: 0.3993 - val_prc: 0.6345 - val_precision: 0.0000e+00 - val_recall: 0.0000e+00\n",
            "Epoch 9/50\n",
            "\u001b[1m40/44\u001b[0m \u001b[32m━━━━━━━━━━━━━━━━━━\u001b[0m\u001b[37m━━\u001b[0m \u001b[1m0s\u001b[0m 5ms/step - accuracy: 0.9797 - auc: 0.9977 - loss: 0.0075 - prc: 0.9943 - precision: 0.9586 - recall: 0.9704\n",
            "Epoch 9: val_prc improved from 0.63450 to 0.71403, saving model to models/D-15_best.h5\n"
          ]
        },
        {
          "output_type": "stream",
          "name": "stderr",
          "text": [
            "WARNING:absl:You are saving your model as an HDF5 file via `model.save()` or `keras.saving.save_model(model)`. This file format is considered legacy. We recommend using instead the native Keras format, e.g. `model.save('my_model.keras')` or `keras.saving.save_model(model, 'my_model.keras')`. \n"
          ]
        },
        {
          "output_type": "stream",
          "name": "stdout",
          "text": [
            "\b\b\b\b\b\b\b\b\b\b\b\b\b\b\b\b\b\b\b\b\b\b\b\b\b\b\b\b\b\b\b\b\b\b\b\b\b\b\b\b\b\b\b\b\b\b\b\b\b\b\b\b\b\b\b\b\b\b\b\b\b\b\b\b\b\b\b\b\b\b\b\b\b\b\b\b\b\b\b\b\b\b\b\b\b\b\b\b\b\b\b\b\b\b\b\b\b\b\b\b\b\b\b\b\b\b\b\b\b\b\b\b\b\b\b\b\b\b\b\b\b\b\b\b\b\b\b\b\b\b\b\b\b\b\b\b\b\r\u001b[1m44/44\u001b[0m \u001b[32m━━━━━━━━━━━━━━━━━━━━\u001b[0m\u001b[37m\u001b[0m \u001b[1m0s\u001b[0m 10ms/step - accuracy: 0.9790 - auc: 0.9974 - loss: 0.0078 - prc: 0.9937 - precision: 0.9585 - recall: 0.9679 - val_accuracy: 0.7162 - val_auc: 0.7896 - val_loss: 0.3228 - val_prc: 0.7140 - val_precision: 1.0000 - val_recall: 0.0233\n",
            "Epoch 10/50\n",
            "\u001b[1m44/44\u001b[0m \u001b[32m━━━━━━━━━━━━━━━━━━━━\u001b[0m\u001b[37m\u001b[0m \u001b[1m0s\u001b[0m 7ms/step - accuracy: 0.9693 - auc: 0.9965 - loss: 0.0094 - prc: 0.9911 - precision: 0.9330 - recall: 0.9600\n",
            "Epoch 10: val_prc improved from 0.71403 to 0.90045, saving model to models/D-15_best.h5\n"
          ]
        },
        {
          "output_type": "stream",
          "name": "stderr",
          "text": [
            "WARNING:absl:You are saving your model as an HDF5 file via `model.save()` or `keras.saving.save_model(model)`. This file format is considered legacy. We recommend using instead the native Keras format, e.g. `model.save('my_model.keras')` or `keras.saving.save_model(model, 'my_model.keras')`. \n"
          ]
        },
        {
          "output_type": "stream",
          "name": "stdout",
          "text": [
            "\b\b\b\b\b\b\b\b\b\b\b\b\b\b\b\b\b\b\b\b\b\b\b\b\b\b\b\b\b\b\b\b\b\b\b\b\b\b\b\b\b\b\b\b\b\b\b\b\b\b\b\b\b\b\b\b\b\b\b\b\b\b\b\b\b\b\b\b\b\b\b\b\b\b\b\b\b\b\b\b\b\b\b\b\b\b\b\b\b\b\b\b\b\b\b\b\b\b\b\b\b\b\b\b\b\b\b\b\b\b\b\b\b\b\b\b\b\b\b\b\b\b\b\b\b\b\b\b\b\b\b\b\b\b\b\b\b\r\u001b[1m44/44\u001b[0m \u001b[32m━━━━━━━━━━━━━━━━━━━━\u001b[0m\u001b[37m\u001b[0m \u001b[1m1s\u001b[0m 14ms/step - accuracy: 0.9694 - auc: 0.9966 - loss: 0.0094 - prc: 0.9912 - precision: 0.9334 - recall: 0.9600 - val_accuracy: 0.8007 - val_auc: 0.9442 - val_loss: 0.1429 - val_prc: 0.9004 - val_precision: 0.9355 - val_recall: 0.3372\n",
            "Epoch 11/50\n",
            "\u001b[1m38/44\u001b[0m \u001b[32m━━━━━━━━━━━━━━━━━\u001b[0m\u001b[37m━━━\u001b[0m \u001b[1m0s\u001b[0m 7ms/step - accuracy: 0.9742 - auc: 0.9967 - loss: 0.0088 - prc: 0.9925 - precision: 0.9503 - recall: 0.9558\n",
            "Epoch 11: val_prc improved from 0.90045 to 0.95320, saving model to models/D-15_best.h5\n"
          ]
        },
        {
          "output_type": "stream",
          "name": "stderr",
          "text": [
            "WARNING:absl:You are saving your model as an HDF5 file via `model.save()` or `keras.saving.save_model(model)`. This file format is considered legacy. We recommend using instead the native Keras format, e.g. `model.save('my_model.keras')` or `keras.saving.save_model(model, 'my_model.keras')`. \n"
          ]
        },
        {
          "output_type": "stream",
          "name": "stdout",
          "text": [
            "\b\b\b\b\b\b\b\b\b\b\b\b\b\b\b\b\b\b\b\b\b\b\b\b\b\b\b\b\b\b\b\b\b\b\b\b\b\b\b\b\b\b\b\b\b\b\b\b\b\b\b\b\b\b\b\b\b\b\b\b\b\b\b\b\b\b\b\b\b\b\b\b\b\b\b\b\b\b\b\b\b\b\b\b\b\b\b\b\b\b\b\b\b\b\b\b\b\b\b\b\b\b\b\b\b\b\b\b\b\b\b\b\b\b\b\b\b\b\b\b\b\b\b\b\b\b\b\b\b\b\b\b\b\b\b\b\b\r\u001b[1m44/44\u001b[0m \u001b[32m━━━━━━━━━━━━━━━━━━━━\u001b[0m\u001b[37m\u001b[0m \u001b[1m1s\u001b[0m 15ms/step - accuracy: 0.9742 - auc: 0.9965 - loss: 0.0090 - prc: 0.9923 - precision: 0.9509 - recall: 0.9560 - val_accuracy: 0.8108 - val_auc: 0.9570 - val_loss: 0.1104 - val_prc: 0.9532 - val_precision: 1.0000 - val_recall: 0.3488\n",
            "Epoch 12/50\n",
            "\u001b[1m44/44\u001b[0m \u001b[32m━━━━━━━━━━━━━━━━━━━━\u001b[0m\u001b[37m\u001b[0m \u001b[1m0s\u001b[0m 7ms/step - accuracy: 0.9838 - auc: 0.9989 - loss: 0.0052 - prc: 0.9975 - precision: 0.9740 - recall: 0.9687\n",
            "Epoch 12: val_prc improved from 0.95320 to 0.99157, saving model to models/D-15_best.h5\n"
          ]
        },
        {
          "output_type": "stream",
          "name": "stderr",
          "text": [
            "WARNING:absl:You are saving your model as an HDF5 file via `model.save()` or `keras.saving.save_model(model)`. This file format is considered legacy. We recommend using instead the native Keras format, e.g. `model.save('my_model.keras')` or `keras.saving.save_model(model, 'my_model.keras')`. \n"
          ]
        },
        {
          "output_type": "stream",
          "name": "stdout",
          "text": [
            "\b\b\b\b\b\b\b\b\b\b\b\b\b\b\b\b\b\b\b\b\b\b\b\b\b\b\b\b\b\b\b\b\b\b\b\b\b\b\b\b\b\b\b\b\b\b\b\b\b\b\b\b\b\b\b\b\b\b\b\b\b\b\b\b\b\b\b\b\b\b\b\b\b\b\b\b\b\b\b\b\b\b\b\b\b\b\b\b\b\b\b\b\b\b\b\b\b\b\b\b\b\b\b\b\b\b\b\b\b\b\b\b\b\b\b\b\b\b\b\b\b\b\b\b\b\b\b\b\b\b\b\b\b\b\b\b\b\r\u001b[1m44/44\u001b[0m \u001b[32m━━━━━━━━━━━━━━━━━━━━\u001b[0m\u001b[37m\u001b[0m \u001b[1m1s\u001b[0m 15ms/step - accuracy: 0.9838 - auc: 0.9989 - loss: 0.0052 - prc: 0.9975 - precision: 0.9739 - recall: 0.9688 - val_accuracy: 0.8953 - val_auc: 0.9932 - val_loss: 0.0509 - val_prc: 0.9916 - val_precision: 1.0000 - val_recall: 0.6395\n",
            "Epoch 13/50\n",
            "\u001b[1m40/44\u001b[0m \u001b[32m━━━━━━━━━━━━━━━━━━\u001b[0m\u001b[37m━━\u001b[0m \u001b[1m0s\u001b[0m 5ms/step - accuracy: 0.9844 - auc: 0.9990 - loss: 0.0047 - prc: 0.9976 - precision: 0.9627 - recall: 0.9826\n",
            "Epoch 13: val_prc improved from 0.99157 to 0.99917, saving model to models/D-15_best.h5\n"
          ]
        },
        {
          "output_type": "stream",
          "name": "stderr",
          "text": [
            "WARNING:absl:You are saving your model as an HDF5 file via `model.save()` or `keras.saving.save_model(model)`. This file format is considered legacy. We recommend using instead the native Keras format, e.g. `model.save('my_model.keras')` or `keras.saving.save_model(model, 'my_model.keras')`. \n"
          ]
        },
        {
          "output_type": "stream",
          "name": "stdout",
          "text": [
            "\b\b\b\b\b\b\b\b\b\b\b\b\b\b\b\b\b\b\b\b\b\b\b\b\b\b\b\b\b\b\b\b\b\b\b\b\b\b\b\b\b\b\b\b\b\b\b\b\b\b\b\b\b\b\b\b\b\b\b\b\b\b\b\b\b\b\b\b\b\b\b\b\b\b\b\b\b\b\b\b\b\b\b\b\b\b\b\b\b\b\b\b\b\b\b\b\b\b\b\b\b\b\b\b\b\b\b\b\b\b\b\b\b\b\b\b\b\b\b\b\b\b\b\b\b\b\b\b\b\b\b\b\b\b\b\b\b\r\u001b[1m44/44\u001b[0m \u001b[32m━━━━━━━━━━━━━━━━━━━━\u001b[0m\u001b[37m\u001b[0m \u001b[1m0s\u001b[0m 10ms/step - accuracy: 0.9847 - auc: 0.9990 - loss: 0.0047 - prc: 0.9976 - precision: 0.9637 - recall: 0.9825 - val_accuracy: 0.9223 - val_auc: 0.9997 - val_loss: 0.0268 - val_prc: 0.9992 - val_precision: 1.0000 - val_recall: 0.7326\n",
            "Epoch 14/50\n",
            "\u001b[1m41/44\u001b[0m \u001b[32m━━━━━━━━━━━━━━━━━━\u001b[0m\u001b[37m━━\u001b[0m \u001b[1m0s\u001b[0m 5ms/step - accuracy: 0.9901 - auc: 0.9993 - loss: 0.0040 - prc: 0.9982 - precision: 0.9771 - recall: 0.9890\n",
            "Epoch 14: val_prc improved from 0.99917 to 1.00000, saving model to models/D-15_best.h5\n"
          ]
        },
        {
          "output_type": "stream",
          "name": "stderr",
          "text": [
            "WARNING:absl:You are saving your model as an HDF5 file via `model.save()` or `keras.saving.save_model(model)`. This file format is considered legacy. We recommend using instead the native Keras format, e.g. `model.save('my_model.keras')` or `keras.saving.save_model(model, 'my_model.keras')`. \n"
          ]
        },
        {
          "output_type": "stream",
          "name": "stdout",
          "text": [
            "\b\b\b\b\b\b\b\b\b\b\b\b\b\b\b\b\b\b\b\b\b\b\b\b\b\b\b\b\b\b\b\b\b\b\b\b\b\b\b\b\b\b\b\b\b\b\b\b\b\b\b\b\b\b\b\b\b\b\b\b\b\b\b\b\b\b\b\b\b\b\b\b\b\b\b\b\b\b\b\b\b\b\b\b\b\b\b\b\b\b\b\b\b\b\b\b\b\b\b\b\b\b\b\b\b\b\b\b\b\b\b\b\b\b\b\b\b\b\b\b\b\b\b\b\b\b\b\b\b\b\b\b\b\b\b\b\b\r\u001b[1m44/44\u001b[0m \u001b[32m━━━━━━━━━━━━━━━━━━━━\u001b[0m\u001b[37m\u001b[0m \u001b[1m0s\u001b[0m 10ms/step - accuracy: 0.9898 - auc: 0.9993 - loss: 0.0041 - prc: 0.9981 - precision: 0.9771 - recall: 0.9881 - val_accuracy: 0.9291 - val_auc: 1.0000 - val_loss: 0.0273 - val_prc: 1.0000 - val_precision: 1.0000 - val_recall: 0.7558\n",
            "Epoch 15/50\n",
            "\u001b[1m40/44\u001b[0m \u001b[32m━━━━━━━━━━━━━━━━━━\u001b[0m\u001b[37m━━\u001b[0m \u001b[1m0s\u001b[0m 5ms/step - accuracy: 0.9876 - auc: 0.9992 - loss: 0.0042 - prc: 0.9978 - precision: 0.9666 - recall: 0.9887\n",
            "Epoch 15: val_prc did not improve from 1.00000\n",
            "\u001b[1m44/44\u001b[0m \u001b[32m━━━━━━━━━━━━━━━━━━━━\u001b[0m\u001b[37m\u001b[0m \u001b[1m0s\u001b[0m 8ms/step - accuracy: 0.9875 - auc: 0.9990 - loss: 0.0046 - prc: 0.9974 - precision: 0.9670 - recall: 0.9879 - val_accuracy: 1.0000 - val_auc: 1.0000 - val_loss: 7.5830e-05 - val_prc: 1.0000 - val_precision: 1.0000 - val_recall: 1.0000\n",
            "Epoch 16/50\n",
            "\u001b[1m40/44\u001b[0m \u001b[32m━━━━━━━━━━━━━━━━━━\u001b[0m\u001b[37m━━\u001b[0m \u001b[1m0s\u001b[0m 5ms/step - accuracy: 0.9881 - auc: 0.9985 - loss: 0.0057 - prc: 0.9957 - precision: 0.9668 - recall: 0.9914\n",
            "Epoch 16: val_prc did not improve from 1.00000\n",
            "\u001b[1m44/44\u001b[0m \u001b[32m━━━━━━━━━━━━━━━━━━━━\u001b[0m\u001b[37m\u001b[0m \u001b[1m0s\u001b[0m 8ms/step - accuracy: 0.9879 - auc: 0.9985 - loss: 0.0056 - prc: 0.9957 - precision: 0.9672 - recall: 0.9904 - val_accuracy: 1.0000 - val_auc: 1.0000 - val_loss: 1.6265e-05 - val_prc: 1.0000 - val_precision: 1.0000 - val_recall: 1.0000\n",
            "Epoch 17/50\n",
            "\u001b[1m38/44\u001b[0m \u001b[32m━━━━━━━━━━━━━━━━━\u001b[0m\u001b[37m━━━\u001b[0m \u001b[1m0s\u001b[0m 6ms/step - accuracy: 0.9840 - auc: 0.9990 - loss: 0.0049 - prc: 0.9975 - precision: 0.9646 - recall: 0.9785\n",
            "Epoch 17: val_prc did not improve from 1.00000\n",
            "\u001b[1m44/44\u001b[0m \u001b[32m━━━━━━━━━━━━━━━━━━━━\u001b[0m\u001b[37m\u001b[0m \u001b[1m1s\u001b[0m 8ms/step - accuracy: 0.9838 - auc: 0.9989 - loss: 0.0051 - prc: 0.9973 - precision: 0.9653 - recall: 0.9776 - val_accuracy: 0.9527 - val_auc: 1.0000 - val_loss: 0.0080 - val_prc: 1.0000 - val_precision: 1.0000 - val_recall: 0.8372\n",
            "Epoch 18/50\n",
            "\u001b[1m41/44\u001b[0m \u001b[32m━━━━━━━━━━━━━━━━━━\u001b[0m\u001b[37m━━\u001b[0m \u001b[1m0s\u001b[0m 5ms/step - accuracy: 0.9920 - auc: 0.9997 - loss: 0.0027 - prc: 0.9993 - precision: 0.9781 - recall: 0.9941\n",
            "Epoch 18: val_prc did not improve from 1.00000\n",
            "\u001b[1m44/44\u001b[0m \u001b[32m━━━━━━━━━━━━━━━━━━━━\u001b[0m\u001b[37m\u001b[0m \u001b[1m1s\u001b[0m 8ms/step - accuracy: 0.9919 - auc: 0.9997 - loss: 0.0027 - prc: 0.9993 - precision: 0.9785 - recall: 0.9935 - val_accuracy: 0.9831 - val_auc: 1.0000 - val_loss: 0.0067 - val_prc: 1.0000 - val_precision: 1.0000 - val_recall: 0.9419\n",
            "Epoch 19/50\n",
            "\u001b[1m39/44\u001b[0m \u001b[32m━━━━━━━━━━━━━━━━━\u001b[0m\u001b[37m━━━\u001b[0m \u001b[1m0s\u001b[0m 6ms/step - accuracy: 0.9984 - auc: 0.9997 - loss: 0.0019 - prc: 0.9992 - precision: 0.9961 - recall: 0.9984\n",
            "Epoch 19: val_prc did not improve from 1.00000\n",
            "\u001b[1m44/44\u001b[0m \u001b[32m━━━━━━━━━━━━━━━━━━━━\u001b[0m\u001b[37m\u001b[0m \u001b[1m0s\u001b[0m 8ms/step - accuracy: 0.9980 - auc: 0.9997 - loss: 0.0021 - prc: 0.9991 - precision: 0.9957 - recall: 0.9974 - val_accuracy: 1.0000 - val_auc: 1.0000 - val_loss: 1.8583e-04 - val_prc: 1.0000 - val_precision: 1.0000 - val_recall: 1.0000\n"
          ]
        },
        {
          "output_type": "stream",
          "name": "stderr",
          "text": [
            "WARNING:absl:Compiled the loaded model, but the compiled metrics have yet to be built. `model.compile_metrics` will be empty until you train or evaluate the model.\n"
          ]
        },
        {
          "output_type": "stream",
          "name": "stdout",
          "text": [
            "\u001b[1m10/10\u001b[0m \u001b[32m━━━━━━━━━━━━━━━━━━━━\u001b[0m\u001b[37m\u001b[0m \u001b[1m1s\u001b[0m 42ms/step\n",
            "\n",
            "   • Optimal threshold: 0.0228\n",
            "              precision    recall  f1-score   support\n",
            "\n",
            "           0     0.9860    1.0000    0.9929       211\n",
            "           1     1.0000    0.9651    0.9822        86\n",
            "\n",
            "    accuracy                         0.9899       297\n",
            "   macro avg     0.9930    0.9826    0.9876       297\n",
            "weighted avg     0.9900    0.9899    0.9898       297\n",
            "\n",
            "\n",
            "▶️ Channel D-16: 1 anomaly intervals\n",
            "   • Windows: 1352, Anomalies: 749 (55.40%)\n",
            "   • Class weights: {0: np.float64(1.1208530805687205), 1: np.float64(0.9026717557251909)}\n",
            "   • Training model...\n",
            "Epoch 1/50\n"
          ]
        },
        {
          "output_type": "stream",
          "name": "stderr",
          "text": [
            "/usr/local/lib/python3.11/dist-packages/keras/src/layers/convolutional/base_conv.py:107: UserWarning: Do not pass an `input_shape`/`input_dim` argument to a layer. When using Sequential models, prefer using an `Input(shape)` object as the first layer in the model instead.\n",
            "  super().__init__(activity_regularizer=activity_regularizer, **kwargs)\n"
          ]
        },
        {
          "output_type": "stream",
          "name": "stdout",
          "text": [
            "\u001b[1m30/30\u001b[0m \u001b[32m━━━━━━━━━━━━━━━━━━━━\u001b[0m\u001b[37m\u001b[0m \u001b[1m0s\u001b[0m 130ms/step - accuracy: 0.8722 - auc: 0.9490 - loss: 0.0706 - prc: 0.9500 - precision: 0.9211 - recall: 0.8212\n",
            "Epoch 1: val_prc improved from -inf to 0.99936, saving model to models/D-16_best.h5\n"
          ]
        },
        {
          "output_type": "stream",
          "name": "stderr",
          "text": [
            "WARNING:absl:You are saving your model as an HDF5 file via `model.save()` or `keras.saving.save_model(model)`. This file format is considered legacy. We recommend using instead the native Keras format, e.g. `model.save('my_model.keras')` or `keras.saving.save_model(model, 'my_model.keras')`. \n"
          ]
        },
        {
          "output_type": "stream",
          "name": "stdout",
          "text": [
            "\b\b\b\b\b\b\b\b\b\b\b\b\b\b\b\b\b\b\b\b\b\b\b\b\b\b\b\b\b\b\b\b\b\b\b\b\b\b\b\b\b\b\b\b\b\b\b\b\b\b\b\b\b\b\b\b\b\b\b\b\b\b\b\b\b\b\b\b\b\b\b\b\b\b\b\b\b\b\b\b\b\b\b\b\b\b\b\b\b\b\b\b\b\b\b\b\b\b\b\b\b\b\b\b\b\b\b\b\b\b\b\b\b\b\b\b\b\b\b\b\b\b\b\b\b\b\b\b\b\b\b\b\b\b\b\b\b\b\b\r\u001b[1m30/30\u001b[0m \u001b[32m━━━━━━━━━━━━━━━━━━━━\u001b[0m\u001b[37m\u001b[0m \u001b[1m16s\u001b[0m 248ms/step - accuracy: 0.8738 - auc: 0.9499 - loss: 0.0699 - prc: 0.9510 - precision: 0.9223 - recall: 0.8237 - val_accuracy: 0.9852 - val_auc: 0.9992 - val_loss: 0.0342 - val_prc: 0.9994 - val_precision: 0.9741 - val_recall: 1.0000\n",
            "Epoch 2/50\n",
            "\u001b[1m30/30\u001b[0m \u001b[32m━━━━━━━━━━━━━━━━━━━━\u001b[0m\u001b[37m\u001b[0m \u001b[1m0s\u001b[0m 5ms/step - accuracy: 0.9840 - auc: 0.9962 - loss: 0.0136 - prc: 0.9923 - precision: 0.9903 - recall: 0.9799\n",
            "Epoch 2: val_prc improved from 0.99936 to 1.00000, saving model to models/D-16_best.h5\n"
          ]
        },
        {
          "output_type": "stream",
          "name": "stderr",
          "text": [
            "WARNING:absl:You are saving your model as an HDF5 file via `model.save()` or `keras.saving.save_model(model)`. This file format is considered legacy. We recommend using instead the native Keras format, e.g. `model.save('my_model.keras')` or `keras.saving.save_model(model, 'my_model.keras')`. \n"
          ]
        },
        {
          "output_type": "stream",
          "name": "stdout",
          "text": [
            "\b\b\b\b\b\b\b\b\b\b\b\b\b\b\b\b\b\b\b\b\b\b\b\b\b\b\b\b\b\b\b\b\b\b\b\b\b\b\b\b\b\b\b\b\b\b\b\b\b\b\b\b\b\b\b\b\b\b\b\b\b\b\b\b\b\b\b\b\b\b\b\b\b\b\b\b\b\b\b\b\b\b\b\b\b\b\b\b\b\b\b\b\b\b\b\b\b\b\b\b\b\b\b\b\b\b\b\b\b\b\b\b\b\b\b\b\b\b\b\b\b\b\b\b\b\b\b\b\b\b\b\b\b\b\b\b\b\r\u001b[1m30/30\u001b[0m \u001b[32m━━━━━━━━━━━━━━━━━━━━\u001b[0m\u001b[37m\u001b[0m \u001b[1m9s\u001b[0m 12ms/step - accuracy: 0.9841 - auc: 0.9963 - loss: 0.0135 - prc: 0.9924 - precision: 0.9904 - recall: 0.9800 - val_accuracy: 0.7635 - val_auc: 1.0000 - val_loss: 0.0279 - val_prc: 1.0000 - val_precision: 1.0000 - val_recall: 0.5752\n",
            "Epoch 3/50\n",
            "\u001b[1m30/30\u001b[0m \u001b[32m━━━━━━━━━━━━━━━━━━━━\u001b[0m\u001b[37m\u001b[0m \u001b[1m0s\u001b[0m 5ms/step - accuracy: 0.9787 - auc: 0.9977 - loss: 0.0140 - prc: 0.9977 - precision: 0.9857 - recall: 0.9747\n",
            "Epoch 3: val_prc did not improve from 1.00000\n",
            "\u001b[1m30/30\u001b[0m \u001b[32m━━━━━━━━━━━━━━━━━━━━\u001b[0m\u001b[37m\u001b[0m \u001b[1m1s\u001b[0m 9ms/step - accuracy: 0.9787 - auc: 0.9977 - loss: 0.0139 - prc: 0.9978 - precision: 0.9858 - recall: 0.9747 - val_accuracy: 0.4433 - val_auc: 0.9996 - val_loss: 0.0427 - val_prc: 0.9997 - val_precision: 0.0000e+00 - val_recall: 0.0000e+00\n",
            "Epoch 4/50\n",
            "\u001b[1m29/30\u001b[0m \u001b[32m━━━━━━━━━━━━━━━━━━━\u001b[0m\u001b[37m━\u001b[0m \u001b[1m0s\u001b[0m 6ms/step - accuracy: 0.9767 - auc: 0.9982 - loss: 0.0094 - prc: 0.9983 - precision: 0.9885 - recall: 0.9683\n",
            "Epoch 4: val_prc improved from 1.00000 to 1.00000, saving model to models/D-16_best.h5\n"
          ]
        },
        {
          "output_type": "stream",
          "name": "stderr",
          "text": [
            "WARNING:absl:You are saving your model as an HDF5 file via `model.save()` or `keras.saving.save_model(model)`. This file format is considered legacy. We recommend using instead the native Keras format, e.g. `model.save('my_model.keras')` or `keras.saving.save_model(model, 'my_model.keras')`. \n"
          ]
        },
        {
          "output_type": "stream",
          "name": "stdout",
          "text": [
            "\b\b\b\b\b\b\b\b\b\b\b\b\b\b\b\b\b\b\b\b\b\b\b\b\b\b\b\b\b\b\b\b\b\b\b\b\b\b\b\b\b\b\b\b\b\b\b\b\b\b\b\b\b\b\b\b\b\b\b\b\b\b\b\b\b\b\b\b\b\b\b\b\b\b\b\b\b\b\b\b\b\b\b\b\b\b\b\b\b\b\b\b\b\b\b\b\b\b\b\b\b\b\b\b\b\b\b\b\b\b\b\b\b\b\b\b\b\b\b\b\b\b\b\b\b\b\b\b\b\b\b\b\b\b\b\b\b\r\u001b[1m30/30\u001b[0m \u001b[32m━━━━━━━━━━━━━━━━━━━━\u001b[0m\u001b[37m\u001b[0m \u001b[1m0s\u001b[0m 12ms/step - accuracy: 0.9766 - auc: 0.9982 - loss: 0.0095 - prc: 0.9983 - precision: 0.9887 - recall: 0.9679 - val_accuracy: 0.4433 - val_auc: 1.0000 - val_loss: 0.1657 - val_prc: 1.0000 - val_precision: 0.0000e+00 - val_recall: 0.0000e+00\n",
            "Epoch 5/50\n",
            "\u001b[1m21/30\u001b[0m \u001b[32m━━━━━━━━━━━━━━\u001b[0m\u001b[37m━━━━━━\u001b[0m \u001b[1m0s\u001b[0m 5ms/step - accuracy: 0.9956 - auc: 1.0000 - loss: 7.1545e-04 - prc: 1.0000 - precision: 0.9926 - recall: 0.9991\n",
            "Epoch 5: val_prc did not improve from 1.00000\n",
            "\u001b[1m30/30\u001b[0m \u001b[32m━━━━━━━━━━━━━━━━━━━━\u001b[0m\u001b[37m\u001b[0m \u001b[1m1s\u001b[0m 9ms/step - accuracy: 0.9959 - auc: 1.0000 - loss: 6.5799e-04 - prc: 1.0000 - precision: 0.9943 - recall: 0.9982 - val_accuracy: 0.4433 - val_auc: 1.0000 - val_loss: 0.2478 - val_prc: 1.0000 - val_precision: 0.0000e+00 - val_recall: 0.0000e+00\n",
            "Epoch 6/50\n",
            "\u001b[1m29/30\u001b[0m \u001b[32m━━━━━━━━━━━━━━━━━━━\u001b[0m\u001b[37m━\u001b[0m \u001b[1m0s\u001b[0m 6ms/step - accuracy: 0.9946 - auc: 1.0000 - loss: 0.0011 - prc: 1.0000 - precision: 0.9940 - recall: 0.9959\n",
            "Epoch 6: val_prc did not improve from 1.00000\n",
            "\u001b[1m30/30\u001b[0m \u001b[32m━━━━━━━━━━━━━━━━━━━━\u001b[0m\u001b[37m\u001b[0m \u001b[1m0s\u001b[0m 9ms/step - accuracy: 0.9947 - auc: 1.0000 - loss: 0.0011 - prc: 1.0000 - precision: 0.9943 - recall: 0.9958 - val_accuracy: 0.4433 - val_auc: 1.0000 - val_loss: 0.2025 - val_prc: 1.0000 - val_precision: 0.0000e+00 - val_recall: 0.0000e+00\n",
            "Epoch 7/50\n",
            "\u001b[1m29/30\u001b[0m \u001b[32m━━━━━━━━━━━━━━━━━━━\u001b[0m\u001b[37m━\u001b[0m \u001b[1m0s\u001b[0m 6ms/step - accuracy: 0.9943 - auc: 0.9999 - loss: 0.0028 - prc: 0.9999 - precision: 0.9922 - recall: 0.9972\n",
            "Epoch 7: val_prc did not improve from 1.00000\n",
            "\u001b[1m30/30\u001b[0m \u001b[32m━━━━━━━━━━━━━━━━━━━━\u001b[0m\u001b[37m\u001b[0m \u001b[1m0s\u001b[0m 10ms/step - accuracy: 0.9942 - auc: 0.9999 - loss: 0.0028 - prc: 0.9999 - precision: 0.9924 - recall: 0.9969 - val_accuracy: 0.9803 - val_auc: 0.9995 - val_loss: 0.0094 - val_prc: 0.9996 - val_precision: 1.0000 - val_recall: 0.9646\n",
            "Epoch 8/50\n",
            "\u001b[1m29/30\u001b[0m \u001b[32m━━━━━━━━━━━━━━━━━━━\u001b[0m\u001b[37m━\u001b[0m \u001b[1m0s\u001b[0m 6ms/step - accuracy: 0.9866 - auc: 0.9980 - loss: 0.0139 - prc: 0.9981 - precision: 0.9867 - recall: 0.9885\n",
            "Epoch 8: val_prc did not improve from 1.00000\n",
            "\u001b[1m30/30\u001b[0m \u001b[32m━━━━━━━━━━━━━━━━━━━━\u001b[0m\u001b[37m\u001b[0m \u001b[1m0s\u001b[0m 9ms/step - accuracy: 0.9867 - auc: 0.9980 - loss: 0.0137 - prc: 0.9981 - precision: 0.9871 - recall: 0.9883 - val_accuracy: 0.9655 - val_auc: 1.0000 - val_loss: 0.0090 - val_prc: 1.0000 - val_precision: 1.0000 - val_recall: 0.9381\n",
            "Epoch 9/50\n",
            "\u001b[1m29/30\u001b[0m \u001b[32m━━━━━━━━━━━━━━━━━━━\u001b[0m\u001b[37m━\u001b[0m \u001b[1m0s\u001b[0m 6ms/step - accuracy: 0.9826 - auc: 0.9963 - loss: 0.0146 - prc: 0.9974 - precision: 0.9877 - recall: 0.9801\n",
            "Epoch 9: val_prc did not improve from 1.00000\n",
            "\u001b[1m30/30\u001b[0m \u001b[32m━━━━━━━━━━━━━━━━━━━━\u001b[0m\u001b[37m\u001b[0m \u001b[1m0s\u001b[0m 9ms/step - accuracy: 0.9827 - auc: 0.9963 - loss: 0.0143 - prc: 0.9974 - precision: 0.9881 - recall: 0.9799 - val_accuracy: 0.9754 - val_auc: 1.0000 - val_loss: 0.0036 - val_prc: 1.0000 - val_precision: 1.0000 - val_recall: 0.9558\n"
          ]
        },
        {
          "output_type": "stream",
          "name": "stderr",
          "text": [
            "WARNING:absl:Compiled the loaded model, but the compiled metrics have yet to be built. `model.compile_metrics` will be empty until you train or evaluate the model.\n"
          ]
        },
        {
          "output_type": "stream",
          "name": "stdout",
          "text": [
            "\u001b[1m7/7\u001b[0m \u001b[32m━━━━━━━━━━━━━━━━━━━━\u001b[0m\u001b[37m\u001b[0m \u001b[1m1s\u001b[0m 92ms/step\n",
            "\n",
            "   • Optimal threshold: 0.0846\n",
            "              precision    recall  f1-score   support\n",
            "\n",
            "           0     0.9785    1.0000    0.9891        91\n",
            "           1     1.0000    0.9821    0.9910       112\n",
            "\n",
            "    accuracy                         0.9901       203\n",
            "   macro avg     0.9892    0.9911    0.9901       203\n",
            "weighted avg     0.9904    0.9901    0.9902       203\n",
            "\n",
            "\n",
            "▶️ Channel M-7: 1 anomaly intervals\n",
            "   • Windows: 1488, Anomalies: 199 (13.37%)\n",
            "   • Class weights: {0: np.float64(0.5770509977827051), 1: np.float64(3.7446043165467624)}\n",
            "   • Training model...\n",
            "Epoch 1/50\n"
          ]
        },
        {
          "output_type": "stream",
          "name": "stderr",
          "text": [
            "/usr/local/lib/python3.11/dist-packages/keras/src/layers/convolutional/base_conv.py:107: UserWarning: Do not pass an `input_shape`/`input_dim` argument to a layer. When using Sequential models, prefer using an `Input(shape)` object as the first layer in the model instead.\n",
            "  super().__init__(activity_regularizer=activity_regularizer, **kwargs)\n"
          ]
        },
        {
          "output_type": "stream",
          "name": "stdout",
          "text": [
            "\u001b[1m33/33\u001b[0m \u001b[32m━━━━━━━━━━━━━━━━━━━━\u001b[0m\u001b[37m\u001b[0m \u001b[1m0s\u001b[0m 158ms/step - accuracy: 0.7385 - auc: 0.6026 - loss: 0.4026 - prc: 0.2473 - precision: 0.2073 - recall: 0.3174\n",
            "Epoch 1: val_prc improved from -inf to 0.64356, saving model to models/M-7_best.h5\n"
          ]
        },
        {
          "output_type": "stream",
          "name": "stderr",
          "text": [
            "WARNING:absl:You are saving your model as an HDF5 file via `model.save()` or `keras.saving.save_model(model)`. This file format is considered legacy. We recommend using instead the native Keras format, e.g. `model.save('my_model.keras')` or `keras.saving.save_model(model, 'my_model.keras')`. \n"
          ]
        },
        {
          "output_type": "stream",
          "name": "stdout",
          "text": [
            "\b\b\b\b\b\b\b\b\b\b\b\b\b\b\b\b\b\b\b\b\b\b\b\b\b\b\b\b\b\b\b\b\b\b\b\b\b\b\b\b\b\b\b\b\b\b\b\b\b\b\b\b\b\b\b\b\b\b\b\b\b\b\b\b\b\b\b\b\b\b\b\b\b\b\b\b\b\b\b\b\b\b\b\b\b\b\b\b\b\b\b\b\b\b\b\b\b\b\b\b\b\b\b\b\b\b\b\b\b\b\b\b\b\b\b\b\b\b\b\b\b\b\b\b\b\b\b\b\b\b\b\b\b\b\b\b\b\b\b\r\u001b[1m33/33\u001b[0m \u001b[32m━━━━━━━━━━━━━━━━━━━━\u001b[0m\u001b[37m\u001b[0m \u001b[1m15s\u001b[0m 226ms/step - accuracy: 0.7399 - auc: 0.6055 - loss: 0.3990 - prc: 0.2495 - precision: 0.2100 - recall: 0.3214 - val_accuracy: 0.7444 - val_auc: 0.9205 - val_loss: 0.1044 - val_prc: 0.6436 - val_precision: 0.3448 - val_recall: 1.0000\n",
            "Epoch 2/50\n",
            "\u001b[1m31/33\u001b[0m \u001b[32m━━━━━━━━━━━━━━━━━━\u001b[0m\u001b[37m━━\u001b[0m \u001b[1m0s\u001b[0m 5ms/step - accuracy: 0.9021 - auc: 0.9210 - loss: 0.0672 - prc: 0.7155 - precision: 0.6300 - recall: 0.6912\n",
            "Epoch 2: val_prc improved from 0.64356 to 0.88468, saving model to models/M-7_best.h5\n"
          ]
        },
        {
          "output_type": "stream",
          "name": "stderr",
          "text": [
            "WARNING:absl:You are saving your model as an HDF5 file via `model.save()` or `keras.saving.save_model(model)`. This file format is considered legacy. We recommend using instead the native Keras format, e.g. `model.save('my_model.keras')` or `keras.saving.save_model(model, 'my_model.keras')`. \n"
          ]
        },
        {
          "output_type": "stream",
          "name": "stdout",
          "text": [
            "\b\b\b\b\b\b\b\b\b\b\b\b\b\b\b\b\b\b\b\b\b\b\b\b\b\b\b\b\b\b\b\b\b\b\b\b\b\b\b\b\b\b\b\b\b\b\b\b\b\b\b\b\b\b\b\b\b\b\b\b\b\b\b\b\b\b\b\b\b\b\b\b\b\b\b\b\b\b\b\b\b\b\b\b\b\b\b\b\b\b\b\b\b\b\b\b\b\b\b\b\b\b\b\b\b\b\b\b\b\b\b\b\b\b\b\b\b\b\b\b\b\b\b\b\b\b\b\b\b\b\b\b\b\b\b\b\b\r\u001b[1m33/33\u001b[0m \u001b[32m━━━━━━━━━━━━━━━━━━━━\u001b[0m\u001b[37m\u001b[0m \u001b[1m0s\u001b[0m 11ms/step - accuracy: 0.9017 - auc: 0.9215 - loss: 0.0664 - prc: 0.7163 - precision: 0.6269 - recall: 0.6949 - val_accuracy: 0.8789 - val_auc: 0.9767 - val_loss: 0.0263 - val_prc: 0.8847 - val_precision: 1.0000 - val_recall: 0.1000\n",
            "Epoch 3/50\n",
            "\u001b[1m28/33\u001b[0m \u001b[32m━━━━━━━━━━━━━━━━\u001b[0m\u001b[37m━━━━\u001b[0m \u001b[1m0s\u001b[0m 6ms/step - accuracy: 0.9617 - auc: 0.9885 - loss: 0.0169 - prc: 0.9487 - precision: 0.8487 - recall: 0.8694\n",
            "Epoch 3: val_prc improved from 0.88468 to 0.96276, saving model to models/M-7_best.h5\n"
          ]
        },
        {
          "output_type": "stream",
          "name": "stderr",
          "text": [
            "WARNING:absl:You are saving your model as an HDF5 file via `model.save()` or `keras.saving.save_model(model)`. This file format is considered legacy. We recommend using instead the native Keras format, e.g. `model.save('my_model.keras')` or `keras.saving.save_model(model, 'my_model.keras')`. \n"
          ]
        },
        {
          "output_type": "stream",
          "name": "stdout",
          "text": [
            "\b\b\b\b\b\b\b\b\b\b\b\b\b\b\b\b\b\b\b\b\b\b\b\b\b\b\b\b\b\b\b\b\b\b\b\b\b\b\b\b\b\b\b\b\b\b\b\b\b\b\b\b\b\b\b\b\b\b\b\b\b\b\b\b\b\b\b\b\b\b\b\b\b\b\b\b\b\b\b\b\b\b\b\b\b\b\b\b\b\b\b\b\b\b\b\b\b\b\b\b\b\b\b\b\b\b\b\b\b\b\b\b\b\b\b\b\b\b\b\b\b\b\b\b\b\b\b\b\b\b\b\b\b\b\b\b\b\r\u001b[1m33/33\u001b[0m \u001b[32m━━━━━━━━━━━━━━━━━━━━\u001b[0m\u001b[37m\u001b[0m \u001b[1m0s\u001b[0m 12ms/step - accuracy: 0.9617 - auc: 0.9885 - loss: 0.0167 - prc: 0.9493 - precision: 0.8436 - recall: 0.8774 - val_accuracy: 0.9462 - val_auc: 0.9920 - val_loss: 0.0223 - val_prc: 0.9628 - val_precision: 1.0000 - val_recall: 0.6000\n",
            "Epoch 4/50\n",
            "\u001b[1m29/33\u001b[0m \u001b[32m━━━━━━━━━━━━━━━━━\u001b[0m\u001b[37m━━━\u001b[0m \u001b[1m0s\u001b[0m 6ms/step - accuracy: 0.9817 - auc: 0.9954 - loss: 0.0105 - prc: 0.9813 - precision: 0.9295 - recall: 0.9444\n",
            "Epoch 4: val_prc improved from 0.96276 to 0.98617, saving model to models/M-7_best.h5\n"
          ]
        },
        {
          "output_type": "stream",
          "name": "stderr",
          "text": [
            "WARNING:absl:You are saving your model as an HDF5 file via `model.save()` or `keras.saving.save_model(model)`. This file format is considered legacy. We recommend using instead the native Keras format, e.g. `model.save('my_model.keras')` or `keras.saving.save_model(model, 'my_model.keras')`. \n"
          ]
        },
        {
          "output_type": "stream",
          "name": "stdout",
          "text": [
            "\b\b\b\b\b\b\b\b\b\b\b\b\b\b\b\b\b\b\b\b\b\b\b\b\b\b\b\b\b\b\b\b\b\b\b\b\b\b\b\b\b\b\b\b\b\b\b\b\b\b\b\b\b\b\b\b\b\b\b\b\b\b\b\b\b\b\b\b\b\b\b\b\b\b\b\b\b\b\b\b\b\b\b\b\b\b\b\b\b\b\b\b\b\b\b\b\b\b\b\b\b\b\b\b\b\b\b\b\b\b\b\b\b\b\b\b\b\b\b\b\b\b\b\b\b\b\b\b\b\b\b\b\b\b\b\b\b\r\u001b[1m33/33\u001b[0m \u001b[32m━━━━━━━━━━━━━━━━━━━━\u001b[0m\u001b[37m\u001b[0m \u001b[1m0s\u001b[0m 12ms/step - accuracy: 0.9806 - auc: 0.9949 - loss: 0.0111 - prc: 0.9795 - precision: 0.9234 - recall: 0.9413 - val_accuracy: 0.9910 - val_auc: 0.9978 - val_loss: 0.0219 - val_prc: 0.9862 - val_precision: 0.9667 - val_recall: 0.9667\n",
            "Epoch 5/50\n",
            "\u001b[1m29/33\u001b[0m \u001b[32m━━━━━━━━━━━━━━━━━\u001b[0m\u001b[37m━━━\u001b[0m \u001b[1m0s\u001b[0m 6ms/step - accuracy: 0.9854 - auc: 0.9977 - loss: 0.0083 - prc: 0.9835 - precision: 0.9084 - recall: 0.9907\n",
            "Epoch 5: val_prc improved from 0.98617 to 0.99348, saving model to models/M-7_best.h5\n"
          ]
        },
        {
          "output_type": "stream",
          "name": "stderr",
          "text": [
            "WARNING:absl:You are saving your model as an HDF5 file via `model.save()` or `keras.saving.save_model(model)`. This file format is considered legacy. We recommend using instead the native Keras format, e.g. `model.save('my_model.keras')` or `keras.saving.save_model(model, 'my_model.keras')`. \n"
          ]
        },
        {
          "output_type": "stream",
          "name": "stdout",
          "text": [
            "\b\b\b\b\b\b\b\b\b\b\b\b\b\b\b\b\b\b\b\b\b\b\b\b\b\b\b\b\b\b\b\b\b\b\b\b\b\b\b\b\b\b\b\b\b\b\b\b\b\b\b\b\b\b\b\b\b\b\b\b\b\b\b\b\b\b\b\b\b\b\b\b\b\b\b\b\b\b\b\b\b\b\b\b\b\b\b\b\b\b\b\b\b\b\b\b\b\b\b\b\b\b\b\b\b\b\b\b\b\b\b\b\b\b\b\b\b\b\b\b\b\b\b\b\b\b\b\b\b\b\b\b\b\b\b\b\b\r\u001b[1m33/33\u001b[0m \u001b[32m━━━━━━━━━━━━━━━━━━━━\u001b[0m\u001b[37m\u001b[0m \u001b[1m1s\u001b[0m 12ms/step - accuracy: 0.9857 - auc: 0.9977 - loss: 0.0082 - prc: 0.9833 - precision: 0.9118 - recall: 0.9889 - val_accuracy: 0.8879 - val_auc: 0.9991 - val_loss: 0.0563 - val_prc: 0.9935 - val_precision: 0.5455 - val_recall: 1.0000\n",
            "Epoch 6/50\n",
            "\u001b[1m28/33\u001b[0m \u001b[32m━━━━━━━━━━━━━━━━\u001b[0m\u001b[37m━━━━\u001b[0m \u001b[1m0s\u001b[0m 6ms/step - accuracy: 0.9883 - auc: 0.9986 - loss: 0.0061 - prc: 0.9929 - precision: 0.9559 - recall: 0.9627\n",
            "Epoch 6: val_prc improved from 0.99348 to 0.99661, saving model to models/M-7_best.h5\n"
          ]
        },
        {
          "output_type": "stream",
          "name": "stderr",
          "text": [
            "WARNING:absl:You are saving your model as an HDF5 file via `model.save()` or `keras.saving.save_model(model)`. This file format is considered legacy. We recommend using instead the native Keras format, e.g. `model.save('my_model.keras')` or `keras.saving.save_model(model, 'my_model.keras')`. \n"
          ]
        },
        {
          "output_type": "stream",
          "name": "stdout",
          "text": [
            "\b\b\b\b\b\b\b\b\b\b\b\b\b\b\b\b\b\b\b\b\b\b\b\b\b\b\b\b\b\b\b\b\b\b\b\b\b\b\b\b\b\b\b\b\b\b\b\b\b\b\b\b\b\b\b\b\b\b\b\b\b\b\b\b\b\b\b\b\b\b\b\b\b\b\b\b\b\b\b\b\b\b\b\b\b\b\b\b\b\b\b\b\b\b\b\b\b\b\b\b\b\b\b\b\b\b\b\b\b\b\b\b\b\b\b\b\b\b\b\b\b\b\b\b\b\b\b\b\b\b\b\b\b\b\b\b\b\r\u001b[1m33/33\u001b[0m \u001b[32m━━━━━━━━━━━━━━━━━━━━\u001b[0m\u001b[37m\u001b[0m \u001b[1m1s\u001b[0m 11ms/step - accuracy: 0.9881 - auc: 0.9986 - loss: 0.0060 - prc: 0.9929 - precision: 0.9527 - recall: 0.9641 - val_accuracy: 0.9821 - val_auc: 0.9995 - val_loss: 0.0120 - val_prc: 0.9966 - val_precision: 0.8824 - val_recall: 1.0000\n",
            "Epoch 7/50\n",
            "\u001b[1m27/33\u001b[0m \u001b[32m━━━━━━━━━━━━━━━━\u001b[0m\u001b[37m━━━━\u001b[0m \u001b[1m0s\u001b[0m 6ms/step - accuracy: 0.9875 - auc: 0.9991 - loss: 0.0057 - prc: 0.9947 - precision: 0.9572 - recall: 0.9526\n",
            "Epoch 7: val_prc did not improve from 0.99661\n",
            "\u001b[1m33/33\u001b[0m \u001b[32m━━━━━━━━━━━━━━━━━━━━\u001b[0m\u001b[37m\u001b[0m \u001b[1m1s\u001b[0m 10ms/step - accuracy: 0.9878 - auc: 0.9990 - loss: 0.0057 - prc: 0.9944 - precision: 0.9570 - recall: 0.9546 - val_accuracy: 0.9641 - val_auc: 0.9993 - val_loss: 0.0187 - val_prc: 0.9954 - val_precision: 0.7895 - val_recall: 1.0000\n",
            "Epoch 8/50\n",
            "\u001b[1m30/33\u001b[0m \u001b[32m━━━━━━━━━━━━━━━━━━\u001b[0m\u001b[37m━━\u001b[0m \u001b[1m0s\u001b[0m 5ms/step - accuracy: 0.9915 - auc: 0.9993 - loss: 0.0040 - prc: 0.9965 - precision: 0.9489 - recall: 0.9948\n",
            "Epoch 8: val_prc did not improve from 0.99661\n",
            "\u001b[1m33/33\u001b[0m \u001b[32m━━━━━━━━━━━━━━━━━━━━\u001b[0m\u001b[37m\u001b[0m \u001b[1m0s\u001b[0m 9ms/step - accuracy: 0.9911 - auc: 0.9991 - loss: 0.0044 - prc: 0.9959 - precision: 0.9468 - recall: 0.9937 - val_accuracy: 0.6996 - val_auc: 0.9992 - val_loss: 0.1644 - val_prc: 0.9947 - val_precision: 0.3093 - val_recall: 1.0000\n",
            "Epoch 9/50\n",
            "\u001b[1m30/33\u001b[0m \u001b[32m━━━━━━━━━━━━━━━━━━\u001b[0m\u001b[37m━━\u001b[0m \u001b[1m0s\u001b[0m 5ms/step - accuracy: 0.9936 - auc: 0.9999 - loss: 0.0019 - prc: 0.9995 - precision: 0.9699 - recall: 0.9861\n",
            "Epoch 9: val_prc improved from 0.99661 to 0.99889, saving model to models/M-7_best.h5\n"
          ]
        },
        {
          "output_type": "stream",
          "name": "stderr",
          "text": [
            "WARNING:absl:You are saving your model as an HDF5 file via `model.save()` or `keras.saving.save_model(model)`. This file format is considered legacy. We recommend using instead the native Keras format, e.g. `model.save('my_model.keras')` or `keras.saving.save_model(model, 'my_model.keras')`. \n"
          ]
        },
        {
          "output_type": "stream",
          "name": "stdout",
          "text": [
            "\b\b\b\b\b\b\b\b\b\b\b\b\b\b\b\b\b\b\b\b\b\b\b\b\b\b\b\b\b\b\b\b\b\b\b\b\b\b\b\b\b\b\b\b\b\b\b\b\b\b\b\b\b\b\b\b\b\b\b\b\b\b\b\b\b\b\b\b\b\b\b\b\b\b\b\b\b\b\b\b\b\b\b\b\b\b\b\b\b\b\b\b\b\b\b\b\b\b\b\b\b\b\b\b\b\b\b\b\b\b\b\b\b\b\b\b\b\b\b\b\b\b\b\b\b\b\b\b\b\b\b\b\b\b\b\b\b\r\u001b[1m33/33\u001b[0m \u001b[32m━━━━━━━━━━━━━━━━━━━━\u001b[0m\u001b[37m\u001b[0m \u001b[1m0s\u001b[0m 12ms/step - accuracy: 0.9938 - auc: 0.9999 - loss: 0.0019 - prc: 0.9995 - precision: 0.9701 - recall: 0.9869 - val_accuracy: 0.6816 - val_auc: 0.9998 - val_loss: 0.2081 - val_prc: 0.9989 - val_precision: 0.2970 - val_recall: 1.0000\n",
            "Epoch 10/50\n",
            "\u001b[1m28/33\u001b[0m \u001b[32m━━━━━━━━━━━━━━━━\u001b[0m\u001b[37m━━━━\u001b[0m \u001b[1m0s\u001b[0m 6ms/step - accuracy: 0.9956 - auc: 0.9998 - loss: 0.0024 - prc: 0.9989 - precision: 0.9849 - recall: 0.9837\n",
            "Epoch 10: val_prc did not improve from 0.99889\n",
            "\u001b[1m33/33\u001b[0m \u001b[32m━━━━━━━━━━━━━━━━━━━━\u001b[0m\u001b[37m\u001b[0m \u001b[1m1s\u001b[0m 10ms/step - accuracy: 0.9954 - auc: 0.9998 - loss: 0.0025 - prc: 0.9987 - precision: 0.9841 - recall: 0.9833 - val_accuracy: 0.6143 - val_auc: 0.9974 - val_loss: 0.2912 - val_prc: 0.9677 - val_precision: 0.2586 - val_recall: 1.0000\n",
            "Epoch 11/50\n",
            "\u001b[1m27/33\u001b[0m \u001b[32m━━━━━━━━━━━━━━━━\u001b[0m\u001b[37m━━━━\u001b[0m \u001b[1m0s\u001b[0m 6ms/step - accuracy: 0.9954 - auc: 1.0000 - loss: 0.0012 - prc: 0.9998 - precision: 0.9698 - recall: 0.9987\n",
            "Epoch 11: val_prc did not improve from 0.99889\n",
            "\u001b[1m33/33\u001b[0m \u001b[32m━━━━━━━━━━━━━━━━━━━━\u001b[0m\u001b[37m\u001b[0m \u001b[1m1s\u001b[0m 9ms/step - accuracy: 0.9953 - auc: 1.0000 - loss: 0.0012 - prc: 0.9998 - precision: 0.9700 - recall: 0.9974 - val_accuracy: 0.5516 - val_auc: 0.9974 - val_loss: 0.4480 - val_prc: 0.9677 - val_precision: 0.2308 - val_recall: 1.0000\n",
            "Epoch 12/50\n",
            "\u001b[1m29/33\u001b[0m \u001b[32m━━━━━━━━━━━━━━━━━\u001b[0m\u001b[37m━━━\u001b[0m \u001b[1m0s\u001b[0m 6ms/step - accuracy: 0.9960 - auc: 0.9999 - loss: 0.0018 - prc: 0.9995 - precision: 0.9722 - recall: 0.9986\n",
            "Epoch 12: val_prc did not improve from 0.99889\n",
            "\u001b[1m33/33\u001b[0m \u001b[32m━━━━━━━━━━━━━━━━━━━━\u001b[0m\u001b[37m\u001b[0m \u001b[1m0s\u001b[0m 9ms/step - accuracy: 0.9960 - auc: 0.9999 - loss: 0.0019 - prc: 0.9994 - precision: 0.9731 - recall: 0.9977 - val_accuracy: 0.6637 - val_auc: 0.9948 - val_loss: 0.4147 - val_prc: 0.9375 - val_precision: 0.2857 - val_recall: 1.0000\n",
            "Epoch 13/50\n",
            "\u001b[1m29/33\u001b[0m \u001b[32m━━━━━━━━━━━━━━━━━\u001b[0m\u001b[37m━━━\u001b[0m \u001b[1m0s\u001b[0m 6ms/step - accuracy: 0.9969 - auc: 0.9999 - loss: 0.0015 - prc: 0.9995 - precision: 0.9860 - recall: 0.9918\n",
            "Epoch 13: val_prc improved from 0.99889 to 0.99891, saving model to models/M-7_best.h5\n"
          ]
        },
        {
          "output_type": "stream",
          "name": "stderr",
          "text": [
            "WARNING:absl:You are saving your model as an HDF5 file via `model.save()` or `keras.saving.save_model(model)`. This file format is considered legacy. We recommend using instead the native Keras format, e.g. `model.save('my_model.keras')` or `keras.saving.save_model(model, 'my_model.keras')`. \n"
          ]
        },
        {
          "output_type": "stream",
          "name": "stdout",
          "text": [
            "\b\b\b\b\b\b\b\b\b\b\b\b\b\b\b\b\b\b\b\b\b\b\b\b\b\b\b\b\b\b\b\b\b\b\b\b\b\b\b\b\b\b\b\b\b\b\b\b\b\b\b\b\b\b\b\b\b\b\b\b\b\b\b\b\b\b\b\b\b\b\b\b\b\b\b\b\b\b\b\b\b\b\b\b\b\b\b\b\b\b\b\b\b\b\b\b\b\b\b\b\b\b\b\b\b\b\b\b\b\b\b\b\b\b\b\b\b\b\b\b\b\b\b\b\b\b\b\b\b\b\b\b\b\b\b\b\b\r\u001b[1m33/33\u001b[0m \u001b[32m━━━━━━━━━━━━━━━━━━━━\u001b[0m\u001b[37m\u001b[0m \u001b[1m0s\u001b[0m 12ms/step - accuracy: 0.9966 - auc: 0.9999 - loss: 0.0016 - prc: 0.9994 - precision: 0.9848 - recall: 0.9909 - val_accuracy: 0.9955 - val_auc: 0.9998 - val_loss: 0.0108 - val_prc: 0.9989 - val_precision: 0.9677 - val_recall: 1.0000\n",
            "Epoch 14/50\n",
            "\u001b[1m28/33\u001b[0m \u001b[32m━━━━━━━━━━━━━━━━\u001b[0m\u001b[37m━━━━\u001b[0m \u001b[1m0s\u001b[0m 6ms/step - accuracy: 0.9975 - auc: 0.9997 - loss: 0.0021 - prc: 0.9983 - precision: 0.9827 - recall: 1.0000\n",
            "Epoch 14: val_prc did not improve from 0.99891\n",
            "\u001b[1m33/33\u001b[0m \u001b[32m━━━━━━━━━━━━━━━━━━━━\u001b[0m\u001b[37m\u001b[0m \u001b[1m0s\u001b[0m 10ms/step - accuracy: 0.9974 - auc: 0.9997 - loss: 0.0021 - prc: 0.9982 - precision: 0.9819 - recall: 1.0000 - val_accuracy: 0.9910 - val_auc: 0.9998 - val_loss: 0.0047 - val_prc: 0.9989 - val_precision: 0.9667 - val_recall: 0.9667\n",
            "Epoch 15/50\n",
            "\u001b[1m28/33\u001b[0m \u001b[32m━━━━━━━━━━━━━━━━\u001b[0m\u001b[37m━━━━\u001b[0m \u001b[1m0s\u001b[0m 6ms/step - accuracy: 0.9981 - auc: 1.0000 - loss: 0.0011 - prc: 0.9998 - precision: 0.9974 - recall: 0.9896\n",
            "Epoch 15: val_prc did not improve from 0.99891\n",
            "\u001b[1m33/33\u001b[0m \u001b[32m━━━━━━━━━━━━━━━━━━━━\u001b[0m\u001b[37m\u001b[0m \u001b[1m0s\u001b[0m 9ms/step - accuracy: 0.9981 - auc: 1.0000 - loss: 0.0011 - prc: 0.9998 - precision: 0.9965 - recall: 0.9901 - val_accuracy: 0.9910 - val_auc: 0.9973 - val_loss: 0.0230 - val_prc: 0.9667 - val_precision: 0.9375 - val_recall: 1.0000\n",
            "Epoch 16/50\n",
            "\u001b[1m26/33\u001b[0m \u001b[32m━━━━━━━━━━━━━━━\u001b[0m\u001b[37m━━━━━\u001b[0m \u001b[1m0s\u001b[0m 6ms/step - accuracy: 0.9939 - auc: 1.0000 - loss: 9.9182e-04 - prc: 0.9999 - precision: 0.9611 - recall: 0.9982\n",
            "Epoch 16: val_prc did not improve from 0.99891\n",
            "\u001b[1m33/33\u001b[0m \u001b[32m━━━━━━━━━━━━━━━━━━━━\u001b[0m\u001b[37m\u001b[0m \u001b[1m1s\u001b[0m 10ms/step - accuracy: 0.9941 - auc: 1.0000 - loss: 0.0011 - prc: 0.9998 - precision: 0.9632 - recall: 0.9968 - val_accuracy: 0.9910 - val_auc: 0.9974 - val_loss: 0.0200 - val_prc: 0.9677 - val_precision: 0.9375 - val_recall: 1.0000\n",
            "Epoch 17/50\n",
            "\u001b[1m31/33\u001b[0m \u001b[32m━━━━━━━━━━━━━━━━━━\u001b[0m\u001b[37m━━\u001b[0m \u001b[1m0s\u001b[0m 7ms/step - accuracy: 0.9971 - auc: 0.9999 - loss: 0.0013 - prc: 0.9997 - precision: 0.9844 - recall: 0.9953\n",
            "Epoch 17: val_prc did not improve from 0.99891\n",
            "\u001b[1m33/33\u001b[0m \u001b[32m━━━━━━━━━━━━━━━━━━━━\u001b[0m\u001b[37m\u001b[0m \u001b[1m0s\u001b[0m 14ms/step - accuracy: 0.9970 - auc: 0.9999 - loss: 0.0014 - prc: 0.9996 - precision: 0.9833 - recall: 0.9951 - val_accuracy: 0.9955 - val_auc: 0.9998 - val_loss: 0.0133 - val_prc: 0.9989 - val_precision: 0.9677 - val_recall: 1.0000\n",
            "Epoch 18/50\n",
            "\u001b[1m27/33\u001b[0m \u001b[32m━━━━━━━━━━━━━━━━\u001b[0m\u001b[37m━━━━\u001b[0m \u001b[1m0s\u001b[0m 8ms/step - accuracy: 0.9997 - auc: 1.0000 - loss: 3.6231e-04 - prc: 1.0000 - precision: 1.0000 - recall: 0.9980\n",
            "Epoch 18: val_prc did not improve from 0.99891\n",
            "\u001b[1m33/33\u001b[0m \u001b[32m━━━━━━━━━━━━━━━━━━━━\u001b[0m\u001b[37m\u001b[0m \u001b[1m1s\u001b[0m 15ms/step - accuracy: 0.9995 - auc: 1.0000 - loss: 4.7299e-04 - prc: 1.0000 - precision: 1.0000 - recall: 0.9962 - val_accuracy: 0.9865 - val_auc: 0.9974 - val_loss: 0.0217 - val_prc: 0.9677 - val_precision: 0.9091 - val_recall: 1.0000\n"
          ]
        },
        {
          "output_type": "stream",
          "name": "stderr",
          "text": [
            "WARNING:absl:Compiled the loaded model, but the compiled metrics have yet to be built. `model.compile_metrics` will be empty until you train or evaluate the model.\n"
          ]
        },
        {
          "output_type": "stream",
          "name": "stdout",
          "text": [
            "\u001b[1m7/7\u001b[0m \u001b[32m━━━━━━━━━━━━━━━━━━━━\u001b[0m\u001b[37m\u001b[0m \u001b[1m1s\u001b[0m 7ms/step  \n",
            "\n",
            "   • Optimal threshold: 0.9233\n",
            "              precision    recall  f1-score   support\n",
            "\n",
            "           0     0.9949    1.0000    0.9974       194\n",
            "           1     1.0000    0.9667    0.9831        30\n",
            "\n",
            "    accuracy                         0.9955       224\n",
            "   macro avg     0.9974    0.9833    0.9902       224\n",
            "weighted avg     0.9956    0.9955    0.9955       224\n",
            "\n",
            "\n",
            "▶️ Channel F-8: 1 anomaly intervals\n",
            "   • Windows: 3243, Anomalies: 635 (19.58%)\n",
            "   • Class weights: {0: np.float64(0.6215772179627601), 1: np.float64(2.5563063063063063)}\n"
          ]
        },
        {
          "output_type": "stream",
          "name": "stderr",
          "text": [
            "/usr/local/lib/python3.11/dist-packages/keras/src/layers/convolutional/base_conv.py:107: UserWarning: Do not pass an `input_shape`/`input_dim` argument to a layer. When using Sequential models, prefer using an `Input(shape)` object as the first layer in the model instead.\n",
            "  super().__init__(activity_regularizer=activity_regularizer, **kwargs)\n"
          ]
        },
        {
          "output_type": "stream",
          "name": "stdout",
          "text": [
            "   • Training model...\n",
            "Epoch 1/50\n",
            "\u001b[1m71/71\u001b[0m \u001b[32m━━━━━━━━━━━━━━━━━━━━\u001b[0m\u001b[37m\u001b[0m \u001b[1m0s\u001b[0m 79ms/step - accuracy: 0.6360 - auc: 0.5218 - loss: 0.3773 - prc: 0.1994 - precision: 0.1917 - recall: 0.2471\n",
            "Epoch 1: val_prc improved from -inf to 0.23345, saving model to models/F-8_best.h5\n"
          ]
        },
        {
          "output_type": "stream",
          "name": "stderr",
          "text": [
            "WARNING:absl:You are saving your model as an HDF5 file via `model.save()` or `keras.saving.save_model(model)`. This file format is considered legacy. We recommend using instead the native Keras format, e.g. `model.save('my_model.keras')` or `keras.saving.save_model(model, 'my_model.keras')`. \n"
          ]
        },
        {
          "output_type": "stream",
          "name": "stdout",
          "text": [
            "\b\b\b\b\b\b\b\b\b\b\b\b\b\b\b\b\b\b\b\b\b\b\b\b\b\b\b\b\b\b\b\b\b\b\b\b\b\b\b\b\b\b\b\b\b\b\b\b\b\b\b\b\b\b\b\b\b\b\b\b\b\b\b\b\b\b\b\b\b\b\b\b\b\b\b\b\b\b\b\b\b\b\b\b\b\b\b\b\b\b\b\b\b\b\b\b\b\b\b\b\b\b\b\b\b\b\b\b\b\b\b\b\b\b\b\b\b\b\b\b\b\b\b\b\b\b\b\b\b\b\b\b\b\b\b\b\b\b\r\u001b[1m71/71\u001b[0m \u001b[32m━━━━━━━━━━━━━━━━━━━━\u001b[0m\u001b[37m\u001b[0m \u001b[1m15s\u001b[0m 110ms/step - accuracy: 0.6365 - auc: 0.5222 - loss: 0.3758 - prc: 0.1995 - precision: 0.1922 - recall: 0.2478 - val_accuracy: 0.3724 - val_auc: 0.5577 - val_loss: 0.1369 - val_prc: 0.2335 - val_precision: 0.2131 - val_recall: 0.8211\n",
            "Epoch 2/50\n",
            "\u001b[1m71/71\u001b[0m \u001b[32m━━━━━━━━━━━━━━━━━━━━\u001b[0m\u001b[37m\u001b[0m \u001b[1m0s\u001b[0m 6ms/step - accuracy: 0.7405 - auc: 0.6883 - loss: 0.0890 - prc: 0.3448 - precision: 0.3590 - recall: 0.3607\n",
            "Epoch 2: val_prc improved from 0.23345 to 0.31537, saving model to models/F-8_best.h5\n"
          ]
        },
        {
          "output_type": "stream",
          "name": "stderr",
          "text": [
            "WARNING:absl:You are saving your model as an HDF5 file via `model.save()` or `keras.saving.save_model(model)`. This file format is considered legacy. We recommend using instead the native Keras format, e.g. `model.save('my_model.keras')` or `keras.saving.save_model(model, 'my_model.keras')`. \n"
          ]
        },
        {
          "output_type": "stream",
          "name": "stdout",
          "text": [
            "\b\b\b\b\b\b\b\b\b\b\b\b\b\b\b\b\b\b\b\b\b\b\b\b\b\b\b\b\b\b\b\b\b\b\b\b\b\b\b\b\b\b\b\b\b\b\b\b\b\b\b\b\b\b\b\b\b\b\b\b\b\b\b\b\b\b\b\b\b\b\b\b\b\b\b\b\b\b\b\b\b\b\b\b\b\b\b\b\b\b\b\b\b\b\b\b\b\b\b\b\b\b\b\b\b\b\b\b\b\b\b\b\b\b\b\b\b\b\b\b\b\b\b\b\b\b\b\b\b\b\b\b\b\b\b\b\b\r\u001b[1m71/71\u001b[0m \u001b[32m━━━━━━━━━━━━━━━━━━━━\u001b[0m\u001b[37m\u001b[0m \u001b[1m1s\u001b[0m 10ms/step - accuracy: 0.7407 - auc: 0.6883 - loss: 0.0889 - prc: 0.3446 - precision: 0.3591 - recall: 0.3604 - val_accuracy: 0.1955 - val_auc: 0.6689 - val_loss: 1.1357 - val_prc: 0.3154 - val_precision: 0.1955 - val_recall: 1.0000\n",
            "Epoch 3/50\n",
            "\u001b[1m63/71\u001b[0m \u001b[32m━━━━━━━━━━━━━━━━━\u001b[0m\u001b[37m━━━\u001b[0m \u001b[1m0s\u001b[0m 6ms/step - accuracy: 0.7726 - auc: 0.7059 - loss: 0.0688 - prc: 0.3646 - precision: 0.3994 - recall: 0.2291\n",
            "Epoch 3: val_prc did not improve from 0.31537\n",
            "\u001b[1m71/71\u001b[0m \u001b[32m━━━━━━━━━━━━━━━━━━━━\u001b[0m\u001b[37m\u001b[0m \u001b[1m1s\u001b[0m 9ms/step - accuracy: 0.7747 - auc: 0.7100 - loss: 0.0682 - prc: 0.3681 - precision: 0.4042 - recall: 0.2325 - val_accuracy: 0.1955 - val_auc: 0.6690 - val_loss: 2.2721 - val_prc: 0.3092 - val_precision: 0.1955 - val_recall: 1.0000\n",
            "Epoch 4/50\n",
            "\u001b[1m69/71\u001b[0m \u001b[32m━━━━━━━━━━━━━━━━━━━\u001b[0m\u001b[37m━\u001b[0m \u001b[1m0s\u001b[0m 6ms/step - accuracy: 0.7915 - auc: 0.8007 - loss: 0.0578 - prc: 0.4934 - precision: 0.4811 - recall: 0.3366\n",
            "Epoch 4: val_prc did not improve from 0.31537\n",
            "\u001b[1m71/71\u001b[0m \u001b[32m━━━━━━━━━━━━━━━━━━━━\u001b[0m\u001b[37m\u001b[0m \u001b[1m1s\u001b[0m 9ms/step - accuracy: 0.7920 - auc: 0.8009 - loss: 0.0578 - prc: 0.4933 - precision: 0.4817 - recall: 0.3356 - val_accuracy: 0.1955 - val_auc: 0.5752 - val_loss: 2.2764 - val_prc: 0.2517 - val_precision: 0.1955 - val_recall: 1.0000\n",
            "Epoch 5/50\n",
            "\u001b[1m70/71\u001b[0m \u001b[32m━━━━━━━━━━━━━━━━━━━\u001b[0m\u001b[37m━\u001b[0m \u001b[1m0s\u001b[0m 6ms/step - accuracy: 0.8389 - auc: 0.8621 - loss: 0.0509 - prc: 0.6255 - precision: 0.6332 - recall: 0.4907\n",
            "Epoch 5: val_prc did not improve from 0.31537\n",
            "\u001b[1m71/71\u001b[0m \u001b[32m━━━━━━━━━━━━━━━━━━━━\u001b[0m\u001b[37m\u001b[0m \u001b[1m1s\u001b[0m 8ms/step - accuracy: 0.8391 - auc: 0.8622 - loss: 0.0509 - prc: 0.6253 - precision: 0.6331 - recall: 0.4916 - val_accuracy: 0.1955 - val_auc: 0.5335 - val_loss: 2.6086 - val_prc: 0.2102 - val_precision: 0.1955 - val_recall: 1.0000\n",
            "Epoch 6/50\n",
            "\u001b[1m63/71\u001b[0m \u001b[32m━━━━━━━━━━━━━━━━━\u001b[0m\u001b[37m━━━\u001b[0m \u001b[1m0s\u001b[0m 6ms/step - accuracy: 0.8765 - auc: 0.9162 - loss: 0.0409 - prc: 0.7507 - precision: 0.7257 - recall: 0.6300\n",
            "Epoch 6: val_prc improved from 0.31537 to 0.43055, saving model to models/F-8_best.h5\n"
          ]
        },
        {
          "output_type": "stream",
          "name": "stderr",
          "text": [
            "WARNING:absl:You are saving your model as an HDF5 file via `model.save()` or `keras.saving.save_model(model)`. This file format is considered legacy. We recommend using instead the native Keras format, e.g. `model.save('my_model.keras')` or `keras.saving.save_model(model, 'my_model.keras')`. \n"
          ]
        },
        {
          "output_type": "stream",
          "name": "stdout",
          "text": [
            "\b\b\b\b\b\b\b\b\b\b\b\b\b\b\b\b\b\b\b\b\b\b\b\b\b\b\b\b\b\b\b\b\b\b\b\b\b\b\b\b\b\b\b\b\b\b\b\b\b\b\b\b\b\b\b\b\b\b\b\b\b\b\b\b\b\b\b\b\b\b\b\b\b\b\b\b\b\b\b\b\b\b\b\b\b\b\b\b\b\b\b\b\b\b\b\b\b\b\b\b\b\b\b\b\b\b\b\b\b\b\b\b\b\b\b\b\b\b\b\b\b\b\b\b\b\b\b\b\b\b\b\b\b\b\b\b\b\r\u001b[1m71/71\u001b[0m \u001b[32m━━━━━━━━━━━━━━━━━━━━\u001b[0m\u001b[37m\u001b[0m \u001b[1m1s\u001b[0m 10ms/step - accuracy: 0.8763 - auc: 0.9161 - loss: 0.0409 - prc: 0.7516 - precision: 0.7219 - recall: 0.6315 - val_accuracy: 0.2407 - val_auc: 0.7881 - val_loss: 1.5488 - val_prc: 0.4306 - val_precision: 0.2047 - val_recall: 1.0000\n",
            "Epoch 7/50\n",
            "\u001b[1m71/71\u001b[0m \u001b[32m━━━━━━━━━━━━━━━━━━━━\u001b[0m\u001b[37m\u001b[0m \u001b[1m0s\u001b[0m 6ms/step - accuracy: 0.8784 - auc: 0.9278 - loss: 0.0401 - prc: 0.7539 - precision: 0.7233 - recall: 0.6584\n",
            "Epoch 7: val_prc improved from 0.43055 to 0.48825, saving model to models/F-8_best.h5\n"
          ]
        },
        {
          "output_type": "stream",
          "name": "stderr",
          "text": [
            "WARNING:absl:You are saving your model as an HDF5 file via `model.save()` or `keras.saving.save_model(model)`. This file format is considered legacy. We recommend using instead the native Keras format, e.g. `model.save('my_model.keras')` or `keras.saving.save_model(model, 'my_model.keras')`. \n"
          ]
        },
        {
          "output_type": "stream",
          "name": "stdout",
          "text": [
            "\b\b\b\b\b\b\b\b\b\b\b\b\b\b\b\b\b\b\b\b\b\b\b\b\b\b\b\b\b\b\b\b\b\b\b\b\b\b\b\b\b\b\b\b\b\b\b\b\b\b\b\b\b\b\b\b\b\b\b\b\b\b\b\b\b\b\b\b\b\b\b\b\b\b\b\b\b\b\b\b\b\b\b\b\b\b\b\b\b\b\b\b\b\b\b\b\b\b\b\b\b\b\b\b\b\b\b\b\b\b\b\b\b\b\b\b\b\b\b\b\b\b\b\b\b\b\b\b\b\b\b\b\b\b\b\b\b\r\u001b[1m71/71\u001b[0m \u001b[32m━━━━━━━━━━━━━━━━━━━━\u001b[0m\u001b[37m\u001b[0m \u001b[1m1s\u001b[0m 9ms/step - accuracy: 0.8786 - auc: 0.9280 - loss: 0.0401 - prc: 0.7546 - precision: 0.7237 - recall: 0.6590 - val_accuracy: 0.3519 - val_auc: 0.8006 - val_loss: 0.8032 - val_prc: 0.4882 - val_precision: 0.2317 - val_recall: 1.0000\n",
            "Epoch 8/50\n",
            "\u001b[1m65/71\u001b[0m \u001b[32m━━━━━━━━━━━━━━━━━━\u001b[0m\u001b[37m━━\u001b[0m \u001b[1m0s\u001b[0m 6ms/step - accuracy: 0.9183 - auc: 0.9624 - loss: 0.0282 - prc: 0.8818 - precision: 0.7950 - recall: 0.8078\n",
            "Epoch 8: val_prc improved from 0.48825 to 0.85066, saving model to models/F-8_best.h5\n"
          ]
        },
        {
          "output_type": "stream",
          "name": "stderr",
          "text": [
            "WARNING:absl:You are saving your model as an HDF5 file via `model.save()` or `keras.saving.save_model(model)`. This file format is considered legacy. We recommend using instead the native Keras format, e.g. `model.save('my_model.keras')` or `keras.saving.save_model(model, 'my_model.keras')`. \n"
          ]
        },
        {
          "output_type": "stream",
          "name": "stdout",
          "text": [
            "\b\b\b\b\b\b\b\b\b\b\b\b\b\b\b\b\b\b\b\b\b\b\b\b\b\b\b\b\b\b\b\b\b\b\b\b\b\b\b\b\b\b\b\b\b\b\b\b\b\b\b\b\b\b\b\b\b\b\b\b\b\b\b\b\b\b\b\b\b\b\b\b\b\b\b\b\b\b\b\b\b\b\b\b\b\b\b\b\b\b\b\b\b\b\b\b\b\b\b\b\b\b\b\b\b\b\b\b\b\b\b\b\b\b\b\b\b\b\b\b\b\b\b\b\b\b\b\b\b\b\b\b\b\b\b\b\b\r\u001b[1m71/71\u001b[0m \u001b[32m━━━━━━━━━━━━━━━━━━━━\u001b[0m\u001b[37m\u001b[0m \u001b[1m1s\u001b[0m 9ms/step - accuracy: 0.9189 - auc: 0.9629 - loss: 0.0279 - prc: 0.8830 - precision: 0.7957 - recall: 0.8089 - val_accuracy: 0.8971 - val_auc: 0.9579 - val_loss: 0.0524 - val_prc: 0.8507 - val_precision: 0.7027 - val_recall: 0.8211\n",
            "Epoch 9/50\n",
            "\u001b[1m68/71\u001b[0m \u001b[32m━━━━━━━━━━━━━━━━━━━\u001b[0m\u001b[37m━\u001b[0m \u001b[1m0s\u001b[0m 6ms/step - accuracy: 0.9022 - auc: 0.9532 - loss: 0.0315 - prc: 0.8575 - precision: 0.7510 - recall: 0.7785\n",
            "Epoch 9: val_prc improved from 0.85066 to 0.86112, saving model to models/F-8_best.h5\n"
          ]
        },
        {
          "output_type": "stream",
          "name": "stderr",
          "text": [
            "WARNING:absl:You are saving your model as an HDF5 file via `model.save()` or `keras.saving.save_model(model)`. This file format is considered legacy. We recommend using instead the native Keras format, e.g. `model.save('my_model.keras')` or `keras.saving.save_model(model, 'my_model.keras')`. \n"
          ]
        },
        {
          "output_type": "stream",
          "name": "stdout",
          "text": [
            "\b\b\b\b\b\b\b\b\b\b\b\b\b\b\b\b\b\b\b\b\b\b\b\b\b\b\b\b\b\b\b\b\b\b\b\b\b\b\b\b\b\b\b\b\b\b\b\b\b\b\b\b\b\b\b\b\b\b\b\b\b\b\b\b\b\b\b\b\b\b\b\b\b\b\b\b\b\b\b\b\b\b\b\b\b\b\b\b\b\b\b\b\b\b\b\b\b\b\b\b\b\b\b\b\b\b\b\b\b\b\b\b\b\b\b\b\b\b\b\b\b\b\b\b\b\b\b\b\b\b\b\b\b\b\b\b\b\r\u001b[1m71/71\u001b[0m \u001b[32m━━━━━━━━━━━━━━━━━━━━\u001b[0m\u001b[37m\u001b[0m \u001b[1m1s\u001b[0m 11ms/step - accuracy: 0.9025 - auc: 0.9534 - loss: 0.0314 - prc: 0.8575 - precision: 0.7512 - recall: 0.7785 - val_accuracy: 0.6091 - val_auc: 0.9503 - val_loss: 0.2242 - val_prc: 0.8611 - val_precision: 0.3333 - val_recall: 1.0000\n",
            "Epoch 10/50\n",
            "\u001b[1m70/71\u001b[0m \u001b[32m━━━━━━━━━━━━━━━━━━━\u001b[0m\u001b[37m━\u001b[0m \u001b[1m0s\u001b[0m 8ms/step - accuracy: 0.9315 - auc: 0.9747 - loss: 0.0246 - prc: 0.9139 - precision: 0.8553 - recall: 0.8007\n",
            "Epoch 10: val_prc improved from 0.86112 to 0.87589, saving model to models/F-8_best.h5\n"
          ]
        },
        {
          "output_type": "stream",
          "name": "stderr",
          "text": [
            "WARNING:absl:You are saving your model as an HDF5 file via `model.save()` or `keras.saving.save_model(model)`. This file format is considered legacy. We recommend using instead the native Keras format, e.g. `model.save('my_model.keras')` or `keras.saving.save_model(model, 'my_model.keras')`. \n"
          ]
        },
        {
          "output_type": "stream",
          "name": "stdout",
          "text": [
            "\b\b\b\b\b\b\b\b\b\b\b\b\b\b\b\b\b\b\b\b\b\b\b\b\b\b\b\b\b\b\b\b\b\b\b\b\b\b\b\b\b\b\b\b\b\b\b\b\b\b\b\b\b\b\b\b\b\b\b\b\b\b\b\b\b\b\b\b\b\b\b\b\b\b\b\b\b\b\b\b\b\b\b\b\b\b\b\b\b\b\b\b\b\b\b\b\b\b\b\b\b\b\b\b\b\b\b\b\b\b\b\b\b\b\b\b\b\b\b\b\b\b\b\b\b\b\b\b\b\b\b\b\b\b\b\b\b\r\u001b[1m71/71\u001b[0m \u001b[32m━━━━━━━━━━━━━━━━━━━━\u001b[0m\u001b[37m\u001b[0m \u001b[1m1s\u001b[0m 12ms/step - accuracy: 0.9315 - auc: 0.9747 - loss: 0.0245 - prc: 0.9140 - precision: 0.8543 - recall: 0.8017 - val_accuracy: 0.3395 - val_auc: 0.9784 - val_loss: 1.3195 - val_prc: 0.8759 - val_precision: 0.2284 - val_recall: 1.0000\n",
            "Epoch 11/50\n",
            "\u001b[1m69/71\u001b[0m \u001b[32m━━━━━━━━━━━━━━━━━━━\u001b[0m\u001b[37m━\u001b[0m \u001b[1m0s\u001b[0m 8ms/step - accuracy: 0.9420 - auc: 0.9795 - loss: 0.0215 - prc: 0.9286 - precision: 0.8743 - recall: 0.8323\n",
            "Epoch 11: val_prc did not improve from 0.87589\n",
            "\u001b[1m71/71\u001b[0m \u001b[32m━━━━━━━━━━━━━━━━━━━━\u001b[0m\u001b[37m\u001b[0m \u001b[1m1s\u001b[0m 10ms/step - accuracy: 0.9421 - auc: 0.9794 - loss: 0.0215 - prc: 0.9284 - precision: 0.8742 - recall: 0.8326 - val_accuracy: 0.4012 - val_auc: 0.8821 - val_loss: 1.7868 - val_prc: 0.5078 - val_precision: 0.2461 - val_recall: 1.0000\n",
            "Epoch 12/50\n",
            "\u001b[1m63/71\u001b[0m \u001b[32m━━━━━━━━━━━━━━━━━\u001b[0m\u001b[37m━━━\u001b[0m \u001b[1m0s\u001b[0m 6ms/step - accuracy: 0.9422 - auc: 0.9798 - loss: 0.0222 - prc: 0.9264 - precision: 0.8660 - recall: 0.8361\n",
            "Epoch 12: val_prc improved from 0.87589 to 0.91118, saving model to models/F-8_best.h5\n"
          ]
        },
        {
          "output_type": "stream",
          "name": "stderr",
          "text": [
            "WARNING:absl:You are saving your model as an HDF5 file via `model.save()` or `keras.saving.save_model(model)`. This file format is considered legacy. We recommend using instead the native Keras format, e.g. `model.save('my_model.keras')` or `keras.saving.save_model(model, 'my_model.keras')`. \n"
          ]
        },
        {
          "output_type": "stream",
          "name": "stdout",
          "text": [
            "\b\b\b\b\b\b\b\b\b\b\b\b\b\b\b\b\b\b\b\b\b\b\b\b\b\b\b\b\b\b\b\b\b\b\b\b\b\b\b\b\b\b\b\b\b\b\b\b\b\b\b\b\b\b\b\b\b\b\b\b\b\b\b\b\b\b\b\b\b\b\b\b\b\b\b\b\b\b\b\b\b\b\b\b\b\b\b\b\b\b\b\b\b\b\b\b\b\b\b\b\b\b\b\b\b\b\b\b\b\b\b\b\b\b\b\b\b\b\b\b\b\b\b\b\b\b\b\b\b\b\b\b\b\b\b\b\b\r\u001b[1m71/71\u001b[0m \u001b[32m━━━━━━━━━━━━━━━━━━━━\u001b[0m\u001b[37m\u001b[0m \u001b[1m1s\u001b[0m 10ms/step - accuracy: 0.9417 - auc: 0.9794 - loss: 0.0224 - prc: 0.9251 - precision: 0.8666 - recall: 0.8322 - val_accuracy: 0.6235 - val_auc: 0.9823 - val_loss: 0.5993 - val_prc: 0.9112 - val_precision: 0.3417 - val_recall: 1.0000\n",
            "Epoch 13/50\n",
            "\u001b[1m66/71\u001b[0m \u001b[32m━━━━━━━━━━━━━━━━━━\u001b[0m\u001b[37m━━\u001b[0m \u001b[1m0s\u001b[0m 6ms/step - accuracy: 0.9552 - auc: 0.9915 - loss: 0.0138 - prc: 0.9697 - precision: 0.8905 - recall: 0.8832\n",
            "Epoch 13: val_prc improved from 0.91118 to 0.99396, saving model to models/F-8_best.h5\n"
          ]
        },
        {
          "output_type": "stream",
          "name": "stderr",
          "text": [
            "WARNING:absl:You are saving your model as an HDF5 file via `model.save()` or `keras.saving.save_model(model)`. This file format is considered legacy. We recommend using instead the native Keras format, e.g. `model.save('my_model.keras')` or `keras.saving.save_model(model, 'my_model.keras')`. \n"
          ]
        },
        {
          "output_type": "stream",
          "name": "stdout",
          "text": [
            "\b\b\b\b\b\b\b\b\b\b\b\b\b\b\b\b\b\b\b\b\b\b\b\b\b\b\b\b\b\b\b\b\b\b\b\b\b\b\b\b\b\b\b\b\b\b\b\b\b\b\b\b\b\b\b\b\b\b\b\b\b\b\b\b\b\b\b\b\b\b\b\b\b\b\b\b\b\b\b\b\b\b\b\b\b\b\b\b\b\b\b\b\b\b\b\b\b\b\b\b\b\b\b\b\b\b\b\b\b\b\b\b\b\b\b\b\b\b\b\b\b\b\b\b\b\b\b\b\b\b\b\b\b\b\b\b\b\r\u001b[1m71/71\u001b[0m \u001b[32m━━━━━━━━━━━━━━━━━━━━\u001b[0m\u001b[37m\u001b[0m \u001b[1m1s\u001b[0m 10ms/step - accuracy: 0.9553 - auc: 0.9914 - loss: 0.0138 - prc: 0.9694 - precision: 0.8901 - recall: 0.8837 - val_accuracy: 0.9712 - val_auc: 0.9984 - val_loss: 0.0094 - val_prc: 0.9940 - val_precision: 0.8785 - val_recall: 0.9895\n",
            "Epoch 14/50\n",
            "\u001b[1m67/71\u001b[0m \u001b[32m━━━━━━━━━━━━━━━━━━\u001b[0m\u001b[37m━━\u001b[0m \u001b[1m0s\u001b[0m 6ms/step - accuracy: 0.9606 - auc: 0.9890 - loss: 0.0165 - prc: 0.9614 - precision: 0.8934 - recall: 0.9117\n",
            "Epoch 14: val_prc did not improve from 0.99396\n",
            "\u001b[1m71/71\u001b[0m \u001b[32m━━━━━━━━━━━━━━━━━━━━\u001b[0m\u001b[37m\u001b[0m \u001b[1m1s\u001b[0m 8ms/step - accuracy: 0.9604 - auc: 0.9890 - loss: 0.0165 - prc: 0.9614 - precision: 0.8926 - recall: 0.9109 - val_accuracy: 0.7716 - val_auc: 0.9969 - val_loss: 0.2568 - val_prc: 0.9879 - val_precision: 0.4612 - val_recall: 1.0000\n",
            "Epoch 15/50\n",
            "\u001b[1m65/71\u001b[0m \u001b[32m━━━━━━━━━━━━━━━━━━\u001b[0m\u001b[37m━━\u001b[0m \u001b[1m0s\u001b[0m 6ms/step - accuracy: 0.9608 - auc: 0.9919 - loss: 0.0135 - prc: 0.9713 - precision: 0.9071 - recall: 0.8966\n",
            "Epoch 15: val_prc did not improve from 0.99396\n",
            "\u001b[1m71/71\u001b[0m \u001b[32m━━━━━━━━━━━━━━━━━━━━\u001b[0m\u001b[37m\u001b[0m \u001b[1m1s\u001b[0m 9ms/step - accuracy: 0.9603 - auc: 0.9917 - loss: 0.0136 - prc: 0.9709 - precision: 0.9050 - recall: 0.8958 - val_accuracy: 0.8580 - val_auc: 0.9000 - val_loss: 0.1312 - val_prc: 0.8749 - val_precision: 1.0000 - val_recall: 0.2737\n",
            "Epoch 16/50\n",
            "\u001b[1m71/71\u001b[0m \u001b[32m━━━━━━━━━━━━━━━━━━━━\u001b[0m\u001b[37m\u001b[0m \u001b[1m0s\u001b[0m 6ms/step - accuracy: 0.9609 - auc: 0.9912 - loss: 0.0148 - prc: 0.9725 - precision: 0.9344 - recall: 0.8725\n",
            "Epoch 16: val_prc improved from 0.99396 to 0.99818, saving model to models/F-8_best.h5\n"
          ]
        },
        {
          "output_type": "stream",
          "name": "stderr",
          "text": [
            "WARNING:absl:You are saving your model as an HDF5 file via `model.save()` or `keras.saving.save_model(model)`. This file format is considered legacy. We recommend using instead the native Keras format, e.g. `model.save('my_model.keras')` or `keras.saving.save_model(model, 'my_model.keras')`. \n"
          ]
        },
        {
          "output_type": "stream",
          "name": "stdout",
          "text": [
            "\b\b\b\b\b\b\b\b\b\b\b\b\b\b\b\b\b\b\b\b\b\b\b\b\b\b\b\b\b\b\b\b\b\b\b\b\b\b\b\b\b\b\b\b\b\b\b\b\b\b\b\b\b\b\b\b\b\b\b\b\b\b\b\b\b\b\b\b\b\b\b\b\b\b\b\b\b\b\b\b\b\b\b\b\b\b\b\b\b\b\b\b\b\b\b\b\b\b\b\b\b\b\b\b\b\b\b\b\b\b\b\b\b\b\b\b\b\b\b\b\b\b\b\b\b\b\b\b\b\b\b\b\b\b\b\b\b\r\u001b[1m71/71\u001b[0m \u001b[32m━━━━━━━━━━━━━━━━━━━━\u001b[0m\u001b[37m\u001b[0m \u001b[1m1s\u001b[0m 10ms/step - accuracy: 0.9610 - auc: 0.9912 - loss: 0.0148 - prc: 0.9726 - precision: 0.9342 - recall: 0.8730 - val_accuracy: 0.9774 - val_auc: 0.9996 - val_loss: 0.0030 - val_prc: 0.9982 - val_precision: 1.0000 - val_recall: 0.8842\n",
            "Epoch 17/50\n",
            "\u001b[1m71/71\u001b[0m \u001b[32m━━━━━━━━━━━━━━━━━━━━\u001b[0m\u001b[37m\u001b[0m \u001b[1m0s\u001b[0m 6ms/step - accuracy: 0.9656 - auc: 0.9946 - loss: 0.0115 - prc: 0.9800 - precision: 0.8931 - recall: 0.9436\n",
            "Epoch 17: val_prc did not improve from 0.99818\n",
            "\u001b[1m71/71\u001b[0m \u001b[32m━━━━━━━━━━━━━━━━━━━━\u001b[0m\u001b[37m\u001b[0m \u001b[1m1s\u001b[0m 9ms/step - accuracy: 0.9656 - auc: 0.9946 - loss: 0.0115 - prc: 0.9800 - precision: 0.8932 - recall: 0.9435 - val_accuracy: 0.5391 - val_auc: 0.9348 - val_loss: 1.1358 - val_prc: 0.6507 - val_precision: 0.2978 - val_recall: 1.0000\n",
            "Epoch 18/50\n",
            "\u001b[1m65/71\u001b[0m \u001b[32m━━━━━━━━━━━━━━━━━━\u001b[0m\u001b[37m━━\u001b[0m \u001b[1m0s\u001b[0m 6ms/step - accuracy: 0.9824 - auc: 0.9976 - loss: 0.0075 - prc: 0.9888 - precision: 0.9471 - recall: 0.9652\n",
            "Epoch 18: val_prc did not improve from 0.99818\n",
            "\u001b[1m71/71\u001b[0m \u001b[32m━━━━━━━━━━━━━━━━━━━━\u001b[0m\u001b[37m\u001b[0m \u001b[1m1s\u001b[0m 9ms/step - accuracy: 0.9823 - auc: 0.9975 - loss: 0.0076 - prc: 0.9887 - precision: 0.9465 - recall: 0.9651 - val_accuracy: 0.9877 - val_auc: 0.9989 - val_loss: 0.0046 - val_prc: 0.9957 - val_precision: 0.9785 - val_recall: 0.9579\n",
            "Epoch 19/50\n",
            "\u001b[1m63/71\u001b[0m \u001b[32m━━━━━━━━━━━━━━━━━\u001b[0m\u001b[37m━━━\u001b[0m \u001b[1m0s\u001b[0m 6ms/step - accuracy: 0.9579 - auc: 0.9895 - loss: 0.0181 - prc: 0.9701 - precision: 0.8933 - recall: 0.9074\n",
            "Epoch 19: val_prc did not improve from 0.99818\n",
            "\u001b[1m71/71\u001b[0m \u001b[32m━━━━━━━━━━━━━━━━━━━━\u001b[0m\u001b[37m\u001b[0m \u001b[1m1s\u001b[0m 8ms/step - accuracy: 0.9593 - auc: 0.9901 - loss: 0.0173 - prc: 0.9712 - precision: 0.8961 - recall: 0.9100 - val_accuracy: 0.9774 - val_auc: 0.9990 - val_loss: 0.0082 - val_prc: 0.9960 - val_precision: 0.9038 - val_recall: 0.9895\n",
            "Epoch 20/50\n",
            "\u001b[1m67/71\u001b[0m \u001b[32m━━━━━━━━━━━━━━━━━━\u001b[0m\u001b[37m━━\u001b[0m \u001b[1m0s\u001b[0m 6ms/step - accuracy: 0.9726 - auc: 0.9952 - loss: 0.0106 - prc: 0.9848 - precision: 0.9282 - recall: 0.9376\n",
            "Epoch 20: val_prc did not improve from 0.99818\n",
            "\u001b[1m71/71\u001b[0m \u001b[32m━━━━━━━━━━━━━━━━━━━━\u001b[0m\u001b[37m\u001b[0m \u001b[1m1s\u001b[0m 8ms/step - accuracy: 0.9728 - auc: 0.9953 - loss: 0.0105 - prc: 0.9850 - precision: 0.9287 - recall: 0.9375 - val_accuracy: 0.8107 - val_auc: 0.9991 - val_loss: 0.1935 - val_prc: 0.9958 - val_precision: 0.5080 - val_recall: 1.0000\n",
            "Epoch 21/50\n",
            "\u001b[1m64/71\u001b[0m \u001b[32m━━━━━━━━━━━━━━━━━━\u001b[0m\u001b[37m━━\u001b[0m \u001b[1m0s\u001b[0m 6ms/step - accuracy: 0.9882 - auc: 0.9989 - loss: 0.0059 - prc: 0.9960 - precision: 0.9651 - recall: 0.9764\n",
            "Epoch 21: val_prc improved from 0.99818 to 1.00000, saving model to models/F-8_best.h5\n"
          ]
        },
        {
          "output_type": "stream",
          "name": "stderr",
          "text": [
            "WARNING:absl:You are saving your model as an HDF5 file via `model.save()` or `keras.saving.save_model(model)`. This file format is considered legacy. We recommend using instead the native Keras format, e.g. `model.save('my_model.keras')` or `keras.saving.save_model(model, 'my_model.keras')`. \n"
          ]
        },
        {
          "output_type": "stream",
          "name": "stdout",
          "text": [
            "\b\b\b\b\b\b\b\b\b\b\b\b\b\b\b\b\b\b\b\b\b\b\b\b\b\b\b\b\b\b\b\b\b\b\b\b\b\b\b\b\b\b\b\b\b\b\b\b\b\b\b\b\b\b\b\b\b\b\b\b\b\b\b\b\b\b\b\b\b\b\b\b\b\b\b\b\b\b\b\b\b\b\b\b\b\b\b\b\b\b\b\b\b\b\b\b\b\b\b\b\b\b\b\b\b\b\b\b\b\b\b\b\b\b\b\b\b\b\b\b\b\b\b\b\b\b\b\b\b\b\b\b\b\b\b\b\b\r\u001b[1m71/71\u001b[0m \u001b[32m━━━━━━━━━━━━━━━━━━━━\u001b[0m\u001b[37m\u001b[0m \u001b[1m1s\u001b[0m 9ms/step - accuracy: 0.9882 - auc: 0.9989 - loss: 0.0058 - prc: 0.9961 - precision: 0.9654 - recall: 0.9759 - val_accuracy: 0.8580 - val_auc: 1.0000 - val_loss: 0.1397 - val_prc: 1.0000 - val_precision: 0.5793 - val_recall: 1.0000\n",
            "Epoch 22/50\n",
            "\u001b[1m71/71\u001b[0m \u001b[32m━━━━━━━━━━━━━━━━━━━━\u001b[0m\u001b[37m\u001b[0m \u001b[1m0s\u001b[0m 7ms/step - accuracy: 0.9942 - auc: 0.9994 - loss: 0.0032 - prc: 0.9979 - precision: 0.9780 - recall: 0.9942\n",
            "Epoch 22: val_prc did not improve from 1.00000\n",
            "\u001b[1m71/71\u001b[0m \u001b[32m━━━━━━━━━━━━━━━━━━━━\u001b[0m\u001b[37m\u001b[0m \u001b[1m1s\u001b[0m 10ms/step - accuracy: 0.9942 - auc: 0.9994 - loss: 0.0033 - prc: 0.9979 - precision: 0.9780 - recall: 0.9941 - val_accuracy: 0.8498 - val_auc: 0.9974 - val_loss: 0.2112 - val_prc: 0.9794 - val_precision: 0.5655 - val_recall: 1.0000\n",
            "Epoch 23/50\n",
            "\u001b[1m70/71\u001b[0m \u001b[32m━━━━━━━━━━━━━━━━━━━\u001b[0m\u001b[37m━\u001b[0m \u001b[1m0s\u001b[0m 8ms/step - accuracy: 0.9854 - auc: 0.9986 - loss: 0.0056 - prc: 0.9944 - precision: 0.9585 - recall: 0.9694\n",
            "Epoch 23: val_prc did not improve from 1.00000\n",
            "\u001b[1m71/71\u001b[0m \u001b[32m━━━━━━━━━━━━━━━━━━━━\u001b[0m\u001b[37m\u001b[0m \u001b[1m1s\u001b[0m 11ms/step - accuracy: 0.9853 - auc: 0.9986 - loss: 0.0057 - prc: 0.9943 - precision: 0.9583 - recall: 0.9691 - val_accuracy: 0.5885 - val_auc: 0.8811 - val_loss: 1.7188 - val_prc: 0.5053 - val_precision: 0.3220 - val_recall: 1.0000\n",
            "Epoch 24/50\n",
            "\u001b[1m70/71\u001b[0m \u001b[32m━━━━━━━━━━━━━━━━━━━\u001b[0m\u001b[37m━\u001b[0m \u001b[1m0s\u001b[0m 8ms/step - accuracy: 0.9867 - auc: 0.9984 - loss: 0.0060 - prc: 0.9948 - precision: 0.9523 - recall: 0.9824\n",
            "Epoch 24: val_prc did not improve from 1.00000\n",
            "\u001b[1m71/71\u001b[0m \u001b[32m━━━━━━━━━━━━━━━━━━━━\u001b[0m\u001b[37m\u001b[0m \u001b[1m1s\u001b[0m 11ms/step - accuracy: 0.9868 - auc: 0.9984 - loss: 0.0060 - prc: 0.9949 - precision: 0.9527 - recall: 0.9824 - val_accuracy: 0.9959 - val_auc: 1.0000 - val_loss: 0.0011 - val_prc: 0.9999 - val_precision: 0.9895 - val_recall: 0.9895\n",
            "Epoch 25/50\n",
            "\u001b[1m66/71\u001b[0m \u001b[32m━━━━━━━━━━━━━━━━━━\u001b[0m\u001b[37m━━\u001b[0m \u001b[1m0s\u001b[0m 8ms/step - accuracy: 0.9892 - auc: 0.9988 - loss: 0.0052 - prc: 0.9957 - precision: 0.9700 - recall: 0.9759\n",
            "Epoch 25: val_prc did not improve from 1.00000\n",
            "\u001b[1m71/71\u001b[0m \u001b[32m━━━━━━━━━━━━━━━━━━━━\u001b[0m\u001b[37m\u001b[0m \u001b[1m1s\u001b[0m 11ms/step - accuracy: 0.9892 - auc: 0.9988 - loss: 0.0052 - prc: 0.9957 - precision: 0.9699 - recall: 0.9760 - val_accuracy: 0.6934 - val_auc: 0.9488 - val_loss: 0.7667 - val_prc: 0.7037 - val_precision: 0.3893 - val_recall: 1.0000\n",
            "Epoch 26/50\n",
            "\u001b[1m69/71\u001b[0m \u001b[32m━━━━━━━━━━━━━━━━━━━\u001b[0m\u001b[37m━\u001b[0m \u001b[1m0s\u001b[0m 6ms/step - accuracy: 0.9902 - auc: 0.9991 - loss: 0.0044 - prc: 0.9964 - precision: 0.9732 - recall: 0.9766\n",
            "Epoch 26: val_prc did not improve from 1.00000\n",
            "\u001b[1m71/71\u001b[0m \u001b[32m━━━━━━━━━━━━━━━━━━━━\u001b[0m\u001b[37m\u001b[0m \u001b[1m1s\u001b[0m 8ms/step - accuracy: 0.9900 - auc: 0.9990 - loss: 0.0045 - prc: 0.9963 - precision: 0.9728 - recall: 0.9762 - val_accuracy: 0.9568 - val_auc: 0.9551 - val_loss: 0.0357 - val_prc: 0.9426 - val_precision: 1.0000 - val_recall: 0.7789\n"
          ]
        },
        {
          "output_type": "stream",
          "name": "stderr",
          "text": [
            "WARNING:absl:Compiled the loaded model, but the compiled metrics have yet to be built. `model.compile_metrics` will be empty until you train or evaluate the model.\n"
          ]
        },
        {
          "output_type": "stream",
          "name": "stdout",
          "text": [
            "\u001b[1m16/16\u001b[0m \u001b[32m━━━━━━━━━━━━━━━━━━━━\u001b[0m\u001b[37m\u001b[0m \u001b[1m1s\u001b[0m 29ms/step\n",
            "\n",
            "   • Optimal threshold: 0.9846\n",
            "              precision    recall  f1-score   support\n",
            "\n",
            "           0     0.9924    1.0000    0.9962       391\n",
            "           1     1.0000    0.9688    0.9841        96\n",
            "\n",
            "    accuracy                         0.9938       487\n",
            "   macro avg     0.9962    0.9844    0.9902       487\n",
            "weighted avg     0.9939    0.9938    0.9938       487\n",
            "\n",
            "\n",
            " Overall Metrics:\n",
            "  • Precision: 0.6122\n",
            "  • Recall   : 0.9176\n",
            "  • F1 Score : 0.7344\n",
            "  • ROC AUC  : 0.6919\n"
          ]
        },
        {
          "output_type": "display_data",
          "data": {
            "text/plain": [
              "<Figure size 640x480 with 1 Axes>"
            ],
            "image/png": "[encoded data removed]"
          },
          "metadata": {}
        },
        {
          "output_type": "display_data",
          "data": {
            "text/plain": [
              "<Figure size 640x480 with 1 Axes>"
            ],
            "image/png": "[encoded data removed]"
          },
          "metadata": {}
        },
        {
          "output_type": "stream",
          "name": "stderr",
          "text": [
            "/usr/local/lib/python3.11/dist-packages/sklearn/metrics/_classification.py:1565: UndefinedMetricWarning: Precision is ill-defined and being set to 0.0 due to no predicted samples. Use `zero_division` parameter to control this behavior.\n",
            "  _warn_prf(average, modifier, f\"{metric.capitalize()} is\", len(result))\n"
          ]
        },
        {
          "output_type": "display_data",
          "data": {
            "text/plain": [
              "<Figure size 640x480 with 1 Axes>"
            ],
            "image/png": "[encoded data removed]"
          },
          "metadata": {}
        },
        {
          "output_type": "display_data",
          "data": {
            "text/plain": [
              "<Figure size 640x480 with 2 Axes>"
            ],
            "image/png": "[encoded data removed]"
          },
          "metadata": {}
        },
        {
          "output_type": "display_data",
          "data": {
            "text/plain": [
              "<Figure size 640x480 with 1 Axes>"
            ],
            "image/png": "[encoded data removed]"
          },
          "metadata": {}
        }
      ]
    },
    {
      "cell_type": "code",
      "source": [
        "!pip install tensorflow\n"
      ],
      "metadata": {
        "colab": {
          "base_uri": "https://localhost:8080/"
        },
        "id": "8OKlik7vpwh6",
        "outputId": "7f82d9fd-b184-4cde-b341-eb37617049d1"
      },
      "execution_count": null,
      "outputs": [
        {
          "output_type": "stream",
          "name": "stdout",
          "text": [
            "Requirement already satisfied: tensorflow in /usr/local/lib/python3.11/dist-packages (2.18.0)\n",
            "Requirement already satisfied: absl-py>=1.0.0 in /usr/local/lib/python3.11/dist-packages (from tensorflow) (1.4.0)\n",
            "Requirement already satisfied: astunparse>=1.6.0 in /usr/local/lib/python3.11/dist-packages (from tensorflow) (1.6.3)\n",
            "Requirement already satisfied: flatbuffers>=24.3.25 in /usr/local/lib/python3.11/dist-packages (from tensorflow) (25.2.10)\n",
            "Requirement already satisfied: gast!=0.5.0,!=0.5.1,!=0.5.2,>=0.2.1 in /usr/local/lib/python3.11/dist-packages (from tensorflow) (0.6.0)\n",
            "Requirement already satisfied: google-pasta>=0.1.1 in /usr/local/lib/python3.11/dist-packages (from tensorflow) (0.2.0)\n",
            "Requirement already satisfied: libclang>=13.0.0 in /usr/local/lib/python3.11/dist-packages (from tensorflow) (18.1.1)\n",
            "Requirement already satisfied: opt-einsum>=2.3.2 in /usr/local/lib/python3.11/dist-packages (from tensorflow) (3.4.0)\n",
            "Requirement already satisfied: packaging in /usr/local/lib/python3.11/dist-packages (from tensorflow) (24.2)\n",
            "Requirement already satisfied: protobuf!=4.21.0,!=4.21.1,!=4.21.2,!=4.21.3,!=4.21.4,!=4.21.5,<6.0.0dev,>=3.20.3 in /usr/local/lib/python3.11/dist-packages (from tensorflow) (5.29.4)\n",
            "Requirement already satisfied: requests<3,>=2.21.0 in /usr/local/lib/python3.11/dist-packages (from tensorflow) (2.32.3)\n",
            "Requirement already satisfied: setuptools in /usr/local/lib/python3.11/dist-packages (from tensorflow) (75.2.0)\n",
            "Requirement already satisfied: six>=1.12.0 in /usr/local/lib/python3.11/dist-packages (from tensorflow) (1.17.0)\n",
            "Requirement already satisfied: termcolor>=1.1.0 in /usr/local/lib/python3.11/dist-packages (from tensorflow) (3.1.0)\n",
            "Requirement already satisfied: typing-extensions>=3.6.6 in /usr/local/lib/python3.11/dist-packages (from tensorflow) (4.13.2)\n",
            "Requirement already satisfied: wrapt>=1.11.0 in /usr/local/lib/python3.11/dist-packages (from tensorflow) (1.17.2)\n",
            "Requirement already satisfied: grpcio<2.0,>=1.24.3 in /usr/local/lib/python3.11/dist-packages (from tensorflow) (1.71.0)\n",
            "Requirement already satisfied: tensorboard<2.19,>=2.18 in /usr/local/lib/python3.11/dist-packages (from tensorflow) (2.18.0)\n",
            "Requirement already satisfied: keras>=3.5.0 in /usr/local/lib/python3.11/dist-packages (from tensorflow) (3.8.0)\n",
            "Requirement already satisfied: numpy<2.1.0,>=1.26.0 in /usr/local/lib/python3.11/dist-packages (from tensorflow) (2.0.2)\n",
            "Requirement already satisfied: h5py>=3.11.0 in /usr/local/lib/python3.11/dist-packages (from tensorflow) (3.13.0)\n",
            "Requirement already satisfied: ml-dtypes<0.5.0,>=0.4.0 in /usr/local/lib/python3.11/dist-packages (from tensorflow) (0.4.1)\n",
            "Requirement already satisfied: tensorflow-io-gcs-filesystem>=0.23.1 in /usr/local/lib/python3.11/dist-packages (from tensorflow) (0.37.1)\n",
            "Requirement already satisfied: wheel<1.0,>=0.23.0 in /usr/local/lib/python3.11/dist-packages (from astunparse>=1.6.0->tensorflow) (0.45.1)\n",
            "Requirement already satisfied: rich in /usr/local/lib/python3.11/dist-packages (from keras>=3.5.0->tensorflow) (13.9.4)\n",
            "Requirement already satisfied: namex in /usr/local/lib/python3.11/dist-packages (from keras>=3.5.0->tensorflow) (0.0.9)\n",
            "Requirement already satisfied: optree in /usr/local/lib/python3.11/dist-packages (from keras>=3.5.0->tensorflow) (0.15.0)\n",
            "Requirement already satisfied: charset-normalizer<4,>=2 in /usr/local/lib/python3.11/dist-packages (from requests<3,>=2.21.0->tensorflow) (3.4.1)\n",
            "Requirement already satisfied: idna<4,>=2.5 in /usr/local/lib/python3.11/dist-packages (from requests<3,>=2.21.0->tensorflow) (3.10)\n",
            "Requirement already satisfied: urllib3<3,>=1.21.1 in /usr/local/lib/python3.11/dist-packages (from requests<3,>=2.21.0->tensorflow) (2.4.0)\n",
            "Requirement already satisfied: certifi>=2017.4.17 in /usr/local/lib/python3.11/dist-packages (from requests<3,>=2.21.0->tensorflow) (2025.4.26)\n",
            "Requirement already satisfied: markdown>=2.6.8 in /usr/local/lib/python3.11/dist-packages (from tensorboard<2.19,>=2.18->tensorflow) (3.8)\n",
            "Requirement already satisfied: tensorboard-data-server<0.8.0,>=0.7.0 in /usr/local/lib/python3.11/dist-packages (from tensorboard<2.19,>=2.18->tensorflow) (0.7.2)\n",
            "Requirement already satisfied: werkzeug>=1.0.1 in /usr/local/lib/python3.11/dist-packages (from tensorboard<2.19,>=2.18->tensorflow) (3.1.3)\n",
            "Requirement already satisfied: MarkupSafe>=2.1.1 in /usr/local/lib/python3.11/dist-packages (from werkzeug>=1.0.1->tensorboard<2.19,>=2.18->tensorflow) (3.0.2)\n",
            "Requirement already satisfied: markdown-it-py>=2.2.0 in /usr/local/lib/python3.11/dist-packages (from rich->keras>=3.5.0->tensorflow) (3.0.0)\n",
            "Requirement already satisfied: pygments<3.0.0,>=2.13.0 in /usr/local/lib/python3.11/dist-packages (from rich->keras>=3.5.0->tensorflow) (2.19.1)\n",
            "Requirement already satisfied: mdurl~=0.1 in /usr/local/lib/python3.11/dist-packages (from markdown-it-py>=2.2.0->rich->keras>=3.5.0->tensorflow) (0.1.2)\n"
          ]
        }
      ]
    }
  ]
}